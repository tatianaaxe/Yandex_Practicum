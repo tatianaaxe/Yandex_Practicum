{
 "cells": [
  {
   "cell_type": "markdown",
   "metadata": {},
   "source": [
    "# Исследование объявлений о продаже квартир\n",
    "\n",
    "В вашем распоряжении данные сервиса Яндекс.Недвижимость — архив объявлений о продаже квартир в Санкт-Петербурге и соседних населённых пунктов за несколько лет. Нужно научиться определять рыночную стоимость объектов недвижимости. Ваша задача — установить параметры. Это позволит построить автоматизированную систему: она отследит аномалии и мошенническую деятельность. \n",
    "\n",
    "По каждой квартире на продажу доступны два вида данных. Первые вписаны пользователем, вторые — получены автоматически на основе картографических данных. Например, расстояние до центра, аэропорта, ближайшего парка и водоёма. "
   ]
  },
  {
   "cell_type": "code",
   "execution_count": 1,
   "metadata": {},
   "outputs": [],
   "source": [
    "import pandas as pd\n",
    "import matplotlib.pyplot as plt"
   ]
  },
  {
   "cell_type": "markdown",
   "metadata": {},
   "source": [
    "## Изучим общую информацию"
   ]
  },
  {
   "cell_type": "code",
   "execution_count": 2,
   "metadata": {},
   "outputs": [],
   "source": [
    "data = pd.read_csv('https://code.s3.yandex.net/datasets/real_estate_data.csv', sep='\\t')"
   ]
  },
  {
   "cell_type": "code",
   "execution_count": 3,
   "metadata": {},
   "outputs": [
    {
     "data": {
      "text/html": [
       "<div>\n",
       "<style scoped>\n",
       "    .dataframe tbody tr th:only-of-type {\n",
       "        vertical-align: middle;\n",
       "    }\n",
       "\n",
       "    .dataframe tbody tr th {\n",
       "        vertical-align: top;\n",
       "    }\n",
       "\n",
       "    .dataframe thead th {\n",
       "        text-align: right;\n",
       "    }\n",
       "</style>\n",
       "<table border=\"1\" class=\"dataframe\">\n",
       "  <thead>\n",
       "    <tr style=\"text-align: right;\">\n",
       "      <th></th>\n",
       "      <th>total_images</th>\n",
       "      <th>last_price</th>\n",
       "      <th>total_area</th>\n",
       "      <th>first_day_exposition</th>\n",
       "      <th>rooms</th>\n",
       "      <th>ceiling_height</th>\n",
       "      <th>floors_total</th>\n",
       "      <th>living_area</th>\n",
       "      <th>floor</th>\n",
       "      <th>is_apartment</th>\n",
       "      <th>studio</th>\n",
       "      <th>open_plan</th>\n",
       "      <th>kitchen_area</th>\n",
       "      <th>balcony</th>\n",
       "      <th>locality_name</th>\n",
       "      <th>airports_nearest</th>\n",
       "      <th>cityCenters_nearest</th>\n",
       "      <th>parks_around3000</th>\n",
       "      <th>parks_nearest</th>\n",
       "      <th>ponds_around3000</th>\n",
       "      <th>ponds_nearest</th>\n",
       "      <th>days_exposition</th>\n",
       "    </tr>\n",
       "  </thead>\n",
       "  <tbody>\n",
       "    <tr>\n",
       "      <th>0</th>\n",
       "      <td>20</td>\n",
       "      <td>13000000.0</td>\n",
       "      <td>108.00</td>\n",
       "      <td>2019-03-07T00:00:00</td>\n",
       "      <td>3</td>\n",
       "      <td>2.70</td>\n",
       "      <td>16.0</td>\n",
       "      <td>51.00</td>\n",
       "      <td>8</td>\n",
       "      <td>NaN</td>\n",
       "      <td>False</td>\n",
       "      <td>False</td>\n",
       "      <td>25.00</td>\n",
       "      <td>NaN</td>\n",
       "      <td>Санкт-Петербург</td>\n",
       "      <td>18863.0</td>\n",
       "      <td>16028.0</td>\n",
       "      <td>1.0</td>\n",
       "      <td>482.0</td>\n",
       "      <td>2.0</td>\n",
       "      <td>755.0</td>\n",
       "      <td>NaN</td>\n",
       "    </tr>\n",
       "    <tr>\n",
       "      <th>1</th>\n",
       "      <td>7</td>\n",
       "      <td>3350000.0</td>\n",
       "      <td>40.40</td>\n",
       "      <td>2018-12-04T00:00:00</td>\n",
       "      <td>1</td>\n",
       "      <td>NaN</td>\n",
       "      <td>11.0</td>\n",
       "      <td>18.60</td>\n",
       "      <td>1</td>\n",
       "      <td>NaN</td>\n",
       "      <td>False</td>\n",
       "      <td>False</td>\n",
       "      <td>11.00</td>\n",
       "      <td>2.0</td>\n",
       "      <td>посёлок Шушары</td>\n",
       "      <td>12817.0</td>\n",
       "      <td>18603.0</td>\n",
       "      <td>0.0</td>\n",
       "      <td>NaN</td>\n",
       "      <td>0.0</td>\n",
       "      <td>NaN</td>\n",
       "      <td>81.0</td>\n",
       "    </tr>\n",
       "    <tr>\n",
       "      <th>2</th>\n",
       "      <td>10</td>\n",
       "      <td>5196000.0</td>\n",
       "      <td>56.00</td>\n",
       "      <td>2015-08-20T00:00:00</td>\n",
       "      <td>2</td>\n",
       "      <td>NaN</td>\n",
       "      <td>5.0</td>\n",
       "      <td>34.30</td>\n",
       "      <td>4</td>\n",
       "      <td>NaN</td>\n",
       "      <td>False</td>\n",
       "      <td>False</td>\n",
       "      <td>8.30</td>\n",
       "      <td>0.0</td>\n",
       "      <td>Санкт-Петербург</td>\n",
       "      <td>21741.0</td>\n",
       "      <td>13933.0</td>\n",
       "      <td>1.0</td>\n",
       "      <td>90.0</td>\n",
       "      <td>2.0</td>\n",
       "      <td>574.0</td>\n",
       "      <td>558.0</td>\n",
       "    </tr>\n",
       "    <tr>\n",
       "      <th>3</th>\n",
       "      <td>0</td>\n",
       "      <td>64900000.0</td>\n",
       "      <td>159.00</td>\n",
       "      <td>2015-07-24T00:00:00</td>\n",
       "      <td>3</td>\n",
       "      <td>NaN</td>\n",
       "      <td>14.0</td>\n",
       "      <td>NaN</td>\n",
       "      <td>9</td>\n",
       "      <td>NaN</td>\n",
       "      <td>False</td>\n",
       "      <td>False</td>\n",
       "      <td>NaN</td>\n",
       "      <td>0.0</td>\n",
       "      <td>Санкт-Петербург</td>\n",
       "      <td>28098.0</td>\n",
       "      <td>6800.0</td>\n",
       "      <td>2.0</td>\n",
       "      <td>84.0</td>\n",
       "      <td>3.0</td>\n",
       "      <td>234.0</td>\n",
       "      <td>424.0</td>\n",
       "    </tr>\n",
       "    <tr>\n",
       "      <th>4</th>\n",
       "      <td>2</td>\n",
       "      <td>10000000.0</td>\n",
       "      <td>100.00</td>\n",
       "      <td>2018-06-19T00:00:00</td>\n",
       "      <td>2</td>\n",
       "      <td>3.03</td>\n",
       "      <td>14.0</td>\n",
       "      <td>32.00</td>\n",
       "      <td>13</td>\n",
       "      <td>NaN</td>\n",
       "      <td>False</td>\n",
       "      <td>False</td>\n",
       "      <td>41.00</td>\n",
       "      <td>NaN</td>\n",
       "      <td>Санкт-Петербург</td>\n",
       "      <td>31856.0</td>\n",
       "      <td>8098.0</td>\n",
       "      <td>2.0</td>\n",
       "      <td>112.0</td>\n",
       "      <td>1.0</td>\n",
       "      <td>48.0</td>\n",
       "      <td>121.0</td>\n",
       "    </tr>\n",
       "    <tr>\n",
       "      <th>5</th>\n",
       "      <td>10</td>\n",
       "      <td>2890000.0</td>\n",
       "      <td>30.40</td>\n",
       "      <td>2018-09-10T00:00:00</td>\n",
       "      <td>1</td>\n",
       "      <td>NaN</td>\n",
       "      <td>12.0</td>\n",
       "      <td>14.40</td>\n",
       "      <td>5</td>\n",
       "      <td>NaN</td>\n",
       "      <td>False</td>\n",
       "      <td>False</td>\n",
       "      <td>9.10</td>\n",
       "      <td>NaN</td>\n",
       "      <td>городской посёлок Янино-1</td>\n",
       "      <td>NaN</td>\n",
       "      <td>NaN</td>\n",
       "      <td>NaN</td>\n",
       "      <td>NaN</td>\n",
       "      <td>NaN</td>\n",
       "      <td>NaN</td>\n",
       "      <td>55.0</td>\n",
       "    </tr>\n",
       "    <tr>\n",
       "      <th>6</th>\n",
       "      <td>6</td>\n",
       "      <td>3700000.0</td>\n",
       "      <td>37.30</td>\n",
       "      <td>2017-11-02T00:00:00</td>\n",
       "      <td>1</td>\n",
       "      <td>NaN</td>\n",
       "      <td>26.0</td>\n",
       "      <td>10.60</td>\n",
       "      <td>6</td>\n",
       "      <td>NaN</td>\n",
       "      <td>False</td>\n",
       "      <td>False</td>\n",
       "      <td>14.40</td>\n",
       "      <td>1.0</td>\n",
       "      <td>посёлок Парголово</td>\n",
       "      <td>52996.0</td>\n",
       "      <td>19143.0</td>\n",
       "      <td>0.0</td>\n",
       "      <td>NaN</td>\n",
       "      <td>0.0</td>\n",
       "      <td>NaN</td>\n",
       "      <td>155.0</td>\n",
       "    </tr>\n",
       "    <tr>\n",
       "      <th>7</th>\n",
       "      <td>5</td>\n",
       "      <td>7915000.0</td>\n",
       "      <td>71.60</td>\n",
       "      <td>2019-04-18T00:00:00</td>\n",
       "      <td>2</td>\n",
       "      <td>NaN</td>\n",
       "      <td>24.0</td>\n",
       "      <td>NaN</td>\n",
       "      <td>22</td>\n",
       "      <td>NaN</td>\n",
       "      <td>False</td>\n",
       "      <td>False</td>\n",
       "      <td>18.90</td>\n",
       "      <td>2.0</td>\n",
       "      <td>Санкт-Петербург</td>\n",
       "      <td>23982.0</td>\n",
       "      <td>11634.0</td>\n",
       "      <td>0.0</td>\n",
       "      <td>NaN</td>\n",
       "      <td>0.0</td>\n",
       "      <td>NaN</td>\n",
       "      <td>NaN</td>\n",
       "    </tr>\n",
       "    <tr>\n",
       "      <th>8</th>\n",
       "      <td>20</td>\n",
       "      <td>2900000.0</td>\n",
       "      <td>33.16</td>\n",
       "      <td>2018-05-23T00:00:00</td>\n",
       "      <td>1</td>\n",
       "      <td>NaN</td>\n",
       "      <td>27.0</td>\n",
       "      <td>15.43</td>\n",
       "      <td>26</td>\n",
       "      <td>NaN</td>\n",
       "      <td>False</td>\n",
       "      <td>False</td>\n",
       "      <td>8.81</td>\n",
       "      <td>NaN</td>\n",
       "      <td>посёлок Мурино</td>\n",
       "      <td>NaN</td>\n",
       "      <td>NaN</td>\n",
       "      <td>NaN</td>\n",
       "      <td>NaN</td>\n",
       "      <td>NaN</td>\n",
       "      <td>NaN</td>\n",
       "      <td>189.0</td>\n",
       "    </tr>\n",
       "    <tr>\n",
       "      <th>9</th>\n",
       "      <td>18</td>\n",
       "      <td>5400000.0</td>\n",
       "      <td>61.00</td>\n",
       "      <td>2017-02-26T00:00:00</td>\n",
       "      <td>3</td>\n",
       "      <td>2.50</td>\n",
       "      <td>9.0</td>\n",
       "      <td>43.60</td>\n",
       "      <td>7</td>\n",
       "      <td>NaN</td>\n",
       "      <td>False</td>\n",
       "      <td>False</td>\n",
       "      <td>6.50</td>\n",
       "      <td>2.0</td>\n",
       "      <td>Санкт-Петербург</td>\n",
       "      <td>50898.0</td>\n",
       "      <td>15008.0</td>\n",
       "      <td>0.0</td>\n",
       "      <td>NaN</td>\n",
       "      <td>0.0</td>\n",
       "      <td>NaN</td>\n",
       "      <td>289.0</td>\n",
       "    </tr>\n",
       "  </tbody>\n",
       "</table>\n",
       "</div>"
      ],
      "text/plain": [
       "   total_images  last_price  total_area first_day_exposition  rooms  \\\n",
       "0            20  13000000.0      108.00  2019-03-07T00:00:00      3   \n",
       "1             7   3350000.0       40.40  2018-12-04T00:00:00      1   \n",
       "2            10   5196000.0       56.00  2015-08-20T00:00:00      2   \n",
       "3             0  64900000.0      159.00  2015-07-24T00:00:00      3   \n",
       "4             2  10000000.0      100.00  2018-06-19T00:00:00      2   \n",
       "5            10   2890000.0       30.40  2018-09-10T00:00:00      1   \n",
       "6             6   3700000.0       37.30  2017-11-02T00:00:00      1   \n",
       "7             5   7915000.0       71.60  2019-04-18T00:00:00      2   \n",
       "8            20   2900000.0       33.16  2018-05-23T00:00:00      1   \n",
       "9            18   5400000.0       61.00  2017-02-26T00:00:00      3   \n",
       "\n",
       "   ceiling_height  floors_total  living_area  floor is_apartment  studio  \\\n",
       "0            2.70          16.0        51.00      8          NaN   False   \n",
       "1             NaN          11.0        18.60      1          NaN   False   \n",
       "2             NaN           5.0        34.30      4          NaN   False   \n",
       "3             NaN          14.0          NaN      9          NaN   False   \n",
       "4            3.03          14.0        32.00     13          NaN   False   \n",
       "5             NaN          12.0        14.40      5          NaN   False   \n",
       "6             NaN          26.0        10.60      6          NaN   False   \n",
       "7             NaN          24.0          NaN     22          NaN   False   \n",
       "8             NaN          27.0        15.43     26          NaN   False   \n",
       "9            2.50           9.0        43.60      7          NaN   False   \n",
       "\n",
       "   open_plan  kitchen_area  balcony              locality_name  \\\n",
       "0      False         25.00      NaN            Санкт-Петербург   \n",
       "1      False         11.00      2.0             посёлок Шушары   \n",
       "2      False          8.30      0.0            Санкт-Петербург   \n",
       "3      False           NaN      0.0            Санкт-Петербург   \n",
       "4      False         41.00      NaN            Санкт-Петербург   \n",
       "5      False          9.10      NaN  городской посёлок Янино-1   \n",
       "6      False         14.40      1.0          посёлок Парголово   \n",
       "7      False         18.90      2.0            Санкт-Петербург   \n",
       "8      False          8.81      NaN             посёлок Мурино   \n",
       "9      False          6.50      2.0            Санкт-Петербург   \n",
       "\n",
       "   airports_nearest  cityCenters_nearest  parks_around3000  parks_nearest  \\\n",
       "0           18863.0              16028.0               1.0          482.0   \n",
       "1           12817.0              18603.0               0.0            NaN   \n",
       "2           21741.0              13933.0               1.0           90.0   \n",
       "3           28098.0               6800.0               2.0           84.0   \n",
       "4           31856.0               8098.0               2.0          112.0   \n",
       "5               NaN                  NaN               NaN            NaN   \n",
       "6           52996.0              19143.0               0.0            NaN   \n",
       "7           23982.0              11634.0               0.0            NaN   \n",
       "8               NaN                  NaN               NaN            NaN   \n",
       "9           50898.0              15008.0               0.0            NaN   \n",
       "\n",
       "   ponds_around3000  ponds_nearest  days_exposition  \n",
       "0               2.0          755.0              NaN  \n",
       "1               0.0            NaN             81.0  \n",
       "2               2.0          574.0            558.0  \n",
       "3               3.0          234.0            424.0  \n",
       "4               1.0           48.0            121.0  \n",
       "5               NaN            NaN             55.0  \n",
       "6               0.0            NaN            155.0  \n",
       "7               0.0            NaN              NaN  \n",
       "8               NaN            NaN            189.0  \n",
       "9               0.0            NaN            289.0  "
      ]
     },
     "execution_count": 3,
     "metadata": {},
     "output_type": "execute_result"
    }
   ],
   "source": [
    "pd.set_option('display.max_columns', None)\n",
    "data.head(10)"
   ]
  },
  {
   "cell_type": "markdown",
   "metadata": {},
   "source": [
    "Описание данных\n",
    "- airports_nearest — расстояние до ближайшего аэропорта в метрах (м)\n",
    "- balcony — число балконов\n",
    "- ceiling_height — высота потолков (м)\n",
    "- cityCenters_nearest — расстояние до центра города (м)\n",
    "- days_exposition — сколько дней было размещено объявление (от публикации до снятия)\n",
    "- first_day_exposition — дата публикации\n",
    "- floor — этаж\n",
    "- floors_total — всего этажей в доме\n",
    "- is_apartment — апартаменты (булев тип)\n",
    "- kitchen_area — площадь кухни в квадратных метрах (м²)\n",
    "- last_price — цена на момент снятия с публикации\n",
    "- living_area — жилая площадь в квадратных метрах (м²)\n",
    "- locality_name — название населённого пункта\n",
    "- open_plan — свободная планировка (булев тип)\n",
    "- parks_around3000 — число парков в радиусе 3 км\n",
    "- parks_nearest — расстояние до ближайшего парка (м)\n",
    "- ponds_around3000 — число водоёмов в радиусе 3 км\n",
    "- ponds_nearest — расстояние до ближайшего водоёма (м)\n",
    "- rooms — число комнат\n",
    "- studio — квартира-студия (булев тип)\n",
    "- total_area — общая площадь квартиры в квадратных метрах (м²)\n",
    "- total_images — число фотографий квартиры в объявлении"
   ]
  },
  {
   "cell_type": "code",
   "execution_count": 4,
   "metadata": {},
   "outputs": [
    {
     "name": "stdout",
     "output_type": "stream",
     "text": [
      "<class 'pandas.core.frame.DataFrame'>\n",
      "RangeIndex: 23699 entries, 0 to 23698\n",
      "Data columns (total 22 columns):\n",
      " #   Column                Non-Null Count  Dtype  \n",
      "---  ------                --------------  -----  \n",
      " 0   total_images          23699 non-null  int64  \n",
      " 1   last_price            23699 non-null  float64\n",
      " 2   total_area            23699 non-null  float64\n",
      " 3   first_day_exposition  23699 non-null  object \n",
      " 4   rooms                 23699 non-null  int64  \n",
      " 5   ceiling_height        14504 non-null  float64\n",
      " 6   floors_total          23613 non-null  float64\n",
      " 7   living_area           21796 non-null  float64\n",
      " 8   floor                 23699 non-null  int64  \n",
      " 9   is_apartment          2775 non-null   object \n",
      " 10  studio                23699 non-null  bool   \n",
      " 11  open_plan             23699 non-null  bool   \n",
      " 12  kitchen_area          21421 non-null  float64\n",
      " 13  balcony               12180 non-null  float64\n",
      " 14  locality_name         23650 non-null  object \n",
      " 15  airports_nearest      18157 non-null  float64\n",
      " 16  cityCenters_nearest   18180 non-null  float64\n",
      " 17  parks_around3000      18181 non-null  float64\n",
      " 18  parks_nearest         8079 non-null   float64\n",
      " 19  ponds_around3000      18181 non-null  float64\n",
      " 20  ponds_nearest         9110 non-null   float64\n",
      " 21  days_exposition       20518 non-null  float64\n",
      "dtypes: bool(2), float64(14), int64(3), object(3)\n",
      "memory usage: 3.7+ MB\n"
     ]
    }
   ],
   "source": [
    "data.info()"
   ]
  },
  {
   "cell_type": "markdown",
   "metadata": {},
   "source": [
    "1. Можно перевести тип значений (после исключения значений null):\n",
    "- в int по колонкам: floors_total, balcony, parks_around3000, ponds_around3000, days_exposition\n",
    "\n",
    "- в datetime по колонке: first_day_exposition\n",
    "\n",
    "- в bool по колонке: is_apartment\n",
    "\n",
    "2. В 14 столбцах из 22 присутствуют пропуски: нужно проанализировать отдельно"
   ]
  },
  {
   "cell_type": "code",
   "execution_count": 5,
   "metadata": {},
   "outputs": [
    {
     "data": {
      "text/html": [
       "<div>\n",
       "<style scoped>\n",
       "    .dataframe tbody tr th:only-of-type {\n",
       "        vertical-align: middle;\n",
       "    }\n",
       "\n",
       "    .dataframe tbody tr th {\n",
       "        vertical-align: top;\n",
       "    }\n",
       "\n",
       "    .dataframe thead th {\n",
       "        text-align: right;\n",
       "    }\n",
       "</style>\n",
       "<table border=\"1\" class=\"dataframe\">\n",
       "  <thead>\n",
       "    <tr style=\"text-align: right;\">\n",
       "      <th></th>\n",
       "      <th>count</th>\n",
       "      <th>mean</th>\n",
       "      <th>std</th>\n",
       "      <th>min</th>\n",
       "      <th>25%</th>\n",
       "      <th>50%</th>\n",
       "      <th>75%</th>\n",
       "      <th>max</th>\n",
       "    </tr>\n",
       "  </thead>\n",
       "  <tbody>\n",
       "    <tr>\n",
       "      <th>total_images</th>\n",
       "      <td>23699</td>\n",
       "      <td>9</td>\n",
       "      <td>5</td>\n",
       "      <td>0</td>\n",
       "      <td>6</td>\n",
       "      <td>9</td>\n",
       "      <td>14</td>\n",
       "      <td>50</td>\n",
       "    </tr>\n",
       "    <tr>\n",
       "      <th>last_price</th>\n",
       "      <td>23699</td>\n",
       "      <td>6541548</td>\n",
       "      <td>10887013</td>\n",
       "      <td>12190</td>\n",
       "      <td>3400000</td>\n",
       "      <td>4650000</td>\n",
       "      <td>6800000</td>\n",
       "      <td>763000000</td>\n",
       "    </tr>\n",
       "    <tr>\n",
       "      <th>total_area</th>\n",
       "      <td>23699</td>\n",
       "      <td>60</td>\n",
       "      <td>35</td>\n",
       "      <td>12</td>\n",
       "      <td>40</td>\n",
       "      <td>52</td>\n",
       "      <td>69</td>\n",
       "      <td>900</td>\n",
       "    </tr>\n",
       "    <tr>\n",
       "      <th>rooms</th>\n",
       "      <td>23699</td>\n",
       "      <td>2</td>\n",
       "      <td>1</td>\n",
       "      <td>0</td>\n",
       "      <td>1</td>\n",
       "      <td>2</td>\n",
       "      <td>3</td>\n",
       "      <td>19</td>\n",
       "    </tr>\n",
       "    <tr>\n",
       "      <th>ceiling_height</th>\n",
       "      <td>14504</td>\n",
       "      <td>2</td>\n",
       "      <td>1</td>\n",
       "      <td>1</td>\n",
       "      <td>2</td>\n",
       "      <td>2</td>\n",
       "      <td>2</td>\n",
       "      <td>100</td>\n",
       "    </tr>\n",
       "    <tr>\n",
       "      <th>floors_total</th>\n",
       "      <td>23613</td>\n",
       "      <td>10</td>\n",
       "      <td>6</td>\n",
       "      <td>1</td>\n",
       "      <td>5</td>\n",
       "      <td>9</td>\n",
       "      <td>16</td>\n",
       "      <td>60</td>\n",
       "    </tr>\n",
       "    <tr>\n",
       "      <th>living_area</th>\n",
       "      <td>21796</td>\n",
       "      <td>34</td>\n",
       "      <td>22</td>\n",
       "      <td>2</td>\n",
       "      <td>18</td>\n",
       "      <td>30</td>\n",
       "      <td>42</td>\n",
       "      <td>409</td>\n",
       "    </tr>\n",
       "    <tr>\n",
       "      <th>floor</th>\n",
       "      <td>23699</td>\n",
       "      <td>5</td>\n",
       "      <td>4</td>\n",
       "      <td>1</td>\n",
       "      <td>2</td>\n",
       "      <td>4</td>\n",
       "      <td>8</td>\n",
       "      <td>33</td>\n",
       "    </tr>\n",
       "    <tr>\n",
       "      <th>kitchen_area</th>\n",
       "      <td>21421</td>\n",
       "      <td>10</td>\n",
       "      <td>5</td>\n",
       "      <td>1</td>\n",
       "      <td>7</td>\n",
       "      <td>9</td>\n",
       "      <td>12</td>\n",
       "      <td>112</td>\n",
       "    </tr>\n",
       "    <tr>\n",
       "      <th>balcony</th>\n",
       "      <td>12180</td>\n",
       "      <td>1</td>\n",
       "      <td>1</td>\n",
       "      <td>0</td>\n",
       "      <td>0</td>\n",
       "      <td>1</td>\n",
       "      <td>2</td>\n",
       "      <td>5</td>\n",
       "    </tr>\n",
       "    <tr>\n",
       "      <th>airports_nearest</th>\n",
       "      <td>18157</td>\n",
       "      <td>28793</td>\n",
       "      <td>12630</td>\n",
       "      <td>0</td>\n",
       "      <td>18585</td>\n",
       "      <td>26726</td>\n",
       "      <td>37273</td>\n",
       "      <td>84869</td>\n",
       "    </tr>\n",
       "    <tr>\n",
       "      <th>cityCenters_nearest</th>\n",
       "      <td>18180</td>\n",
       "      <td>14191</td>\n",
       "      <td>8608</td>\n",
       "      <td>181</td>\n",
       "      <td>9238</td>\n",
       "      <td>13098</td>\n",
       "      <td>16293</td>\n",
       "      <td>65968</td>\n",
       "    </tr>\n",
       "    <tr>\n",
       "      <th>parks_around3000</th>\n",
       "      <td>18181</td>\n",
       "      <td>0</td>\n",
       "      <td>0</td>\n",
       "      <td>0</td>\n",
       "      <td>0</td>\n",
       "      <td>0</td>\n",
       "      <td>1</td>\n",
       "      <td>3</td>\n",
       "    </tr>\n",
       "    <tr>\n",
       "      <th>parks_nearest</th>\n",
       "      <td>8079</td>\n",
       "      <td>490</td>\n",
       "      <td>342</td>\n",
       "      <td>1</td>\n",
       "      <td>288</td>\n",
       "      <td>455</td>\n",
       "      <td>612</td>\n",
       "      <td>3190</td>\n",
       "    </tr>\n",
       "    <tr>\n",
       "      <th>ponds_around3000</th>\n",
       "      <td>18181</td>\n",
       "      <td>0</td>\n",
       "      <td>0</td>\n",
       "      <td>0</td>\n",
       "      <td>0</td>\n",
       "      <td>1</td>\n",
       "      <td>1</td>\n",
       "      <td>3</td>\n",
       "    </tr>\n",
       "    <tr>\n",
       "      <th>ponds_nearest</th>\n",
       "      <td>9110</td>\n",
       "      <td>517</td>\n",
       "      <td>277</td>\n",
       "      <td>13</td>\n",
       "      <td>294</td>\n",
       "      <td>502</td>\n",
       "      <td>729</td>\n",
       "      <td>1344</td>\n",
       "    </tr>\n",
       "    <tr>\n",
       "      <th>days_exposition</th>\n",
       "      <td>20518</td>\n",
       "      <td>180</td>\n",
       "      <td>219</td>\n",
       "      <td>1</td>\n",
       "      <td>45</td>\n",
       "      <td>95</td>\n",
       "      <td>232</td>\n",
       "      <td>1580</td>\n",
       "    </tr>\n",
       "  </tbody>\n",
       "</table>\n",
       "</div>"
      ],
      "text/plain": [
       "                     count     mean       std    min      25%      50%  \\\n",
       "total_images         23699        9         5      0        6        9   \n",
       "last_price           23699  6541548  10887013  12190  3400000  4650000   \n",
       "total_area           23699       60        35     12       40       52   \n",
       "rooms                23699        2         1      0        1        2   \n",
       "ceiling_height       14504        2         1      1        2        2   \n",
       "floors_total         23613       10         6      1        5        9   \n",
       "living_area          21796       34        22      2       18       30   \n",
       "floor                23699        5         4      1        2        4   \n",
       "kitchen_area         21421       10         5      1        7        9   \n",
       "balcony              12180        1         1      0        0        1   \n",
       "airports_nearest     18157    28793     12630      0    18585    26726   \n",
       "cityCenters_nearest  18180    14191      8608    181     9238    13098   \n",
       "parks_around3000     18181        0         0      0        0        0   \n",
       "parks_nearest         8079      490       342      1      288      455   \n",
       "ponds_around3000     18181        0         0      0        0        1   \n",
       "ponds_nearest         9110      517       277     13      294      502   \n",
       "days_exposition      20518      180       219      1       45       95   \n",
       "\n",
       "                         75%        max  \n",
       "total_images              14         50  \n",
       "last_price           6800000  763000000  \n",
       "total_area                69        900  \n",
       "rooms                      3         19  \n",
       "ceiling_height             2        100  \n",
       "floors_total              16         60  \n",
       "living_area               42        409  \n",
       "floor                      8         33  \n",
       "kitchen_area              12        112  \n",
       "balcony                    2          5  \n",
       "airports_nearest       37273      84869  \n",
       "cityCenters_nearest    16293      65968  \n",
       "parks_around3000           1          3  \n",
       "parks_nearest            612       3190  \n",
       "ponds_around3000           1          3  \n",
       "ponds_nearest            729       1344  \n",
       "days_exposition          232       1580  "
      ]
     },
     "execution_count": 5,
     "metadata": {},
     "output_type": "execute_result"
    }
   ],
   "source": [
    "data.describe().T.astype('int')"
   ]
  },
  {
   "cell_type": "code",
   "execution_count": 6,
   "metadata": {},
   "outputs": [
    {
     "data": {
      "image/png": "[encoded data removed]",
      "text/plain": [
       "<Figure size 1080x1440 with 20 Axes>"
      ]
     },
     "metadata": {
      "needs_background": "light"
     },
     "output_type": "display_data"
    }
   ],
   "source": [
    "data.hist(figsize=(15, 20));"
   ]
  },
  {
   "cell_type": "markdown",
   "metadata": {},
   "source": [
    "### Выводу по разделу 1:\n",
    "\n",
    "last_price: min=12190 и max=763000000 для цены квартиры выглядят аномальными, нужно посмотреть количество строк по ним и отбросить при малой доле. По графику цены находятся в пределах 100 миллионов.\n",
    "\n",
    "total_area:\tmin=12 и max=900 для площади квартиры выглядят аномальными, нужно посмотреть количество строк по ним и отбросить при малой доле. По графику площадь > 200 кв.м почти не встречается.\n",
    "\n",
    "rooms:\tmax=19 для количества комнат выглядит аномальным, нужно посмотреть количество строк и отбросить при малой доле. По графику комнат > 5 почти не встречается.\n",
    "\n",
    "ceiling_height:\tmax=100 для высоты потолка очевидная аномалия, из выборки надо исключить строки с аномально большими значениями. По графику высота потолков находится в пределах 10 метров.\n",
    "\n",
    "floors_total: max=60 может быть правдивым, но по графику большинство домов не выше 30 этажей.\n",
    "\n",
    "living_area: min=2 и max=409 для жилой площади квартиры выглядят аномальными, нужно посмотреть количество строк по ним и отбросить при малой доле. По графику площадь > 100 кв.м почти не встречается.\n",
    "\n",
    "floor: max=33 может быть правдивым, но по графику большинство квартир находятся не выше 20-го этажа.\n",
    "\n",
    "kitchen_area: min=1 и max=112 для кухни выглядят аномальными, нужно посмотреть количество строк по ним и отбросить при малой доле. По графику площадь в основной массе не больше 22кв.м.\t\n",
    "\n",
    "balcony: max=5 для количества балконов выглядит аномальным, нужно посмотреть количество строк и отбросить при малой доле. По графику у большинство 0-1-2 балконов.\t\t\n",
    "\n",
    "airports_nearest: min=0 для расстояния до аэропорта очевидная аномалия, из выборки надо исключить строки с аномально малыми значениями.\tПо графику большинство значений от 10 000 до 60 000 м.\n",
    "\n",
    "cityCenters_nearest: большинство значений до 60 км от центра.\t\n",
    "\n",
    "parks_around3000: до 3х парков в пределах 3 км.\t\n",
    "\n",
    "parks_nearest: большинство имеющихся значений до 1 км.\t\n",
    "\n",
    "ponds_around3000: до 3х парков в пределах 3 км.\t\n",
    "\n",
    "ponds_nearest: большинство имеющихся значений до 1 км.\n",
    "\n",
    "days_exposition: min=0 и max=1580 для продажи недвижимости могут быть правдивыми, но отрицательно влиять на среднее, нужно проанализировать дополнительно."
   ]
  },
  {
   "cell_type": "markdown",
   "metadata": {},
   "source": [
    "## Предобработка данных"
   ]
  },
  {
   "cell_type": "markdown",
   "metadata": {},
   "source": [
    "### Переименованы столбцы таблицы"
   ]
  },
  {
   "cell_type": "code",
   "execution_count": 7,
   "metadata": {},
   "outputs": [
    {
     "data": {
      "text/html": [
       "<div>\n",
       "<style scoped>\n",
       "    .dataframe tbody tr th:only-of-type {\n",
       "        vertical-align: middle;\n",
       "    }\n",
       "\n",
       "    .dataframe tbody tr th {\n",
       "        vertical-align: top;\n",
       "    }\n",
       "\n",
       "    .dataframe thead th {\n",
       "        text-align: right;\n",
       "    }\n",
       "</style>\n",
       "<table border=\"1\" class=\"dataframe\">\n",
       "  <thead>\n",
       "    <tr style=\"text-align: right;\">\n",
       "      <th></th>\n",
       "      <th>total_images</th>\n",
       "      <th>last_price</th>\n",
       "      <th>total_area</th>\n",
       "      <th>first_day_exposition</th>\n",
       "      <th>rooms</th>\n",
       "      <th>ceiling_height</th>\n",
       "      <th>floors_total</th>\n",
       "      <th>living_area</th>\n",
       "      <th>floor</th>\n",
       "      <th>is_apartment</th>\n",
       "      <th>studio</th>\n",
       "      <th>open_plan</th>\n",
       "      <th>kitchen_area</th>\n",
       "      <th>balcony</th>\n",
       "      <th>locality_name</th>\n",
       "      <th>airports_nearest</th>\n",
       "      <th>city_centers_nearest</th>\n",
       "      <th>parks_around_3000</th>\n",
       "      <th>parks_nearest</th>\n",
       "      <th>ponds_around_3000</th>\n",
       "      <th>ponds_nearest</th>\n",
       "      <th>days_exposition</th>\n",
       "    </tr>\n",
       "  </thead>\n",
       "  <tbody>\n",
       "    <tr>\n",
       "      <th>0</th>\n",
       "      <td>20</td>\n",
       "      <td>13000000.0</td>\n",
       "      <td>108.0</td>\n",
       "      <td>2019-03-07T00:00:00</td>\n",
       "      <td>3</td>\n",
       "      <td>2.70</td>\n",
       "      <td>16.0</td>\n",
       "      <td>51.0</td>\n",
       "      <td>8</td>\n",
       "      <td>NaN</td>\n",
       "      <td>False</td>\n",
       "      <td>False</td>\n",
       "      <td>25.0</td>\n",
       "      <td>NaN</td>\n",
       "      <td>Санкт-Петербург</td>\n",
       "      <td>18863.0</td>\n",
       "      <td>16028.0</td>\n",
       "      <td>1.0</td>\n",
       "      <td>482.0</td>\n",
       "      <td>2.0</td>\n",
       "      <td>755.0</td>\n",
       "      <td>NaN</td>\n",
       "    </tr>\n",
       "    <tr>\n",
       "      <th>1</th>\n",
       "      <td>7</td>\n",
       "      <td>3350000.0</td>\n",
       "      <td>40.4</td>\n",
       "      <td>2018-12-04T00:00:00</td>\n",
       "      <td>1</td>\n",
       "      <td>NaN</td>\n",
       "      <td>11.0</td>\n",
       "      <td>18.6</td>\n",
       "      <td>1</td>\n",
       "      <td>NaN</td>\n",
       "      <td>False</td>\n",
       "      <td>False</td>\n",
       "      <td>11.0</td>\n",
       "      <td>2.0</td>\n",
       "      <td>посёлок Шушары</td>\n",
       "      <td>12817.0</td>\n",
       "      <td>18603.0</td>\n",
       "      <td>0.0</td>\n",
       "      <td>NaN</td>\n",
       "      <td>0.0</td>\n",
       "      <td>NaN</td>\n",
       "      <td>81.0</td>\n",
       "    </tr>\n",
       "    <tr>\n",
       "      <th>2</th>\n",
       "      <td>10</td>\n",
       "      <td>5196000.0</td>\n",
       "      <td>56.0</td>\n",
       "      <td>2015-08-20T00:00:00</td>\n",
       "      <td>2</td>\n",
       "      <td>NaN</td>\n",
       "      <td>5.0</td>\n",
       "      <td>34.3</td>\n",
       "      <td>4</td>\n",
       "      <td>NaN</td>\n",
       "      <td>False</td>\n",
       "      <td>False</td>\n",
       "      <td>8.3</td>\n",
       "      <td>0.0</td>\n",
       "      <td>Санкт-Петербург</td>\n",
       "      <td>21741.0</td>\n",
       "      <td>13933.0</td>\n",
       "      <td>1.0</td>\n",
       "      <td>90.0</td>\n",
       "      <td>2.0</td>\n",
       "      <td>574.0</td>\n",
       "      <td>558.0</td>\n",
       "    </tr>\n",
       "    <tr>\n",
       "      <th>3</th>\n",
       "      <td>0</td>\n",
       "      <td>64900000.0</td>\n",
       "      <td>159.0</td>\n",
       "      <td>2015-07-24T00:00:00</td>\n",
       "      <td>3</td>\n",
       "      <td>NaN</td>\n",
       "      <td>14.0</td>\n",
       "      <td>NaN</td>\n",
       "      <td>9</td>\n",
       "      <td>NaN</td>\n",
       "      <td>False</td>\n",
       "      <td>False</td>\n",
       "      <td>NaN</td>\n",
       "      <td>0.0</td>\n",
       "      <td>Санкт-Петербург</td>\n",
       "      <td>28098.0</td>\n",
       "      <td>6800.0</td>\n",
       "      <td>2.0</td>\n",
       "      <td>84.0</td>\n",
       "      <td>3.0</td>\n",
       "      <td>234.0</td>\n",
       "      <td>424.0</td>\n",
       "    </tr>\n",
       "    <tr>\n",
       "      <th>4</th>\n",
       "      <td>2</td>\n",
       "      <td>10000000.0</td>\n",
       "      <td>100.0</td>\n",
       "      <td>2018-06-19T00:00:00</td>\n",
       "      <td>2</td>\n",
       "      <td>3.03</td>\n",
       "      <td>14.0</td>\n",
       "      <td>32.0</td>\n",
       "      <td>13</td>\n",
       "      <td>NaN</td>\n",
       "      <td>False</td>\n",
       "      <td>False</td>\n",
       "      <td>41.0</td>\n",
       "      <td>NaN</td>\n",
       "      <td>Санкт-Петербург</td>\n",
       "      <td>31856.0</td>\n",
       "      <td>8098.0</td>\n",
       "      <td>2.0</td>\n",
       "      <td>112.0</td>\n",
       "      <td>1.0</td>\n",
       "      <td>48.0</td>\n",
       "      <td>121.0</td>\n",
       "    </tr>\n",
       "  </tbody>\n",
       "</table>\n",
       "</div>"
      ],
      "text/plain": [
       "   total_images  last_price  total_area first_day_exposition  rooms  \\\n",
       "0            20  13000000.0       108.0  2019-03-07T00:00:00      3   \n",
       "1             7   3350000.0        40.4  2018-12-04T00:00:00      1   \n",
       "2            10   5196000.0        56.0  2015-08-20T00:00:00      2   \n",
       "3             0  64900000.0       159.0  2015-07-24T00:00:00      3   \n",
       "4             2  10000000.0       100.0  2018-06-19T00:00:00      2   \n",
       "\n",
       "   ceiling_height  floors_total  living_area  floor is_apartment  studio  \\\n",
       "0            2.70          16.0         51.0      8          NaN   False   \n",
       "1             NaN          11.0         18.6      1          NaN   False   \n",
       "2             NaN           5.0         34.3      4          NaN   False   \n",
       "3             NaN          14.0          NaN      9          NaN   False   \n",
       "4            3.03          14.0         32.0     13          NaN   False   \n",
       "\n",
       "   open_plan  kitchen_area  balcony    locality_name  airports_nearest  \\\n",
       "0      False          25.0      NaN  Санкт-Петербург           18863.0   \n",
       "1      False          11.0      2.0   посёлок Шушары           12817.0   \n",
       "2      False           8.3      0.0  Санкт-Петербург           21741.0   \n",
       "3      False           NaN      0.0  Санкт-Петербург           28098.0   \n",
       "4      False          41.0      NaN  Санкт-Петербург           31856.0   \n",
       "\n",
       "   city_centers_nearest  parks_around_3000  parks_nearest  ponds_around_3000  \\\n",
       "0               16028.0                1.0          482.0                2.0   \n",
       "1               18603.0                0.0            NaN                0.0   \n",
       "2               13933.0                1.0           90.0                2.0   \n",
       "3                6800.0                2.0           84.0                3.0   \n",
       "4                8098.0                2.0          112.0                1.0   \n",
       "\n",
       "   ponds_nearest  days_exposition  \n",
       "0          755.0              NaN  \n",
       "1            NaN             81.0  \n",
       "2          574.0            558.0  \n",
       "3          234.0            424.0  \n",
       "4           48.0            121.0  "
      ]
     },
     "execution_count": 7,
     "metadata": {},
     "output_type": "execute_result"
    }
   ],
   "source": [
    "data = data.rename(columns={'cityCenters_nearest': 'city_centers_nearest', \n",
    "                            'parks_around3000': 'parks_around_3000', \n",
    "                            'ponds_around3000': 'ponds_around_3000'})\n",
    "\n",
    "data.head()"
   ]
  },
  {
   "cell_type": "markdown",
   "metadata": {},
   "source": [
    "<div class=\"alert alert-success\">\n",
    "<b>✔️ Комментарий ревьюера v1:</b> \n",
    "<br>Молодец! Так датафрейм будет более аккуратным\n",
    "</div>"
   ]
  },
  {
   "cell_type": "markdown",
   "metadata": {},
   "source": [
    "### Проверены и обработаны пропуски. Заменены типы."
   ]
  },
  {
   "cell_type": "code",
   "execution_count": 8,
   "metadata": {},
   "outputs": [
    {
     "data": {
      "text/plain": [
       "total_images                0\n",
       "last_price                  0\n",
       "total_area                  0\n",
       "first_day_exposition        0\n",
       "rooms                       0\n",
       "ceiling_height           9195\n",
       "floors_total               86\n",
       "living_area              1903\n",
       "floor                       0\n",
       "is_apartment            20924\n",
       "studio                      0\n",
       "open_plan                   0\n",
       "kitchen_area             2278\n",
       "balcony                 11519\n",
       "locality_name              49\n",
       "airports_nearest         5542\n",
       "city_centers_nearest     5519\n",
       "parks_around_3000        5518\n",
       "parks_nearest           15620\n",
       "ponds_around_3000        5518\n",
       "ponds_nearest           14589\n",
       "days_exposition          3181\n",
       "dtype: int64"
      ]
     },
     "execution_count": 8,
     "metadata": {},
     "output_type": "execute_result"
    }
   ],
   "source": [
    "data.isna().sum()"
   ]
  },
  {
   "cell_type": "markdown",
   "metadata": {},
   "source": [
    "**ceiling_height**: 9195 пропусков.\n",
    "\n",
    "Проверим, как много значений выходит за пределы нормальных и решим, заполнить пропуски медианой по исходной таблице или лучше скорректировать предварительно аномальные значения:"
   ]
  },
  {
   "cell_type": "code",
   "execution_count": 9,
   "metadata": {},
   "outputs": [
    {
     "data": {
      "text/plain": [
       "<AxesSubplot:ylabel='Frequency'>"
      ]
     },
     "execution_count": 9,
     "metadata": {},
     "output_type": "execute_result"
    },
    {
     "data": {
      "image/png": "[encoded data removed]",
      "text/plain": [
       "<Figure size 432x288 with 1 Axes>"
      ]
     },
     "metadata": {
      "needs_background": "light"
     },
     "output_type": "display_data"
    }
   ],
   "source": [
    "data['ceiling_height'].sort_values().plot(y = 'ceiling_height', kind = 'hist', bins = 10, range=(2,5))"
   ]
  },
  {
   "cell_type": "code",
   "execution_count": 10,
   "metadata": {},
   "outputs": [
    {
     "data": {
      "text/plain": [
       "<AxesSubplot:ylabel='Frequency'>"
      ]
     },
     "execution_count": 10,
     "metadata": {},
     "output_type": "execute_result"
    },
    {
     "data": {
      "image/png": "[encoded data removed]",
      "text/plain": [
       "<Figure size 432x288 with 1 Axes>"
      ]
     },
     "metadata": {
      "needs_background": "light"
     },
     "output_type": "display_data"
    }
   ],
   "source": [
    "data['ceiling_height'].sort_values().plot(y = 'ceiling_height', kind = 'hist', bins = 10, range=(20,50))"
   ]
  },
  {
   "cell_type": "code",
   "execution_count": 11,
   "metadata": {},
   "outputs": [],
   "source": [
    "# Потолки с высотой более 20 м - ошибка пропашего разделителя, можно поделить зачения на 10, чтобы привести к правдоподобным:\n",
    "data.loc[data['ceiling_height'] >= 20, 'ceiling_height'] = data['ceiling_height'] / 10"
   ]
  },
  {
   "cell_type": "code",
   "execution_count": 12,
   "metadata": {},
   "outputs": [
    {
     "data": {
      "text/plain": [
       "49"
      ]
     },
     "execution_count": 12,
     "metadata": {},
     "output_type": "execute_result"
    }
   ],
   "source": [
    "# Глядя на график, посчитаем длинный узкий хвост для потолков выше 4.1м\n",
    "data.query('ceiling_height > 4.1')['ceiling_height'].count()"
   ]
  },
  {
   "cell_type": "code",
   "execution_count": 13,
   "metadata": {},
   "outputs": [
    {
     "data": {
      "text/plain": [
       "76"
      ]
     },
     "execution_count": 13,
     "metadata": {},
     "output_type": "execute_result"
    }
   ],
   "source": [
    "data.query('ceiling_height < 2.50')['ceiling_height'].count()"
   ]
  },
  {
   "cell_type": "markdown",
   "metadata": {},
   "source": [
    "По СанПин высота потолка в жилом помещении не может быть менее 2,5 метров, однако для мансард на площади менее 50% она может быть меньше."
   ]
  },
  {
   "cell_type": "code",
   "execution_count": 14,
   "metadata": {},
   "outputs": [
    {
     "data": {
      "text/plain": [
       "2.65"
      ]
     },
     "execution_count": 14,
     "metadata": {},
     "output_type": "execute_result"
    }
   ],
   "source": [
    "data['ceiling_height'].median()"
   ]
  },
  {
   "cell_type": "code",
   "execution_count": 15,
   "metadata": {},
   "outputs": [
    {
     "data": {
      "text/plain": [
       "2.7296076944291228"
      ]
     },
     "execution_count": 15,
     "metadata": {},
     "output_type": "execute_result"
    }
   ],
   "source": [
    "data['ceiling_height'].mean()"
   ]
  },
  {
   "cell_type": "markdown",
   "metadata": {},
   "source": [
    "Средняя и медиана отличаются не сильно, можно взять медиану для заполнения аномальных и пропущенных значений:"
   ]
  },
  {
   "cell_type": "code",
   "execution_count": 16,
   "metadata": {},
   "outputs": [
    {
     "data": {
      "text/plain": [
       "0"
      ]
     },
     "metadata": {},
     "output_type": "display_data"
    },
    {
     "data": {
      "text/plain": [
       "0"
      ]
     },
     "metadata": {},
     "output_type": "display_data"
    },
    {
     "data": {
      "text/plain": [
       "23699"
      ]
     },
     "execution_count": 16,
     "metadata": {},
     "output_type": "execute_result"
    }
   ],
   "source": [
    "data.loc[data['ceiling_height'] > 4.1, 'ceiling_height'] = data['ceiling_height'].median()\n",
    "data['ceiling_height'] = data['ceiling_height'].fillna(data['ceiling_height'].median())\n",
    "\n",
    "display(data.query('ceiling_height > 4.1')['ceiling_height'].count())\n",
    "display(data['ceiling_height'].isna().sum())\n",
    "data['ceiling_height'].count()"
   ]
  },
  {
   "cell_type": "code",
   "execution_count": 17,
   "metadata": {},
   "outputs": [
    {
     "data": {
      "text/plain": [
       "2.65"
      ]
     },
     "execution_count": 17,
     "metadata": {},
     "output_type": "execute_result"
    }
   ],
   "source": [
    "data['ceiling_height'].median()"
   ]
  },
  {
   "cell_type": "markdown",
   "metadata": {},
   "source": [
    "**floors_total**: 86 пропусков.\n",
    "На исследование не повлияет, оставляем.\n"
   ]
  },
  {
   "cell_type": "markdown",
   "metadata": {},
   "source": [
    "**living_area**: 1903 пропуска.\n",
    "Значительная часть данных, можно добавить медианные значения в зависимости от количества комнат в квартире."
   ]
  },
  {
   "cell_type": "code",
   "execution_count": 18,
   "metadata": {},
   "outputs": [
    {
     "data": {
      "text/plain": [
       "0"
      ]
     },
     "execution_count": 18,
     "metadata": {},
     "output_type": "execute_result"
    }
   ],
   "source": [
    "for a in data['rooms'].unique():\n",
    "    data.loc[(data['rooms']==a) & (data['living_area'].isna()), 'living_area'] =\\\n",
    "    data.loc[(data['rooms']==a), 'living_area'].median()\n",
    "    \n",
    "data['living_area'].isna().sum()\n"
   ]
  },
  {
   "cell_type": "markdown",
   "metadata": {},
   "source": [
    "**is_apartment**: 20924 пропусков.\n",
    "\n",
    "Необходимо перевести значения в булевы."
   ]
  },
  {
   "cell_type": "code",
   "execution_count": 90,
   "metadata": {},
   "outputs": [
    {
     "data": {
      "text/plain": [
       "0"
      ]
     },
     "execution_count": 90,
     "metadata": {},
     "output_type": "execute_result"
    }
   ],
   "source": [
    "data['is_apartment'] = data['is_apartment'].astype('bool')\n",
    "\n",
    "data['is_apartment'].isna().sum()\n"
   ]
  },
  {
   "cell_type": "markdown",
   "metadata": {},
   "source": [
    "**kitchen_area**: 2278 пропусков.\n",
    "Значительная часть данных, но заполнить нечем, оставляем."
   ]
  },
  {
   "cell_type": "markdown",
   "metadata": {},
   "source": [
    "**balcony**: 11519 пропусков.\n",
    "Можно приравнять пропуски к отсутствию балкона."
   ]
  },
  {
   "cell_type": "code",
   "execution_count": 20,
   "metadata": {},
   "outputs": [],
   "source": [
    "data['balcony'] = data['balcony'].fillna(0)"
   ]
  },
  {
   "cell_type": "code",
   "execution_count": 21,
   "metadata": {},
   "outputs": [],
   "source": [
    "data['balcony'] = data['balcony'].astype('int')\n"
   ]
  },
  {
   "cell_type": "markdown",
   "metadata": {},
   "source": [
    "**locality_name**: 49 пропусков.\n",
    "На исследование не повлияет, оставляем."
   ]
  },
  {
   "cell_type": "markdown",
   "metadata": {},
   "source": [
    "**airports_nearest**: 5542 пропусков.\n",
    "\n",
    "**city_centers_nearest**: 5519 пропусков.\n",
    "\n",
    "**parks_nearest**: 15620 пропусков.\n",
    "\n",
    "**ponds_nearest**: 14589 пропусков.\n",
    "\n",
    "Это картографические данные, их нельзя заполнить самостоятельно. Данные заполнялись только по тем объектам, рядом с которыми есть аэропорты, парки и пруды. А вот по отдаленности от центра данные можно было бы и дополнить."
   ]
  },
  {
   "cell_type": "markdown",
   "metadata": {},
   "source": [
    "**parks_around_3000**: 5518 пропусков.\n",
    "**ponds_around_3000**: 5518 пропусков\n",
    "Данные отсутствуют по предложениям, рядом с которыми нет парков и прудов. Можно заменить на 0 и перевести значения в целочисленные:"
   ]
  },
  {
   "cell_type": "code",
   "execution_count": 22,
   "metadata": {},
   "outputs": [],
   "source": [
    "data['parks_around_3000'] = data['parks_around_3000'].fillna(0).astype('int')\n",
    "data['ponds_around_3000'] = data['ponds_around_3000'].fillna(0).astype('int')"
   ]
  },
  {
   "cell_type": "markdown",
   "metadata": {},
   "source": [
    "**days_exposition**: 3181 пропусков.\n",
    "Значительная часть данных. Значения должны быть получены технически, вероятно, произошел сбой при выгрузке. \n",
    "Самостоятельно заполнить не можем, но нужно указать в баг-репорте."
   ]
  },
  {
   "cell_type": "code",
   "execution_count": 23,
   "metadata": {},
   "outputs": [
    {
     "data": {
      "text/plain": [
       "0"
      ]
     },
     "execution_count": 23,
     "metadata": {},
     "output_type": "execute_result"
    }
   ],
   "source": [
    "\n",
    "data.query('days_exposition == 0')['days_exposition'].count()"
   ]
  },
  {
   "cell_type": "code",
   "execution_count": 24,
   "metadata": {},
   "outputs": [
    {
     "data": {
      "text/plain": [
       "3181"
      ]
     },
     "execution_count": 24,
     "metadata": {},
     "output_type": "execute_result"
    }
   ],
   "source": [
    "data['days_exposition'].isna().sum()"
   ]
  },
  {
   "cell_type": "code",
   "execution_count": 25,
   "metadata": {},
   "outputs": [
    {
     "data": {
      "text/html": [
       "<div>\n",
       "<style scoped>\n",
       "    .dataframe tbody tr th:only-of-type {\n",
       "        vertical-align: middle;\n",
       "    }\n",
       "\n",
       "    .dataframe tbody tr th {\n",
       "        vertical-align: top;\n",
       "    }\n",
       "\n",
       "    .dataframe thead th {\n",
       "        text-align: right;\n",
       "    }\n",
       "</style>\n",
       "<table border=\"1\" class=\"dataframe\">\n",
       "  <thead>\n",
       "    <tr style=\"text-align: right;\">\n",
       "      <th></th>\n",
       "      <th>total_images</th>\n",
       "      <th>last_price</th>\n",
       "      <th>total_area</th>\n",
       "      <th>first_day_exposition</th>\n",
       "      <th>rooms</th>\n",
       "      <th>ceiling_height</th>\n",
       "      <th>floors_total</th>\n",
       "      <th>living_area</th>\n",
       "      <th>floor</th>\n",
       "      <th>is_apartment</th>\n",
       "      <th>studio</th>\n",
       "      <th>open_plan</th>\n",
       "      <th>kitchen_area</th>\n",
       "      <th>balcony</th>\n",
       "      <th>locality_name</th>\n",
       "      <th>airports_nearest</th>\n",
       "      <th>city_centers_nearest</th>\n",
       "      <th>parks_around_3000</th>\n",
       "      <th>parks_nearest</th>\n",
       "      <th>ponds_around_3000</th>\n",
       "      <th>ponds_nearest</th>\n",
       "      <th>days_exposition</th>\n",
       "    </tr>\n",
       "  </thead>\n",
       "  <tbody>\n",
       "    <tr>\n",
       "      <th>0</th>\n",
       "      <td>20</td>\n",
       "      <td>13000000.0</td>\n",
       "      <td>108.0</td>\n",
       "      <td>2019-03-07</td>\n",
       "      <td>3</td>\n",
       "      <td>2.70</td>\n",
       "      <td>16.0</td>\n",
       "      <td>51.0</td>\n",
       "      <td>8</td>\n",
       "      <td>True</td>\n",
       "      <td>False</td>\n",
       "      <td>False</td>\n",
       "      <td>25.0</td>\n",
       "      <td>0</td>\n",
       "      <td>Санкт-Петербург</td>\n",
       "      <td>18863.0</td>\n",
       "      <td>16028.0</td>\n",
       "      <td>1</td>\n",
       "      <td>482.0</td>\n",
       "      <td>2</td>\n",
       "      <td>755.0</td>\n",
       "      <td>NaN</td>\n",
       "    </tr>\n",
       "    <tr>\n",
       "      <th>1</th>\n",
       "      <td>7</td>\n",
       "      <td>3350000.0</td>\n",
       "      <td>40.4</td>\n",
       "      <td>2018-12-04</td>\n",
       "      <td>1</td>\n",
       "      <td>2.65</td>\n",
       "      <td>11.0</td>\n",
       "      <td>18.6</td>\n",
       "      <td>1</td>\n",
       "      <td>True</td>\n",
       "      <td>False</td>\n",
       "      <td>False</td>\n",
       "      <td>11.0</td>\n",
       "      <td>2</td>\n",
       "      <td>посёлок Шушары</td>\n",
       "      <td>12817.0</td>\n",
       "      <td>18603.0</td>\n",
       "      <td>0</td>\n",
       "      <td>NaN</td>\n",
       "      <td>0</td>\n",
       "      <td>NaN</td>\n",
       "      <td>81.0</td>\n",
       "    </tr>\n",
       "    <tr>\n",
       "      <th>2</th>\n",
       "      <td>10</td>\n",
       "      <td>5196000.0</td>\n",
       "      <td>56.0</td>\n",
       "      <td>2015-08-20</td>\n",
       "      <td>2</td>\n",
       "      <td>2.65</td>\n",
       "      <td>5.0</td>\n",
       "      <td>34.3</td>\n",
       "      <td>4</td>\n",
       "      <td>True</td>\n",
       "      <td>False</td>\n",
       "      <td>False</td>\n",
       "      <td>8.3</td>\n",
       "      <td>0</td>\n",
       "      <td>Санкт-Петербург</td>\n",
       "      <td>21741.0</td>\n",
       "      <td>13933.0</td>\n",
       "      <td>1</td>\n",
       "      <td>90.0</td>\n",
       "      <td>2</td>\n",
       "      <td>574.0</td>\n",
       "      <td>558.0</td>\n",
       "    </tr>\n",
       "    <tr>\n",
       "      <th>3</th>\n",
       "      <td>0</td>\n",
       "      <td>64900000.0</td>\n",
       "      <td>159.0</td>\n",
       "      <td>2015-07-24</td>\n",
       "      <td>3</td>\n",
       "      <td>2.65</td>\n",
       "      <td>14.0</td>\n",
       "      <td>45.0</td>\n",
       "      <td>9</td>\n",
       "      <td>True</td>\n",
       "      <td>False</td>\n",
       "      <td>False</td>\n",
       "      <td>NaN</td>\n",
       "      <td>0</td>\n",
       "      <td>Санкт-Петербург</td>\n",
       "      <td>28098.0</td>\n",
       "      <td>6800.0</td>\n",
       "      <td>2</td>\n",
       "      <td>84.0</td>\n",
       "      <td>3</td>\n",
       "      <td>234.0</td>\n",
       "      <td>424.0</td>\n",
       "    </tr>\n",
       "    <tr>\n",
       "      <th>4</th>\n",
       "      <td>2</td>\n",
       "      <td>10000000.0</td>\n",
       "      <td>100.0</td>\n",
       "      <td>2018-06-19</td>\n",
       "      <td>2</td>\n",
       "      <td>3.03</td>\n",
       "      <td>14.0</td>\n",
       "      <td>32.0</td>\n",
       "      <td>13</td>\n",
       "      <td>True</td>\n",
       "      <td>False</td>\n",
       "      <td>False</td>\n",
       "      <td>41.0</td>\n",
       "      <td>0</td>\n",
       "      <td>Санкт-Петербург</td>\n",
       "      <td>31856.0</td>\n",
       "      <td>8098.0</td>\n",
       "      <td>2</td>\n",
       "      <td>112.0</td>\n",
       "      <td>1</td>\n",
       "      <td>48.0</td>\n",
       "      <td>121.0</td>\n",
       "    </tr>\n",
       "  </tbody>\n",
       "</table>\n",
       "</div>"
      ],
      "text/plain": [
       "   total_images  last_price  total_area first_day_exposition  rooms  \\\n",
       "0            20  13000000.0       108.0           2019-03-07      3   \n",
       "1             7   3350000.0        40.4           2018-12-04      1   \n",
       "2            10   5196000.0        56.0           2015-08-20      2   \n",
       "3             0  64900000.0       159.0           2015-07-24      3   \n",
       "4             2  10000000.0       100.0           2018-06-19      2   \n",
       "\n",
       "   ceiling_height  floors_total  living_area  floor  is_apartment  studio  \\\n",
       "0            2.70          16.0         51.0      8          True   False   \n",
       "1            2.65          11.0         18.6      1          True   False   \n",
       "2            2.65           5.0         34.3      4          True   False   \n",
       "3            2.65          14.0         45.0      9          True   False   \n",
       "4            3.03          14.0         32.0     13          True   False   \n",
       "\n",
       "   open_plan  kitchen_area  balcony    locality_name  airports_nearest  \\\n",
       "0      False          25.0        0  Санкт-Петербург           18863.0   \n",
       "1      False          11.0        2   посёлок Шушары           12817.0   \n",
       "2      False           8.3        0  Санкт-Петербург           21741.0   \n",
       "3      False           NaN        0  Санкт-Петербург           28098.0   \n",
       "4      False          41.0        0  Санкт-Петербург           31856.0   \n",
       "\n",
       "   city_centers_nearest  parks_around_3000  parks_nearest  ponds_around_3000  \\\n",
       "0               16028.0                  1          482.0                  2   \n",
       "1               18603.0                  0            NaN                  0   \n",
       "2               13933.0                  1           90.0                  2   \n",
       "3                6800.0                  2           84.0                  3   \n",
       "4                8098.0                  2          112.0                  1   \n",
       "\n",
       "   ponds_nearest  days_exposition  \n",
       "0          755.0              NaN  \n",
       "1            NaN             81.0  \n",
       "2          574.0            558.0  \n",
       "3          234.0            424.0  \n",
       "4           48.0            121.0  "
      ]
     },
     "execution_count": 25,
     "metadata": {},
     "output_type": "execute_result"
    }
   ],
   "source": [
    "# Заменим формат с вещественного на дату:\n",
    "data['first_day_exposition'] = pd.to_datetime(data['first_day_exposition'], format = '%Y-%m-%d')\n",
    "data.head()"
   ]
  },
  {
   "cell_type": "code",
   "execution_count": 26,
   "metadata": {},
   "outputs": [
    {
     "name": "stdout",
     "output_type": "stream",
     "text": [
      "<class 'pandas.core.frame.DataFrame'>\n",
      "RangeIndex: 23699 entries, 0 to 23698\n",
      "Data columns (total 22 columns):\n",
      " #   Column                Non-Null Count  Dtype         \n",
      "---  ------                --------------  -----         \n",
      " 0   total_images          23699 non-null  int64         \n",
      " 1   last_price            23699 non-null  float64       \n",
      " 2   total_area            23699 non-null  float64       \n",
      " 3   first_day_exposition  23699 non-null  datetime64[ns]\n",
      " 4   rooms                 23699 non-null  int64         \n",
      " 5   ceiling_height        23699 non-null  float64       \n",
      " 6   floors_total          23613 non-null  float64       \n",
      " 7   living_area           23699 non-null  float64       \n",
      " 8   floor                 23699 non-null  int64         \n",
      " 9   is_apartment          23699 non-null  bool          \n",
      " 10  studio                23699 non-null  bool          \n",
      " 11  open_plan             23699 non-null  bool          \n",
      " 12  kitchen_area          21421 non-null  float64       \n",
      " 13  balcony               23699 non-null  int64         \n",
      " 14  locality_name         23650 non-null  object        \n",
      " 15  airports_nearest      18157 non-null  float64       \n",
      " 16  city_centers_nearest  18180 non-null  float64       \n",
      " 17  parks_around_3000     23699 non-null  int64         \n",
      " 18  parks_nearest         8079 non-null   float64       \n",
      " 19  ponds_around_3000     23699 non-null  int64         \n",
      " 20  ponds_nearest         9110 non-null   float64       \n",
      " 21  days_exposition       20518 non-null  float64       \n",
      "dtypes: bool(3), datetime64[ns](1), float64(11), int64(6), object(1)\n",
      "memory usage: 3.5+ MB\n"
     ]
    }
   ],
   "source": [
    "data.info()"
   ]
  },
  {
   "cell_type": "markdown",
   "metadata": {},
   "source": [
    "#### Проверены дубликаты"
   ]
  },
  {
   "cell_type": "code",
   "execution_count": 27,
   "metadata": {},
   "outputs": [
    {
     "data": {
      "text/plain": [
       "0"
      ]
     },
     "execution_count": 27,
     "metadata": {},
     "output_type": "execute_result"
    }
   ],
   "source": [
    "data.duplicated().sum()"
   ]
  },
  {
   "cell_type": "markdown",
   "metadata": {},
   "source": [
    "Явных дубликатов нет."
   ]
  },
  {
   "cell_type": "code",
   "execution_count": 28,
   "metadata": {},
   "outputs": [
    {
     "data": {
      "text/plain": [
       "array(['Бокситогорск', 'Волосово', 'Волхов', 'Всеволожск', 'Выборг',\n",
       "       'Высоцк', 'Гатчина', 'Зеленогорск', 'Ивангород', 'Каменногорск',\n",
       "       'Кингисепп', 'Кириши', 'Кировск', 'Колпино', 'Коммунар',\n",
       "       'Красное Село', 'Кронштадт', 'Кудрово', 'Лодейное Поле',\n",
       "       'Ломоносов', 'Луга', 'Любань', 'Мурино', 'Никольское',\n",
       "       'Новая Ладога', 'Отрадное', 'Павловск', 'Петергоф', 'Пикалёво',\n",
       "       'Подпорожье', 'Приморск', 'Приозерск', 'Пушкин', 'Санкт-Петербург',\n",
       "       'Светогорск', 'Сертолово', 'Сестрорецк', 'Сланцы', 'Сосновый Бор',\n",
       "       'Сясьстрой', 'Тихвин', 'Тосно', 'Шлиссельбург',\n",
       "       'городской поселок Большая Ижора', 'городской поселок Янино-1',\n",
       "       'городской посёлок Будогощь', 'городской посёлок Виллози',\n",
       "       'городской посёлок Лесогорский', 'городской посёлок Мга',\n",
       "       'городской посёлок Назия', 'городской посёлок Новоселье',\n",
       "       'городской посёлок Павлово', 'городской посёлок Рощино',\n",
       "       'городской посёлок Свирьстрой', 'городской посёлок Советский',\n",
       "       'городской посёлок Фёдоровское', 'городской посёлок Янино-1',\n",
       "       'деревня Агалатово', 'деревня Аро', 'деревня Батово',\n",
       "       'деревня Бегуницы', 'деревня Белогорка', 'деревня Большая Вруда',\n",
       "       'деревня Большая Пустомержа', 'деревня Большие Колпаны',\n",
       "       'деревня Большое Рейзино', 'деревня Большой Сабск', 'деревня Бор',\n",
       "       'деревня Борисова Грива', 'деревня Ваганово', 'деревня Вартемяги',\n",
       "       'деревня Вахнова Кара', 'деревня Выскатка', 'деревня Гарболово',\n",
       "       'деревня Глинка', 'деревня Горбунки', 'деревня Гостилицы',\n",
       "       'деревня Заклинье', 'деревня Заневка', 'деревня Зимитицы',\n",
       "       'деревня Извара', 'деревня Иссад', 'деревня Калитино',\n",
       "       'деревня Кальтино', 'деревня Камышовка', 'деревня Каськово',\n",
       "       'деревня Келози', 'деревня Кипень', 'деревня Кисельня',\n",
       "       'деревня Колтуши', 'деревня Коркино', 'деревня Котлы',\n",
       "       'деревня Кривко', 'деревня Кудрово', 'деревня Кузьмолово',\n",
       "       'деревня Курковицы', 'деревня Куровицы', 'деревня Куттузи',\n",
       "       'деревня Лаврики', 'деревня Лаголово', 'деревня Лампово',\n",
       "       'деревня Лесколово', 'деревня Лопухинка', 'деревня Лупполово',\n",
       "       'деревня Малая Романовка', 'деревня Малое Верево',\n",
       "       'деревня Малое Карлино', 'деревня Малые Колпаны',\n",
       "       'деревня Мануйлово', 'деревня Меньково', 'деревня Мины',\n",
       "       'деревня Мистолово', 'деревня Ненимяки', 'деревня Нижние Осельки',\n",
       "       'деревня Нижняя', 'деревня Низино', 'деревня Новое Девяткино',\n",
       "       'деревня Новолисино', 'деревня Нурма', 'деревня Оржицы',\n",
       "       'деревня Парицы', 'деревня Пельгора', 'деревня Пеники',\n",
       "       'деревня Пижма', 'деревня Пикколово', 'деревня Пудомяги',\n",
       "       'деревня Пустынка', 'деревня Пчева', 'деревня Рабитицы',\n",
       "       'деревня Разбегаево', 'деревня Раздолье', 'деревня Разметелево',\n",
       "       'деревня Рапполово', 'деревня Реброво', 'деревня Русско',\n",
       "       'деревня Сижно', 'деревня Снегирёвка', 'деревня Старая',\n",
       "       'деревня Старая Пустошь', 'деревня Старое Хинколово',\n",
       "       'деревня Старополье', 'деревня Старосиверская',\n",
       "       'деревня Старые Бегуницы', 'деревня Суоранда',\n",
       "       'деревня Сяськелево', 'деревня Тарасово', 'деревня Терпилицы',\n",
       "       'деревня Тихковицы', 'деревня Тойворово', 'деревня Торосово',\n",
       "       'деревня Торошковичи', 'деревня Трубников Бор',\n",
       "       'деревня Фалилеево', 'деревня Фёдоровское', 'деревня Хапо-Ое',\n",
       "       'деревня Хязельки', 'деревня Чудской Бор', 'деревня Шпаньково',\n",
       "       'деревня Щеглово', 'деревня Юкки', 'деревня Ялгино',\n",
       "       'деревня Яльгелево', 'деревня Ям-Тесово',\n",
       "       'коттеджный поселок Кивеннапа Север', 'коттеджный поселок Счастье',\n",
       "       'коттеджный посёлок Лесное', 'поселок Аннино', 'поселок Барышево',\n",
       "       'поселок Бугры', 'поселок Возрождение', 'поселок Войсковицы',\n",
       "       'поселок Володарское', 'поселок Гаврилово', 'поселок Гарболово',\n",
       "       'поселок Гладкое', 'поселок Глажево', 'поселок Глебычево',\n",
       "       'поселок Гончарово', 'поселок Громово', 'поселок Дружноселье',\n",
       "       'поселок Елизаветино', 'поселок Жилгородок', 'поселок Жилпосёлок',\n",
       "       'поселок Житково', 'поселок Заводской', 'поселок Запорожское',\n",
       "       'поселок Зимитицы', 'поселок Ильичёво', 'поселок Калитино',\n",
       "       'поселок Каложицы', 'поселок Кингисеппский', 'поселок Кирпичное',\n",
       "       'поселок Кобралово', 'поселок Кобринское', 'поселок Коммунары',\n",
       "       'поселок Коробицыно', 'поселок Котельский',\n",
       "       'поселок Красная Долина', 'поселок Красносельское',\n",
       "       'поселок Лесное', 'поселок Лисий Нос', 'поселок Лукаши',\n",
       "       'поселок Любань', 'поселок Мельниково', 'поселок Мичуринское',\n",
       "       'поселок Молодцово', 'поселок Мурино', 'поселок Новый Свет',\n",
       "       'поселок Новый Учхоз', 'поселок Оредеж',\n",
       "       'поселок Пансионат Зелёный Бор', 'поселок Первомайское',\n",
       "       'поселок Перово', 'поселок Петровское', 'поселок Победа',\n",
       "       'поселок Поляны', 'поселок Почап', 'поселок Починок',\n",
       "       'поселок Пушное', 'поселок Пчевжа', 'поселок Рабитицы',\n",
       "       'поселок Романовка', 'поселок Ромашки', 'поселок Рябово',\n",
       "       'поселок Севастьяново', 'поселок Селезнёво', 'поселок Сельцо',\n",
       "       'поселок Семиозерье', 'поселок Семрино', 'поселок Серебрянский',\n",
       "       'поселок Совхозный', 'поселок Старая Малукса',\n",
       "       'поселок Стеклянный', 'поселок Сумино', 'поселок Суходолье',\n",
       "       'поселок Тельмана', 'поселок Терволово', 'поселок Торковичи',\n",
       "       'поселок Тёсово-4', 'поселок Углово', 'поселок Усть-Луга',\n",
       "       'поселок Ушаки', 'поселок Цвелодубово', 'поселок Цвылёво',\n",
       "       'поселок городского типа Большая Ижора',\n",
       "       'поселок городского типа Вырица',\n",
       "       'поселок городского типа Дружная Горка',\n",
       "       'поселок городского типа Дубровка',\n",
       "       'поселок городского типа Ефимовский',\n",
       "       'поселок городского типа Кондратьево',\n",
       "       'поселок городского типа Красный Бор',\n",
       "       'поселок городского типа Кузьмоловский',\n",
       "       'поселок городского типа Лебяжье',\n",
       "       'поселок городского типа Лесогорский',\n",
       "       'поселок городского типа Назия',\n",
       "       'поселок городского типа Никольский',\n",
       "       'поселок городского типа Приладожский',\n",
       "       'поселок городского типа Рахья', 'поселок городского типа Рощино',\n",
       "       'поселок городского типа Рябово',\n",
       "       'поселок городского типа Синявино',\n",
       "       'поселок городского типа Советский',\n",
       "       'поселок городского типа Токсово',\n",
       "       'поселок городского типа Форносово',\n",
       "       'поселок городского типа имени Свердлова',\n",
       "       'поселок станции Вещево', 'поселок станции Корнево',\n",
       "       'поселок станции Лужайка', 'поселок станции Приветнинское',\n",
       "       'посёлок Александровская', 'посёлок Алексеевка', 'посёлок Аннино',\n",
       "       'посёлок Белоостров', 'посёлок Бугры', 'посёлок Возрождение',\n",
       "       'посёлок Войскорово', 'посёлок Высокоключевой',\n",
       "       'посёлок Гаврилово', 'посёлок Дзержинского', 'посёлок Жилгородок',\n",
       "       'посёлок Ильичёво', 'посёлок Кикерино', 'посёлок Кобралово',\n",
       "       'посёлок Коробицыно', 'посёлок Левашово', 'посёлок Ленинское',\n",
       "       'посёлок Лисий Нос', 'посёлок Мельниково', 'посёлок Металлострой',\n",
       "       'посёлок Мичуринское', 'посёлок Молодёжное', 'посёлок Мурино',\n",
       "       'посёлок Мыза-Ивановка', 'посёлок Новогорелово',\n",
       "       'посёлок Новый Свет', 'посёлок Пансионат Зелёный Бор',\n",
       "       'посёлок Парголово', 'посёлок Перово', 'посёлок Песочный',\n",
       "       'посёлок Петро-Славянка', 'посёлок Петровское',\n",
       "       'посёлок Платформа 69-й километр', 'посёлок Плодовое',\n",
       "       'посёлок Плоское', 'посёлок Победа', 'посёлок Поляны',\n",
       "       'посёлок Понтонный', 'посёлок Пригородный', 'посёлок Пудость',\n",
       "       'посёлок Репино', 'посёлок Ропша', 'посёлок Сапёрное',\n",
       "       'посёлок Сапёрный', 'посёлок Сосново', 'посёлок Старая Малукса',\n",
       "       'посёлок Стеклянный', 'посёлок Стрельна', 'посёлок Суйда',\n",
       "       'посёлок Сумино', 'посёлок Тельмана', 'посёлок Терволово',\n",
       "       'посёлок Торфяное', 'посёлок Усть-Ижора', 'посёлок Усть-Луга',\n",
       "       'посёлок Форт Красная Горка', 'посёлок Шугозеро', 'посёлок Шушары',\n",
       "       'посёлок Щеглово', 'посёлок городского типа Важины',\n",
       "       'посёлок городского типа Вознесенье',\n",
       "       'посёлок городского типа Вырица',\n",
       "       'посёлок городского типа Красный Бор',\n",
       "       'посёлок городского типа Кузнечное',\n",
       "       'посёлок городского типа Кузьмоловский',\n",
       "       'посёлок городского типа Лебяжье', 'посёлок городского типа Мга',\n",
       "       'посёлок городского типа Павлово',\n",
       "       'посёлок городского типа Рощино', 'посёлок городского типа Рябово',\n",
       "       'посёлок городского типа Сиверский',\n",
       "       'посёлок городского типа Тайцы', 'посёлок городского типа Токсово',\n",
       "       'посёлок городского типа Ульяновка',\n",
       "       'посёлок городского типа Форносово',\n",
       "       'посёлок городского типа имени Морозова',\n",
       "       'посёлок городского типа имени Свердлова',\n",
       "       'посёлок при железнодорожной станции Вещево',\n",
       "       'посёлок при железнодорожной станции Приветнинское',\n",
       "       'посёлок станции Громово', 'посёлок станции Свирь',\n",
       "       'садоводческое некоммерческое товарищество Лесная Поляна',\n",
       "       'садовое товарищество Новая Ропша',\n",
       "       'садовое товарищество Приладожский', 'садовое товарищество Рахья',\n",
       "       'садовое товарищество Садко', 'село Копорье', 'село Никольское',\n",
       "       'село Павлово', 'село Паша', 'село Путилово', 'село Рождествено',\n",
       "       'село Русско-Высоцкое', 'село Старая Ладога', 'село Шум', nan],\n",
       "      dtype=object)"
      ]
     },
     "execution_count": 28,
     "metadata": {},
     "output_type": "execute_result"
    }
   ],
   "source": [
    "data['locality_name'].sort_values().unique()"
   ]
  },
  {
   "cell_type": "code",
   "execution_count": 29,
   "metadata": {},
   "outputs": [
    {
     "data": {
      "text/plain": [
       "23334"
      ]
     },
     "execution_count": 29,
     "metadata": {},
     "output_type": "execute_result"
    }
   ],
   "source": [
    "data['locality_name'].duplicated().sum()"
   ]
  },
  {
   "cell_type": "code",
   "execution_count": 30,
   "metadata": {},
   "outputs": [
    {
     "data": {
      "text/plain": [
       "array(['БОКСИТОГОРСК', 'ВОЛОСОВО', 'ВОЛХОВ', 'ВСЕВОЛОЖСК', 'ВЫБОРГ',\n",
       "       'ВЫСОЦК', 'ГАТЧИНА', 'ГОРОДСКОЙ ПОСЕЛОК БОЛЬШАЯ ИЖОРА',\n",
       "       'ГОРОДСКОЙ ПОСЕЛОК БУДОГОЩЬ', 'ГОРОДСКОЙ ПОСЕЛОК ВИЛЛОЗИ',\n",
       "       'ГОРОДСКОЙ ПОСЕЛОК ЛЕСОГОРСКИЙ', 'ГОРОДСКОЙ ПОСЕЛОК МГА',\n",
       "       'ГОРОДСКОЙ ПОСЕЛОК НАЗИЯ', 'ГОРОДСКОЙ ПОСЕЛОК НОВОСЕЛЬЕ',\n",
       "       'ГОРОДСКОЙ ПОСЕЛОК ПАВЛОВО', 'ГОРОДСКОЙ ПОСЕЛОК РОЩИНО',\n",
       "       'ГОРОДСКОЙ ПОСЕЛОК СВИРЬСТРОЙ', 'ГОРОДСКОЙ ПОСЕЛОК СОВЕТСКИЙ',\n",
       "       'ГОРОДСКОЙ ПОСЕЛОК ФЕДОРОВСКОЕ', 'ГОРОДСКОЙ ПОСЕЛОК ЯНИНО-1',\n",
       "       'ДЕРЕВНЯ АГАЛАТОВО', 'ДЕРЕВНЯ АРО', 'ДЕРЕВНЯ БАТОВО',\n",
       "       'ДЕРЕВНЯ БЕГУНИЦЫ', 'ДЕРЕВНЯ БЕЛОГОРКА', 'ДЕРЕВНЯ БОЛЬШАЯ ВРУДА',\n",
       "       'ДЕРЕВНЯ БОЛЬШАЯ ПУСТОМЕРЖА', 'ДЕРЕВНЯ БОЛЬШИЕ КОЛПАНЫ',\n",
       "       'ДЕРЕВНЯ БОЛЬШОЕ РЕЙЗИНО', 'ДЕРЕВНЯ БОЛЬШОЙ САБСК', 'ДЕРЕВНЯ БОР',\n",
       "       'ДЕРЕВНЯ БОРИСОВА ГРИВА', 'ДЕРЕВНЯ ВАГАНОВО', 'ДЕРЕВНЯ ВАРТЕМЯГИ',\n",
       "       'ДЕРЕВНЯ ВАХНОВА КАРА', 'ДЕРЕВНЯ ВЫСКАТКА', 'ДЕРЕВНЯ ГАРБОЛОВО',\n",
       "       'ДЕРЕВНЯ ГЛИНКА', 'ДЕРЕВНЯ ГОРБУНКИ', 'ДЕРЕВНЯ ГОСТИЛИЦЫ',\n",
       "       'ДЕРЕВНЯ ЗАКЛИНЬЕ', 'ДЕРЕВНЯ ЗАНЕВКА', 'ДЕРЕВНЯ ЗИМИТИЦЫ',\n",
       "       'ДЕРЕВНЯ ИЗВАРА', 'ДЕРЕВНЯ ИССАД', 'ДЕРЕВНЯ КАЛИТИНО',\n",
       "       'ДЕРЕВНЯ КАЛЬТИНО', 'ДЕРЕВНЯ КАМЫШОВКА', 'ДЕРЕВНЯ КАСЬКОВО',\n",
       "       'ДЕРЕВНЯ КЕЛОЗИ', 'ДЕРЕВНЯ КИПЕНЬ', 'ДЕРЕВНЯ КИСЕЛЬНЯ',\n",
       "       'ДЕРЕВНЯ КОЛТУШИ', 'ДЕРЕВНЯ КОРКИНО', 'ДЕРЕВНЯ КОТЛЫ',\n",
       "       'ДЕРЕВНЯ КРИВКО', 'ДЕРЕВНЯ КУДРОВО', 'ДЕРЕВНЯ КУЗЬМОЛОВО',\n",
       "       'ДЕРЕВНЯ КУРКОВИЦЫ', 'ДЕРЕВНЯ КУРОВИЦЫ', 'ДЕРЕВНЯ КУТТУЗИ',\n",
       "       'ДЕРЕВНЯ ЛАВРИКИ', 'ДЕРЕВНЯ ЛАГОЛОВО', 'ДЕРЕВНЯ ЛАМПОВО',\n",
       "       'ДЕРЕВНЯ ЛЕСКОЛОВО', 'ДЕРЕВНЯ ЛОПУХИНКА', 'ДЕРЕВНЯ ЛУППОЛОВО',\n",
       "       'ДЕРЕВНЯ МАЛАЯ РОМАНОВКА', 'ДЕРЕВНЯ МАЛОЕ ВЕРЕВО',\n",
       "       'ДЕРЕВНЯ МАЛОЕ КАРЛИНО', 'ДЕРЕВНЯ МАЛЫЕ КОЛПАНЫ',\n",
       "       'ДЕРЕВНЯ МАНУЙЛОВО', 'ДЕРЕВНЯ МЕНЬКОВО', 'ДЕРЕВНЯ МИНЫ',\n",
       "       'ДЕРЕВНЯ МИСТОЛОВО', 'ДЕРЕВНЯ НЕНИМЯКИ', 'ДЕРЕВНЯ НИЖНИЕ ОСЕЛЬКИ',\n",
       "       'ДЕРЕВНЯ НИЖНЯЯ', 'ДЕРЕВНЯ НИЗИНО', 'ДЕРЕВНЯ НОВОЕ ДЕВЯТКИНО',\n",
       "       'ДЕРЕВНЯ НОВОЛИСИНО', 'ДЕРЕВНЯ НУРМА', 'ДЕРЕВНЯ ОРЖИЦЫ',\n",
       "       'ДЕРЕВНЯ ПАРИЦЫ', 'ДЕРЕВНЯ ПЕЛЬГОРА', 'ДЕРЕВНЯ ПЕНИКИ',\n",
       "       'ДЕРЕВНЯ ПИЖМА', 'ДЕРЕВНЯ ПИККОЛОВО', 'ДЕРЕВНЯ ПУДОМЯГИ',\n",
       "       'ДЕРЕВНЯ ПУСТЫНКА', 'ДЕРЕВНЯ ПЧЕВА', 'ДЕРЕВНЯ РАБИТИЦЫ',\n",
       "       'ДЕРЕВНЯ РАЗБЕГАЕВО', 'ДЕРЕВНЯ РАЗДОЛЬЕ', 'ДЕРЕВНЯ РАЗМЕТЕЛЕВО',\n",
       "       'ДЕРЕВНЯ РАППОЛОВО', 'ДЕРЕВНЯ РЕБРОВО', 'ДЕРЕВНЯ РУССКО',\n",
       "       'ДЕРЕВНЯ СИЖНО', 'ДЕРЕВНЯ СНЕГИРЕВКА', 'ДЕРЕВНЯ СТАРАЯ',\n",
       "       'ДЕРЕВНЯ СТАРАЯ ПУСТОШЬ', 'ДЕРЕВНЯ СТАРОЕ ХИНКОЛОВО',\n",
       "       'ДЕРЕВНЯ СТАРОПОЛЬЕ', 'ДЕРЕВНЯ СТАРОСИВЕРСКАЯ',\n",
       "       'ДЕРЕВНЯ СТАРЫЕ БЕГУНИЦЫ', 'ДЕРЕВНЯ СУОРАНДА',\n",
       "       'ДЕРЕВНЯ СЯСЬКЕЛЕВО', 'ДЕРЕВНЯ ТАРАСОВО', 'ДЕРЕВНЯ ТЕРПИЛИЦЫ',\n",
       "       'ДЕРЕВНЯ ТИХКОВИЦЫ', 'ДЕРЕВНЯ ТОЙВОРОВО', 'ДЕРЕВНЯ ТОРОСОВО',\n",
       "       'ДЕРЕВНЯ ТОРОШКОВИЧИ', 'ДЕРЕВНЯ ТРУБНИКОВ БОР',\n",
       "       'ДЕРЕВНЯ ФАЛИЛЕЕВО', 'ДЕРЕВНЯ ФЕДОРОВСКОЕ', 'ДЕРЕВНЯ ХАПО-ОЕ',\n",
       "       'ДЕРЕВНЯ ХЯЗЕЛЬКИ', 'ДЕРЕВНЯ ЧУДСКОЙ БОР', 'ДЕРЕВНЯ ШПАНЬКОВО',\n",
       "       'ДЕРЕВНЯ ЩЕГЛОВО', 'ДЕРЕВНЯ ЮККИ', 'ДЕРЕВНЯ ЯЛГИНО',\n",
       "       'ДЕРЕВНЯ ЯЛЬГЕЛЕВО', 'ДЕРЕВНЯ ЯМ-ТЕСОВО', 'ЗЕЛЕНОГОРСК',\n",
       "       'ИВАНГОРОД', 'КАМЕННОГОРСК', 'КИНГИСЕПП', 'КИРИШИ', 'КИРОВСК',\n",
       "       'КОЛПИНО', 'КОММУНАР', 'КОТТЕДЖНЫЙ ПОСЕЛОК КИВЕННАПА СЕВЕР',\n",
       "       'КОТТЕДЖНЫЙ ПОСЕЛОК ЛЕСНОЕ', 'КОТТЕДЖНЫЙ ПОСЕЛОК СЧАСТЬЕ',\n",
       "       'КРАСНОЕ СЕЛО', 'КРОНШТАДТ', 'КУДРОВО', 'ЛОДЕЙНОЕ ПОЛЕ',\n",
       "       'ЛОМОНОСОВ', 'ЛУГА', 'ЛЮБАНЬ', 'МУРИНО', 'НИКОЛЬСКОЕ',\n",
       "       'НОВАЯ ЛАДОГА', 'ОТРАДНОЕ', 'ПАВЛОВСК', 'ПЕТЕРГОФ', 'ПИКАЛЕВО',\n",
       "       'ПОДПОРОЖЬЕ', 'ПОСЕЛОК АЛЕКСАНДРОВСКАЯ', 'ПОСЕЛОК АЛЕКСЕЕВКА',\n",
       "       'ПОСЕЛОК АННИНО', 'ПОСЕЛОК БАРЫШЕВО', 'ПОСЕЛОК БЕЛООСТРОВ',\n",
       "       'ПОСЕЛОК БУГРЫ', 'ПОСЕЛОК ВОЗРОЖДЕНИЕ', 'ПОСЕЛОК ВОЙСКОВИЦЫ',\n",
       "       'ПОСЕЛОК ВОЙСКОРОВО', 'ПОСЕЛОК ВОЛОДАРСКОЕ',\n",
       "       'ПОСЕЛОК ВЫСОКОКЛЮЧЕВОЙ', 'ПОСЕЛОК ГАВРИЛОВО', 'ПОСЕЛОК ГАРБОЛОВО',\n",
       "       'ПОСЕЛОК ГЛАДКОЕ', 'ПОСЕЛОК ГЛАЖЕВО', 'ПОСЕЛОК ГЛЕБЫЧЕВО',\n",
       "       'ПОСЕЛОК ГОНЧАРОВО', 'ПОСЕЛОК ГОРОДСКОГО ТИПА БОЛЬШАЯ ИЖОРА',\n",
       "       'ПОСЕЛОК ГОРОДСКОГО ТИПА ВАЖИНЫ',\n",
       "       'ПОСЕЛОК ГОРОДСКОГО ТИПА ВОЗНЕСЕНЬЕ',\n",
       "       'ПОСЕЛОК ГОРОДСКОГО ТИПА ВЫРИЦА',\n",
       "       'ПОСЕЛОК ГОРОДСКОГО ТИПА ДРУЖНАЯ ГОРКА',\n",
       "       'ПОСЕЛОК ГОРОДСКОГО ТИПА ДУБРОВКА',\n",
       "       'ПОСЕЛОК ГОРОДСКОГО ТИПА ЕФИМОВСКИЙ',\n",
       "       'ПОСЕЛОК ГОРОДСКОГО ТИПА ИМЕНИ МОРОЗОВА',\n",
       "       'ПОСЕЛОК ГОРОДСКОГО ТИПА ИМЕНИ СВЕРДЛОВА',\n",
       "       'ПОСЕЛОК ГОРОДСКОГО ТИПА КОНДРАТЬЕВО',\n",
       "       'ПОСЕЛОК ГОРОДСКОГО ТИПА КРАСНЫЙ БОР',\n",
       "       'ПОСЕЛОК ГОРОДСКОГО ТИПА КУЗНЕЧНОЕ',\n",
       "       'ПОСЕЛОК ГОРОДСКОГО ТИПА КУЗЬМОЛОВСКИЙ',\n",
       "       'ПОСЕЛОК ГОРОДСКОГО ТИПА ЛЕБЯЖЬЕ',\n",
       "       'ПОСЕЛОК ГОРОДСКОГО ТИПА ЛЕСОГОРСКИЙ',\n",
       "       'ПОСЕЛОК ГОРОДСКОГО ТИПА МГА', 'ПОСЕЛОК ГОРОДСКОГО ТИПА НАЗИЯ',\n",
       "       'ПОСЕЛОК ГОРОДСКОГО ТИПА НИКОЛЬСКИЙ',\n",
       "       'ПОСЕЛОК ГОРОДСКОГО ТИПА ПАВЛОВО',\n",
       "       'ПОСЕЛОК ГОРОДСКОГО ТИПА ПРИЛАДОЖСКИЙ',\n",
       "       'ПОСЕЛОК ГОРОДСКОГО ТИПА РАХЬЯ', 'ПОСЕЛОК ГОРОДСКОГО ТИПА РОЩИНО',\n",
       "       'ПОСЕЛОК ГОРОДСКОГО ТИПА РЯБОВО',\n",
       "       'ПОСЕЛОК ГОРОДСКОГО ТИПА СИВЕРСКИЙ',\n",
       "       'ПОСЕЛОК ГОРОДСКОГО ТИПА СИНЯВИНО',\n",
       "       'ПОСЕЛОК ГОРОДСКОГО ТИПА СОВЕТСКИЙ',\n",
       "       'ПОСЕЛОК ГОРОДСКОГО ТИПА ТАЙЦЫ', 'ПОСЕЛОК ГОРОДСКОГО ТИПА ТОКСОВО',\n",
       "       'ПОСЕЛОК ГОРОДСКОГО ТИПА УЛЬЯНОВКА',\n",
       "       'ПОСЕЛОК ГОРОДСКОГО ТИПА ФОРНОСОВО', 'ПОСЕЛОК ГРОМОВО',\n",
       "       'ПОСЕЛОК ДЗЕРЖИНСКОГО', 'ПОСЕЛОК ДРУЖНОСЕЛЬЕ',\n",
       "       'ПОСЕЛОК ЕЛИЗАВЕТИНО', 'ПОСЕЛОК ЖИЛГОРОДОК', 'ПОСЕЛОК ЖИЛПОСЕЛОК',\n",
       "       'ПОСЕЛОК ЖИТКОВО', 'ПОСЕЛОК ЗАВОДСКОЙ', 'ПОСЕЛОК ЗАПОРОЖСКОЕ',\n",
       "       'ПОСЕЛОК ЗИМИТИЦЫ', 'ПОСЕЛОК ИЛЬИЧЕВО', 'ПОСЕЛОК КАЛИТИНО',\n",
       "       'ПОСЕЛОК КАЛОЖИЦЫ', 'ПОСЕЛОК КИКЕРИНО', 'ПОСЕЛОК КИНГИСЕППСКИЙ',\n",
       "       'ПОСЕЛОК КИРПИЧНОЕ', 'ПОСЕЛОК КОБРАЛОВО', 'ПОСЕЛОК КОБРИНСКОЕ',\n",
       "       'ПОСЕЛОК КОММУНАРЫ', 'ПОСЕЛОК КОРОБИЦЫНО', 'ПОСЕЛОК КОТЕЛЬСКИЙ',\n",
       "       'ПОСЕЛОК КРАСНАЯ ДОЛИНА', 'ПОСЕЛОК КРАСНОСЕЛЬСКОЕ',\n",
       "       'ПОСЕЛОК ЛЕВАШОВО', 'ПОСЕЛОК ЛЕНИНСКОЕ', 'ПОСЕЛОК ЛЕСНОЕ',\n",
       "       'ПОСЕЛОК ЛИСИЙ НОС', 'ПОСЕЛОК ЛУКАШИ', 'ПОСЕЛОК ЛЮБАНЬ',\n",
       "       'ПОСЕЛОК МЕЛЬНИКОВО', 'ПОСЕЛОК МЕТАЛЛОСТРОЙ',\n",
       "       'ПОСЕЛОК МИЧУРИНСКОЕ', 'ПОСЕЛОК МОЛОДЕЖНОЕ', 'ПОСЕЛОК МОЛОДЦОВО',\n",
       "       'ПОСЕЛОК МУРИНО', 'ПОСЕЛОК МЫЗА-ИВАНОВКА', 'ПОСЕЛОК НОВОГОРЕЛОВО',\n",
       "       'ПОСЕЛОК НОВЫЙ СВЕТ', 'ПОСЕЛОК НОВЫЙ УЧХОЗ', 'ПОСЕЛОК ОРЕДЕЖ',\n",
       "       'ПОСЕЛОК ПАНСИОНАТ ЗЕЛЕНЫЙ БОР', 'ПОСЕЛОК ПАРГОЛОВО',\n",
       "       'ПОСЕЛОК ПЕРВОМАЙСКОЕ', 'ПОСЕЛОК ПЕРОВО', 'ПОСЕЛОК ПЕСОЧНЫЙ',\n",
       "       'ПОСЕЛОК ПЕТРО-СЛАВЯНКА', 'ПОСЕЛОК ПЕТРОВСКОЕ',\n",
       "       'ПОСЕЛОК ПЛАТФОРМА 69-Й КИЛОМЕТР', 'ПОСЕЛОК ПЛОДОВОЕ',\n",
       "       'ПОСЕЛОК ПЛОСКОЕ', 'ПОСЕЛОК ПОБЕДА', 'ПОСЕЛОК ПОЛЯНЫ',\n",
       "       'ПОСЕЛОК ПОНТОННЫЙ', 'ПОСЕЛОК ПОЧАП', 'ПОСЕЛОК ПОЧИНОК',\n",
       "       'ПОСЕЛОК ПРИ ЖЕЛЕЗНОДОРОЖНОЙ СТАНЦИИ ВЕЩЕВО',\n",
       "       'ПОСЕЛОК ПРИ ЖЕЛЕЗНОДОРОЖНОЙ СТАНЦИИ ПРИВЕТНИНСКОЕ',\n",
       "       'ПОСЕЛОК ПРИГОРОДНЫЙ', 'ПОСЕЛОК ПУДОСТЬ', 'ПОСЕЛОК ПУШНОЕ',\n",
       "       'ПОСЕЛОК ПЧЕВЖА', 'ПОСЕЛОК РАБИТИЦЫ', 'ПОСЕЛОК РЕПИНО',\n",
       "       'ПОСЕЛОК РОМАНОВКА', 'ПОСЕЛОК РОМАШКИ', 'ПОСЕЛОК РОПША',\n",
       "       'ПОСЕЛОК РЯБОВО', 'ПОСЕЛОК САПЕРНОЕ', 'ПОСЕЛОК САПЕРНЫЙ',\n",
       "       'ПОСЕЛОК СЕВАСТЬЯНОВО', 'ПОСЕЛОК СЕЛЕЗНЕВО', 'ПОСЕЛОК СЕЛЬЦО',\n",
       "       'ПОСЕЛОК СЕМИОЗЕРЬЕ', 'ПОСЕЛОК СЕМРИНО', 'ПОСЕЛОК СЕРЕБРЯНСКИЙ',\n",
       "       'ПОСЕЛОК СОВХОЗНЫЙ', 'ПОСЕЛОК СОСНОВО', 'ПОСЕЛОК СТАНЦИИ ВЕЩЕВО',\n",
       "       'ПОСЕЛОК СТАНЦИИ ГРОМОВО', 'ПОСЕЛОК СТАНЦИИ КОРНЕВО',\n",
       "       'ПОСЕЛОК СТАНЦИИ ЛУЖАЙКА', 'ПОСЕЛОК СТАНЦИИ ПРИВЕТНИНСКОЕ',\n",
       "       'ПОСЕЛОК СТАНЦИИ СВИРЬ', 'ПОСЕЛОК СТАРАЯ МАЛУКСА',\n",
       "       'ПОСЕЛОК СТЕКЛЯННЫЙ', 'ПОСЕЛОК СТРЕЛЬНА', 'ПОСЕЛОК СУЙДА',\n",
       "       'ПОСЕЛОК СУМИНО', 'ПОСЕЛОК СУХОДОЛЬЕ', 'ПОСЕЛОК ТЕЛЬМАНА',\n",
       "       'ПОСЕЛОК ТЕРВОЛОВО', 'ПОСЕЛОК ТЕСОВО-4', 'ПОСЕЛОК ТОРКОВИЧИ',\n",
       "       'ПОСЕЛОК ТОРФЯНОЕ', 'ПОСЕЛОК УГЛОВО', 'ПОСЕЛОК УСТЬ-ИЖОРА',\n",
       "       'ПОСЕЛОК УСТЬ-ЛУГА', 'ПОСЕЛОК УШАКИ', 'ПОСЕЛОК ФОРТ КРАСНАЯ ГОРКА',\n",
       "       'ПОСЕЛОК ЦВЕЛОДУБОВО', 'ПОСЕЛОК ЦВЫЛЕВО', 'ПОСЕЛОК ШУГОЗЕРО',\n",
       "       'ПОСЕЛОК ШУШАРЫ', 'ПОСЕЛОК ЩЕГЛОВО', 'ПРИМОРСК', 'ПРИОЗЕРСК',\n",
       "       'ПУШКИН',\n",
       "       'САДОВОДЧЕСКОЕ НЕКОММЕРЧЕСКОЕ ТОВАРИЩЕСТВО ЛЕСНАЯ ПОЛЯНА',\n",
       "       'САДОВОЕ ТОВАРИЩЕСТВО НОВАЯ РОПША',\n",
       "       'САДОВОЕ ТОВАРИЩЕСТВО ПРИЛАДОЖСКИЙ', 'САДОВОЕ ТОВАРИЩЕСТВО РАХЬЯ',\n",
       "       'САДОВОЕ ТОВАРИЩЕСТВО САДКО', 'САНКТ-ПЕТЕРБУРГ', 'СВЕТОГОРСК',\n",
       "       'СЕЛО КОПОРЬЕ', 'СЕЛО НИКОЛЬСКОЕ', 'СЕЛО ПАВЛОВО', 'СЕЛО ПАША',\n",
       "       'СЕЛО ПУТИЛОВО', 'СЕЛО РОЖДЕСТВЕНО', 'СЕЛО РУССКО-ВЫСОЦКОЕ',\n",
       "       'СЕЛО СТАРАЯ ЛАДОГА', 'СЕЛО ШУМ', 'СЕРТОЛОВО', 'СЕСТРОРЕЦК',\n",
       "       'СЛАНЦЫ', 'СОСНОВЫЙ БОР', 'СЯСЬСТРОЙ', 'ТИХВИН', 'ТОСНО',\n",
       "       'ШЛИССЕЛЬБУРГ', nan], dtype=object)"
      ]
     },
     "execution_count": 30,
     "metadata": {},
     "output_type": "execute_result"
    }
   ],
   "source": [
    "# Заменим буку ё на е, чтобы наименования не отличались из-за нее:\n",
    "data['locality_name'] = data['locality_name'].str.replace('ё', 'е')\n",
    "# Приведем все наименования к верхнему регистру, чтобы не было разночтений:\n",
    "data['locality_name'] = data['locality_name'].str.upper()\n",
    "\n",
    "data['locality_name'].sort_values().unique()"
   ]
  },
  {
   "cell_type": "code",
   "execution_count": 31,
   "metadata": {},
   "outputs": [
    {
     "data": {
      "text/plain": [
       "23368"
      ]
     },
     "execution_count": 31,
     "metadata": {},
     "output_type": "execute_result"
    }
   ],
   "source": [
    "data['locality_name'].duplicated().sum()"
   ]
  },
  {
   "cell_type": "markdown",
   "metadata": {},
   "source": [
    "Приведены к общему виду уникальные значения среди населенных пунктов."
   ]
  },
  {
   "cell_type": "markdown",
   "metadata": {},
   "source": [
    "### Выводы по разделу 2:\n",
    "1. Переименованы столбцы таблицы: cityCenters_nearest': 'city_centers_nearest', \n",
    "                            'parks_around3000': 'parks_around_3000', \n",
    "                            'ponds_around3000': 'ponds_around_3000\n",
    "1. По высоте потолков ceiling_height пропуски и значения выше 4.1 (9195 и 49 строк) заполнены медианным значением 2.65 м.\n",
    "2. По жилой площади living_area 1903 пустых значения заполнены медианным значением в зависимости от количества комнат в квартире.\n",
    "3. По флагу апартаменты is_apartment значения переведены в булевы. 1-апартаменты, 0-нет.\n",
    "4. По балконам balcony пропуски (11519 строк) приравнены к отсутствию балкона.\n",
    "5. Не скорректированы значительные пропуски по:\n",
    "- kitchen_area: 2278 пропусков (нет разумной аьтернативы);\n",
    "- картографические данные: airports_nearest: 5542 пропусков; city_centers_nearest: 5519 пропусков; parks_around_3000: 5518 пропусков; parks_nearest: 15620 пропусков; ponds_around_3000: 5518 пропусков; ponds_nearest: 14589 пропусков.\n",
    "6. Количество дней публикации объявления days_exposition: 3181 пропусков. \n",
    "Баг-репорт: возможно, произошел сбой при выгрузке по столбцу days_exposition, поскольку значения NaN по 3181 строкам, хотя с токи зрения выгрузки они не могут отсутствовать. Возможно, такое значение стоит для объявлений, которые удалили в день публикации.\n",
    "7. Заменен формат с вещественного на дату по 'first_day_exposition'\n",
    "8. Явных дубликатов не было.\n",
    "9. Приведены к общему виду уникальные значения среди населенных пунктов по столбцу locality_name\n"
   ]
  },
  {
   "cell_type": "markdown",
   "metadata": {},
   "source": [
    "## Посчитаны и добавлены в таблицу новые столбцы"
   ]
  },
  {
   "cell_type": "markdown",
   "metadata": {},
   "source": [
    "### Добавим столбец с ценой за 1м²"
   ]
  },
  {
   "cell_type": "code",
   "execution_count": 32,
   "metadata": {},
   "outputs": [
    {
     "data": {
      "text/html": [
       "<div>\n",
       "<style scoped>\n",
       "    .dataframe tbody tr th:only-of-type {\n",
       "        vertical-align: middle;\n",
       "    }\n",
       "\n",
       "    .dataframe tbody tr th {\n",
       "        vertical-align: top;\n",
       "    }\n",
       "\n",
       "    .dataframe thead th {\n",
       "        text-align: right;\n",
       "    }\n",
       "</style>\n",
       "<table border=\"1\" class=\"dataframe\">\n",
       "  <thead>\n",
       "    <tr style=\"text-align: right;\">\n",
       "      <th></th>\n",
       "      <th>total_images</th>\n",
       "      <th>last_price</th>\n",
       "      <th>total_area</th>\n",
       "      <th>first_day_exposition</th>\n",
       "      <th>rooms</th>\n",
       "      <th>ceiling_height</th>\n",
       "      <th>floors_total</th>\n",
       "      <th>living_area</th>\n",
       "      <th>floor</th>\n",
       "      <th>is_apartment</th>\n",
       "      <th>studio</th>\n",
       "      <th>open_plan</th>\n",
       "      <th>kitchen_area</th>\n",
       "      <th>balcony</th>\n",
       "      <th>locality_name</th>\n",
       "      <th>airports_nearest</th>\n",
       "      <th>city_centers_nearest</th>\n",
       "      <th>parks_around_3000</th>\n",
       "      <th>parks_nearest</th>\n",
       "      <th>ponds_around_3000</th>\n",
       "      <th>ponds_nearest</th>\n",
       "      <th>days_exposition</th>\n",
       "      <th>price_per_square_meter</th>\n",
       "    </tr>\n",
       "  </thead>\n",
       "  <tbody>\n",
       "    <tr>\n",
       "      <th>0</th>\n",
       "      <td>20</td>\n",
       "      <td>13000000.0</td>\n",
       "      <td>108.0</td>\n",
       "      <td>2019-03-07</td>\n",
       "      <td>3</td>\n",
       "      <td>2.70</td>\n",
       "      <td>16.0</td>\n",
       "      <td>51.0</td>\n",
       "      <td>8</td>\n",
       "      <td>True</td>\n",
       "      <td>False</td>\n",
       "      <td>False</td>\n",
       "      <td>25.0</td>\n",
       "      <td>0</td>\n",
       "      <td>САНКТ-ПЕТЕРБУРГ</td>\n",
       "      <td>18863.0</td>\n",
       "      <td>16028.0</td>\n",
       "      <td>1</td>\n",
       "      <td>482.0</td>\n",
       "      <td>2</td>\n",
       "      <td>755.0</td>\n",
       "      <td>NaN</td>\n",
       "      <td>120370.0</td>\n",
       "    </tr>\n",
       "    <tr>\n",
       "      <th>1</th>\n",
       "      <td>7</td>\n",
       "      <td>3350000.0</td>\n",
       "      <td>40.4</td>\n",
       "      <td>2018-12-04</td>\n",
       "      <td>1</td>\n",
       "      <td>2.65</td>\n",
       "      <td>11.0</td>\n",
       "      <td>18.6</td>\n",
       "      <td>1</td>\n",
       "      <td>True</td>\n",
       "      <td>False</td>\n",
       "      <td>False</td>\n",
       "      <td>11.0</td>\n",
       "      <td>2</td>\n",
       "      <td>ПОСЕЛОК ШУШАРЫ</td>\n",
       "      <td>12817.0</td>\n",
       "      <td>18603.0</td>\n",
       "      <td>0</td>\n",
       "      <td>NaN</td>\n",
       "      <td>0</td>\n",
       "      <td>NaN</td>\n",
       "      <td>81.0</td>\n",
       "      <td>82921.0</td>\n",
       "    </tr>\n",
       "    <tr>\n",
       "      <th>2</th>\n",
       "      <td>10</td>\n",
       "      <td>5196000.0</td>\n",
       "      <td>56.0</td>\n",
       "      <td>2015-08-20</td>\n",
       "      <td>2</td>\n",
       "      <td>2.65</td>\n",
       "      <td>5.0</td>\n",
       "      <td>34.3</td>\n",
       "      <td>4</td>\n",
       "      <td>True</td>\n",
       "      <td>False</td>\n",
       "      <td>False</td>\n",
       "      <td>8.3</td>\n",
       "      <td>0</td>\n",
       "      <td>САНКТ-ПЕТЕРБУРГ</td>\n",
       "      <td>21741.0</td>\n",
       "      <td>13933.0</td>\n",
       "      <td>1</td>\n",
       "      <td>90.0</td>\n",
       "      <td>2</td>\n",
       "      <td>574.0</td>\n",
       "      <td>558.0</td>\n",
       "      <td>92786.0</td>\n",
       "    </tr>\n",
       "    <tr>\n",
       "      <th>3</th>\n",
       "      <td>0</td>\n",
       "      <td>64900000.0</td>\n",
       "      <td>159.0</td>\n",
       "      <td>2015-07-24</td>\n",
       "      <td>3</td>\n",
       "      <td>2.65</td>\n",
       "      <td>14.0</td>\n",
       "      <td>45.0</td>\n",
       "      <td>9</td>\n",
       "      <td>True</td>\n",
       "      <td>False</td>\n",
       "      <td>False</td>\n",
       "      <td>NaN</td>\n",
       "      <td>0</td>\n",
       "      <td>САНКТ-ПЕТЕРБУРГ</td>\n",
       "      <td>28098.0</td>\n",
       "      <td>6800.0</td>\n",
       "      <td>2</td>\n",
       "      <td>84.0</td>\n",
       "      <td>3</td>\n",
       "      <td>234.0</td>\n",
       "      <td>424.0</td>\n",
       "      <td>408176.0</td>\n",
       "    </tr>\n",
       "    <tr>\n",
       "      <th>4</th>\n",
       "      <td>2</td>\n",
       "      <td>10000000.0</td>\n",
       "      <td>100.0</td>\n",
       "      <td>2018-06-19</td>\n",
       "      <td>2</td>\n",
       "      <td>3.03</td>\n",
       "      <td>14.0</td>\n",
       "      <td>32.0</td>\n",
       "      <td>13</td>\n",
       "      <td>True</td>\n",
       "      <td>False</td>\n",
       "      <td>False</td>\n",
       "      <td>41.0</td>\n",
       "      <td>0</td>\n",
       "      <td>САНКТ-ПЕТЕРБУРГ</td>\n",
       "      <td>31856.0</td>\n",
       "      <td>8098.0</td>\n",
       "      <td>2</td>\n",
       "      <td>112.0</td>\n",
       "      <td>1</td>\n",
       "      <td>48.0</td>\n",
       "      <td>121.0</td>\n",
       "      <td>100000.0</td>\n",
       "    </tr>\n",
       "  </tbody>\n",
       "</table>\n",
       "</div>"
      ],
      "text/plain": [
       "   total_images  last_price  total_area first_day_exposition  rooms  \\\n",
       "0            20  13000000.0       108.0           2019-03-07      3   \n",
       "1             7   3350000.0        40.4           2018-12-04      1   \n",
       "2            10   5196000.0        56.0           2015-08-20      2   \n",
       "3             0  64900000.0       159.0           2015-07-24      3   \n",
       "4             2  10000000.0       100.0           2018-06-19      2   \n",
       "\n",
       "   ceiling_height  floors_total  living_area  floor  is_apartment  studio  \\\n",
       "0            2.70          16.0         51.0      8          True   False   \n",
       "1            2.65          11.0         18.6      1          True   False   \n",
       "2            2.65           5.0         34.3      4          True   False   \n",
       "3            2.65          14.0         45.0      9          True   False   \n",
       "4            3.03          14.0         32.0     13          True   False   \n",
       "\n",
       "   open_plan  kitchen_area  balcony    locality_name  airports_nearest  \\\n",
       "0      False          25.0        0  САНКТ-ПЕТЕРБУРГ           18863.0   \n",
       "1      False          11.0        2   ПОСЕЛОК ШУШАРЫ           12817.0   \n",
       "2      False           8.3        0  САНКТ-ПЕТЕРБУРГ           21741.0   \n",
       "3      False           NaN        0  САНКТ-ПЕТЕРБУРГ           28098.0   \n",
       "4      False          41.0        0  САНКТ-ПЕТЕРБУРГ           31856.0   \n",
       "\n",
       "   city_centers_nearest  parks_around_3000  parks_nearest  ponds_around_3000  \\\n",
       "0               16028.0                  1          482.0                  2   \n",
       "1               18603.0                  0            NaN                  0   \n",
       "2               13933.0                  1           90.0                  2   \n",
       "3                6800.0                  2           84.0                  3   \n",
       "4                8098.0                  2          112.0                  1   \n",
       "\n",
       "   ponds_nearest  days_exposition  price_per_square_meter  \n",
       "0          755.0              NaN                120370.0  \n",
       "1            NaN             81.0                 82921.0  \n",
       "2          574.0            558.0                 92786.0  \n",
       "3          234.0            424.0                408176.0  \n",
       "4           48.0            121.0                100000.0  "
      ]
     },
     "execution_count": 32,
     "metadata": {},
     "output_type": "execute_result"
    }
   ],
   "source": [
    "data['price_per_square_meter'] = (data['last_price'] / data['total_area']).round(0)\n",
    "data.head()"
   ]
  },
  {
   "cell_type": "markdown",
   "metadata": {},
   "source": [
    "### Добавим столбцы с днем недели/ месяцем/ годом публикации объявления"
   ]
  },
  {
   "cell_type": "code",
   "execution_count": 33,
   "metadata": {},
   "outputs": [
    {
     "data": {
      "text/html": [
       "<div>\n",
       "<style scoped>\n",
       "    .dataframe tbody tr th:only-of-type {\n",
       "        vertical-align: middle;\n",
       "    }\n",
       "\n",
       "    .dataframe tbody tr th {\n",
       "        vertical-align: top;\n",
       "    }\n",
       "\n",
       "    .dataframe thead th {\n",
       "        text-align: right;\n",
       "    }\n",
       "</style>\n",
       "<table border=\"1\" class=\"dataframe\">\n",
       "  <thead>\n",
       "    <tr style=\"text-align: right;\">\n",
       "      <th></th>\n",
       "      <th>total_images</th>\n",
       "      <th>last_price</th>\n",
       "      <th>total_area</th>\n",
       "      <th>first_day_exposition</th>\n",
       "      <th>rooms</th>\n",
       "      <th>ceiling_height</th>\n",
       "      <th>floors_total</th>\n",
       "      <th>living_area</th>\n",
       "      <th>floor</th>\n",
       "      <th>is_apartment</th>\n",
       "      <th>studio</th>\n",
       "      <th>open_plan</th>\n",
       "      <th>kitchen_area</th>\n",
       "      <th>balcony</th>\n",
       "      <th>locality_name</th>\n",
       "      <th>airports_nearest</th>\n",
       "      <th>city_centers_nearest</th>\n",
       "      <th>parks_around_3000</th>\n",
       "      <th>parks_nearest</th>\n",
       "      <th>ponds_around_3000</th>\n",
       "      <th>ponds_nearest</th>\n",
       "      <th>days_exposition</th>\n",
       "      <th>price_per_square_meter</th>\n",
       "      <th>week_day_exposition</th>\n",
       "      <th>month_exposition</th>\n",
       "      <th>year_exposition</th>\n",
       "    </tr>\n",
       "  </thead>\n",
       "  <tbody>\n",
       "    <tr>\n",
       "      <th>0</th>\n",
       "      <td>20</td>\n",
       "      <td>13000000.0</td>\n",
       "      <td>108.0</td>\n",
       "      <td>2019-03-07</td>\n",
       "      <td>3</td>\n",
       "      <td>2.70</td>\n",
       "      <td>16.0</td>\n",
       "      <td>51.0</td>\n",
       "      <td>8</td>\n",
       "      <td>True</td>\n",
       "      <td>False</td>\n",
       "      <td>False</td>\n",
       "      <td>25.0</td>\n",
       "      <td>0</td>\n",
       "      <td>САНКТ-ПЕТЕРБУРГ</td>\n",
       "      <td>18863.0</td>\n",
       "      <td>16028.0</td>\n",
       "      <td>1</td>\n",
       "      <td>482.0</td>\n",
       "      <td>2</td>\n",
       "      <td>755.0</td>\n",
       "      <td>NaN</td>\n",
       "      <td>120370.0</td>\n",
       "      <td>3</td>\n",
       "      <td>3</td>\n",
       "      <td>2019</td>\n",
       "    </tr>\n",
       "    <tr>\n",
       "      <th>1</th>\n",
       "      <td>7</td>\n",
       "      <td>3350000.0</td>\n",
       "      <td>40.4</td>\n",
       "      <td>2018-12-04</td>\n",
       "      <td>1</td>\n",
       "      <td>2.65</td>\n",
       "      <td>11.0</td>\n",
       "      <td>18.6</td>\n",
       "      <td>1</td>\n",
       "      <td>True</td>\n",
       "      <td>False</td>\n",
       "      <td>False</td>\n",
       "      <td>11.0</td>\n",
       "      <td>2</td>\n",
       "      <td>ПОСЕЛОК ШУШАРЫ</td>\n",
       "      <td>12817.0</td>\n",
       "      <td>18603.0</td>\n",
       "      <td>0</td>\n",
       "      <td>NaN</td>\n",
       "      <td>0</td>\n",
       "      <td>NaN</td>\n",
       "      <td>81.0</td>\n",
       "      <td>82921.0</td>\n",
       "      <td>1</td>\n",
       "      <td>12</td>\n",
       "      <td>2018</td>\n",
       "    </tr>\n",
       "    <tr>\n",
       "      <th>2</th>\n",
       "      <td>10</td>\n",
       "      <td>5196000.0</td>\n",
       "      <td>56.0</td>\n",
       "      <td>2015-08-20</td>\n",
       "      <td>2</td>\n",
       "      <td>2.65</td>\n",
       "      <td>5.0</td>\n",
       "      <td>34.3</td>\n",
       "      <td>4</td>\n",
       "      <td>True</td>\n",
       "      <td>False</td>\n",
       "      <td>False</td>\n",
       "      <td>8.3</td>\n",
       "      <td>0</td>\n",
       "      <td>САНКТ-ПЕТЕРБУРГ</td>\n",
       "      <td>21741.0</td>\n",
       "      <td>13933.0</td>\n",
       "      <td>1</td>\n",
       "      <td>90.0</td>\n",
       "      <td>2</td>\n",
       "      <td>574.0</td>\n",
       "      <td>558.0</td>\n",
       "      <td>92786.0</td>\n",
       "      <td>3</td>\n",
       "      <td>8</td>\n",
       "      <td>2015</td>\n",
       "    </tr>\n",
       "    <tr>\n",
       "      <th>3</th>\n",
       "      <td>0</td>\n",
       "      <td>64900000.0</td>\n",
       "      <td>159.0</td>\n",
       "      <td>2015-07-24</td>\n",
       "      <td>3</td>\n",
       "      <td>2.65</td>\n",
       "      <td>14.0</td>\n",
       "      <td>45.0</td>\n",
       "      <td>9</td>\n",
       "      <td>True</td>\n",
       "      <td>False</td>\n",
       "      <td>False</td>\n",
       "      <td>NaN</td>\n",
       "      <td>0</td>\n",
       "      <td>САНКТ-ПЕТЕРБУРГ</td>\n",
       "      <td>28098.0</td>\n",
       "      <td>6800.0</td>\n",
       "      <td>2</td>\n",
       "      <td>84.0</td>\n",
       "      <td>3</td>\n",
       "      <td>234.0</td>\n",
       "      <td>424.0</td>\n",
       "      <td>408176.0</td>\n",
       "      <td>4</td>\n",
       "      <td>7</td>\n",
       "      <td>2015</td>\n",
       "    </tr>\n",
       "    <tr>\n",
       "      <th>4</th>\n",
       "      <td>2</td>\n",
       "      <td>10000000.0</td>\n",
       "      <td>100.0</td>\n",
       "      <td>2018-06-19</td>\n",
       "      <td>2</td>\n",
       "      <td>3.03</td>\n",
       "      <td>14.0</td>\n",
       "      <td>32.0</td>\n",
       "      <td>13</td>\n",
       "      <td>True</td>\n",
       "      <td>False</td>\n",
       "      <td>False</td>\n",
       "      <td>41.0</td>\n",
       "      <td>0</td>\n",
       "      <td>САНКТ-ПЕТЕРБУРГ</td>\n",
       "      <td>31856.0</td>\n",
       "      <td>8098.0</td>\n",
       "      <td>2</td>\n",
       "      <td>112.0</td>\n",
       "      <td>1</td>\n",
       "      <td>48.0</td>\n",
       "      <td>121.0</td>\n",
       "      <td>100000.0</td>\n",
       "      <td>1</td>\n",
       "      <td>6</td>\n",
       "      <td>2018</td>\n",
       "    </tr>\n",
       "  </tbody>\n",
       "</table>\n",
       "</div>"
      ],
      "text/plain": [
       "   total_images  last_price  total_area first_day_exposition  rooms  \\\n",
       "0            20  13000000.0       108.0           2019-03-07      3   \n",
       "1             7   3350000.0        40.4           2018-12-04      1   \n",
       "2            10   5196000.0        56.0           2015-08-20      2   \n",
       "3             0  64900000.0       159.0           2015-07-24      3   \n",
       "4             2  10000000.0       100.0           2018-06-19      2   \n",
       "\n",
       "   ceiling_height  floors_total  living_area  floor  is_apartment  studio  \\\n",
       "0            2.70          16.0         51.0      8          True   False   \n",
       "1            2.65          11.0         18.6      1          True   False   \n",
       "2            2.65           5.0         34.3      4          True   False   \n",
       "3            2.65          14.0         45.0      9          True   False   \n",
       "4            3.03          14.0         32.0     13          True   False   \n",
       "\n",
       "   open_plan  kitchen_area  balcony    locality_name  airports_nearest  \\\n",
       "0      False          25.0        0  САНКТ-ПЕТЕРБУРГ           18863.0   \n",
       "1      False          11.0        2   ПОСЕЛОК ШУШАРЫ           12817.0   \n",
       "2      False           8.3        0  САНКТ-ПЕТЕРБУРГ           21741.0   \n",
       "3      False           NaN        0  САНКТ-ПЕТЕРБУРГ           28098.0   \n",
       "4      False          41.0        0  САНКТ-ПЕТЕРБУРГ           31856.0   \n",
       "\n",
       "   city_centers_nearest  parks_around_3000  parks_nearest  ponds_around_3000  \\\n",
       "0               16028.0                  1          482.0                  2   \n",
       "1               18603.0                  0            NaN                  0   \n",
       "2               13933.0                  1           90.0                  2   \n",
       "3                6800.0                  2           84.0                  3   \n",
       "4                8098.0                  2          112.0                  1   \n",
       "\n",
       "   ponds_nearest  days_exposition  price_per_square_meter  \\\n",
       "0          755.0              NaN                120370.0   \n",
       "1            NaN             81.0                 82921.0   \n",
       "2          574.0            558.0                 92786.0   \n",
       "3          234.0            424.0                408176.0   \n",
       "4           48.0            121.0                100000.0   \n",
       "\n",
       "   week_day_exposition  month_exposition  year_exposition  \n",
       "0                    3                 3             2019  \n",
       "1                    1                12             2018  \n",
       "2                    3                 8             2015  \n",
       "3                    4                 7             2015  \n",
       "4                    1                 6             2018  "
      ]
     },
     "execution_count": 33,
     "metadata": {},
     "output_type": "execute_result"
    }
   ],
   "source": [
    "data['week_day_exposition']= data['first_day_exposition'].dt.weekday\n",
    "data['month_exposition']= data['first_day_exposition'].dt.month\n",
    "data['year_exposition']= data['first_day_exposition'].dt.year\n",
    "data.head()"
   ]
  },
  {
   "cell_type": "markdown",
   "metadata": {},
   "source": [
    "### Добавим столбец с типом этажа квартиры"
   ]
  },
  {
   "cell_type": "code",
   "execution_count": 34,
   "metadata": {},
   "outputs": [
    {
     "data": {
      "text/html": [
       "<div>\n",
       "<style scoped>\n",
       "    .dataframe tbody tr th:only-of-type {\n",
       "        vertical-align: middle;\n",
       "    }\n",
       "\n",
       "    .dataframe tbody tr th {\n",
       "        vertical-align: top;\n",
       "    }\n",
       "\n",
       "    .dataframe thead th {\n",
       "        text-align: right;\n",
       "    }\n",
       "</style>\n",
       "<table border=\"1\" class=\"dataframe\">\n",
       "  <thead>\n",
       "    <tr style=\"text-align: right;\">\n",
       "      <th></th>\n",
       "      <th>total_images</th>\n",
       "      <th>last_price</th>\n",
       "      <th>total_area</th>\n",
       "      <th>first_day_exposition</th>\n",
       "      <th>rooms</th>\n",
       "      <th>ceiling_height</th>\n",
       "      <th>floors_total</th>\n",
       "      <th>living_area</th>\n",
       "      <th>floor</th>\n",
       "      <th>is_apartment</th>\n",
       "      <th>studio</th>\n",
       "      <th>open_plan</th>\n",
       "      <th>kitchen_area</th>\n",
       "      <th>balcony</th>\n",
       "      <th>locality_name</th>\n",
       "      <th>airports_nearest</th>\n",
       "      <th>city_centers_nearest</th>\n",
       "      <th>parks_around_3000</th>\n",
       "      <th>parks_nearest</th>\n",
       "      <th>ponds_around_3000</th>\n",
       "      <th>ponds_nearest</th>\n",
       "      <th>days_exposition</th>\n",
       "      <th>price_per_square_meter</th>\n",
       "      <th>week_day_exposition</th>\n",
       "      <th>month_exposition</th>\n",
       "      <th>year_exposition</th>\n",
       "      <th>floor_class</th>\n",
       "    </tr>\n",
       "  </thead>\n",
       "  <tbody>\n",
       "    <tr>\n",
       "      <th>0</th>\n",
       "      <td>20</td>\n",
       "      <td>13000000.0</td>\n",
       "      <td>108.0</td>\n",
       "      <td>2019-03-07</td>\n",
       "      <td>3</td>\n",
       "      <td>2.70</td>\n",
       "      <td>16.0</td>\n",
       "      <td>51.0</td>\n",
       "      <td>8</td>\n",
       "      <td>True</td>\n",
       "      <td>False</td>\n",
       "      <td>False</td>\n",
       "      <td>25.0</td>\n",
       "      <td>0</td>\n",
       "      <td>САНКТ-ПЕТЕРБУРГ</td>\n",
       "      <td>18863.0</td>\n",
       "      <td>16028.0</td>\n",
       "      <td>1</td>\n",
       "      <td>482.0</td>\n",
       "      <td>2</td>\n",
       "      <td>755.0</td>\n",
       "      <td>NaN</td>\n",
       "      <td>120370.0</td>\n",
       "      <td>3</td>\n",
       "      <td>3</td>\n",
       "      <td>2019</td>\n",
       "      <td>другой</td>\n",
       "    </tr>\n",
       "    <tr>\n",
       "      <th>1</th>\n",
       "      <td>7</td>\n",
       "      <td>3350000.0</td>\n",
       "      <td>40.4</td>\n",
       "      <td>2018-12-04</td>\n",
       "      <td>1</td>\n",
       "      <td>2.65</td>\n",
       "      <td>11.0</td>\n",
       "      <td>18.6</td>\n",
       "      <td>1</td>\n",
       "      <td>True</td>\n",
       "      <td>False</td>\n",
       "      <td>False</td>\n",
       "      <td>11.0</td>\n",
       "      <td>2</td>\n",
       "      <td>ПОСЕЛОК ШУШАРЫ</td>\n",
       "      <td>12817.0</td>\n",
       "      <td>18603.0</td>\n",
       "      <td>0</td>\n",
       "      <td>NaN</td>\n",
       "      <td>0</td>\n",
       "      <td>NaN</td>\n",
       "      <td>81.0</td>\n",
       "      <td>82921.0</td>\n",
       "      <td>1</td>\n",
       "      <td>12</td>\n",
       "      <td>2018</td>\n",
       "      <td>первый</td>\n",
       "    </tr>\n",
       "    <tr>\n",
       "      <th>2</th>\n",
       "      <td>10</td>\n",
       "      <td>5196000.0</td>\n",
       "      <td>56.0</td>\n",
       "      <td>2015-08-20</td>\n",
       "      <td>2</td>\n",
       "      <td>2.65</td>\n",
       "      <td>5.0</td>\n",
       "      <td>34.3</td>\n",
       "      <td>4</td>\n",
       "      <td>True</td>\n",
       "      <td>False</td>\n",
       "      <td>False</td>\n",
       "      <td>8.3</td>\n",
       "      <td>0</td>\n",
       "      <td>САНКТ-ПЕТЕРБУРГ</td>\n",
       "      <td>21741.0</td>\n",
       "      <td>13933.0</td>\n",
       "      <td>1</td>\n",
       "      <td>90.0</td>\n",
       "      <td>2</td>\n",
       "      <td>574.0</td>\n",
       "      <td>558.0</td>\n",
       "      <td>92786.0</td>\n",
       "      <td>3</td>\n",
       "      <td>8</td>\n",
       "      <td>2015</td>\n",
       "      <td>другой</td>\n",
       "    </tr>\n",
       "    <tr>\n",
       "      <th>3</th>\n",
       "      <td>0</td>\n",
       "      <td>64900000.0</td>\n",
       "      <td>159.0</td>\n",
       "      <td>2015-07-24</td>\n",
       "      <td>3</td>\n",
       "      <td>2.65</td>\n",
       "      <td>14.0</td>\n",
       "      <td>45.0</td>\n",
       "      <td>9</td>\n",
       "      <td>True</td>\n",
       "      <td>False</td>\n",
       "      <td>False</td>\n",
       "      <td>NaN</td>\n",
       "      <td>0</td>\n",
       "      <td>САНКТ-ПЕТЕРБУРГ</td>\n",
       "      <td>28098.0</td>\n",
       "      <td>6800.0</td>\n",
       "      <td>2</td>\n",
       "      <td>84.0</td>\n",
       "      <td>3</td>\n",
       "      <td>234.0</td>\n",
       "      <td>424.0</td>\n",
       "      <td>408176.0</td>\n",
       "      <td>4</td>\n",
       "      <td>7</td>\n",
       "      <td>2015</td>\n",
       "      <td>другой</td>\n",
       "    </tr>\n",
       "    <tr>\n",
       "      <th>4</th>\n",
       "      <td>2</td>\n",
       "      <td>10000000.0</td>\n",
       "      <td>100.0</td>\n",
       "      <td>2018-06-19</td>\n",
       "      <td>2</td>\n",
       "      <td>3.03</td>\n",
       "      <td>14.0</td>\n",
       "      <td>32.0</td>\n",
       "      <td>13</td>\n",
       "      <td>True</td>\n",
       "      <td>False</td>\n",
       "      <td>False</td>\n",
       "      <td>41.0</td>\n",
       "      <td>0</td>\n",
       "      <td>САНКТ-ПЕТЕРБУРГ</td>\n",
       "      <td>31856.0</td>\n",
       "      <td>8098.0</td>\n",
       "      <td>2</td>\n",
       "      <td>112.0</td>\n",
       "      <td>1</td>\n",
       "      <td>48.0</td>\n",
       "      <td>121.0</td>\n",
       "      <td>100000.0</td>\n",
       "      <td>1</td>\n",
       "      <td>6</td>\n",
       "      <td>2018</td>\n",
       "      <td>другой</td>\n",
       "    </tr>\n",
       "  </tbody>\n",
       "</table>\n",
       "</div>"
      ],
      "text/plain": [
       "   total_images  last_price  total_area first_day_exposition  rooms  \\\n",
       "0            20  13000000.0       108.0           2019-03-07      3   \n",
       "1             7   3350000.0        40.4           2018-12-04      1   \n",
       "2            10   5196000.0        56.0           2015-08-20      2   \n",
       "3             0  64900000.0       159.0           2015-07-24      3   \n",
       "4             2  10000000.0       100.0           2018-06-19      2   \n",
       "\n",
       "   ceiling_height  floors_total  living_area  floor  is_apartment  studio  \\\n",
       "0            2.70          16.0         51.0      8          True   False   \n",
       "1            2.65          11.0         18.6      1          True   False   \n",
       "2            2.65           5.0         34.3      4          True   False   \n",
       "3            2.65          14.0         45.0      9          True   False   \n",
       "4            3.03          14.0         32.0     13          True   False   \n",
       "\n",
       "   open_plan  kitchen_area  balcony    locality_name  airports_nearest  \\\n",
       "0      False          25.0        0  САНКТ-ПЕТЕРБУРГ           18863.0   \n",
       "1      False          11.0        2   ПОСЕЛОК ШУШАРЫ           12817.0   \n",
       "2      False           8.3        0  САНКТ-ПЕТЕРБУРГ           21741.0   \n",
       "3      False           NaN        0  САНКТ-ПЕТЕРБУРГ           28098.0   \n",
       "4      False          41.0        0  САНКТ-ПЕТЕРБУРГ           31856.0   \n",
       "\n",
       "   city_centers_nearest  parks_around_3000  parks_nearest  ponds_around_3000  \\\n",
       "0               16028.0                  1          482.0                  2   \n",
       "1               18603.0                  0            NaN                  0   \n",
       "2               13933.0                  1           90.0                  2   \n",
       "3                6800.0                  2           84.0                  3   \n",
       "4                8098.0                  2          112.0                  1   \n",
       "\n",
       "   ponds_nearest  days_exposition  price_per_square_meter  \\\n",
       "0          755.0              NaN                120370.0   \n",
       "1            NaN             81.0                 82921.0   \n",
       "2          574.0            558.0                 92786.0   \n",
       "3          234.0            424.0                408176.0   \n",
       "4           48.0            121.0                100000.0   \n",
       "\n",
       "   week_day_exposition  month_exposition  year_exposition floor_class  \n",
       "0                    3                 3             2019      другой  \n",
       "1                    1                12             2018      первый  \n",
       "2                    3                 8             2015      другой  \n",
       "3                    4                 7             2015      другой  \n",
       "4                    1                 6             2018      другой  "
      ]
     },
     "execution_count": 34,
     "metadata": {},
     "output_type": "execute_result"
    }
   ],
   "source": [
    "def floor(row):\n",
    "    if row['floor'] == 1:\n",
    "        return 'первый'\n",
    "    if row['floor'] == row['floors_total']:\n",
    "        return 'последний'\n",
    "    else:\n",
    "        return 'другой'\n",
    "data['floor_class'] = data.apply(floor, axis=1)\n",
    "data.head()"
   ]
  },
  {
   "cell_type": "code",
   "execution_count": 35,
   "metadata": {},
   "outputs": [
    {
     "data": {
      "text/plain": [
       "другой       17446\n",
       "последний     3336\n",
       "первый        2917\n",
       "Name: floor_class, dtype: int64"
      ]
     },
     "execution_count": 35,
     "metadata": {},
     "output_type": "execute_result"
    }
   ],
   "source": [
    "data['floor_class'].value_counts()"
   ]
  },
  {
   "cell_type": "markdown",
   "metadata": {},
   "source": [
    "### Добавим столбец с расстоянием до центра города в километрах"
   ]
  },
  {
   "cell_type": "code",
   "execution_count": 36,
   "metadata": {},
   "outputs": [
    {
     "data": {
      "text/html": [
       "<div>\n",
       "<style scoped>\n",
       "    .dataframe tbody tr th:only-of-type {\n",
       "        vertical-align: middle;\n",
       "    }\n",
       "\n",
       "    .dataframe tbody tr th {\n",
       "        vertical-align: top;\n",
       "    }\n",
       "\n",
       "    .dataframe thead th {\n",
       "        text-align: right;\n",
       "    }\n",
       "</style>\n",
       "<table border=\"1\" class=\"dataframe\">\n",
       "  <thead>\n",
       "    <tr style=\"text-align: right;\">\n",
       "      <th></th>\n",
       "      <th>total_images</th>\n",
       "      <th>last_price</th>\n",
       "      <th>total_area</th>\n",
       "      <th>first_day_exposition</th>\n",
       "      <th>rooms</th>\n",
       "      <th>ceiling_height</th>\n",
       "      <th>floors_total</th>\n",
       "      <th>living_area</th>\n",
       "      <th>floor</th>\n",
       "      <th>is_apartment</th>\n",
       "      <th>studio</th>\n",
       "      <th>open_plan</th>\n",
       "      <th>kitchen_area</th>\n",
       "      <th>balcony</th>\n",
       "      <th>locality_name</th>\n",
       "      <th>airports_nearest</th>\n",
       "      <th>city_centers_nearest</th>\n",
       "      <th>parks_around_3000</th>\n",
       "      <th>parks_nearest</th>\n",
       "      <th>ponds_around_3000</th>\n",
       "      <th>ponds_nearest</th>\n",
       "      <th>days_exposition</th>\n",
       "      <th>price_per_square_meter</th>\n",
       "      <th>week_day_exposition</th>\n",
       "      <th>month_exposition</th>\n",
       "      <th>year_exposition</th>\n",
       "      <th>floor_class</th>\n",
       "      <th>city_centers_nearest_km</th>\n",
       "    </tr>\n",
       "  </thead>\n",
       "  <tbody>\n",
       "    <tr>\n",
       "      <th>0</th>\n",
       "      <td>20</td>\n",
       "      <td>13000000.0</td>\n",
       "      <td>108.0</td>\n",
       "      <td>2019-03-07</td>\n",
       "      <td>3</td>\n",
       "      <td>2.70</td>\n",
       "      <td>16.0</td>\n",
       "      <td>51.0</td>\n",
       "      <td>8</td>\n",
       "      <td>True</td>\n",
       "      <td>False</td>\n",
       "      <td>False</td>\n",
       "      <td>25.0</td>\n",
       "      <td>0</td>\n",
       "      <td>САНКТ-ПЕТЕРБУРГ</td>\n",
       "      <td>18863.0</td>\n",
       "      <td>16028.0</td>\n",
       "      <td>1</td>\n",
       "      <td>482.0</td>\n",
       "      <td>2</td>\n",
       "      <td>755.0</td>\n",
       "      <td>NaN</td>\n",
       "      <td>120370.0</td>\n",
       "      <td>3</td>\n",
       "      <td>3</td>\n",
       "      <td>2019</td>\n",
       "      <td>другой</td>\n",
       "      <td>16.0</td>\n",
       "    </tr>\n",
       "    <tr>\n",
       "      <th>1</th>\n",
       "      <td>7</td>\n",
       "      <td>3350000.0</td>\n",
       "      <td>40.4</td>\n",
       "      <td>2018-12-04</td>\n",
       "      <td>1</td>\n",
       "      <td>2.65</td>\n",
       "      <td>11.0</td>\n",
       "      <td>18.6</td>\n",
       "      <td>1</td>\n",
       "      <td>True</td>\n",
       "      <td>False</td>\n",
       "      <td>False</td>\n",
       "      <td>11.0</td>\n",
       "      <td>2</td>\n",
       "      <td>ПОСЕЛОК ШУШАРЫ</td>\n",
       "      <td>12817.0</td>\n",
       "      <td>18603.0</td>\n",
       "      <td>0</td>\n",
       "      <td>NaN</td>\n",
       "      <td>0</td>\n",
       "      <td>NaN</td>\n",
       "      <td>81.0</td>\n",
       "      <td>82921.0</td>\n",
       "      <td>1</td>\n",
       "      <td>12</td>\n",
       "      <td>2018</td>\n",
       "      <td>первый</td>\n",
       "      <td>19.0</td>\n",
       "    </tr>\n",
       "    <tr>\n",
       "      <th>2</th>\n",
       "      <td>10</td>\n",
       "      <td>5196000.0</td>\n",
       "      <td>56.0</td>\n",
       "      <td>2015-08-20</td>\n",
       "      <td>2</td>\n",
       "      <td>2.65</td>\n",
       "      <td>5.0</td>\n",
       "      <td>34.3</td>\n",
       "      <td>4</td>\n",
       "      <td>True</td>\n",
       "      <td>False</td>\n",
       "      <td>False</td>\n",
       "      <td>8.3</td>\n",
       "      <td>0</td>\n",
       "      <td>САНКТ-ПЕТЕРБУРГ</td>\n",
       "      <td>21741.0</td>\n",
       "      <td>13933.0</td>\n",
       "      <td>1</td>\n",
       "      <td>90.0</td>\n",
       "      <td>2</td>\n",
       "      <td>574.0</td>\n",
       "      <td>558.0</td>\n",
       "      <td>92786.0</td>\n",
       "      <td>3</td>\n",
       "      <td>8</td>\n",
       "      <td>2015</td>\n",
       "      <td>другой</td>\n",
       "      <td>14.0</td>\n",
       "    </tr>\n",
       "    <tr>\n",
       "      <th>3</th>\n",
       "      <td>0</td>\n",
       "      <td>64900000.0</td>\n",
       "      <td>159.0</td>\n",
       "      <td>2015-07-24</td>\n",
       "      <td>3</td>\n",
       "      <td>2.65</td>\n",
       "      <td>14.0</td>\n",
       "      <td>45.0</td>\n",
       "      <td>9</td>\n",
       "      <td>True</td>\n",
       "      <td>False</td>\n",
       "      <td>False</td>\n",
       "      <td>NaN</td>\n",
       "      <td>0</td>\n",
       "      <td>САНКТ-ПЕТЕРБУРГ</td>\n",
       "      <td>28098.0</td>\n",
       "      <td>6800.0</td>\n",
       "      <td>2</td>\n",
       "      <td>84.0</td>\n",
       "      <td>3</td>\n",
       "      <td>234.0</td>\n",
       "      <td>424.0</td>\n",
       "      <td>408176.0</td>\n",
       "      <td>4</td>\n",
       "      <td>7</td>\n",
       "      <td>2015</td>\n",
       "      <td>другой</td>\n",
       "      <td>7.0</td>\n",
       "    </tr>\n",
       "    <tr>\n",
       "      <th>4</th>\n",
       "      <td>2</td>\n",
       "      <td>10000000.0</td>\n",
       "      <td>100.0</td>\n",
       "      <td>2018-06-19</td>\n",
       "      <td>2</td>\n",
       "      <td>3.03</td>\n",
       "      <td>14.0</td>\n",
       "      <td>32.0</td>\n",
       "      <td>13</td>\n",
       "      <td>True</td>\n",
       "      <td>False</td>\n",
       "      <td>False</td>\n",
       "      <td>41.0</td>\n",
       "      <td>0</td>\n",
       "      <td>САНКТ-ПЕТЕРБУРГ</td>\n",
       "      <td>31856.0</td>\n",
       "      <td>8098.0</td>\n",
       "      <td>2</td>\n",
       "      <td>112.0</td>\n",
       "      <td>1</td>\n",
       "      <td>48.0</td>\n",
       "      <td>121.0</td>\n",
       "      <td>100000.0</td>\n",
       "      <td>1</td>\n",
       "      <td>6</td>\n",
       "      <td>2018</td>\n",
       "      <td>другой</td>\n",
       "      <td>8.0</td>\n",
       "    </tr>\n",
       "  </tbody>\n",
       "</table>\n",
       "</div>"
      ],
      "text/plain": [
       "   total_images  last_price  total_area first_day_exposition  rooms  \\\n",
       "0            20  13000000.0       108.0           2019-03-07      3   \n",
       "1             7   3350000.0        40.4           2018-12-04      1   \n",
       "2            10   5196000.0        56.0           2015-08-20      2   \n",
       "3             0  64900000.0       159.0           2015-07-24      3   \n",
       "4             2  10000000.0       100.0           2018-06-19      2   \n",
       "\n",
       "   ceiling_height  floors_total  living_area  floor  is_apartment  studio  \\\n",
       "0            2.70          16.0         51.0      8          True   False   \n",
       "1            2.65          11.0         18.6      1          True   False   \n",
       "2            2.65           5.0         34.3      4          True   False   \n",
       "3            2.65          14.0         45.0      9          True   False   \n",
       "4            3.03          14.0         32.0     13          True   False   \n",
       "\n",
       "   open_plan  kitchen_area  balcony    locality_name  airports_nearest  \\\n",
       "0      False          25.0        0  САНКТ-ПЕТЕРБУРГ           18863.0   \n",
       "1      False          11.0        2   ПОСЕЛОК ШУШАРЫ           12817.0   \n",
       "2      False           8.3        0  САНКТ-ПЕТЕРБУРГ           21741.0   \n",
       "3      False           NaN        0  САНКТ-ПЕТЕРБУРГ           28098.0   \n",
       "4      False          41.0        0  САНКТ-ПЕТЕРБУРГ           31856.0   \n",
       "\n",
       "   city_centers_nearest  parks_around_3000  parks_nearest  ponds_around_3000  \\\n",
       "0               16028.0                  1          482.0                  2   \n",
       "1               18603.0                  0            NaN                  0   \n",
       "2               13933.0                  1           90.0                  2   \n",
       "3                6800.0                  2           84.0                  3   \n",
       "4                8098.0                  2          112.0                  1   \n",
       "\n",
       "   ponds_nearest  days_exposition  price_per_square_meter  \\\n",
       "0          755.0              NaN                120370.0   \n",
       "1            NaN             81.0                 82921.0   \n",
       "2          574.0            558.0                 92786.0   \n",
       "3          234.0            424.0                408176.0   \n",
       "4           48.0            121.0                100000.0   \n",
       "\n",
       "   week_day_exposition  month_exposition  year_exposition floor_class  \\\n",
       "0                    3                 3             2019      другой   \n",
       "1                    1                12             2018      первый   \n",
       "2                    3                 8             2015      другой   \n",
       "3                    4                 7             2015      другой   \n",
       "4                    1                 6             2018      другой   \n",
       "\n",
       "   city_centers_nearest_km  \n",
       "0                     16.0  \n",
       "1                     19.0  \n",
       "2                     14.0  \n",
       "3                      7.0  \n",
       "4                      8.0  "
      ]
     },
     "execution_count": 36,
     "metadata": {},
     "output_type": "execute_result"
    }
   ],
   "source": [
    "data['city_centers_nearest_km'] = (data['city_centers_nearest'] / 1000).round()\n",
    "data.head()"
   ]
  },
  {
   "cell_type": "code",
   "execution_count": 37,
   "metadata": {},
   "outputs": [
    {
     "data": {
      "text/plain": [
       "Index(['total_images', 'last_price', 'total_area', 'first_day_exposition',\n",
       "       'rooms', 'ceiling_height', 'floors_total', 'living_area', 'floor',\n",
       "       'is_apartment', 'studio', 'open_plan', 'kitchen_area', 'balcony',\n",
       "       'locality_name', 'airports_nearest', 'city_centers_nearest',\n",
       "       'parks_around_3000', 'parks_nearest', 'ponds_around_3000',\n",
       "       'ponds_nearest', 'days_exposition', 'price_per_square_meter',\n",
       "       'week_day_exposition', 'month_exposition', 'year_exposition',\n",
       "       'floor_class', 'city_centers_nearest_km'],\n",
       "      dtype='object')"
      ]
     },
     "execution_count": 37,
     "metadata": {},
     "output_type": "execute_result"
    }
   ],
   "source": [
    "data.columns"
   ]
  },
  {
   "cell_type": "markdown",
   "metadata": {},
   "source": [
    "### Выводы по разделу 3:\n",
    "\n",
    "Добавлены новые столбцы для дальнейшего исследования:\n",
    "1. Цена одного квадратного метра;\n",
    "2. День недели публикации объявления (0 — понедельник, 1 — вторник и так далее);\n",
    "3. Месяц публикации объявления;\n",
    "4. Год публикации объявления;\n",
    "5. Тип этажа квартиры (значения — «‎первый», «последний», «другой»);\n",
    "6. Расстояние до центра города в километрах (переведите из м в км и округлите до целых значений)."
   ]
  },
  {
   "cell_type": "markdown",
   "metadata": {},
   "source": [
    "## Проведен исследовательский анализ данных"
   ]
  },
  {
   "cell_type": "markdown",
   "metadata": {},
   "source": [
    "### Исследуем параметры объектов недвижимости"
   ]
  },
  {
   "cell_type": "markdown",
   "metadata": {},
   "source": [
    "**Общая площадь**"
   ]
  },
  {
   "cell_type": "markdown",
   "metadata": {},
   "source": [
    "total_area: min=12 и max=900 для площади квартиры выглядят аномальными, по графику площадь > 200 кв.м почти не встречается."
   ]
  },
  {
   "cell_type": "code",
   "execution_count": 38,
   "metadata": {},
   "outputs": [
    {
     "data": {
      "image/png": "[encoded data removed]",
      "text/plain": [
       "<Figure size 360x360 with 1 Axes>"
      ]
     },
     "metadata": {
      "needs_background": "light"
     },
     "output_type": "display_data"
    }
   ],
   "source": [
    "data.plot(y = 'total_area', kind = 'hist', bins = 100, grid=True, figsize = (5,5), range = (0,200), title='Общая площадь');"
   ]
  },
  {
   "cell_type": "markdown",
   "metadata": {},
   "source": [
    "По графику со значениями до 200 видно, что общая площадь в большинстве даже менее 150 и более 20 квадратных метров.\n",
    "Посчитаем количество выбивающихся данных:"
   ]
  },
  {
   "cell_type": "code",
   "execution_count": 39,
   "metadata": {},
   "outputs": [
    {
     "data": {
      "text/plain": [
       "582"
      ]
     },
     "execution_count": 39,
     "metadata": {},
     "output_type": "execute_result"
    }
   ],
   "source": [
    "data.query('total_area >= 150')['total_area'].count()"
   ]
  },
  {
   "cell_type": "code",
   "execution_count": 40,
   "metadata": {},
   "outputs": [
    {
     "data": {
      "text/plain": [
       "35"
      ]
     },
     "execution_count": 40,
     "metadata": {},
     "output_type": "execute_result"
    }
   ],
   "source": [
    "data.query('total_area <= 20')['total_area'].count()"
   ]
  },
  {
   "cell_type": "code",
   "execution_count": 41,
   "metadata": {},
   "outputs": [
    {
     "data": {
      "text/plain": [
       "56.59930846460101"
      ]
     },
     "metadata": {},
     "output_type": "display_data"
    },
    {
     "data": {
      "text/html": [
       "<div>\n",
       "<style scoped>\n",
       "    .dataframe tbody tr th:only-of-type {\n",
       "        vertical-align: middle;\n",
       "    }\n",
       "\n",
       "    .dataframe tbody tr th {\n",
       "        vertical-align: top;\n",
       "    }\n",
       "\n",
       "    .dataframe thead th {\n",
       "        text-align: right;\n",
       "    }\n",
       "</style>\n",
       "<table border=\"1\" class=\"dataframe\">\n",
       "  <thead>\n",
       "    <tr style=\"text-align: right;\">\n",
       "      <th></th>\n",
       "      <th>total_images</th>\n",
       "      <th>last_price</th>\n",
       "      <th>total_area</th>\n",
       "      <th>first_day_exposition</th>\n",
       "      <th>rooms</th>\n",
       "      <th>ceiling_height</th>\n",
       "      <th>floors_total</th>\n",
       "      <th>living_area</th>\n",
       "      <th>floor</th>\n",
       "      <th>is_apartment</th>\n",
       "      <th>studio</th>\n",
       "      <th>open_plan</th>\n",
       "      <th>kitchen_area</th>\n",
       "      <th>balcony</th>\n",
       "      <th>locality_name</th>\n",
       "      <th>airports_nearest</th>\n",
       "      <th>city_centers_nearest</th>\n",
       "      <th>parks_around_3000</th>\n",
       "      <th>parks_nearest</th>\n",
       "      <th>ponds_around_3000</th>\n",
       "      <th>ponds_nearest</th>\n",
       "      <th>days_exposition</th>\n",
       "      <th>price_per_square_meter</th>\n",
       "      <th>week_day_exposition</th>\n",
       "      <th>month_exposition</th>\n",
       "      <th>year_exposition</th>\n",
       "      <th>floor_class</th>\n",
       "      <th>city_centers_nearest_km</th>\n",
       "    </tr>\n",
       "  </thead>\n",
       "  <tbody>\n",
       "  </tbody>\n",
       "</table>\n",
       "</div>"
      ],
      "text/plain": [
       "Empty DataFrame\n",
       "Columns: [total_images, last_price, total_area, first_day_exposition, rooms, ceiling_height, floors_total, living_area, floor, is_apartment, studio, open_plan, kitchen_area, balcony, locality_name, airports_nearest, city_centers_nearest, parks_around_3000, parks_nearest, ponds_around_3000, ponds_nearest, days_exposition, price_per_square_meter, week_day_exposition, month_exposition, year_exposition, floor_class, city_centers_nearest_km]\n",
       "Index: []"
      ]
     },
     "execution_count": 41,
     "metadata": {},
     "output_type": "execute_result"
    }
   ],
   "source": [
    "total_area_mean = data.query('20 <= total_area <= 150')['total_area'].mean()\n",
    "display(total_area_mean)\n",
    "data.loc[data['total_area'] >= 150, 'total_area'] = total_area_mean\n",
    "\n",
    "data.query('total_area > 150')\n"
   ]
  },
  {
   "cell_type": "markdown",
   "metadata": {},
   "source": [
    "**Жилая площадь**"
   ]
  },
  {
   "cell_type": "markdown",
   "metadata": {},
   "source": [
    "living_area: min=2 и max=409 для жилой площади квартиры выглядят аномальными, по графику площадь > 100 кв.м и < 10 кв.м почти не встречается."
   ]
  },
  {
   "cell_type": "code",
   "execution_count": 42,
   "metadata": {},
   "outputs": [
    {
     "data": {
      "image/png": "[encoded data removed]",
      "text/plain": [
       "<Figure size 360x360 with 1 Axes>"
      ]
     },
     "metadata": {
      "needs_background": "light"
     },
     "output_type": "display_data"
    }
   ],
   "source": [
    "data.plot(y = 'living_area', kind = 'hist', bins = 100, grid=True, figsize = (5,5), range = (0,130), title='Жилая площадь');"
   ]
  },
  {
   "cell_type": "markdown",
   "metadata": {},
   "source": [
    "Посчитаем количество выбивающихся данных:"
   ]
  },
  {
   "cell_type": "code",
   "execution_count": 43,
   "metadata": {},
   "outputs": [
    {
     "data": {
      "text/plain": [
       "376"
      ]
     },
     "execution_count": 43,
     "metadata": {},
     "output_type": "execute_result"
    }
   ],
   "source": [
    "data.query('living_area >= 100')['living_area'].count()"
   ]
  },
  {
   "cell_type": "code",
   "execution_count": 44,
   "metadata": {},
   "outputs": [
    {
     "data": {
      "text/plain": [
       "241"
      ]
     },
     "execution_count": 44,
     "metadata": {},
     "output_type": "execute_result"
    }
   ],
   "source": [
    "data.query('living_area <= 13')['living_area'].count()"
   ]
  },
  {
   "cell_type": "code",
   "execution_count": 45,
   "metadata": {},
   "outputs": [
    {
     "data": {
      "text/plain": [
       "1018"
      ]
     },
     "execution_count": 45,
     "metadata": {},
     "output_type": "execute_result"
    }
   ],
   "source": [
    "data.query('living_area <= 15')['living_area'].count()"
   ]
  },
  {
   "cell_type": "code",
   "execution_count": 46,
   "metadata": {},
   "outputs": [
    {
     "data": {
      "text/plain": [
       "32.77589553935936"
      ]
     },
     "metadata": {},
     "output_type": "display_data"
    },
    {
     "data": {
      "text/html": [
       "<div>\n",
       "<style scoped>\n",
       "    .dataframe tbody tr th:only-of-type {\n",
       "        vertical-align: middle;\n",
       "    }\n",
       "\n",
       "    .dataframe tbody tr th {\n",
       "        vertical-align: top;\n",
       "    }\n",
       "\n",
       "    .dataframe thead th {\n",
       "        text-align: right;\n",
       "    }\n",
       "</style>\n",
       "<table border=\"1\" class=\"dataframe\">\n",
       "  <thead>\n",
       "    <tr style=\"text-align: right;\">\n",
       "      <th></th>\n",
       "      <th>total_images</th>\n",
       "      <th>last_price</th>\n",
       "      <th>total_area</th>\n",
       "      <th>first_day_exposition</th>\n",
       "      <th>rooms</th>\n",
       "      <th>ceiling_height</th>\n",
       "      <th>floors_total</th>\n",
       "      <th>living_area</th>\n",
       "      <th>floor</th>\n",
       "      <th>is_apartment</th>\n",
       "      <th>studio</th>\n",
       "      <th>open_plan</th>\n",
       "      <th>kitchen_area</th>\n",
       "      <th>balcony</th>\n",
       "      <th>locality_name</th>\n",
       "      <th>airports_nearest</th>\n",
       "      <th>city_centers_nearest</th>\n",
       "      <th>parks_around_3000</th>\n",
       "      <th>parks_nearest</th>\n",
       "      <th>ponds_around_3000</th>\n",
       "      <th>ponds_nearest</th>\n",
       "      <th>days_exposition</th>\n",
       "      <th>price_per_square_meter</th>\n",
       "      <th>week_day_exposition</th>\n",
       "      <th>month_exposition</th>\n",
       "      <th>year_exposition</th>\n",
       "      <th>floor_class</th>\n",
       "      <th>city_centers_nearest_km</th>\n",
       "    </tr>\n",
       "  </thead>\n",
       "  <tbody>\n",
       "  </tbody>\n",
       "</table>\n",
       "</div>"
      ],
      "text/plain": [
       "Empty DataFrame\n",
       "Columns: [total_images, last_price, total_area, first_day_exposition, rooms, ceiling_height, floors_total, living_area, floor, is_apartment, studio, open_plan, kitchen_area, balcony, locality_name, airports_nearest, city_centers_nearest, parks_around_3000, parks_nearest, ponds_around_3000, ponds_nearest, days_exposition, price_per_square_meter, week_day_exposition, month_exposition, year_exposition, floor_class, city_centers_nearest_km]\n",
       "Index: []"
      ]
     },
     "execution_count": 46,
     "metadata": {},
     "output_type": "execute_result"
    }
   ],
   "source": [
    "living_area_mean = data.query('13 <= living_area <= 100')['living_area'].mean()\n",
    "display(living_area_mean)\n",
    "data.loc[data['living_area'] >= 100, 'living_area'] = living_area_mean\n",
    "data.query('living_area > 100')"
   ]
  },
  {
   "cell_type": "markdown",
   "metadata": {},
   "source": [
    "Жилая площадь в большинстве квартир составляет от 13 до 100 кв.м."
   ]
  },
  {
   "cell_type": "markdown",
   "metadata": {},
   "source": [
    "**Площадь кухни**\n",
    "\n",
    "kitchen_area: min=1 и max=112 для кухни выглядят аномальными, по графику площадь в основной массе не больше 25кв.м."
   ]
  },
  {
   "cell_type": "code",
   "execution_count": 47,
   "metadata": {},
   "outputs": [
    {
     "data": {
      "image/png": "[encoded data removed]",
      "text/plain": [
       "<Figure size 360x360 with 1 Axes>"
      ]
     },
     "metadata": {
      "needs_background": "light"
     },
     "output_type": "display_data"
    }
   ],
   "source": [
    "data.plot(y = 'kitchen_area', kind = 'hist', bins = 25, grid=True, figsize = (5,5), range = (0,25), title='Площадь кухни');"
   ]
  },
  {
   "cell_type": "code",
   "execution_count": 48,
   "metadata": {},
   "outputs": [
    {
     "data": {
      "text/plain": [
       "615"
      ]
     },
     "execution_count": 48,
     "metadata": {},
     "output_type": "execute_result"
    }
   ],
   "source": [
    "data.query('kitchen_area >= 25')['kitchen_area'].count()"
   ]
  },
  {
   "cell_type": "code",
   "execution_count": 49,
   "metadata": {},
   "outputs": [
    {
     "data": {
      "text/plain": [
       "105"
      ]
     },
     "execution_count": 49,
     "metadata": {},
     "output_type": "execute_result"
    }
   ],
   "source": [
    "data.query('kitchen_area < 5')['kitchen_area'].count()"
   ]
  },
  {
   "cell_type": "code",
   "execution_count": 50,
   "metadata": {},
   "outputs": [
    {
     "data": {
      "text/plain": [
       "28.813805004314062"
      ]
     },
     "metadata": {},
     "output_type": "display_data"
    },
    {
     "data": {
      "text/html": [
       "<div>\n",
       "<style scoped>\n",
       "    .dataframe tbody tr th:only-of-type {\n",
       "        vertical-align: middle;\n",
       "    }\n",
       "\n",
       "    .dataframe tbody tr th {\n",
       "        vertical-align: top;\n",
       "    }\n",
       "\n",
       "    .dataframe thead th {\n",
       "        text-align: right;\n",
       "    }\n",
       "</style>\n",
       "<table border=\"1\" class=\"dataframe\">\n",
       "  <thead>\n",
       "    <tr style=\"text-align: right;\">\n",
       "      <th></th>\n",
       "      <th>total_images</th>\n",
       "      <th>last_price</th>\n",
       "      <th>total_area</th>\n",
       "      <th>first_day_exposition</th>\n",
       "      <th>rooms</th>\n",
       "      <th>ceiling_height</th>\n",
       "      <th>floors_total</th>\n",
       "      <th>living_area</th>\n",
       "      <th>floor</th>\n",
       "      <th>is_apartment</th>\n",
       "      <th>studio</th>\n",
       "      <th>open_plan</th>\n",
       "      <th>kitchen_area</th>\n",
       "      <th>balcony</th>\n",
       "      <th>locality_name</th>\n",
       "      <th>airports_nearest</th>\n",
       "      <th>city_centers_nearest</th>\n",
       "      <th>parks_around_3000</th>\n",
       "      <th>parks_nearest</th>\n",
       "      <th>ponds_around_3000</th>\n",
       "      <th>ponds_nearest</th>\n",
       "      <th>days_exposition</th>\n",
       "      <th>price_per_square_meter</th>\n",
       "      <th>week_day_exposition</th>\n",
       "      <th>month_exposition</th>\n",
       "      <th>year_exposition</th>\n",
       "      <th>floor_class</th>\n",
       "      <th>city_centers_nearest_km</th>\n",
       "    </tr>\n",
       "  </thead>\n",
       "  <tbody>\n",
       "  </tbody>\n",
       "</table>\n",
       "</div>"
      ],
      "text/plain": [
       "Empty DataFrame\n",
       "Columns: [total_images, last_price, total_area, first_day_exposition, rooms, ceiling_height, floors_total, living_area, floor, is_apartment, studio, open_plan, kitchen_area, balcony, locality_name, airports_nearest, city_centers_nearest, parks_around_3000, parks_nearest, ponds_around_3000, ponds_nearest, days_exposition, price_per_square_meter, week_day_exposition, month_exposition, year_exposition, floor_class, city_centers_nearest_km]\n",
       "Index: []"
      ]
     },
     "execution_count": 50,
     "metadata": {},
     "output_type": "execute_result"
    }
   ],
   "source": [
    "kitchen_area_mean = data.query('20 <= kitchen_area <= 150')['kitchen_area'].mean()\n",
    "display(kitchen_area_mean)\n",
    "data.loc[data['kitchen_area'] >= 150, 'kitchen_area'] = kitchen_area_mean\n",
    "\n",
    "data.query('kitchen_area > 150')\n"
   ]
  },
  {
   "cell_type": "markdown",
   "metadata": {},
   "source": [
    "Площадь кухни в большинстве квартир составляет от 5 до 25 кв.м."
   ]
  },
  {
   "cell_type": "markdown",
   "metadata": {},
   "source": [
    "**Цена объекта**\n",
    "\n",
    "last_price: min=12190 и max=763000000 для цены квартиры выглядят аномальными, по графику цены находятся в пределах 100 миллионов."
   ]
  },
  {
   "cell_type": "code",
   "execution_count": 51,
   "metadata": {},
   "outputs": [
    {
     "data": {
      "image/png": "[encoded data removed]",
      "text/plain": [
       "<Figure size 360x360 with 1 Axes>"
      ]
     },
     "metadata": {
      "needs_background": "light"
     },
     "output_type": "display_data"
    }
   ],
   "source": [
    "data.plot(y = 'last_price', kind = 'hist', bins = 10, grid=True, figsize = (5,5), range = (0,100000000), title='Цена объекта');"
   ]
  },
  {
   "cell_type": "markdown",
   "metadata": {},
   "source": [
    "Посчитаем количество строк с ценой выше 30 млн рублей:"
   ]
  },
  {
   "cell_type": "code",
   "execution_count": 52,
   "metadata": {},
   "outputs": [
    {
     "data": {
      "text/plain": [
       "37"
      ]
     },
     "execution_count": 52,
     "metadata": {},
     "output_type": "execute_result"
    }
   ],
   "source": [
    "data.query('last_price >= 100000000')['last_price'].count()"
   ]
  },
  {
   "cell_type": "code",
   "execution_count": 53,
   "metadata": {},
   "outputs": [
    {
     "data": {
      "text/plain": [
       "326"
      ]
     },
     "execution_count": 53,
     "metadata": {},
     "output_type": "execute_result"
    }
   ],
   "source": [
    "data.query('last_price >= 30000000')['last_price'].count()"
   ]
  },
  {
   "cell_type": "code",
   "execution_count": 54,
   "metadata": {},
   "outputs": [
    {
     "data": {
      "text/plain": [
       "225"
      ]
     },
     "execution_count": 54,
     "metadata": {},
     "output_type": "execute_result"
    }
   ],
   "source": [
    "data.query('last_price < 1000000')['last_price'].count()"
   ]
  },
  {
   "cell_type": "code",
   "execution_count": 55,
   "metadata": {},
   "outputs": [
    {
     "data": {
      "text/plain": [
       "5780994.583290133"
      ]
     },
     "metadata": {},
     "output_type": "display_data"
    },
    {
     "data": {
      "text/html": [
       "<div>\n",
       "<style scoped>\n",
       "    .dataframe tbody tr th:only-of-type {\n",
       "        vertical-align: middle;\n",
       "    }\n",
       "\n",
       "    .dataframe tbody tr th {\n",
       "        vertical-align: top;\n",
       "    }\n",
       "\n",
       "    .dataframe thead th {\n",
       "        text-align: right;\n",
       "    }\n",
       "</style>\n",
       "<table border=\"1\" class=\"dataframe\">\n",
       "  <thead>\n",
       "    <tr style=\"text-align: right;\">\n",
       "      <th></th>\n",
       "      <th>total_images</th>\n",
       "      <th>last_price</th>\n",
       "      <th>total_area</th>\n",
       "      <th>first_day_exposition</th>\n",
       "      <th>rooms</th>\n",
       "      <th>ceiling_height</th>\n",
       "      <th>floors_total</th>\n",
       "      <th>living_area</th>\n",
       "      <th>floor</th>\n",
       "      <th>is_apartment</th>\n",
       "      <th>studio</th>\n",
       "      <th>open_plan</th>\n",
       "      <th>kitchen_area</th>\n",
       "      <th>balcony</th>\n",
       "      <th>locality_name</th>\n",
       "      <th>airports_nearest</th>\n",
       "      <th>city_centers_nearest</th>\n",
       "      <th>parks_around_3000</th>\n",
       "      <th>parks_nearest</th>\n",
       "      <th>ponds_around_3000</th>\n",
       "      <th>ponds_nearest</th>\n",
       "      <th>days_exposition</th>\n",
       "      <th>price_per_square_meter</th>\n",
       "      <th>week_day_exposition</th>\n",
       "      <th>month_exposition</th>\n",
       "      <th>year_exposition</th>\n",
       "      <th>floor_class</th>\n",
       "      <th>city_centers_nearest_km</th>\n",
       "    </tr>\n",
       "  </thead>\n",
       "  <tbody>\n",
       "  </tbody>\n",
       "</table>\n",
       "</div>"
      ],
      "text/plain": [
       "Empty DataFrame\n",
       "Columns: [total_images, last_price, total_area, first_day_exposition, rooms, ceiling_height, floors_total, living_area, floor, is_apartment, studio, open_plan, kitchen_area, balcony, locality_name, airports_nearest, city_centers_nearest, parks_around_3000, parks_nearest, ponds_around_3000, ponds_nearest, days_exposition, price_per_square_meter, week_day_exposition, month_exposition, year_exposition, floor_class, city_centers_nearest_km]\n",
       "Index: []"
      ]
     },
     "execution_count": 55,
     "metadata": {},
     "output_type": "execute_result"
    }
   ],
   "source": [
    "last_price_mean = data.query('1000000 <= last_price < 30000000')['last_price'].mean()\n",
    "display(last_price_mean)\n",
    "data.loc[data['last_price'] >= 30000000, 'last_price'] = last_price_mean\n",
    "\n",
    "data.query('last_price > 30000000')"
   ]
  },
  {
   "cell_type": "code",
   "execution_count": 56,
   "metadata": {},
   "outputs": [
    {
     "data": {
      "image/png": "[encoded data removed]",
      "text/plain": [
       "<Figure size 360x360 with 1 Axes>"
      ]
     },
     "metadata": {
      "needs_background": "light"
     },
     "output_type": "display_data"
    }
   ],
   "source": [
    "data.plot(y = 'last_price', kind = 'hist', bins = 30, grid=True, figsize = (5,5), range = (0,30000000), title='Цена объекта');"
   ]
  },
  {
   "cell_type": "markdown",
   "metadata": {},
   "source": [
    "Большинство квартир находятся в ценовом диапазоне 4-5 млн, но также много предложений до 30 млн рублей."
   ]
  },
  {
   "cell_type": "markdown",
   "metadata": {},
   "source": [
    "**Количество комнат**\n",
    "\n",
    "rooms: max=19 для количества комнат выглядит аномальным, по графику комнат > 5 почти не встречается."
   ]
  },
  {
   "cell_type": "code",
   "execution_count": 57,
   "metadata": {},
   "outputs": [
    {
     "data": {
      "text/plain": [
       "195"
      ]
     },
     "execution_count": 57,
     "metadata": {},
     "output_type": "execute_result"
    }
   ],
   "source": [
    "data.query('rooms > 5')['last_price'].count()"
   ]
  },
  {
   "cell_type": "code",
   "execution_count": 58,
   "metadata": {},
   "outputs": [
    {
     "data": {
      "text/plain": [
       "2.0302501701837987"
      ]
     },
     "metadata": {},
     "output_type": "display_data"
    },
    {
     "data": {
      "text/html": [
       "<div>\n",
       "<style scoped>\n",
       "    .dataframe tbody tr th:only-of-type {\n",
       "        vertical-align: middle;\n",
       "    }\n",
       "\n",
       "    .dataframe tbody tr th {\n",
       "        vertical-align: top;\n",
       "    }\n",
       "\n",
       "    .dataframe thead th {\n",
       "        text-align: right;\n",
       "    }\n",
       "</style>\n",
       "<table border=\"1\" class=\"dataframe\">\n",
       "  <thead>\n",
       "    <tr style=\"text-align: right;\">\n",
       "      <th></th>\n",
       "      <th>total_images</th>\n",
       "      <th>last_price</th>\n",
       "      <th>total_area</th>\n",
       "      <th>first_day_exposition</th>\n",
       "      <th>rooms</th>\n",
       "      <th>ceiling_height</th>\n",
       "      <th>floors_total</th>\n",
       "      <th>living_area</th>\n",
       "      <th>floor</th>\n",
       "      <th>is_apartment</th>\n",
       "      <th>studio</th>\n",
       "      <th>open_plan</th>\n",
       "      <th>kitchen_area</th>\n",
       "      <th>balcony</th>\n",
       "      <th>locality_name</th>\n",
       "      <th>airports_nearest</th>\n",
       "      <th>city_centers_nearest</th>\n",
       "      <th>parks_around_3000</th>\n",
       "      <th>parks_nearest</th>\n",
       "      <th>ponds_around_3000</th>\n",
       "      <th>ponds_nearest</th>\n",
       "      <th>days_exposition</th>\n",
       "      <th>price_per_square_meter</th>\n",
       "      <th>week_day_exposition</th>\n",
       "      <th>month_exposition</th>\n",
       "      <th>year_exposition</th>\n",
       "      <th>floor_class</th>\n",
       "      <th>city_centers_nearest_km</th>\n",
       "    </tr>\n",
       "  </thead>\n",
       "  <tbody>\n",
       "  </tbody>\n",
       "</table>\n",
       "</div>"
      ],
      "text/plain": [
       "Empty DataFrame\n",
       "Columns: [total_images, last_price, total_area, first_day_exposition, rooms, ceiling_height, floors_total, living_area, floor, is_apartment, studio, open_plan, kitchen_area, balcony, locality_name, airports_nearest, city_centers_nearest, parks_around_3000, parks_nearest, ponds_around_3000, ponds_nearest, days_exposition, price_per_square_meter, week_day_exposition, month_exposition, year_exposition, floor_class, city_centers_nearest_km]\n",
       "Index: []"
      ]
     },
     "execution_count": 58,
     "metadata": {},
     "output_type": "execute_result"
    }
   ],
   "source": [
    "rooms_mean = data.query('rooms <= 5')['rooms'].mean()\n",
    "display(rooms_mean)\n",
    "data.loc[data['rooms'] > 5, 'rooms'] = rooms_mean\n",
    "\n",
    "data.query('rooms > 5')"
   ]
  },
  {
   "cell_type": "code",
   "execution_count": 59,
   "metadata": {},
   "outputs": [],
   "source": [
    "data['rooms'] = data['rooms'].astype('int')"
   ]
  },
  {
   "cell_type": "code",
   "execution_count": 60,
   "metadata": {},
   "outputs": [
    {
     "data": {
      "image/png": "[encoded data removed]",
      "text/plain": [
       "<Figure size 360x360 with 1 Axes>"
      ]
     },
     "metadata": {
      "needs_background": "light"
     },
     "output_type": "display_data"
    }
   ],
   "source": [
    "data.plot(y = 'rooms', kind = 'hist', bins = 10, grid=True, figsize = (5,5), range = (1,10), title='Количество комнат');"
   ]
  },
  {
   "cell_type": "markdown",
   "metadata": {},
   "source": [
    "В большинстве квартир от 1 до 3 комнат. Квартиру с комнатами больше 5 почти не встречаются."
   ]
  },
  {
   "cell_type": "markdown",
   "metadata": {},
   "source": [
    "**Высота потолков**\n",
    "\n",
    "Максимальная высота потолков была приведена к 4.1 м."
   ]
  },
  {
   "cell_type": "code",
   "execution_count": 61,
   "metadata": {},
   "outputs": [
    {
     "data": {
      "text/plain": [
       "count    23699.000000\n",
       "mean         2.693261\n",
       "std          0.205922\n",
       "min          1.000000\n",
       "25%          2.600000\n",
       "50%          2.650000\n",
       "75%          2.700000\n",
       "max          4.100000\n",
       "Name: ceiling_height, dtype: float64"
      ]
     },
     "execution_count": 61,
     "metadata": {},
     "output_type": "execute_result"
    }
   ],
   "source": [
    "data['ceiling_height'].describe()"
   ]
  },
  {
   "cell_type": "code",
   "execution_count": 62,
   "metadata": {},
   "outputs": [
    {
     "data": {
      "image/png": "[encoded data removed]",
      "text/plain": [
       "<Figure size 360x360 with 1 Axes>"
      ]
     },
     "metadata": {
      "needs_background": "light"
     },
     "output_type": "display_data"
    }
   ],
   "source": [
    "data.plot(y = 'ceiling_height', kind = 'hist', bins = 4, grid=True, figsize = (5,5), range = (0,4), title='Высота потолков');"
   ]
  },
  {
   "cell_type": "markdown",
   "metadata": {},
   "source": [
    "**Этаж квартиры**\n",
    "\n",
    "floor: max=33 может быть правдивым, но по графику большинство квартир находятся не выше 25-го этажа."
   ]
  },
  {
   "cell_type": "code",
   "execution_count": 63,
   "metadata": {},
   "outputs": [
    {
     "data": {
      "text/plain": [
       "40"
      ]
     },
     "execution_count": 63,
     "metadata": {},
     "output_type": "execute_result"
    }
   ],
   "source": [
    "data.query('floor > 25')['floor'].count()"
   ]
  },
  {
   "cell_type": "code",
   "execution_count": 64,
   "metadata": {},
   "outputs": [
    {
     "data": {
      "image/png": "[encoded data removed]",
      "text/plain": [
       "<Figure size 360x360 with 1 Axes>"
      ]
     },
     "metadata": {
      "needs_background": "light"
     },
     "output_type": "display_data"
    }
   ],
   "source": [
    "data.plot(y = 'floor', kind = 'hist', bins = 25, grid=True, figsize = (5,5), range = (1,25), title='Этаж квартиры');"
   ]
  },
  {
   "cell_type": "markdown",
   "metadata": {},
   "source": [
    "Много квартир со второго по пятый этаж, но и широкий пик для более высоких этажей. Возможно, дело в большем количестве малоэтажных зданий в старом фонде, а в новостройках продают квартиры реже."
   ]
  },
  {
   "cell_type": "markdown",
   "metadata": {},
   "source": [
    "**Тип этажа квартиры**"
   ]
  },
  {
   "cell_type": "code",
   "execution_count": 65,
   "metadata": {},
   "outputs": [
    {
     "data": {
      "image/png": "[encoded data removed]",
      "text/plain": [
       "<Figure size 360x360 with 1 Axes>"
      ]
     },
     "metadata": {
      "needs_background": "light"
     },
     "output_type": "display_data"
    }
   ],
   "source": [
    "data['floor_class'].value_counts().plot(kind='bar', figsize=(5, 5), legend=True, title='Тип этажа квартиры');"
   ]
  },
  {
   "cell_type": "markdown",
   "metadata": {},
   "source": [
    "Много квартир находятся не на первом и не на последнем этажах."
   ]
  },
  {
   "cell_type": "markdown",
   "metadata": {},
   "source": [
    "**Общее количество этажей в доме**\n",
    "\n",
    "floors_total: max=60 может быть правдивым, но по графику большинство домов не выше 30 этажей."
   ]
  },
  {
   "cell_type": "code",
   "execution_count": 66,
   "metadata": {},
   "outputs": [
    {
     "data": {
      "image/png": "[encoded data removed]",
      "text/plain": [
       "<Figure size 360x360 with 1 Axes>"
      ]
     },
     "metadata": {
      "needs_background": "light"
     },
     "output_type": "display_data"
    }
   ],
   "source": [
    "data.plot(y = 'floors_total', kind = 'hist', bins = 30, grid=True, figsize = (5,5), range = (1,30), title='Общее количество этажей в доме');"
   ]
  },
  {
   "cell_type": "code",
   "execution_count": 67,
   "metadata": {},
   "outputs": [
    {
     "data": {
      "text/plain": [
       "32"
      ]
     },
     "execution_count": 67,
     "metadata": {},
     "output_type": "execute_result"
    }
   ],
   "source": [
    "data.query('floors_total > 30')['floors_total'].count()"
   ]
  },
  {
   "cell_type": "markdown",
   "metadata": {},
   "source": [
    "Преобладают пятиэтажки, девятиэтажки, много 12-, 16-, 25-этажных зданий в выборке."
   ]
  },
  {
   "cell_type": "markdown",
   "metadata": {},
   "source": [
    "График типа этажа квартиры соответствует этажности зданий - поскольку в большинстве домов этажей больше трех, то и предложений с этажами помимо первого и второго будет больше."
   ]
  },
  {
   "cell_type": "markdown",
   "metadata": {},
   "source": [
    "**Расстояние до центра города в метрах;**\n",
    "\n",
    "city_centers_nearest: большинство значений до 60 км от центра.\n"
   ]
  },
  {
   "cell_type": "code",
   "execution_count": 68,
   "metadata": {},
   "outputs": [
    {
     "data": {
      "image/png": "[encoded data removed]",
      "text/plain": [
       "<Figure size 360x360 with 1 Axes>"
      ]
     },
     "metadata": {
      "needs_background": "light"
     },
     "output_type": "display_data"
    }
   ],
   "source": [
    "data.plot(y = 'city_centers_nearest', kind = 'hist', bins = 100, grid=True, figsize = (5,5), range = (0,60000), title='Расстояние до центра города в метрах');"
   ]
  },
  {
   "cell_type": "markdown",
   "metadata": {},
   "source": [
    "Большинство предложений находится в пределах 20 км от центра. Также есть пик в районе 30 км. Меньший пик есть около 50км. Маленькие пики, вероятно, связаны с удаленностью определенных местностей - между ними и городом нет строений, которые можно было бы продать."
   ]
  },
  {
   "cell_type": "markdown",
   "metadata": {},
   "source": [
    "**Расстояние до ближайшего аэропорта;**\n",
    "airports_nearest: min=0 для расстояния до аэропорта очевидная аномалия, по графику большинство значений от 10 000 до 60 000 м.\n"
   ]
  },
  {
   "cell_type": "code",
   "execution_count": 69,
   "metadata": {},
   "outputs": [
    {
     "data": {
      "image/png": "[encoded data removed]",
      "text/plain": [
       "<Figure size 360x360 with 1 Axes>"
      ]
     },
     "metadata": {
      "needs_background": "light"
     },
     "output_type": "display_data"
    }
   ],
   "source": [
    "data.plot(y = 'airports_nearest', kind = 'hist', bins = 10, grid=True, figsize = (5,5), range = (0,60000), title='Расстояние до ближайшего аэропорта');"
   ]
  },
  {
   "cell_type": "code",
   "execution_count": 70,
   "metadata": {},
   "outputs": [
    {
     "data": {
      "text/plain": [
       "310"
      ]
     },
     "execution_count": 70,
     "metadata": {},
     "output_type": "execute_result"
    }
   ],
   "source": [
    "data.query('airports_nearest < 10000')['airports_nearest'].count()"
   ]
  },
  {
   "cell_type": "markdown",
   "metadata": {},
   "source": [
    "**Расстояние до ближайшего парка;**\n",
    "\n",
    "parks_nearest: большинство имеющихся значений до 1 км."
   ]
  },
  {
   "cell_type": "code",
   "execution_count": 71,
   "metadata": {},
   "outputs": [
    {
     "data": {
      "image/png": "[encoded data removed]",
      "text/plain": [
       "<Figure size 360x360 with 1 Axes>"
      ]
     },
     "metadata": {
      "needs_background": "light"
     },
     "output_type": "display_data"
    }
   ],
   "source": [
    "\n",
    "data.plot(y = 'ponds_nearest', kind = 'hist', bins = 10, grid=True, figsize = (5,5), range = (0,1500), title='Расстояние до ближайшего парка');"
   ]
  },
  {
   "cell_type": "code",
   "execution_count": 72,
   "metadata": {},
   "outputs": [
    {
     "data": {
      "text/plain": [
       "377"
      ]
     },
     "execution_count": 72,
     "metadata": {},
     "output_type": "execute_result"
    }
   ],
   "source": [
    "data.query('parks_nearest > 1000')['parks_nearest'].count()"
   ]
  },
  {
   "cell_type": "markdown",
   "metadata": {},
   "source": [
    "**День и месяц публикации объявления**\n",
    "\n",
    "'week_day_exposition', 'month_exposition'"
   ]
  },
  {
   "cell_type": "code",
   "execution_count": 73,
   "metadata": {},
   "outputs": [
    {
     "data": {
      "image/png": "[encoded data removed]",
      "text/plain": [
       "<Figure size 360x360 with 1 Axes>"
      ]
     },
     "metadata": {
      "needs_background": "light"
     },
     "output_type": "display_data"
    }
   ],
   "source": [
    "data['week_day_exposition'].value_counts().plot(kind='bar', figsize=(5, 5), legend=True, title='День публикации объявления');"
   ]
  },
  {
   "cell_type": "code",
   "execution_count": 74,
   "metadata": {},
   "outputs": [
    {
     "data": {
      "image/png": "[encoded data removed]",
      "text/plain": [
       "<Figure size 360x360 with 1 Axes>"
      ]
     },
     "metadata": {
      "needs_background": "light"
     },
     "output_type": "display_data"
    }
   ],
   "source": [
    "data['month_exposition'].value_counts().plot(kind='bar', figsize=(5, 5), legend=True, title='Месяц публикации объявления');"
   ]
  },
  {
   "cell_type": "code",
   "execution_count": 75,
   "metadata": {},
   "outputs": [
    {
     "data": {
      "text/plain": [
       "0"
      ]
     },
     "execution_count": 75,
     "metadata": {},
     "output_type": "execute_result"
    }
   ],
   "source": [
    "data.query('month_exposition < 1')['month_exposition'].count()"
   ]
  },
  {
   "cell_type": "markdown",
   "metadata": {},
   "source": [
    "В будни люди публикуют объявления гораздо чаще, чем в выходные. \n",
    "По году наибольший всплеск активности с февраоя по апрель, осенью тоже довольно высокие пики, а вот зимой и летом люди расстаются с собственностью неохотно."
   ]
  },
  {
   "cell_type": "markdown",
   "metadata": {},
   "source": [
    "### Выводы по разделу 4.1:\n",
    "\n",
    "Аномальные выбросы по столбцам заменены на средния значения. \n",
    "\n",
    "Большинство квартир в выборке общей площадью от 20 до 150 кв.м, при этом жилая площадь составляет от 13 до 100 кв.м, а площадь кухни - от 5 до 25 кв.м.\n",
    "\n",
    "Большинство предложений стоит 4-5 млн, много квартир в пределах 30 млн рублей, хотя встречается и более дорогое жилье (возможно, есть корреляция между аномально большими площадями и высокой стоимостью).\n",
    "\n",
    "Стандартная квартира будет состоять не более, чем из 5 комнат (в большинстве 1-3 комнаты) и находиться не выше 20-го этажа в домах стандартной этажности (5, 9, 12, 16, 25 этажей).\n",
    "\n",
    "Максимальная высота потолков была приведена к 4,1 метра. Медианное значение составляет 2,65 м.\n",
    "\n",
    "Большинство квартир продается в черте города, но это объясняется и большим количеством квартир в городе в принципе, чем в деревне за 30 или 50 км от Санкт-Петербурга.\n",
    "\n",
    "Квартиры распределены географически равномерно относительно аэропорта. Однако есть данные о 310 квартирах, расположенных в пределах километра от аэропорта, это кажется неправдоподобным.\n",
    "\n",
    "Картографические данные есть по находящимся вблизи паркам и прудам - вероятно, при отдалении больше, чем на 1-5 километров, эта информация становится не актуальной для покупателя.\n",
    "\n",
    "Объявления о продаже публикуют чаще всего в будни весной (с февраля по апрель) или осенью. В январские и майские праздники люди, вероятно, не хотят заниматься продажей своей собственности."
   ]
  },
  {
   "cell_type": "markdown",
   "metadata": {},
   "source": [
    "### Как быстро продавались квартиры "
   ]
  },
  {
   "cell_type": "code",
   "execution_count": 76,
   "metadata": {},
   "outputs": [
    {
     "data": {
      "image/png": "[encoded data removed]",
      "text/plain": [
       "<Figure size 360x360 with 1 Axes>"
      ]
     },
     "metadata": {
      "needs_background": "light"
     },
     "output_type": "display_data"
    }
   ],
   "source": [
    "data.plot(y = 'days_exposition', kind = 'hist', bins = 100, grid=True, figsize = (5,5), range = (0,1580), title='Количество дней публикации');"
   ]
  },
  {
   "cell_type": "code",
   "execution_count": 77,
   "metadata": {},
   "outputs": [
    {
     "data": {
      "text/plain": [
       "<AxesSubplot:title={'center':'Количество дней публикации'}, ylabel='Frequency'>"
      ]
     },
     "execution_count": 77,
     "metadata": {},
     "output_type": "execute_result"
    },
    {
     "data": {
      "image/png": "[encoded data removed]",
      "text/plain": [
       "<Figure size 360x360 with 1 Axes>"
      ]
     },
     "metadata": {
      "needs_background": "light"
     },
     "output_type": "display_data"
    }
   ],
   "source": [
    "data.plot(y = 'days_exposition', kind = 'hist', bins = 100, grid=True, figsize = (5,5), range = (0,100), title='Количество дней публикации')"
   ]
  },
  {
   "cell_type": "markdown",
   "metadata": {},
   "source": [
    "Пики находятся на сроке 45 и 60 дней, когда объявление автоматически удаляется, если его не продлить. Вероятно, квартира была продана в промежутке 0-45 дней или 46-60 дней, но продавец сам не снял объявление о продаже."
   ]
  },
  {
   "cell_type": "code",
   "execution_count": 78,
   "metadata": {},
   "outputs": [
    {
     "data": {
      "text/plain": [
       "count    20518.000000\n",
       "mean       180.888634\n",
       "std        219.727988\n",
       "min          1.000000\n",
       "25%         45.000000\n",
       "50%         95.000000\n",
       "75%        232.000000\n",
       "max       1580.000000\n",
       "Name: days_exposition, dtype: float64"
      ]
     },
     "execution_count": 78,
     "metadata": {},
     "output_type": "execute_result"
    }
   ],
   "source": [
    "data['days_exposition'].describe()"
   ]
  },
  {
   "cell_type": "markdown",
   "metadata": {},
   "source": [
    "Среднее равно 180 дням, медиана - 95 дням. Большая разница из-за выбросов. Посмотрим диаграмму размаха."
   ]
  },
  {
   "cell_type": "code",
   "execution_count": 79,
   "metadata": {},
   "outputs": [
    {
     "data": {
      "text/plain": [
       "<AxesSubplot:>"
      ]
     },
     "execution_count": 79,
     "metadata": {},
     "output_type": "execute_result"
    },
    {
     "data": {
      "image/png": "[encoded data removed]",
      "text/plain": [
       "<Figure size 576x432 with 1 Axes>"
      ]
     },
     "metadata": {
      "needs_background": "light"
     },
     "output_type": "display_data"
    }
   ],
   "source": [
    "data.boxplot(column='days_exposition', figsize=(8, 6))\n"
   ]
  },
  {
   "cell_type": "markdown",
   "metadata": {},
   "source": [
    "**Вывод по разделу 4.2**: Значения от 232 до 500 дней можно считать необычно долгими. Выше 500 - выбросы. Продажи от 1 до 45 дней можно считать быстрыми."
   ]
  },
  {
   "cell_type": "markdown",
   "metadata": {},
   "source": [
    "#### Какие факторы больше всего влияют на общую (полную) стоимость объекта\n",
    "\n",
    "Зависит ли цена от:\n",
    "\n",
    "- общей площади;\n",
    "- жилой площади;\n",
    "- площади кухни;\n",
    "- количества комнат;\n",
    "- этажа, на котором расположена квартира (первый, последний, другой);\n",
    "- даты размещения (день недели, месяц, год)."
   ]
  },
  {
   "cell_type": "code",
   "execution_count": 80,
   "metadata": {},
   "outputs": [
    {
     "data": {
      "text/html": [
       "<div>\n",
       "<style scoped>\n",
       "    .dataframe tbody tr th:only-of-type {\n",
       "        vertical-align: middle;\n",
       "    }\n",
       "\n",
       "    .dataframe tbody tr th {\n",
       "        vertical-align: top;\n",
       "    }\n",
       "\n",
       "    .dataframe thead th {\n",
       "        text-align: right;\n",
       "    }\n",
       "</style>\n",
       "<table border=\"1\" class=\"dataframe\">\n",
       "  <thead>\n",
       "    <tr style=\"text-align: right;\">\n",
       "      <th></th>\n",
       "      <th>mean</th>\n",
       "      <th>count</th>\n",
       "      <th>median</th>\n",
       "    </tr>\n",
       "    <tr>\n",
       "      <th>total_area</th>\n",
       "      <th></th>\n",
       "      <th></th>\n",
       "      <th></th>\n",
       "    </tr>\n",
       "  </thead>\n",
       "  <tbody>\n",
       "    <tr>\n",
       "      <th>133.50</th>\n",
       "      <td>29999000.0</td>\n",
       "      <td>1</td>\n",
       "      <td>29999000.0</td>\n",
       "    </tr>\n",
       "    <tr>\n",
       "      <th>130.21</th>\n",
       "      <td>29375000.0</td>\n",
       "      <td>1</td>\n",
       "      <td>29375000.0</td>\n",
       "    </tr>\n",
       "    <tr>\n",
       "      <th>114.55</th>\n",
       "      <td>28114000.0</td>\n",
       "      <td>1</td>\n",
       "      <td>28114000.0</td>\n",
       "    </tr>\n",
       "    <tr>\n",
       "      <th>140.70</th>\n",
       "      <td>27577200.0</td>\n",
       "      <td>1</td>\n",
       "      <td>27577200.0</td>\n",
       "    </tr>\n",
       "    <tr>\n",
       "      <th>141.20</th>\n",
       "      <td>26667500.0</td>\n",
       "      <td>2</td>\n",
       "      <td>26667500.0</td>\n",
       "    </tr>\n",
       "    <tr>\n",
       "      <th>...</th>\n",
       "      <td>...</td>\n",
       "      <td>...</td>\n",
       "      <td>...</td>\n",
       "    </tr>\n",
       "    <tr>\n",
       "      <th>29.62</th>\n",
       "      <td>1300000.0</td>\n",
       "      <td>1</td>\n",
       "      <td>1300000.0</td>\n",
       "    </tr>\n",
       "    <tr>\n",
       "      <th>14.00</th>\n",
       "      <td>1190000.0</td>\n",
       "      <td>1</td>\n",
       "      <td>1190000.0</td>\n",
       "    </tr>\n",
       "    <tr>\n",
       "      <th>28.60</th>\n",
       "      <td>2034000.0</td>\n",
       "      <td>5</td>\n",
       "      <td>1060000.0</td>\n",
       "    </tr>\n",
       "    <tr>\n",
       "      <th>19.50</th>\n",
       "      <td>945750.0</td>\n",
       "      <td>1</td>\n",
       "      <td>945750.0</td>\n",
       "    </tr>\n",
       "    <tr>\n",
       "      <th>28.66</th>\n",
       "      <td>690000.0</td>\n",
       "      <td>1</td>\n",
       "      <td>690000.0</td>\n",
       "    </tr>\n",
       "  </tbody>\n",
       "</table>\n",
       "<p>1866 rows × 3 columns</p>\n",
       "</div>"
      ],
      "text/plain": [
       "                  mean  count      median\n",
       "total_area                               \n",
       "133.50      29999000.0      1  29999000.0\n",
       "130.21      29375000.0      1  29375000.0\n",
       "114.55      28114000.0      1  28114000.0\n",
       "140.70      27577200.0      1  27577200.0\n",
       "141.20      26667500.0      2  26667500.0\n",
       "...                ...    ...         ...\n",
       "29.62        1300000.0      1   1300000.0\n",
       "14.00        1190000.0      1   1190000.0\n",
       "28.60        2034000.0      5   1060000.0\n",
       "19.50         945750.0      1    945750.0\n",
       "28.66         690000.0      1    690000.0\n",
       "\n",
       "[1866 rows x 3 columns]"
      ]
     },
     "metadata": {},
     "output_type": "display_data"
    },
    {
     "data": {
      "text/plain": [
       "0.6598617350085122"
      ]
     },
     "execution_count": 80,
     "metadata": {},
     "output_type": "execute_result"
    },
    {
     "data": {
      "image/png": "[encoded data removed]",
      "text/plain": [
       "<Figure size 432x288 with 1 Axes>"
      ]
     },
     "metadata": {
      "needs_background": "light"
     },
     "output_type": "display_data"
    }
   ],
   "source": [
    "#зависимость стоимости от общей площади\n",
    "pivot_table_total_area = data.pivot_table(index = 'total_area', values = 'last_price', aggfunc = ['mean', 'count', 'median'])\n",
    "pivot_table_total_area.columns = ['mean', 'count', 'median']\n",
    "pivot_table_total_area.plot(y = 'median', style = 'o', alpha=0.5)\n",
    "\n",
    "display(pivot_table_total_area.sort_values('median', ascending = False))\n",
    "\n",
    "data['total_area'].corr(data['last_price'])"
   ]
  },
  {
   "cell_type": "markdown",
   "metadata": {},
   "source": [
    "Между площадью квартиры и стоимостью довольно высокая корреляция - 0,66. Наибольшее количество квартир площадью до 200 кв м при цене продажи до 30 млн рублей. Но есть квартиры, с плоащдью меньше и одновременно ценой выше."
   ]
  },
  {
   "cell_type": "code",
   "execution_count": 81,
   "metadata": {},
   "outputs": [
    {
     "data": {
      "text/html": [
       "<div>\n",
       "<style scoped>\n",
       "    .dataframe tbody tr th:only-of-type {\n",
       "        vertical-align: middle;\n",
       "    }\n",
       "\n",
       "    .dataframe tbody tr th {\n",
       "        vertical-align: top;\n",
       "    }\n",
       "\n",
       "    .dataframe thead th {\n",
       "        text-align: right;\n",
       "    }\n",
       "</style>\n",
       "<table border=\"1\" class=\"dataframe\">\n",
       "  <thead>\n",
       "    <tr style=\"text-align: right;\">\n",
       "      <th></th>\n",
       "      <th>mean</th>\n",
       "      <th>count</th>\n",
       "      <th>median</th>\n",
       "    </tr>\n",
       "    <tr>\n",
       "      <th>living_area</th>\n",
       "      <th></th>\n",
       "      <th></th>\n",
       "      <th></th>\n",
       "    </tr>\n",
       "  </thead>\n",
       "  <tbody>\n",
       "    <tr>\n",
       "      <th>87.80</th>\n",
       "      <td>29900000.0</td>\n",
       "      <td>1</td>\n",
       "      <td>29900000.0</td>\n",
       "    </tr>\n",
       "    <tr>\n",
       "      <th>69.75</th>\n",
       "      <td>29500000.0</td>\n",
       "      <td>1</td>\n",
       "      <td>29500000.0</td>\n",
       "    </tr>\n",
       "    <tr>\n",
       "      <th>96.60</th>\n",
       "      <td>29500000.0</td>\n",
       "      <td>1</td>\n",
       "      <td>29500000.0</td>\n",
       "    </tr>\n",
       "    <tr>\n",
       "      <th>72.79</th>\n",
       "      <td>29375000.0</td>\n",
       "      <td>1</td>\n",
       "      <td>29375000.0</td>\n",
       "    </tr>\n",
       "    <tr>\n",
       "      <th>92.50</th>\n",
       "      <td>28800000.0</td>\n",
       "      <td>1</td>\n",
       "      <td>28800000.0</td>\n",
       "    </tr>\n",
       "    <tr>\n",
       "      <th>...</th>\n",
       "      <td>...</td>\n",
       "      <td>...</td>\n",
       "      <td>...</td>\n",
       "    </tr>\n",
       "    <tr>\n",
       "      <th>16.31</th>\n",
       "      <td>1700000.0</td>\n",
       "      <td>1</td>\n",
       "      <td>1700000.0</td>\n",
       "    </tr>\n",
       "    <tr>\n",
       "      <th>18.11</th>\n",
       "      <td>1695000.0</td>\n",
       "      <td>2</td>\n",
       "      <td>1695000.0</td>\n",
       "    </tr>\n",
       "    <tr>\n",
       "      <th>12.81</th>\n",
       "      <td>1690715.0</td>\n",
       "      <td>1</td>\n",
       "      <td>1690715.0</td>\n",
       "    </tr>\n",
       "    <tr>\n",
       "      <th>10.94</th>\n",
       "      <td>1550000.0</td>\n",
       "      <td>1</td>\n",
       "      <td>1550000.0</td>\n",
       "    </tr>\n",
       "    <tr>\n",
       "      <th>20.97</th>\n",
       "      <td>990000.0</td>\n",
       "      <td>1</td>\n",
       "      <td>990000.0</td>\n",
       "    </tr>\n",
       "  </tbody>\n",
       "</table>\n",
       "<p>1561 rows × 3 columns</p>\n",
       "</div>"
      ],
      "text/plain": [
       "                   mean  count      median\n",
       "living_area                               \n",
       "87.80        29900000.0      1  29900000.0\n",
       "69.75        29500000.0      1  29500000.0\n",
       "96.60        29500000.0      1  29500000.0\n",
       "72.79        29375000.0      1  29375000.0\n",
       "92.50        28800000.0      1  28800000.0\n",
       "...                 ...    ...         ...\n",
       "16.31         1700000.0      1   1700000.0\n",
       "18.11         1695000.0      2   1695000.0\n",
       "12.81         1690715.0      1   1690715.0\n",
       "10.94         1550000.0      1   1550000.0\n",
       "20.97          990000.0      1    990000.0\n",
       "\n",
       "[1561 rows x 3 columns]"
      ]
     },
     "metadata": {},
     "output_type": "display_data"
    },
    {
     "data": {
      "text/plain": [
       "0.5730745096357254"
      ]
     },
     "execution_count": 81,
     "metadata": {},
     "output_type": "execute_result"
    },
    {
     "data": {
      "image/png": "[encoded data removed]",
      "text/plain": [
       "<Figure size 432x288 with 1 Axes>"
      ]
     },
     "metadata": {
      "needs_background": "light"
     },
     "output_type": "display_data"
    }
   ],
   "source": [
    "#зависимость стоимости от жилой площади\n",
    "pivot_table_living_area = data.pivot_table(index = 'living_area', values = 'last_price', aggfunc = ['mean', 'count', 'median'])\n",
    "pivot_table_living_area.columns = ['mean', 'count', 'median']\n",
    "pivot_table_living_area.plot(y = 'median', style = 'o', alpha=0.5)\n",
    "\n",
    "display(pivot_table_living_area.sort_values('median', ascending = False))\n",
    "\n",
    "data['living_area'].corr(data['last_price'])"
   ]
  },
  {
   "cell_type": "markdown",
   "metadata": {},
   "source": [
    "Корреляция стоимости и жилой площади уже меньше, 0,57. От 90 до 150 кв.м цена почти не увеличивается в основной массе. "
   ]
  },
  {
   "cell_type": "code",
   "execution_count": 82,
   "metadata": {},
   "outputs": [
    {
     "data": {
      "text/html": [
       "<div>\n",
       "<style scoped>\n",
       "    .dataframe tbody tr th:only-of-type {\n",
       "        vertical-align: middle;\n",
       "    }\n",
       "\n",
       "    .dataframe tbody tr th {\n",
       "        vertical-align: top;\n",
       "    }\n",
       "\n",
       "    .dataframe thead th {\n",
       "        text-align: right;\n",
       "    }\n",
       "</style>\n",
       "<table border=\"1\" class=\"dataframe\">\n",
       "  <thead>\n",
       "    <tr style=\"text-align: right;\">\n",
       "      <th></th>\n",
       "      <th>mean</th>\n",
       "      <th>count</th>\n",
       "      <th>median</th>\n",
       "    </tr>\n",
       "    <tr>\n",
       "      <th>rooms</th>\n",
       "      <th></th>\n",
       "      <th></th>\n",
       "      <th></th>\n",
       "    </tr>\n",
       "  </thead>\n",
       "  <tbody>\n",
       "    <tr>\n",
       "      <th>5</th>\n",
       "      <td>1.200403e+07</td>\n",
       "      <td>326</td>\n",
       "      <td>10750000.0</td>\n",
       "    </tr>\n",
       "    <tr>\n",
       "      <th>4</th>\n",
       "      <td>1.006851e+07</td>\n",
       "      <td>1180</td>\n",
       "      <td>8325000.0</td>\n",
       "    </tr>\n",
       "    <tr>\n",
       "      <th>3</th>\n",
       "      <td>7.360178e+06</td>\n",
       "      <td>5814</td>\n",
       "      <td>6033000.0</td>\n",
       "    </tr>\n",
       "    <tr>\n",
       "      <th>2</th>\n",
       "      <td>5.655059e+06</td>\n",
       "      <td>8135</td>\n",
       "      <td>4800000.0</td>\n",
       "    </tr>\n",
       "    <tr>\n",
       "      <th>1</th>\n",
       "      <td>3.814274e+06</td>\n",
       "      <td>8047</td>\n",
       "      <td>3600000.0</td>\n",
       "    </tr>\n",
       "    <tr>\n",
       "      <th>0</th>\n",
       "      <td>3.006663e+06</td>\n",
       "      <td>197</td>\n",
       "      <td>2700000.0</td>\n",
       "    </tr>\n",
       "  </tbody>\n",
       "</table>\n",
       "</div>"
      ],
      "text/plain": [
       "               mean  count      median\n",
       "rooms                                 \n",
       "5      1.200403e+07    326  10750000.0\n",
       "4      1.006851e+07   1180   8325000.0\n",
       "3      7.360178e+06   5814   6033000.0\n",
       "2      5.655059e+06   8135   4800000.0\n",
       "1      3.814274e+06   8047   3600000.0\n",
       "0      3.006663e+06    197   2700000.0"
      ]
     },
     "metadata": {},
     "output_type": "display_data"
    },
    {
     "data": {
      "text/plain": [
       "0.46259038782576795"
      ]
     },
     "execution_count": 82,
     "metadata": {},
     "output_type": "execute_result"
    },
    {
     "data": {
      "image/png": "[encoded data removed]",
      "text/plain": [
       "<Figure size 432x288 with 1 Axes>"
      ]
     },
     "metadata": {
      "needs_background": "light"
     },
     "output_type": "display_data"
    }
   ],
   "source": [
    "#зависимость стоимости от площади кухни\n",
    "pivot_table_rooms = data.pivot_table(index = 'rooms', values = 'last_price', aggfunc = ['mean', 'count', 'median'])\n",
    "pivot_table_rooms.columns = ['mean', 'count', 'median']\n",
    "pivot_table_rooms.plot(y = 'median', style = 'o', alpha=0.5)\n",
    "\n",
    "display(pivot_table_rooms.sort_values('median', ascending = False))\n",
    "\n",
    "data['rooms'].corr(data['last_price'])"
   ]
  },
  {
   "cell_type": "markdown",
   "metadata": {},
   "source": [
    "Корреляция стоимости и площади кухни снова уменьшилась по сравнению с предыдущими показателями, 0,46. От 16 кв.м до 30 кв.м держится примерно на одном уровне."
   ]
  },
  {
   "cell_type": "code",
   "execution_count": 83,
   "metadata": {},
   "outputs": [
    {
     "data": {
      "text/html": [
       "<div>\n",
       "<style scoped>\n",
       "    .dataframe tbody tr th:only-of-type {\n",
       "        vertical-align: middle;\n",
       "    }\n",
       "\n",
       "    .dataframe tbody tr th {\n",
       "        vertical-align: top;\n",
       "    }\n",
       "\n",
       "    .dataframe thead th {\n",
       "        text-align: right;\n",
       "    }\n",
       "</style>\n",
       "<table border=\"1\" class=\"dataframe\">\n",
       "  <thead>\n",
       "    <tr style=\"text-align: right;\">\n",
       "      <th></th>\n",
       "      <th>mean</th>\n",
       "      <th>count</th>\n",
       "      <th>median</th>\n",
       "    </tr>\n",
       "    <tr>\n",
       "      <th>kitchen_area</th>\n",
       "      <th></th>\n",
       "      <th></th>\n",
       "      <th></th>\n",
       "    </tr>\n",
       "  </thead>\n",
       "  <tbody>\n",
       "    <tr>\n",
       "      <th>25.50</th>\n",
       "      <td>29990000.0</td>\n",
       "      <td>1</td>\n",
       "      <td>29990000.0</td>\n",
       "    </tr>\n",
       "    <tr>\n",
       "      <th>23.71</th>\n",
       "      <td>29375000.0</td>\n",
       "      <td>1</td>\n",
       "      <td>29375000.0</td>\n",
       "    </tr>\n",
       "    <tr>\n",
       "      <th>40.40</th>\n",
       "      <td>29000000.0</td>\n",
       "      <td>1</td>\n",
       "      <td>29000000.0</td>\n",
       "    </tr>\n",
       "    <tr>\n",
       "      <th>27.10</th>\n",
       "      <td>29000000.0</td>\n",
       "      <td>1</td>\n",
       "      <td>29000000.0</td>\n",
       "    </tr>\n",
       "    <tr>\n",
       "      <th>32.90</th>\n",
       "      <td>29000000.0</td>\n",
       "      <td>1</td>\n",
       "      <td>29000000.0</td>\n",
       "    </tr>\n",
       "    <tr>\n",
       "      <th>...</th>\n",
       "      <td>...</td>\n",
       "      <td>...</td>\n",
       "      <td>...</td>\n",
       "    </tr>\n",
       "    <tr>\n",
       "      <th>4.40</th>\n",
       "      <td>1800000.0</td>\n",
       "      <td>2</td>\n",
       "      <td>1800000.0</td>\n",
       "    </tr>\n",
       "    <tr>\n",
       "      <th>6.22</th>\n",
       "      <td>1720000.0</td>\n",
       "      <td>1</td>\n",
       "      <td>1720000.0</td>\n",
       "    </tr>\n",
       "    <tr>\n",
       "      <th>6.73</th>\n",
       "      <td>1718857.0</td>\n",
       "      <td>1</td>\n",
       "      <td>1718857.0</td>\n",
       "    </tr>\n",
       "    <tr>\n",
       "      <th>5.91</th>\n",
       "      <td>1300000.0</td>\n",
       "      <td>1</td>\n",
       "      <td>1300000.0</td>\n",
       "    </tr>\n",
       "    <tr>\n",
       "      <th>40.50</th>\n",
       "      <td>12190.0</td>\n",
       "      <td>1</td>\n",
       "      <td>12190.0</td>\n",
       "    </tr>\n",
       "  </tbody>\n",
       "</table>\n",
       "<p>971 rows × 3 columns</p>\n",
       "</div>"
      ],
      "text/plain": [
       "                    mean  count      median\n",
       "kitchen_area                               \n",
       "25.50         29990000.0      1  29990000.0\n",
       "23.71         29375000.0      1  29375000.0\n",
       "40.40         29000000.0      1  29000000.0\n",
       "27.10         29000000.0      1  29000000.0\n",
       "32.90         29000000.0      1  29000000.0\n",
       "...                  ...    ...         ...\n",
       "4.40           1800000.0      2   1800000.0\n",
       "6.22           1720000.0      1   1720000.0\n",
       "6.73           1718857.0      1   1718857.0\n",
       "5.91           1300000.0      1   1300000.0\n",
       "40.50            12190.0      1     12190.0\n",
       "\n",
       "[971 rows x 3 columns]"
      ]
     },
     "metadata": {},
     "output_type": "display_data"
    },
    {
     "data": {
      "text/plain": [
       "0.5248849862010978"
      ]
     },
     "execution_count": 83,
     "metadata": {},
     "output_type": "execute_result"
    },
    {
     "data": {
      "image/png": "[encoded data removed]",
      "text/plain": [
       "<Figure size 432x288 with 1 Axes>"
      ]
     },
     "metadata": {
      "needs_background": "light"
     },
     "output_type": "display_data"
    }
   ],
   "source": [
    "#зависимость стоимости от количества комнат\n",
    "pivot_table_kitchen_area = data.pivot_table(index = 'kitchen_area', values = 'last_price', aggfunc = ['mean', 'count', 'median'])\n",
    "pivot_table_kitchen_area.columns = ['mean', 'count', 'median']\n",
    "pivot_table_kitchen_area.plot(y = 'median', style = 'o', alpha=0.5)\n",
    "\n",
    "display(pivot_table_kitchen_area.sort_values('median', ascending = False))\n",
    "\n",
    "data['kitchen_area'].corr(data['last_price'])"
   ]
  },
  {
   "cell_type": "markdown",
   "metadata": {},
   "source": [
    "Корреляция между количеством комнат и стоимостью есть (0,52), но подверженная влиянию других факторов. При одинаковом количестве комнат площадь квартиры может очень сильно отличаться, поэтому, например, цена за 2х и 3х комнатную квартиру будет примерно одинаковой при равной площади."
   ]
  },
  {
   "cell_type": "code",
   "execution_count": 84,
   "metadata": {},
   "outputs": [
    {
     "data": {
      "text/html": [
       "<div>\n",
       "<style scoped>\n",
       "    .dataframe tbody tr th:only-of-type {\n",
       "        vertical-align: middle;\n",
       "    }\n",
       "\n",
       "    .dataframe tbody tr th {\n",
       "        vertical-align: top;\n",
       "    }\n",
       "\n",
       "    .dataframe thead th {\n",
       "        text-align: right;\n",
       "    }\n",
       "</style>\n",
       "<table border=\"1\" class=\"dataframe\">\n",
       "  <thead>\n",
       "    <tr style=\"text-align: right;\">\n",
       "      <th></th>\n",
       "      <th>mean</th>\n",
       "      <th>count</th>\n",
       "      <th>median</th>\n",
       "    </tr>\n",
       "    <tr>\n",
       "      <th>floor_class</th>\n",
       "      <th></th>\n",
       "      <th></th>\n",
       "      <th></th>\n",
       "    </tr>\n",
       "  </thead>\n",
       "  <tbody>\n",
       "    <tr>\n",
       "      <th>другой</th>\n",
       "      <td>5.960328e+06</td>\n",
       "      <td>17446</td>\n",
       "      <td>4850000.0</td>\n",
       "    </tr>\n",
       "    <tr>\n",
       "      <th>последний</th>\n",
       "      <td>5.575812e+06</td>\n",
       "      <td>3336</td>\n",
       "      <td>4300000.0</td>\n",
       "    </tr>\n",
       "    <tr>\n",
       "      <th>первый</th>\n",
       "      <td>4.556437e+06</td>\n",
       "      <td>2917</td>\n",
       "      <td>3900000.0</td>\n",
       "    </tr>\n",
       "  </tbody>\n",
       "</table>\n",
       "</div>"
      ],
      "text/plain": [
       "                     mean  count     median\n",
       "floor_class                                \n",
       "другой       5.960328e+06  17446  4850000.0\n",
       "последний    5.575812e+06   3336  4300000.0\n",
       "первый       4.556437e+06   2917  3900000.0"
      ]
     },
     "metadata": {},
     "output_type": "display_data"
    },
    {
     "data": {
      "text/plain": [
       "0.07433950435925483"
      ]
     },
     "execution_count": 84,
     "metadata": {},
     "output_type": "execute_result"
    },
    {
     "data": {
      "image/png": "[encoded data removed]",
      "text/plain": [
       "<Figure size 432x288 with 1 Axes>"
      ]
     },
     "metadata": {
      "needs_background": "light"
     },
     "output_type": "display_data"
    }
   ],
   "source": [
    "#зависимость стоимости от этажа, на котором расположена квартира (первый, последний, другой)\n",
    "pivot_table_floor_class = data.pivot_table(index = 'floor_class', values = 'last_price', aggfunc = ['mean', 'count', 'median'])\n",
    "pivot_table_floor_class.columns = ['mean', 'count', 'median']\n",
    "pivot_table_floor_class.plot(kind='bar', y = 'median')\n",
    "\n",
    "display(pivot_table_floor_class.sort_values('median', ascending = False))\n",
    "\n",
    "data['floor'].corr(data['last_price'])"
   ]
  },
  {
   "cell_type": "markdown",
   "metadata": {},
   "source": [
    "Корреляция между этажом и стоимостью крайне низкая - 0,03. При этом медианные значения по типам этажей отличаются. На первом этаже продаются самые дешевые квартиры, на последнем цена также ниже, чем на других этажах."
   ]
  },
  {
   "cell_type": "code",
   "execution_count": 85,
   "metadata": {},
   "outputs": [
    {
     "data": {
      "text/html": [
       "<div>\n",
       "<style scoped>\n",
       "    .dataframe tbody tr th:only-of-type {\n",
       "        vertical-align: middle;\n",
       "    }\n",
       "\n",
       "    .dataframe tbody tr th {\n",
       "        vertical-align: top;\n",
       "    }\n",
       "\n",
       "    .dataframe thead th {\n",
       "        text-align: right;\n",
       "    }\n",
       "</style>\n",
       "<table border=\"1\" class=\"dataframe\">\n",
       "  <thead>\n",
       "    <tr style=\"text-align: right;\">\n",
       "      <th></th>\n",
       "      <th>mean</th>\n",
       "      <th>count</th>\n",
       "      <th>median</th>\n",
       "    </tr>\n",
       "    <tr>\n",
       "      <th>week_day_exposition</th>\n",
       "      <th></th>\n",
       "      <th></th>\n",
       "      <th></th>\n",
       "    </tr>\n",
       "  </thead>\n",
       "  <tbody>\n",
       "    <tr>\n",
       "      <th>1</th>\n",
       "      <td>5.746967e+06</td>\n",
       "      <td>4183</td>\n",
       "      <td>4730000.0</td>\n",
       "    </tr>\n",
       "    <tr>\n",
       "      <th>2</th>\n",
       "      <td>5.861704e+06</td>\n",
       "      <td>3974</td>\n",
       "      <td>4700000.0</td>\n",
       "    </tr>\n",
       "    <tr>\n",
       "      <th>0</th>\n",
       "      <td>5.775357e+06</td>\n",
       "      <td>3612</td>\n",
       "      <td>4650000.0</td>\n",
       "    </tr>\n",
       "    <tr>\n",
       "      <th>3</th>\n",
       "      <td>5.856041e+06</td>\n",
       "      <td>4295</td>\n",
       "      <td>4650000.0</td>\n",
       "    </tr>\n",
       "    <tr>\n",
       "      <th>4</th>\n",
       "      <td>5.647123e+06</td>\n",
       "      <td>4000</td>\n",
       "      <td>4585000.0</td>\n",
       "    </tr>\n",
       "    <tr>\n",
       "      <th>5</th>\n",
       "      <td>5.492210e+06</td>\n",
       "      <td>1936</td>\n",
       "      <td>4555000.0</td>\n",
       "    </tr>\n",
       "    <tr>\n",
       "      <th>6</th>\n",
       "      <td>5.478659e+06</td>\n",
       "      <td>1699</td>\n",
       "      <td>4550000.0</td>\n",
       "    </tr>\n",
       "  </tbody>\n",
       "</table>\n",
       "</div>"
      ],
      "text/plain": [
       "                             mean  count     median\n",
       "week_day_exposition                                \n",
       "1                    5.746967e+06   4183  4730000.0\n",
       "2                    5.861704e+06   3974  4700000.0\n",
       "0                    5.775357e+06   3612  4650000.0\n",
       "3                    5.856041e+06   4295  4650000.0\n",
       "4                    5.647123e+06   4000  4585000.0\n",
       "5                    5.492210e+06   1936  4555000.0\n",
       "6                    5.478659e+06   1699  4550000.0"
      ]
     },
     "execution_count": 85,
     "metadata": {},
     "output_type": "execute_result"
    },
    {
     "data": {
      "image/png": "[encoded data removed]",
      "text/plain": [
       "<Figure size 432x288 with 1 Axes>"
      ]
     },
     "metadata": {
      "needs_background": "light"
     },
     "output_type": "display_data"
    }
   ],
   "source": [
    "#зависимость стоимости от даты размещения (день недели)\n",
    "pivot_table_week_day_exposition = data.pivot_table(index = 'week_day_exposition', values = 'last_price', aggfunc = ['mean', 'count', 'median'])\n",
    "pivot_table_week_day_exposition.columns = ['mean', 'count', 'median']\n",
    "pivot_table_week_day_exposition.plot(kind='bar', y = 'median')\n",
    "\n",
    "pivot_table_week_day_exposition.sort_values('median', ascending = False)\n"
   ]
  },
  {
   "cell_type": "markdown",
   "metadata": {},
   "source": [
    "Корреляция между стоимостью квартиры и днем публикации нелинейная. Во все дни недели медиана стоимости примерно одинаковая. Самые дорогие квартиры продают во вторник и в среду (4,7 млн). Самые дешевые - в субботу и в воскресенье (4,55 млн)."
   ]
  },
  {
   "cell_type": "code",
   "execution_count": 86,
   "metadata": {},
   "outputs": [
    {
     "data": {
      "text/html": [
       "<div>\n",
       "<style scoped>\n",
       "    .dataframe tbody tr th:only-of-type {\n",
       "        vertical-align: middle;\n",
       "    }\n",
       "\n",
       "    .dataframe tbody tr th {\n",
       "        vertical-align: top;\n",
       "    }\n",
       "\n",
       "    .dataframe thead th {\n",
       "        text-align: right;\n",
       "    }\n",
       "</style>\n",
       "<table border=\"1\" class=\"dataframe\">\n",
       "  <thead>\n",
       "    <tr style=\"text-align: right;\">\n",
       "      <th></th>\n",
       "      <th>mean</th>\n",
       "      <th>count</th>\n",
       "      <th>median</th>\n",
       "    </tr>\n",
       "    <tr>\n",
       "      <th>month_exposition</th>\n",
       "      <th></th>\n",
       "      <th></th>\n",
       "      <th></th>\n",
       "    </tr>\n",
       "  </thead>\n",
       "  <tbody>\n",
       "    <tr>\n",
       "      <th>4</th>\n",
       "      <td>5.821884e+06</td>\n",
       "      <td>2379</td>\n",
       "      <td>4800000.0</td>\n",
       "    </tr>\n",
       "    <tr>\n",
       "      <th>9</th>\n",
       "      <td>5.847629e+06</td>\n",
       "      <td>1981</td>\n",
       "      <td>4700000.0</td>\n",
       "    </tr>\n",
       "    <tr>\n",
       "      <th>11</th>\n",
       "      <td>5.818481e+06</td>\n",
       "      <td>2371</td>\n",
       "      <td>4700000.0</td>\n",
       "    </tr>\n",
       "    <tr>\n",
       "      <th>12</th>\n",
       "      <td>5.825730e+06</td>\n",
       "      <td>1641</td>\n",
       "      <td>4700000.0</td>\n",
       "    </tr>\n",
       "    <tr>\n",
       "      <th>2</th>\n",
       "      <td>5.729115e+06</td>\n",
       "      <td>2640</td>\n",
       "      <td>4650000.0</td>\n",
       "    </tr>\n",
       "    <tr>\n",
       "      <th>3</th>\n",
       "      <td>5.657093e+06</td>\n",
       "      <td>2587</td>\n",
       "      <td>4650000.0</td>\n",
       "    </tr>\n",
       "    <tr>\n",
       "      <th>7</th>\n",
       "      <td>5.774732e+06</td>\n",
       "      <td>1695</td>\n",
       "      <td>4650000.0</td>\n",
       "    </tr>\n",
       "    <tr>\n",
       "      <th>1</th>\n",
       "      <td>5.834062e+06</td>\n",
       "      <td>1500</td>\n",
       "      <td>4600000.0</td>\n",
       "    </tr>\n",
       "    <tr>\n",
       "      <th>8</th>\n",
       "      <td>5.677211e+06</td>\n",
       "      <td>1744</td>\n",
       "      <td>4570000.0</td>\n",
       "    </tr>\n",
       "    <tr>\n",
       "      <th>10</th>\n",
       "      <td>5.654599e+06</td>\n",
       "      <td>2127</td>\n",
       "      <td>4570000.0</td>\n",
       "    </tr>\n",
       "    <tr>\n",
       "      <th>5</th>\n",
       "      <td>5.651809e+06</td>\n",
       "      <td>1274</td>\n",
       "      <td>4515000.0</td>\n",
       "    </tr>\n",
       "    <tr>\n",
       "      <th>6</th>\n",
       "      <td>5.487519e+06</td>\n",
       "      <td>1760</td>\n",
       "      <td>4400000.0</td>\n",
       "    </tr>\n",
       "  </tbody>\n",
       "</table>\n",
       "</div>"
      ],
      "text/plain": [
       "                          mean  count     median\n",
       "month_exposition                                \n",
       "4                 5.821884e+06   2379  4800000.0\n",
       "9                 5.847629e+06   1981  4700000.0\n",
       "11                5.818481e+06   2371  4700000.0\n",
       "12                5.825730e+06   1641  4700000.0\n",
       "2                 5.729115e+06   2640  4650000.0\n",
       "3                 5.657093e+06   2587  4650000.0\n",
       "7                 5.774732e+06   1695  4650000.0\n",
       "1                 5.834062e+06   1500  4600000.0\n",
       "8                 5.677211e+06   1744  4570000.0\n",
       "10                5.654599e+06   2127  4570000.0\n",
       "5                 5.651809e+06   1274  4515000.0\n",
       "6                 5.487519e+06   1760  4400000.0"
      ]
     },
     "execution_count": 86,
     "metadata": {},
     "output_type": "execute_result"
    },
    {
     "data": {
      "image/png": "[encoded data removed]",
      "text/plain": [
       "<Figure size 432x288 with 1 Axes>"
      ]
     },
     "metadata": {
      "needs_background": "light"
     },
     "output_type": "display_data"
    }
   ],
   "source": [
    "#зависимость стоимости от даты размещения (месяц)\n",
    "pivot_table_month_exposition = data.pivot_table(index = 'month_exposition', values = 'last_price', aggfunc = ['mean', 'count', 'median'])\n",
    "pivot_table_month_exposition.columns = ['mean', 'count', 'median']\n",
    "pivot_table_month_exposition.plot(kind='bar', y = 'median', style = 'o')\n",
    "\n",
    "pivot_table_month_exposition.sort_values('median', ascending = False)"
   ]
  },
  {
   "cell_type": "markdown",
   "metadata": {},
   "source": [
    "Корреляция между стоимостью квартиры и месяцем публикации нелинейная. Во все месяцы медиана стоимости примерно одинаковая.Самое высокое медианное значение наблюдается в апреле (4800000.0 руб.), самое низкое - в июне (4400000.0)."
   ]
  },
  {
   "cell_type": "code",
   "execution_count": 87,
   "metadata": {},
   "outputs": [
    {
     "data": {
      "text/html": [
       "<div>\n",
       "<style scoped>\n",
       "    .dataframe tbody tr th:only-of-type {\n",
       "        vertical-align: middle;\n",
       "    }\n",
       "\n",
       "    .dataframe tbody tr th {\n",
       "        vertical-align: top;\n",
       "    }\n",
       "\n",
       "    .dataframe thead th {\n",
       "        text-align: right;\n",
       "    }\n",
       "</style>\n",
       "<table border=\"1\" class=\"dataframe\">\n",
       "  <thead>\n",
       "    <tr style=\"text-align: right;\">\n",
       "      <th></th>\n",
       "      <th>mean</th>\n",
       "      <th>count</th>\n",
       "      <th>median</th>\n",
       "    </tr>\n",
       "    <tr>\n",
       "      <th>year_exposition</th>\n",
       "      <th></th>\n",
       "      <th></th>\n",
       "      <th></th>\n",
       "    </tr>\n",
       "  </thead>\n",
       "  <tbody>\n",
       "    <tr>\n",
       "      <th>2014</th>\n",
       "      <td>9.356524e+06</td>\n",
       "      <td>137</td>\n",
       "      <td>6800000.0</td>\n",
       "    </tr>\n",
       "    <tr>\n",
       "      <th>2015</th>\n",
       "      <td>6.688323e+06</td>\n",
       "      <td>1191</td>\n",
       "      <td>5350000.0</td>\n",
       "    </tr>\n",
       "    <tr>\n",
       "      <th>2019</th>\n",
       "      <td>6.016548e+06</td>\n",
       "      <td>2879</td>\n",
       "      <td>5050000.0</td>\n",
       "    </tr>\n",
       "    <tr>\n",
       "      <th>2016</th>\n",
       "      <td>5.728898e+06</td>\n",
       "      <td>2783</td>\n",
       "      <td>4550000.0</td>\n",
       "    </tr>\n",
       "    <tr>\n",
       "      <th>2018</th>\n",
       "      <td>5.521702e+06</td>\n",
       "      <td>8519</td>\n",
       "      <td>4550000.0</td>\n",
       "    </tr>\n",
       "    <tr>\n",
       "      <th>2017</th>\n",
       "      <td>5.656133e+06</td>\n",
       "      <td>8190</td>\n",
       "      <td>4500000.0</td>\n",
       "    </tr>\n",
       "  </tbody>\n",
       "</table>\n",
       "</div>"
      ],
      "text/plain": [
       "                         mean  count     median\n",
       "year_exposition                                \n",
       "2014             9.356524e+06    137  6800000.0\n",
       "2015             6.688323e+06   1191  5350000.0\n",
       "2019             6.016548e+06   2879  5050000.0\n",
       "2016             5.728898e+06   2783  4550000.0\n",
       "2018             5.521702e+06   8519  4550000.0\n",
       "2017             5.656133e+06   8190  4500000.0"
      ]
     },
     "execution_count": 87,
     "metadata": {},
     "output_type": "execute_result"
    },
    {
     "data": {
      "image/png": "[encoded data removed]",
      "text/plain": [
       "<Figure size 432x288 with 1 Axes>"
      ]
     },
     "metadata": {
      "needs_background": "light"
     },
     "output_type": "display_data"
    }
   ],
   "source": [
    "#зависимость стоимости от даты размещения (год)\n",
    "pivot_table_year_exposition = data.pivot_table(index = 'year_exposition', values = 'last_price', aggfunc = ['mean', 'count', 'median'])\n",
    "pivot_table_year_exposition.columns = ['mean', 'count', 'median']\n",
    "pivot_table_year_exposition.plot(kind='bar', y = 'median', style = 'o')\n",
    "\n",
    "pivot_table_year_exposition.sort_values('median', ascending = False)"
   ]
  },
  {
   "cell_type": "markdown",
   "metadata": {},
   "source": [
    "Корреляция между стоимостью квартиры и годом публикации нелинейная. В 2014 году цена была выше всего - медиана равна 6800000.0. Дальше было существенное падение и только в 2019 году стоимость начала расти (5050000.0)."
   ]
  },
  {
   "cell_type": "markdown",
   "metadata": {},
   "source": [
    "**Вывод по разделу 4.3**: \n",
    "\n",
    "Наибольшая корреляция между стоимостью квартиру и общей площадью (0.66). Меньше между стоимостью и жилой площадью (0.57), площадью кухни(0.46) и количеством комнат (0,52).\n",
    "\n",
    "Нет явной корреляции между стоимостью и типом этажа (0.07).\n",
    "\n",
    "Между датой, месяцем, годом публикации объявления корреляция нелинейная. \n",
    "\n",
    "Во все дни недели и месяцы года медианная стоимость примерно одинаковая. Самые дорогие квартиры продают во вторник и в среду (4,7 млн) в апреле (4,8 млн руб.). Самые дешевые - в выходные (4,55 млн руб.) в июне (4,4 млн руб.). \n",
    "\n",
    "В 2014 году цена была выше всего - 6,8 млн руб. Дальше было существенное падение и только в 2019 году стоимость начала расти - 5,05 млн руб.\n",
    "    \n",
    "\n",
    " "
   ]
  },
  {
   "cell_type": "markdown",
   "metadata": {},
   "source": [
    "### Исследование средней цены одного квадратного метра в 10 населённых пунктах с наибольшим числом объявлений"
   ]
  },
  {
   "cell_type": "code",
   "execution_count": 88,
   "metadata": {},
   "outputs": [
    {
     "data": {
      "text/html": [
       "<div>\n",
       "<style scoped>\n",
       "    .dataframe tbody tr th:only-of-type {\n",
       "        vertical-align: middle;\n",
       "    }\n",
       "\n",
       "    .dataframe tbody tr th {\n",
       "        vertical-align: top;\n",
       "    }\n",
       "\n",
       "    .dataframe thead th {\n",
       "        text-align: right;\n",
       "    }\n",
       "</style>\n",
       "<table border=\"1\" class=\"dataframe\">\n",
       "  <thead>\n",
       "    <tr style=\"text-align: right;\">\n",
       "      <th></th>\n",
       "      <th>count</th>\n",
       "      <th>mean</th>\n",
       "    </tr>\n",
       "    <tr>\n",
       "      <th>locality_name</th>\n",
       "      <th></th>\n",
       "      <th></th>\n",
       "    </tr>\n",
       "  </thead>\n",
       "  <tbody>\n",
       "    <tr>\n",
       "      <th>САНКТ-ПЕТЕРБУРГ</th>\n",
       "      <td>15721</td>\n",
       "      <td>114849.005788</td>\n",
       "    </tr>\n",
       "    <tr>\n",
       "      <th>ПОСЕЛОК МУРИНО</th>\n",
       "      <td>556</td>\n",
       "      <td>85681.758993</td>\n",
       "    </tr>\n",
       "    <tr>\n",
       "      <th>ПОСЕЛОК ШУШАРЫ</th>\n",
       "      <td>440</td>\n",
       "      <td>78677.379545</td>\n",
       "    </tr>\n",
       "    <tr>\n",
       "      <th>ВСЕВОЛОЖСК</th>\n",
       "      <td>398</td>\n",
       "      <td>68654.474874</td>\n",
       "    </tr>\n",
       "    <tr>\n",
       "      <th>ПУШКИН</th>\n",
       "      <td>369</td>\n",
       "      <td>103125.818428</td>\n",
       "    </tr>\n",
       "    <tr>\n",
       "      <th>КОЛПИНО</th>\n",
       "      <td>338</td>\n",
       "      <td>75424.571006</td>\n",
       "    </tr>\n",
       "    <tr>\n",
       "      <th>ПОСЕЛОК ПАРГОЛОВО</th>\n",
       "      <td>327</td>\n",
       "      <td>90175.886850</td>\n",
       "    </tr>\n",
       "    <tr>\n",
       "      <th>ГАТЧИНА</th>\n",
       "      <td>307</td>\n",
       "      <td>68746.110749</td>\n",
       "    </tr>\n",
       "    <tr>\n",
       "      <th>ДЕРЕВНЯ КУДРОВО</th>\n",
       "      <td>299</td>\n",
       "      <td>92473.588629</td>\n",
       "    </tr>\n",
       "    <tr>\n",
       "      <th>ВЫБОРГ</th>\n",
       "      <td>237</td>\n",
       "      <td>58141.919831</td>\n",
       "    </tr>\n",
       "  </tbody>\n",
       "</table>\n",
       "</div>"
      ],
      "text/plain": [
       "                   count           mean\n",
       "locality_name                          \n",
       "САНКТ-ПЕТЕРБУРГ    15721  114849.005788\n",
       "ПОСЕЛОК МУРИНО       556   85681.758993\n",
       "ПОСЕЛОК ШУШАРЫ       440   78677.379545\n",
       "ВСЕВОЛОЖСК           398   68654.474874\n",
       "ПУШКИН               369  103125.818428\n",
       "КОЛПИНО              338   75424.571006\n",
       "ПОСЕЛОК ПАРГОЛОВО    327   90175.886850\n",
       "ГАТЧИНА              307   68746.110749\n",
       "ДЕРЕВНЯ КУДРОВО      299   92473.588629\n",
       "ВЫБОРГ               237   58141.919831"
      ]
     },
     "metadata": {},
     "output_type": "display_data"
    },
    {
     "data": {
      "text/html": [
       "<div>\n",
       "<style scoped>\n",
       "    .dataframe tbody tr th:only-of-type {\n",
       "        vertical-align: middle;\n",
       "    }\n",
       "\n",
       "    .dataframe tbody tr th {\n",
       "        vertical-align: top;\n",
       "    }\n",
       "\n",
       "    .dataframe thead th {\n",
       "        text-align: right;\n",
       "    }\n",
       "</style>\n",
       "<table border=\"1\" class=\"dataframe\">\n",
       "  <thead>\n",
       "    <tr style=\"text-align: right;\">\n",
       "      <th></th>\n",
       "      <th>count</th>\n",
       "      <th>mean</th>\n",
       "    </tr>\n",
       "    <tr>\n",
       "      <th>locality_name</th>\n",
       "      <th></th>\n",
       "      <th></th>\n",
       "    </tr>\n",
       "  </thead>\n",
       "  <tbody>\n",
       "    <tr>\n",
       "      <th>САНКТ-ПЕТЕРБУРГ</th>\n",
       "      <td>15721</td>\n",
       "      <td>114849.005788</td>\n",
       "    </tr>\n",
       "  </tbody>\n",
       "</table>\n",
       "</div>"
      ],
      "text/plain": [
       "                 count           mean\n",
       "locality_name                        \n",
       "САНКТ-ПЕТЕРБУРГ  15721  114849.005788"
      ]
     },
     "metadata": {},
     "output_type": "display_data"
    },
    {
     "data": {
      "text/html": [
       "<div>\n",
       "<style scoped>\n",
       "    .dataframe tbody tr th:only-of-type {\n",
       "        vertical-align: middle;\n",
       "    }\n",
       "\n",
       "    .dataframe tbody tr th {\n",
       "        vertical-align: top;\n",
       "    }\n",
       "\n",
       "    .dataframe thead th {\n",
       "        text-align: right;\n",
       "    }\n",
       "</style>\n",
       "<table border=\"1\" class=\"dataframe\">\n",
       "  <thead>\n",
       "    <tr style=\"text-align: right;\">\n",
       "      <th></th>\n",
       "      <th>count</th>\n",
       "      <th>mean</th>\n",
       "    </tr>\n",
       "    <tr>\n",
       "      <th>locality_name</th>\n",
       "      <th></th>\n",
       "      <th></th>\n",
       "    </tr>\n",
       "  </thead>\n",
       "  <tbody>\n",
       "    <tr>\n",
       "      <th>ВЫБОРГ</th>\n",
       "      <td>237</td>\n",
       "      <td>58141.919831</td>\n",
       "    </tr>\n",
       "  </tbody>\n",
       "</table>\n",
       "</div>"
      ],
      "text/plain": [
       "               count          mean\n",
       "locality_name                     \n",
       "ВЫБОРГ           237  58141.919831"
      ]
     },
     "metadata": {},
     "output_type": "display_data"
    }
   ],
   "source": [
    "locality_pivot_table = data.pivot_table(index = 'locality_name', values = 'price_per_square_meter', aggfunc=['count', 'mean'])\n",
    "locality_pivot_table.columns = ['count', 'mean']\n",
    "locality_pivot_table = locality_pivot_table.sort_values('count', ascending = False).head(10)\n",
    "display(locality_pivot_table)\n",
    "#самая высокая стоимость\n",
    "display(locality_pivot_table[locality_pivot_table['mean']==locality_pivot_table['mean'].max()])\n",
    "#самая низкая стоимость\n",
    "display(locality_pivot_table[locality_pivot_table['mean']==locality_pivot_table['mean'].min()])"
   ]
  },
  {
   "cell_type": "markdown",
   "metadata": {},
   "source": [
    "#### Вывод по разделу 4.4:\n",
    "\n",
    "Наибольшее количество объявлений в наиболее крупных административных единицах. Очевидно наиболее высокая средняя цена за квадратный метр в Санкт-Петербурге (114 849 руб.), наиболее низкая - в Выборге (58 142 руб.). Также дорогой метр в Пушкине (103 126 руб.), Кудрово (92 474 руб.) и Парголово(90 176 руб.)."
   ]
  },
  {
   "cell_type": "markdown",
   "metadata": {},
   "source": [
    "### Исследование средней цены каждого километра"
   ]
  },
  {
   "cell_type": "code",
   "execution_count": 89,
   "metadata": {},
   "outputs": [
    {
     "data": {
      "text/html": [
       "<div>\n",
       "<style scoped>\n",
       "    .dataframe tbody tr th:only-of-type {\n",
       "        vertical-align: middle;\n",
       "    }\n",
       "\n",
       "    .dataframe tbody tr th {\n",
       "        vertical-align: top;\n",
       "    }\n",
       "\n",
       "    .dataframe thead th {\n",
       "        text-align: right;\n",
       "    }\n",
       "</style>\n",
       "<table border=\"1\" class=\"dataframe\">\n",
       "  <thead>\n",
       "    <tr style=\"text-align: right;\">\n",
       "      <th></th>\n",
       "      <th>mean</th>\n",
       "      <th>count</th>\n",
       "      <th>median</th>\n",
       "    </tr>\n",
       "    <tr>\n",
       "      <th>city_centers_nearest_km</th>\n",
       "      <th></th>\n",
       "      <th></th>\n",
       "      <th></th>\n",
       "    </tr>\n",
       "  </thead>\n",
       "  <tbody>\n",
       "    <tr>\n",
       "      <th>6.0</th>\n",
       "      <td>151012.189320</td>\n",
       "      <td>618</td>\n",
       "      <td>131835.0</td>\n",
       "    </tr>\n",
       "    <tr>\n",
       "      <th>1.0</th>\n",
       "      <td>177005.395833</td>\n",
       "      <td>192</td>\n",
       "      <td>128485.0</td>\n",
       "    </tr>\n",
       "    <tr>\n",
       "      <th>5.0</th>\n",
       "      <td>140509.786957</td>\n",
       "      <td>920</td>\n",
       "      <td>127093.5</td>\n",
       "    </tr>\n",
       "    <tr>\n",
       "      <th>7.0</th>\n",
       "      <td>156176.866667</td>\n",
       "      <td>420</td>\n",
       "      <td>127017.0</td>\n",
       "    </tr>\n",
       "    <tr>\n",
       "      <th>2.0</th>\n",
       "      <td>157848.983871</td>\n",
       "      <td>310</td>\n",
       "      <td>123035.5</td>\n",
       "    </tr>\n",
       "    <tr>\n",
       "      <th>8.0</th>\n",
       "      <td>125671.440536</td>\n",
       "      <td>597</td>\n",
       "      <td>122945.0</td>\n",
       "    </tr>\n",
       "    <tr>\n",
       "      <th>4.0</th>\n",
       "      <td>133282.873547</td>\n",
       "      <td>688</td>\n",
       "      <td>117952.5</td>\n",
       "    </tr>\n",
       "    <tr>\n",
       "      <th>3.0</th>\n",
       "      <td>121387.442857</td>\n",
       "      <td>350</td>\n",
       "      <td>108469.5</td>\n",
       "    </tr>\n",
       "    <tr>\n",
       "      <th>10.0</th>\n",
       "      <td>112727.527121</td>\n",
       "      <td>719</td>\n",
       "      <td>106452.0</td>\n",
       "    </tr>\n",
       "    <tr>\n",
       "      <th>9.0</th>\n",
       "      <td>113131.025295</td>\n",
       "      <td>593</td>\n",
       "      <td>105814.0</td>\n",
       "    </tr>\n",
       "    <tr>\n",
       "      <th>13.0</th>\n",
       "      <td>108148.128346</td>\n",
       "      <td>1457</td>\n",
       "      <td>104082.0</td>\n",
       "    </tr>\n",
       "    <tr>\n",
       "      <th>12.0</th>\n",
       "      <td>107488.737072</td>\n",
       "      <td>1605</td>\n",
       "      <td>103989.0</td>\n",
       "    </tr>\n",
       "    <tr>\n",
       "      <th>11.0</th>\n",
       "      <td>108630.835314</td>\n",
       "      <td>1178</td>\n",
       "      <td>103552.5</td>\n",
       "    </tr>\n",
       "    <tr>\n",
       "      <th>14.0</th>\n",
       "      <td>104252.383112</td>\n",
       "      <td>1279</td>\n",
       "      <td>101865.0</td>\n",
       "    </tr>\n",
       "    <tr>\n",
       "      <th>15.0</th>\n",
       "      <td>104231.974490</td>\n",
       "      <td>1568</td>\n",
       "      <td>101301.0</td>\n",
       "    </tr>\n",
       "    <tr>\n",
       "      <th>16.0</th>\n",
       "      <td>100542.608696</td>\n",
       "      <td>1265</td>\n",
       "      <td>97500.0</td>\n",
       "    </tr>\n",
       "    <tr>\n",
       "      <th>19.0</th>\n",
       "      <td>98652.687898</td>\n",
       "      <td>157</td>\n",
       "      <td>97241.0</td>\n",
       "    </tr>\n",
       "    <tr>\n",
       "      <th>18.0</th>\n",
       "      <td>96362.287356</td>\n",
       "      <td>261</td>\n",
       "      <td>95000.0</td>\n",
       "    </tr>\n",
       "    <tr>\n",
       "      <th>17.0</th>\n",
       "      <td>96597.647792</td>\n",
       "      <td>883</td>\n",
       "      <td>94203.0</td>\n",
       "    </tr>\n",
       "    <tr>\n",
       "      <th>21.0</th>\n",
       "      <td>94469.564103</td>\n",
       "      <td>117</td>\n",
       "      <td>89706.0</td>\n",
       "    </tr>\n",
       "    <tr>\n",
       "      <th>22.0</th>\n",
       "      <td>91330.405941</td>\n",
       "      <td>202</td>\n",
       "      <td>88781.5</td>\n",
       "    </tr>\n",
       "  </tbody>\n",
       "</table>\n",
       "</div>"
      ],
      "text/plain": [
       "                                  mean  count    median\n",
       "city_centers_nearest_km                                \n",
       "6.0                      151012.189320    618  131835.0\n",
       "1.0                      177005.395833    192  128485.0\n",
       "5.0                      140509.786957    920  127093.5\n",
       "7.0                      156176.866667    420  127017.0\n",
       "2.0                      157848.983871    310  123035.5\n",
       "8.0                      125671.440536    597  122945.0\n",
       "4.0                      133282.873547    688  117952.5\n",
       "3.0                      121387.442857    350  108469.5\n",
       "10.0                     112727.527121    719  106452.0\n",
       "9.0                      113131.025295    593  105814.0\n",
       "13.0                     108148.128346   1457  104082.0\n",
       "12.0                     107488.737072   1605  103989.0\n",
       "11.0                     108630.835314   1178  103552.5\n",
       "14.0                     104252.383112   1279  101865.0\n",
       "15.0                     104231.974490   1568  101301.0\n",
       "16.0                     100542.608696   1265   97500.0\n",
       "19.0                      98652.687898    157   97241.0\n",
       "18.0                      96362.287356    261   95000.0\n",
       "17.0                      96597.647792    883   94203.0\n",
       "21.0                      94469.564103    117   89706.0\n",
       "22.0                      91330.405941    202   88781.5"
      ]
     },
     "execution_count": 89,
     "metadata": {},
     "output_type": "execute_result"
    },
    {
     "data": {
      "image/png": "[encoded data removed]",
      "text/plain": [
       "<Figure size 432x288 with 1 Axes>"
      ]
     },
     "metadata": {
      "needs_background": "light"
     },
     "output_type": "display_data"
    }
   ],
   "source": [
    "data_spb = data.loc[data['locality_name'] == 'САНКТ-ПЕТЕРБУРГ']\n",
    "data_spb_per_km = data_spb.pivot_table(index = 'city_centers_nearest_km', values = 'price_per_square_meter', aggfunc = ['mean', 'count', 'median'])\n",
    "data_spb_per_km.columns = ['mean', 'count', 'median']\n",
    "data_spb_per_km.query('count > 100').plot(y = 'median')\n",
    "\n",
    "data_spb_per_km.query('count > 100').sort_values('median', ascending = False)"
   ]
  },
  {
   "cell_type": "markdown",
   "metadata": {},
   "source": [
    "### Вывод по разделу 4.5:\n",
    "\n",
    "Самая высокая цена за кв.метр 131835.0 - в 6 км от центра. Не совсем ясно, почему в пределах 1-5 км от центра цена ниже, хотя все еще остается высокой (108469.5 - 128485.0). Возможно, дело в состоянии жилого фонда.\n",
    "\n",
    "Начиная с 14-го км от центра стоимость метра начинае снижаться и к 22 километру становится ниже в полтора раза (88781.5)."
   ]
  },
  {
   "cell_type": "markdown",
   "metadata": {},
   "source": [
    "### Общий вывод"
   ]
  },
  {
   "cell_type": "markdown",
   "metadata": {},
   "source": [
    "1. Проанализирован датафрейм, выявлены столбцы с пропусками и некорректными форматами данных.\n",
    "2. Проведена предобработка данных:\n",
    "\n",
    "- Переименованы столбцы таблицы: cityCenters_nearest': 'city_centers_nearest',\n",
    "                     'parks_around3000': 'parks_around_3000', \n",
    "                     'ponds_around3000': 'ponds_around_3000\n",
    "- По высоте потолков ceiling_height пропуски и значения выше 4.1 (9195 и 49 строк) заполнены медианным значением 2.65 м.\n",
    "- По жилой площади living_area 1903 пустых значения заполнены медианным значением в зависимости от количества комнат в квартире.\n",
    "- По флагу апартаменты is_apartment значения переведены в булевы. 1-апартаменты, 0-нет.\n",
    "- По балконам balcony пропуски (11519 строк) приравнены к отсутствию балкона.\n",
    "- Количество дней публикации объявления days_exposition: 3181 пропусков. Баг-репорт: возможно, произошел сбой при выгрузке по столбцу days_exposition, поскольку значения NaN по 3181 строкам, хотя с токи зрения выгрузки они не могут отсутствовать. Возможно, такое значение стоит для объявлений, которые удалили в день публикации.\n",
    "- Заменен формат с вещественного на дату по 'first_day_exposition'\n",
    "- Приведены к общему виду уникальные значения среди населенных пунктов по столбцу locality_name\n",
    "\n",
    "2. Добавлены новые столбцы для дальнейшего исследования:\n",
    "\n",
    "- Цена одного квадратного метра;\n",
    "- День недели публикации объявления (0 — понедельник, 1 — вторник и так далее);\n",
    "- Месяц публикации объявления;\n",
    "- Год публикации объявления;\n",
    "- Тип этажа квартиры (значения — «‎первый», «последний», «другой»);\n",
    "- Расстояние до центра города в километрах.\n",
    "\n",
    "3. Исследованы параметры объектов недвижимости:\n",
    "\n",
    "- Большинство квартир в выборке общей площадью от 20 до 150 кв.м, при этом жилая площадь составляет от 13 до 100 кв.м, а площадь кухни - от 5 до 25 кв.м.\n",
    "\n",
    "- Большинство предложений стоит 4-5 млн, много квартир в пределах 30 млн рублей, хотя встречается и более дорогое жилье (возможно, есть корреляция между аномально большими площадями и высокой стоимостью).\n",
    "\n",
    "- Стандартная квартира будет состоять не более, чем из 5 комнат (в большинстве 1-3 комнаты) и находиться не выше 20-го этажа в домах стандартной этажности (5, 9, 12, 16, 25 этажей).\n",
    "\n",
    "- Максимальная высота потолков была приведена к 4,1 метра. Медианное значение составляет 2,65 м.\n",
    "\n",
    "- Большинство квартир продается в черте города, но это объясняется и большим количеством квартир в городе в принципе, чем в деревне за 30 или 50 км от Санкт-Петербурга.\n",
    "\n",
    "- Квартиры распределены географически равномерно относительно аэропорта. Однако есть данные о 310 квартирах, расположенных в пределах километра от аэропорта, это кажется неправдоподобным.\n",
    "\n",
    "- Картографические данные есть по находящимся вблизи паркам и прудам - вероятно, при отдалении больше, чем на 1-5 километров, эта информация становится не актуальной для покупателя.\n",
    "\n",
    "- Объявления о продаже публикуют чаще всего в будни весной (с февраля по апрель) или осенью. В январские и майские праздники люди, вероятно, не хотят заниматься продажей своей собственности.\n",
    "\n",
    "4. Исследовано, как быстро продавались квартиры:\n",
    "- Значения от 232 до 500 дней можно считать необычно долгими. \n",
    "- Выше 500 - выбросы. \n",
    "- Продажи от 1 до 45 дней можно считать быстрыми.\n",
    "\n",
    "5. Исследовано, какие факторы больше всего влияют на общую (полную) стоимость объекта:\n",
    "- Наибольшая корреляция между стоимостью квартиру и общей площадью (0.66). Меньше между стоимостью и жилой площадью (0.57), площадью кухни(0.46) и количеством комнат (0,52).\n",
    "\n",
    "- Нет явной корреляции между стоимостью и типом этажа (0.07)\n",
    "- Между датой, месяцем, годом публикации объявления корреляция нелинейная. \n",
    "- Во все дни недели и месяцы года медианная стоимость примерно одинаковая. Самые дорогие квартиры продают во вторник и в среду (4,7 млн) в апреле (4,8 млн руб.). Самые дешевые - в выходные (4,55 млн руб.) в июне (4,4 млн руб.). \n",
    "- В 2014 году цена была выше всего - 6,8 млн руб. Дальше было существенное падение и только в 2019 году стоимость начала расти - 5,05 млн руб.\n",
    "\n",
    "6.  Исследована средняя цена одного квадратного метра в 10 населённых пунктах с наибольшим числом объявлений:\n",
    "- Наибольшее количество объявлений в наиболее крупных административных единицах. Очевидно наиболее высокая средняя цена за квадратный метр в Санкт-Петербурге (114 849 руб.), наиболее низкая - в Выборге (58 142 руб.). Также дорогой метр в Пушкине (103 126 руб.), Кудрово (92 474 руб.) и Парголово(90 176 руб.).\n",
    "\n",
    "7.  Исследована средняя цена каждого километра:\n",
    "- Самая высокая цена за кв.метр 131835.0 - в 6 км от центра. Не совсем ясно, почему в пределах 1-5 км от центра цена ниже, хотя все еще остается высокой (108469.5 - 128485.0). Возможно, дело в состоянии жилого фонда.\n",
    "\n",
    "- Начиная с 14-го км от центра стоимость метра начинае снижаться и к 22 километру становится ниже в полтора раза (88781.5).\n",
    "\n",
    "Резюме: больше всего предложений с 1-3 комнатными квартирами с общей площадью от 20 до 150 кв.м в домах стандартной этажности, с ценовыми предложениями от 4-5 млн до 30 млн рублей. Желательно проанализировать, продолжила ли рост стоимость после 2019 года. При этом цена жилья зависит от географического положения: дороже к центру Петербурга (131 835,00 руб. за кв.м) и дешевле в других городах - из наиболее популярных, самая низкая цена в в Выборге (58 142 руб.)."
   ]
  },
  {
   "cell_type": "markdown",
   "metadata": {},
   "source": [
    "**Чек-лист готовности проекта**\n",
    "\n",
    "Поставьте 'x' в выполненных пунктах. Далее нажмите Shift+Enter."
   ]
  },
  {
   "cell_type": "markdown",
   "metadata": {},
   "source": [
    "- [x]  открыт файл\n",
    "- [x]  файлы изучены (выведены первые строки, метод `info()`, гистограммы и т.д.)\n",
    "- [x]  определены пропущенные значения\n",
    "- [x]  заполнены пропущенные значения там, где это возможно\n",
    "- [x]  есть пояснение, какие пропущенные значения обнаружены\n",
    "- [x]  изменены типы данных\n",
    "- [x]  есть пояснение, в каких столбцах изменены типы и почему\n",
    "- [x]  устранены неявные дубликаты в названиях населённых пунктов\n",
    "- [x]  устранены редкие и выбивающиеся значения (аномалии) во всех столбцах\n",
    "- [x]  посчитано и добавлено в таблицу: цена одного квадратного метра\n",
    "- [x]  посчитано и добавлено в таблицу: день публикации объявления (0 - понедельник, 1 - вторник и т.д.)\n",
    "- [x]  посчитано и добавлено в таблицу: месяц публикации объявления\n",
    "- [x]  посчитано и добавлено в таблицу: год публикации объявления\n",
    "- [x]  посчитано и добавлено в таблицу: тип этажа квартиры (значения — «первый», «последний», «другой»)\n",
    "- [x]  посчитано и добавлено в таблицу: расстояние в км до центра города\n",
    "- [x]  изучены и описаны следующие параметры:\n",
    "        - общая площадь;\n",
    "        - жилая площадь;\n",
    "        - площадь кухни;\n",
    "        - цена объекта;\n",
    "        - количество комнат;\n",
    "        - высота потолков;\n",
    "        - этаж квартиры;\n",
    "        - тип этажа квартиры («первый», «последний», «другой»);\n",
    "        - общее количество этажей в доме;\n",
    "        - расстояние до центра города в метрах;\n",
    "        - расстояние до ближайшего аэропорта;\n",
    "        - расстояние до ближайшего парка;\n",
    "        - день и месяц публикации объявления\n",
    "- [x]  построены гистограммы для каждого параметра\n",
    "- [x]  выполнено задание: \"Изучите, как быстро продавались квартиры (столбец days_exposition). Этот параметр показывает, сколько дней «висело» каждое объявление.\n",
    "    - Постройте гистограмму.\n",
    "    - Посчитайте среднее и медиану.\n",
    "    - В ячейке типа markdown опишите, сколько обычно занимает продажа. Какие продажи можно считать быстрыми, а какие — необычно долгими?\"\n",
    "- [x]  выполнено задание: \"Какие факторы больше всего влияют на общую (полную) стоимость объекта? Постройте графики, которые покажут зависимость цены от указанных ниже параметров. Для подготовки данных перед визуализацией вы можете использовать сводные таблицы.\"\n",
    "        - общей площади;\n",
    "        - жилой площади;\n",
    "        - площади кухни;\n",
    "        - количество комнат;\n",
    "        - типа этажа, на котором расположена квартира (первый, последний, другой);\n",
    "        - даты размещения (день недели, месяц, год);\n",
    "- [x]  выполнено задание: \"Посчитайте среднюю цену одного квадратного метра в 10 населённых пунктах с наибольшим числом объявлений. Выделите населённые пункты с самой высокой и низкой стоимостью квадратного метра. Эти данные можно найти по имени в столбце `locality_name`.\"\n",
    "- [x]  выполнено задание: \"Ранее вы посчитали расстояние до центра в километрах. Теперь выделите квартиры в Санкт-Петербурге с помощью столбца `locality_name` и вычислите среднюю цену каждого километра. Опишите, как стоимость объектов зависит от расстояния до центра города.\"\n",
    "- [x]  в каждом этапе есть промежуточные выводы\n",
    "- [x]  есть общий вывод"
   ]
  }
 ],
 "metadata": {
  "ExecuteTimeLog": [
   {
    "duration": 391,
    "start_time": "2023-06-04T08:14:20.551Z"
   },
   {
    "duration": 139,
    "start_time": "2023-06-04T08:14:21.994Z"
   },
   {
    "duration": 13,
    "start_time": "2023-06-04T08:14:25.226Z"
   },
   {
    "duration": 7,
    "start_time": "2023-06-04T08:15:24.891Z"
   },
   {
    "duration": 78,
    "start_time": "2023-06-04T08:16:40.063Z"
   },
   {
    "duration": 7,
    "start_time": "2023-06-04T08:16:44.786Z"
   },
   {
    "duration": 87,
    "start_time": "2023-06-04T08:16:55.716Z"
   },
   {
    "duration": 7,
    "start_time": "2023-06-04T08:16:59.420Z"
   },
   {
    "duration": 78,
    "start_time": "2023-06-04T08:17:10.493Z"
   },
   {
    "duration": 82,
    "start_time": "2023-06-04T08:17:19.669Z"
   },
   {
    "duration": 7,
    "start_time": "2023-06-04T08:17:23.291Z"
   },
   {
    "duration": 438,
    "start_time": "2023-06-04T08:18:55.300Z"
   },
   {
    "duration": 96,
    "start_time": "2023-06-04T08:19:02.677Z"
   },
   {
    "duration": 37,
    "start_time": "2023-06-04T08:19:05.872Z"
   },
   {
    "duration": 14,
    "start_time": "2023-06-04T08:19:40.509Z"
   },
   {
    "duration": 9,
    "start_time": "2023-06-04T08:20:56.814Z"
   },
   {
    "duration": 2545,
    "start_time": "2023-06-04T08:24:22.416Z"
   },
   {
    "duration": 77,
    "start_time": "2023-06-04T08:32:59.205Z"
   },
   {
    "duration": 77,
    "start_time": "2023-06-04T08:33:20.356Z"
   },
   {
    "duration": 86,
    "start_time": "2023-06-04T08:45:08.213Z"
   },
   {
    "duration": 30,
    "start_time": "2023-06-04T08:50:26.409Z"
   },
   {
    "duration": 7,
    "start_time": "2023-06-04T09:03:55.335Z"
   },
   {
    "duration": 7,
    "start_time": "2023-06-04T09:04:25.538Z"
   },
   {
    "duration": 104,
    "start_time": "2023-06-04T10:10:19.114Z"
   },
   {
    "duration": 40,
    "start_time": "2023-06-04T10:10:27.040Z"
   },
   {
    "duration": 4,
    "start_time": "2023-06-04T10:19:18.883Z"
   },
   {
    "duration": 39,
    "start_time": "2023-06-04T10:20:32.237Z"
   },
   {
    "duration": 6,
    "start_time": "2023-06-04T10:21:05.167Z"
   },
   {
    "duration": 8,
    "start_time": "2023-06-04T10:55:36.078Z"
   },
   {
    "duration": 13,
    "start_time": "2023-06-04T10:56:50.076Z"
   },
   {
    "duration": 11,
    "start_time": "2023-06-04T10:57:17.374Z"
   },
   {
    "duration": 8,
    "start_time": "2023-06-04T10:57:28.999Z"
   },
   {
    "duration": 271,
    "start_time": "2023-06-04T11:00:13.544Z"
   },
   {
    "duration": 95,
    "start_time": "2023-06-04T11:00:27.344Z"
   },
   {
    "duration": 186,
    "start_time": "2023-06-04T11:00:41.104Z"
   },
   {
    "duration": 282,
    "start_time": "2023-06-04T11:00:48.233Z"
   },
   {
    "duration": 286,
    "start_time": "2023-06-04T11:01:45.680Z"
   },
   {
    "duration": 206,
    "start_time": "2023-06-04T11:02:04.186Z"
   },
   {
    "duration": 149,
    "start_time": "2023-06-04T11:02:53.796Z"
   },
   {
    "duration": 187,
    "start_time": "2023-06-04T11:03:00.345Z"
   },
   {
    "duration": 182,
    "start_time": "2023-06-04T11:03:08.060Z"
   },
   {
    "duration": 220,
    "start_time": "2023-06-04T11:03:23.839Z"
   },
   {
    "duration": 194,
    "start_time": "2023-06-04T11:03:56.775Z"
   },
   {
    "duration": 186,
    "start_time": "2023-06-04T11:05:10.404Z"
   },
   {
    "duration": 153,
    "start_time": "2023-06-04T11:05:19.886Z"
   },
   {
    "duration": 266,
    "start_time": "2023-06-04T11:05:41.085Z"
   },
   {
    "duration": 184,
    "start_time": "2023-06-04T11:07:54.485Z"
   },
   {
    "duration": 220,
    "start_time": "2023-06-04T11:08:27.534Z"
   },
   {
    "duration": 232,
    "start_time": "2023-06-04T11:08:53.823Z"
   },
   {
    "duration": 367,
    "start_time": "2023-06-04T11:13:50.827Z"
   },
   {
    "duration": 5,
    "start_time": "2023-06-04T11:15:27.213Z"
   },
   {
    "duration": 4,
    "start_time": "2023-06-04T11:16:36.091Z"
   },
   {
    "duration": 6,
    "start_time": "2023-06-04T11:16:49.623Z"
   },
   {
    "duration": 20,
    "start_time": "2023-06-04T11:17:20.646Z"
   },
   {
    "duration": 12,
    "start_time": "2023-06-04T11:17:47.916Z"
   },
   {
    "duration": 11,
    "start_time": "2023-06-04T11:18:07.380Z"
   },
   {
    "duration": 10,
    "start_time": "2023-06-04T11:18:30.479Z"
   },
   {
    "duration": 343,
    "start_time": "2023-06-04T11:21:51.000Z"
   },
   {
    "duration": 252,
    "start_time": "2023-06-04T11:22:17.719Z"
   },
   {
    "duration": 164,
    "start_time": "2023-06-04T11:28:20.472Z"
   },
   {
    "duration": 173,
    "start_time": "2023-06-04T11:28:43.823Z"
   },
   {
    "duration": 268,
    "start_time": "2023-06-04T11:28:51.576Z"
   },
   {
    "duration": 10,
    "start_time": "2023-06-04T11:32:14.133Z"
   },
   {
    "duration": 8,
    "start_time": "2023-06-04T11:32:37.695Z"
   },
   {
    "duration": 7,
    "start_time": "2023-06-04T11:34:35.585Z"
   },
   {
    "duration": 7,
    "start_time": "2023-06-04T11:40:04.252Z"
   },
   {
    "duration": 9,
    "start_time": "2023-06-04T11:42:58.073Z"
   },
   {
    "duration": 19,
    "start_time": "2023-06-04T11:49:29.668Z"
   },
   {
    "duration": 106,
    "start_time": "2023-06-04T11:51:25.592Z"
   },
   {
    "duration": 43,
    "start_time": "2023-06-04T11:51:41.494Z"
   },
   {
    "duration": 12,
    "start_time": "2023-06-04T11:52:11.991Z"
   },
   {
    "duration": 25,
    "start_time": "2023-06-04T11:52:32.494Z"
   },
   {
    "duration": 7,
    "start_time": "2023-06-04T11:52:45.332Z"
   },
   {
    "duration": 22,
    "start_time": "2023-06-04T11:53:30.868Z"
   },
   {
    "duration": 138,
    "start_time": "2023-06-04T11:55:04.640Z"
   },
   {
    "duration": 10,
    "start_time": "2023-06-04T12:13:40.175Z"
   },
   {
    "duration": 8,
    "start_time": "2023-06-04T12:13:49.324Z"
   },
   {
    "duration": 9,
    "start_time": "2023-06-04T12:15:04.512Z"
   },
   {
    "duration": 13,
    "start_time": "2023-06-04T12:15:18.947Z"
   },
   {
    "duration": 8,
    "start_time": "2023-06-04T12:16:15.909Z"
   },
   {
    "duration": 22,
    "start_time": "2023-06-04T12:16:32.463Z"
   },
   {
    "duration": 14,
    "start_time": "2023-06-04T12:17:32.192Z"
   },
   {
    "duration": 14,
    "start_time": "2023-06-04T12:17:47.005Z"
   },
   {
    "duration": 11,
    "start_time": "2023-06-04T12:19:35.323Z"
   },
   {
    "duration": 14,
    "start_time": "2023-06-04T12:19:56.883Z"
   },
   {
    "duration": 12,
    "start_time": "2023-06-04T12:21:33.521Z"
   },
   {
    "duration": 23,
    "start_time": "2023-06-04T12:21:45.975Z"
   },
   {
    "duration": 14,
    "start_time": "2023-06-04T12:24:25.709Z"
   },
   {
    "duration": 28,
    "start_time": "2023-06-04T12:34:21.977Z"
   },
   {
    "duration": 26,
    "start_time": "2023-06-04T12:34:28.068Z"
   },
   {
    "duration": 130,
    "start_time": "2023-06-04T12:43:21.410Z"
   },
   {
    "duration": 110,
    "start_time": "2023-06-04T12:43:33.767Z"
   },
   {
    "duration": 180,
    "start_time": "2023-06-04T12:43:44.132Z"
   },
   {
    "duration": 119,
    "start_time": "2023-06-04T12:45:06.580Z"
   },
   {
    "duration": 29,
    "start_time": "2023-06-04T12:45:12.585Z"
   },
   {
    "duration": 136,
    "start_time": "2023-06-04T12:45:18.291Z"
   },
   {
    "duration": 116,
    "start_time": "2023-06-04T12:45:41.603Z"
   },
   {
    "duration": 4,
    "start_time": "2023-06-04T12:46:40.741Z"
   },
   {
    "duration": 135,
    "start_time": "2023-06-04T12:47:44.316Z"
   },
   {
    "duration": 30,
    "start_time": "2023-06-04T12:49:20.423Z"
   },
   {
    "duration": 34,
    "start_time": "2023-06-04T12:49:35.600Z"
   },
   {
    "duration": 55,
    "start_time": "2023-06-04T12:50:06.024Z"
   },
   {
    "duration": 47,
    "start_time": "2023-06-04T12:50:17.012Z"
   },
   {
    "duration": 192,
    "start_time": "2023-06-04T12:50:20.388Z"
   },
   {
    "duration": 103,
    "start_time": "2023-06-04T12:50:28.631Z"
   },
   {
    "duration": 79,
    "start_time": "2023-06-04T12:52:00.792Z"
   },
   {
    "duration": 130,
    "start_time": "2023-06-04T12:52:17.814Z"
   },
   {
    "duration": 63,
    "start_time": "2023-06-04T12:54:52.042Z"
   },
   {
    "duration": 12,
    "start_time": "2023-06-04T12:58:56.206Z"
   },
   {
    "duration": 18,
    "start_time": "2023-06-04T13:01:21.177Z"
   },
   {
    "duration": 9,
    "start_time": "2023-06-04T13:10:20.319Z"
   },
   {
    "duration": 9,
    "start_time": "2023-06-04T13:10:28.598Z"
   },
   {
    "duration": 36,
    "start_time": "2023-06-04T13:10:52.950Z"
   },
   {
    "duration": 8,
    "start_time": "2023-06-04T13:11:08.206Z"
   },
   {
    "duration": 7,
    "start_time": "2023-06-04T13:18:45.321Z"
   },
   {
    "duration": 32,
    "start_time": "2023-06-04T13:18:50.573Z"
   },
   {
    "duration": 16,
    "start_time": "2023-06-04T13:19:07.798Z"
   },
   {
    "duration": 6,
    "start_time": "2023-06-04T13:20:07.188Z"
   },
   {
    "duration": 15,
    "start_time": "2023-06-04T13:20:20.936Z"
   },
   {
    "duration": 12,
    "start_time": "2023-06-04T13:20:47.792Z"
   },
   {
    "duration": 24,
    "start_time": "2023-06-04T13:21:01.240Z"
   },
   {
    "duration": 7,
    "start_time": "2023-06-04T13:22:21.884Z"
   },
   {
    "duration": 17,
    "start_time": "2023-06-04T13:22:38.123Z"
   },
   {
    "duration": 4,
    "start_time": "2023-06-04T13:23:37.003Z"
   },
   {
    "duration": 16,
    "start_time": "2023-06-04T13:34:41.409Z"
   },
   {
    "duration": 28,
    "start_time": "2023-06-04T13:35:11.679Z"
   },
   {
    "duration": 8,
    "start_time": "2023-06-04T13:35:38.232Z"
   },
   {
    "duration": 6,
    "start_time": "2023-06-04T13:35:58.937Z"
   },
   {
    "duration": 7,
    "start_time": "2023-06-04T13:36:02.783Z"
   },
   {
    "duration": 16,
    "start_time": "2023-06-04T13:36:34.321Z"
   },
   {
    "duration": 4,
    "start_time": "2023-06-04T13:44:29.902Z"
   },
   {
    "duration": 12,
    "start_time": "2023-06-04T13:44:31.978Z"
   },
   {
    "duration": 12,
    "start_time": "2023-06-04T13:45:00.584Z"
   },
   {
    "duration": 181,
    "start_time": "2023-06-04T13:45:18.406Z"
   },
   {
    "duration": 170,
    "start_time": "2023-06-04T13:45:27.820Z"
   },
   {
    "duration": 207,
    "start_time": "2023-06-04T13:45:46.679Z"
   },
   {
    "duration": 186,
    "start_time": "2023-06-04T13:45:53.845Z"
   },
   {
    "duration": 174,
    "start_time": "2023-06-04T13:46:00.094Z"
   },
   {
    "duration": 445,
    "start_time": "2023-06-04T13:46:31.760Z"
   },
   {
    "duration": 223,
    "start_time": "2023-06-04T13:46:32.209Z"
   },
   {
    "duration": 50,
    "start_time": "2023-06-04T13:46:32.438Z"
   },
   {
    "duration": 21,
    "start_time": "2023-06-04T13:46:32.491Z"
   },
   {
    "duration": 107,
    "start_time": "2023-06-04T13:46:32.515Z"
   },
   {
    "duration": 2620,
    "start_time": "2023-06-04T13:46:32.624Z"
   },
   {
    "duration": 55,
    "start_time": "2023-06-04T13:46:35.245Z"
   },
   {
    "duration": 16,
    "start_time": "2023-06-04T13:46:35.303Z"
   },
   {
    "duration": 162,
    "start_time": "2023-06-04T13:46:35.322Z"
   },
   {
    "duration": 152,
    "start_time": "2023-06-04T13:46:35.485Z"
   },
   {
    "duration": 15,
    "start_time": "2023-06-04T13:46:35.639Z"
   },
   {
    "duration": 31,
    "start_time": "2023-06-04T13:46:35.657Z"
   },
   {
    "duration": 8,
    "start_time": "2023-06-04T13:46:35.699Z"
   },
   {
    "duration": 8,
    "start_time": "2023-06-04T13:46:35.709Z"
   },
   {
    "duration": 5,
    "start_time": "2023-06-04T13:46:35.719Z"
   },
   {
    "duration": 19,
    "start_time": "2023-06-04T13:46:35.726Z"
   },
   {
    "duration": 50,
    "start_time": "2023-06-04T13:46:35.746Z"
   },
   {
    "duration": 6,
    "start_time": "2023-06-04T13:46:35.799Z"
   },
   {
    "duration": 4,
    "start_time": "2023-06-04T13:46:35.807Z"
   },
   {
    "duration": 9,
    "start_time": "2023-06-04T13:46:35.813Z"
   },
   {
    "duration": 29,
    "start_time": "2023-06-04T13:46:35.824Z"
   },
   {
    "duration": 39,
    "start_time": "2023-06-04T13:46:35.860Z"
   },
   {
    "duration": 90,
    "start_time": "2023-06-04T13:46:35.901Z"
   },
   {
    "duration": 9,
    "start_time": "2023-06-04T14:01:53.579Z"
   },
   {
    "duration": 49,
    "start_time": "2023-06-04T14:03:23.376Z"
   },
   {
    "duration": 58,
    "start_time": "2023-06-04T14:03:35.629Z"
   },
   {
    "duration": 101,
    "start_time": "2023-06-04T14:04:08.846Z"
   },
   {
    "duration": 42,
    "start_time": "2023-06-04T14:04:14.505Z"
   },
   {
    "duration": 105,
    "start_time": "2023-06-04T14:06:20.997Z"
   },
   {
    "duration": 108,
    "start_time": "2023-06-04T14:06:27.906Z"
   },
   {
    "duration": 107,
    "start_time": "2023-06-04T14:12:14.401Z"
   },
   {
    "duration": 126,
    "start_time": "2023-06-04T14:13:06.475Z"
   },
   {
    "duration": 175,
    "start_time": "2023-06-04T14:13:52.143Z"
   },
   {
    "duration": 19,
    "start_time": "2023-06-04T14:18:05.047Z"
   },
   {
    "duration": 20,
    "start_time": "2023-06-04T14:18:20.647Z"
   },
   {
    "duration": 41,
    "start_time": "2023-06-04T14:18:25.044Z"
   },
   {
    "duration": 38,
    "start_time": "2023-06-04T14:18:53.282Z"
   },
   {
    "duration": 30,
    "start_time": "2023-06-04T14:19:52.614Z"
   },
   {
    "duration": 17,
    "start_time": "2023-06-04T14:19:57.277Z"
   },
   {
    "duration": 48,
    "start_time": "2023-06-04T14:29:25.626Z"
   },
   {
    "duration": 52,
    "start_time": "2023-06-04T14:30:50.562Z"
   },
   {
    "duration": 421,
    "start_time": "2023-06-04T14:32:19.947Z"
   },
   {
    "duration": 104,
    "start_time": "2023-06-04T14:32:20.371Z"
   },
   {
    "duration": 44,
    "start_time": "2023-06-04T14:32:20.479Z"
   },
   {
    "duration": 15,
    "start_time": "2023-06-04T14:32:20.526Z"
   },
   {
    "duration": 73,
    "start_time": "2023-06-04T14:32:20.553Z"
   },
   {
    "duration": 2492,
    "start_time": "2023-06-04T14:32:20.628Z"
   },
   {
    "duration": 36,
    "start_time": "2023-06-04T14:32:23.122Z"
   },
   {
    "duration": 17,
    "start_time": "2023-06-04T14:32:23.159Z"
   },
   {
    "duration": 148,
    "start_time": "2023-06-04T14:32:23.177Z"
   },
   {
    "duration": 154,
    "start_time": "2023-06-04T14:32:23.328Z"
   },
   {
    "duration": 6,
    "start_time": "2023-06-04T14:32:23.484Z"
   },
   {
    "duration": 8,
    "start_time": "2023-06-04T14:32:23.491Z"
   },
   {
    "duration": 9,
    "start_time": "2023-06-04T14:32:23.501Z"
   },
   {
    "duration": 5,
    "start_time": "2023-06-04T14:32:23.512Z"
   },
   {
    "duration": 6,
    "start_time": "2023-06-04T14:32:23.519Z"
   },
   {
    "duration": 55,
    "start_time": "2023-06-04T14:32:23.526Z"
   },
   {
    "duration": 31,
    "start_time": "2023-06-04T14:32:23.585Z"
   },
   {
    "duration": 6,
    "start_time": "2023-06-04T14:32:23.618Z"
   },
   {
    "duration": 14,
    "start_time": "2023-06-04T14:32:23.625Z"
   },
   {
    "duration": 19,
    "start_time": "2023-06-04T14:32:23.640Z"
   },
   {
    "duration": 37,
    "start_time": "2023-06-04T14:32:23.668Z"
   },
   {
    "duration": 13,
    "start_time": "2023-06-04T14:32:23.707Z"
   },
   {
    "duration": 25,
    "start_time": "2023-06-04T14:32:23.722Z"
   },
   {
    "duration": 14,
    "start_time": "2023-06-04T14:32:23.754Z"
   },
   {
    "duration": 150,
    "start_time": "2023-06-04T14:32:23.772Z"
   },
   {
    "duration": 16,
    "start_time": "2023-06-04T14:32:46.654Z"
   },
   {
    "duration": 421,
    "start_time": "2023-06-04T14:33:00.772Z"
   },
   {
    "duration": 109,
    "start_time": "2023-06-04T14:33:01.195Z"
   },
   {
    "duration": 39,
    "start_time": "2023-06-04T14:33:01.305Z"
   },
   {
    "duration": 35,
    "start_time": "2023-06-04T14:33:01.349Z"
   },
   {
    "duration": 86,
    "start_time": "2023-06-04T14:33:01.386Z"
   },
   {
    "duration": 2628,
    "start_time": "2023-06-04T14:33:01.474Z"
   },
   {
    "duration": 30,
    "start_time": "2023-06-04T14:33:04.103Z"
   },
   {
    "duration": 10,
    "start_time": "2023-06-04T14:33:04.135Z"
   },
   {
    "duration": 180,
    "start_time": "2023-06-04T14:33:04.146Z"
   },
   {
    "duration": 190,
    "start_time": "2023-06-04T14:33:04.328Z"
   },
   {
    "duration": 9,
    "start_time": "2023-06-04T14:33:04.520Z"
   },
   {
    "duration": 20,
    "start_time": "2023-06-04T14:33:04.531Z"
   },
   {
    "duration": 8,
    "start_time": "2023-06-04T14:33:04.553Z"
   },
   {
    "duration": 8,
    "start_time": "2023-06-04T14:33:04.564Z"
   },
   {
    "duration": 12,
    "start_time": "2023-06-04T14:33:04.575Z"
   },
   {
    "duration": 20,
    "start_time": "2023-06-04T14:33:04.589Z"
   },
   {
    "duration": 84,
    "start_time": "2023-06-04T14:33:04.610Z"
   },
   {
    "duration": 9,
    "start_time": "2023-06-04T14:33:04.696Z"
   },
   {
    "duration": 12,
    "start_time": "2023-06-04T14:33:04.707Z"
   },
   {
    "duration": 8,
    "start_time": "2023-06-04T14:33:04.721Z"
   },
   {
    "duration": 51,
    "start_time": "2023-06-04T14:33:04.731Z"
   },
   {
    "duration": 14,
    "start_time": "2023-06-04T14:33:04.784Z"
   },
   {
    "duration": 21,
    "start_time": "2023-06-04T14:33:04.800Z"
   },
   {
    "duration": 99,
    "start_time": "2023-06-04T14:33:04.823Z"
   },
   {
    "duration": 0,
    "start_time": "2023-06-04T14:33:04.924Z"
   },
   {
    "duration": 447,
    "start_time": "2023-06-04T14:33:49.937Z"
   },
   {
    "duration": 104,
    "start_time": "2023-06-04T14:33:50.386Z"
   },
   {
    "duration": 41,
    "start_time": "2023-06-04T14:33:50.492Z"
   },
   {
    "duration": 39,
    "start_time": "2023-06-04T14:33:50.535Z"
   },
   {
    "duration": 66,
    "start_time": "2023-06-04T14:33:50.581Z"
   },
   {
    "duration": 2531,
    "start_time": "2023-06-04T14:33:50.649Z"
   },
   {
    "duration": 37,
    "start_time": "2023-06-04T14:33:53.183Z"
   },
   {
    "duration": 9,
    "start_time": "2023-06-04T14:33:53.221Z"
   },
   {
    "duration": 154,
    "start_time": "2023-06-04T14:33:53.231Z"
   },
   {
    "duration": 154,
    "start_time": "2023-06-04T14:33:53.389Z"
   },
   {
    "duration": 14,
    "start_time": "2023-06-04T14:33:53.545Z"
   },
   {
    "duration": 14,
    "start_time": "2023-06-04T14:33:53.560Z"
   },
   {
    "duration": 8,
    "start_time": "2023-06-04T14:33:53.578Z"
   },
   {
    "duration": 4,
    "start_time": "2023-06-04T14:33:53.588Z"
   },
   {
    "duration": 4,
    "start_time": "2023-06-04T14:33:53.594Z"
   },
   {
    "duration": 15,
    "start_time": "2023-06-04T14:33:53.600Z"
   },
   {
    "duration": 68,
    "start_time": "2023-06-04T14:33:53.617Z"
   },
   {
    "duration": 5,
    "start_time": "2023-06-04T14:33:53.687Z"
   },
   {
    "duration": 3,
    "start_time": "2023-06-04T14:33:53.694Z"
   },
   {
    "duration": 5,
    "start_time": "2023-06-04T14:33:53.699Z"
   },
   {
    "duration": 57,
    "start_time": "2023-06-04T14:33:53.705Z"
   },
   {
    "duration": 17,
    "start_time": "2023-06-04T14:33:53.763Z"
   },
   {
    "duration": 26,
    "start_time": "2023-06-04T14:33:53.782Z"
   },
   {
    "duration": 8,
    "start_time": "2023-06-04T14:33:53.810Z"
   },
   {
    "duration": 7,
    "start_time": "2023-06-04T14:33:53.820Z"
   },
   {
    "duration": 69,
    "start_time": "2023-06-04T14:33:53.854Z"
   },
   {
    "duration": 6,
    "start_time": "2023-06-04T14:33:53.924Z"
   },
   {
    "duration": 88,
    "start_time": "2023-06-04T14:34:29.599Z"
   },
   {
    "duration": 8,
    "start_time": "2023-06-04T14:34:57.284Z"
   },
   {
    "duration": 9,
    "start_time": "2023-06-04T14:37:23.087Z"
   },
   {
    "duration": 10,
    "start_time": "2023-06-04T14:37:39.776Z"
   },
   {
    "duration": 6,
    "start_time": "2023-06-04T14:37:56.302Z"
   },
   {
    "duration": 387,
    "start_time": "2023-06-04T14:38:11.310Z"
   },
   {
    "duration": 101,
    "start_time": "2023-06-04T14:38:11.699Z"
   },
   {
    "duration": 37,
    "start_time": "2023-06-04T14:38:11.801Z"
   },
   {
    "duration": 24,
    "start_time": "2023-06-04T14:38:11.851Z"
   },
   {
    "duration": 80,
    "start_time": "2023-06-04T14:38:11.877Z"
   },
   {
    "duration": 2577,
    "start_time": "2023-06-04T14:38:11.959Z"
   },
   {
    "duration": 41,
    "start_time": "2023-06-04T14:38:14.538Z"
   },
   {
    "duration": 10,
    "start_time": "2023-06-04T14:38:14.581Z"
   },
   {
    "duration": 151,
    "start_time": "2023-06-04T14:38:14.593Z"
   },
   {
    "duration": 161,
    "start_time": "2023-06-04T14:38:14.751Z"
   },
   {
    "duration": 6,
    "start_time": "2023-06-04T14:38:14.914Z"
   },
   {
    "duration": 10,
    "start_time": "2023-06-04T14:38:14.921Z"
   },
   {
    "duration": 18,
    "start_time": "2023-06-04T14:38:14.933Z"
   },
   {
    "duration": 15,
    "start_time": "2023-06-04T14:38:14.954Z"
   },
   {
    "duration": 10,
    "start_time": "2023-06-04T14:38:14.973Z"
   },
   {
    "duration": 16,
    "start_time": "2023-06-04T14:38:14.986Z"
   },
   {
    "duration": 34,
    "start_time": "2023-06-04T14:38:15.003Z"
   },
   {
    "duration": 15,
    "start_time": "2023-06-04T14:38:15.057Z"
   },
   {
    "duration": 6,
    "start_time": "2023-06-04T14:38:15.077Z"
   },
   {
    "duration": 9,
    "start_time": "2023-06-04T14:38:15.085Z"
   },
   {
    "duration": 34,
    "start_time": "2023-06-04T14:38:15.096Z"
   },
   {
    "duration": 12,
    "start_time": "2023-06-04T14:38:15.132Z"
   },
   {
    "duration": 32,
    "start_time": "2023-06-04T14:38:15.146Z"
   },
   {
    "duration": 8,
    "start_time": "2023-06-04T14:38:15.179Z"
   },
   {
    "duration": 5,
    "start_time": "2023-06-04T14:38:15.188Z"
   },
   {
    "duration": 63,
    "start_time": "2023-06-04T14:38:15.194Z"
   },
   {
    "duration": 25,
    "start_time": "2023-06-04T14:38:15.258Z"
   },
   {
    "duration": 25,
    "start_time": "2023-06-04T14:41:40.722Z"
   },
   {
    "duration": 410,
    "start_time": "2023-06-04T14:41:51.281Z"
   },
   {
    "duration": 97,
    "start_time": "2023-06-04T14:41:51.693Z"
   },
   {
    "duration": 37,
    "start_time": "2023-06-04T14:41:51.792Z"
   },
   {
    "duration": 37,
    "start_time": "2023-06-04T14:41:51.831Z"
   },
   {
    "duration": 65,
    "start_time": "2023-06-04T14:41:51.876Z"
   },
   {
    "duration": 2565,
    "start_time": "2023-06-04T14:41:51.943Z"
   },
   {
    "duration": 30,
    "start_time": "2023-06-04T14:41:54.510Z"
   },
   {
    "duration": 10,
    "start_time": "2023-06-04T14:41:54.542Z"
   },
   {
    "duration": 166,
    "start_time": "2023-06-04T14:41:54.554Z"
   },
   {
    "duration": 158,
    "start_time": "2023-06-04T14:41:54.722Z"
   },
   {
    "duration": 7,
    "start_time": "2023-06-04T14:41:54.882Z"
   },
   {
    "duration": 10,
    "start_time": "2023-06-04T14:41:54.890Z"
   },
   {
    "duration": 8,
    "start_time": "2023-06-04T14:41:54.902Z"
   },
   {
    "duration": 5,
    "start_time": "2023-06-04T14:41:54.913Z"
   },
   {
    "duration": 8,
    "start_time": "2023-06-04T14:41:54.919Z"
   },
   {
    "duration": 18,
    "start_time": "2023-06-04T14:41:54.951Z"
   },
   {
    "duration": 44,
    "start_time": "2023-06-04T14:41:54.970Z"
   },
   {
    "duration": 6,
    "start_time": "2023-06-04T14:41:55.015Z"
   },
   {
    "duration": 7,
    "start_time": "2023-06-04T14:41:55.023Z"
   },
   {
    "duration": 25,
    "start_time": "2023-06-04T14:41:55.032Z"
   },
   {
    "duration": 48,
    "start_time": "2023-06-04T14:41:55.059Z"
   },
   {
    "duration": 13,
    "start_time": "2023-06-04T14:41:55.109Z"
   },
   {
    "duration": 46,
    "start_time": "2023-06-04T14:41:55.124Z"
   },
   {
    "duration": 18,
    "start_time": "2023-06-04T14:41:55.177Z"
   },
   {
    "duration": 8,
    "start_time": "2023-06-04T14:41:55.196Z"
   },
   {
    "duration": 44,
    "start_time": "2023-06-04T14:41:55.205Z"
   },
   {
    "duration": 6,
    "start_time": "2023-06-04T14:41:55.259Z"
   },
   {
    "duration": 76,
    "start_time": "2023-06-04T14:53:06.644Z"
   },
   {
    "duration": 10,
    "start_time": "2023-06-04T14:53:29.181Z"
   },
   {
    "duration": 5,
    "start_time": "2023-06-04T14:54:02.809Z"
   },
   {
    "duration": 429,
    "start_time": "2023-06-04T14:54:28.917Z"
   },
   {
    "duration": 100,
    "start_time": "2023-06-04T14:54:29.348Z"
   },
   {
    "duration": 42,
    "start_time": "2023-06-04T14:54:29.449Z"
   },
   {
    "duration": 14,
    "start_time": "2023-06-04T14:54:29.493Z"
   },
   {
    "duration": 89,
    "start_time": "2023-06-04T14:54:29.509Z"
   },
   {
    "duration": 2372,
    "start_time": "2023-06-04T14:54:29.600Z"
   },
   {
    "duration": 31,
    "start_time": "2023-06-04T14:54:31.974Z"
   },
   {
    "duration": 9,
    "start_time": "2023-06-04T14:54:32.007Z"
   },
   {
    "duration": 152,
    "start_time": "2023-06-04T14:54:32.018Z"
   },
   {
    "duration": 138,
    "start_time": "2023-06-04T14:54:32.173Z"
   },
   {
    "duration": 7,
    "start_time": "2023-06-04T14:54:32.312Z"
   },
   {
    "duration": 7,
    "start_time": "2023-06-04T14:54:32.321Z"
   },
   {
    "duration": 24,
    "start_time": "2023-06-04T14:54:32.330Z"
   },
   {
    "duration": 12,
    "start_time": "2023-06-04T14:54:32.357Z"
   },
   {
    "duration": 8,
    "start_time": "2023-06-04T14:54:32.371Z"
   },
   {
    "duration": 16,
    "start_time": "2023-06-04T14:54:32.381Z"
   },
   {
    "duration": 64,
    "start_time": "2023-06-04T14:54:32.399Z"
   },
   {
    "duration": 10,
    "start_time": "2023-06-04T14:54:32.465Z"
   },
   {
    "duration": 4,
    "start_time": "2023-06-04T14:54:32.477Z"
   },
   {
    "duration": 7,
    "start_time": "2023-06-04T14:54:32.483Z"
   },
   {
    "duration": 35,
    "start_time": "2023-06-04T14:54:32.492Z"
   },
   {
    "duration": 24,
    "start_time": "2023-06-04T14:54:32.550Z"
   },
   {
    "duration": 22,
    "start_time": "2023-06-04T14:54:32.575Z"
   },
   {
    "duration": 18,
    "start_time": "2023-06-04T14:54:32.598Z"
   },
   {
    "duration": 6,
    "start_time": "2023-06-04T14:54:32.617Z"
   },
   {
    "duration": 74,
    "start_time": "2023-06-04T14:54:32.624Z"
   },
   {
    "duration": 5,
    "start_time": "2023-06-04T14:54:32.700Z"
   },
   {
    "duration": 10,
    "start_time": "2023-06-04T15:03:44.827Z"
   },
   {
    "duration": 8,
    "start_time": "2023-06-04T15:03:55.870Z"
   },
   {
    "duration": 8,
    "start_time": "2023-06-04T15:04:03.199Z"
   },
   {
    "duration": 6,
    "start_time": "2023-06-04T15:13:08.634Z"
   },
   {
    "duration": 27,
    "start_time": "2023-06-04T15:13:17.593Z"
   },
   {
    "duration": 45,
    "start_time": "2023-06-04T15:15:04.121Z"
   },
   {
    "duration": 115,
    "start_time": "2023-06-04T15:28:28.285Z"
   },
   {
    "duration": 374,
    "start_time": "2023-06-04T15:28:41.809Z"
   },
   {
    "duration": 545,
    "start_time": "2023-06-04T15:28:50.636Z"
   },
   {
    "duration": 1424,
    "start_time": "2023-06-04T15:30:20.170Z"
   },
   {
    "duration": 384,
    "start_time": "2023-06-04T15:31:07.724Z"
   },
   {
    "duration": 13,
    "start_time": "2023-06-04T15:31:10.050Z"
   },
   {
    "duration": 6,
    "start_time": "2023-06-04T15:34:16.180Z"
   },
   {
    "duration": 25,
    "start_time": "2023-06-04T15:34:26.572Z"
   },
   {
    "duration": 26,
    "start_time": "2023-06-04T15:34:55.484Z"
   },
   {
    "duration": 29,
    "start_time": "2023-06-04T15:35:17.627Z"
   },
   {
    "duration": 9,
    "start_time": "2023-06-04T16:14:44.000Z"
   },
   {
    "duration": 340,
    "start_time": "2023-06-04T16:16:15.989Z"
   },
   {
    "duration": 355,
    "start_time": "2023-06-04T16:17:03.233Z"
   },
   {
    "duration": 313,
    "start_time": "2023-06-04T16:22:11.068Z"
   },
   {
    "duration": 10,
    "start_time": "2023-06-04T16:22:29.234Z"
   },
   {
    "duration": 404,
    "start_time": "2023-06-04T16:22:31.965Z"
   },
   {
    "duration": 15,
    "start_time": "2023-06-04T16:24:55.303Z"
   },
   {
    "duration": 17,
    "start_time": "2023-06-04T16:29:54.150Z"
   },
   {
    "duration": 332,
    "start_time": "2023-06-04T16:30:22.437Z"
   },
   {
    "duration": 328,
    "start_time": "2023-06-04T16:30:35.005Z"
   },
   {
    "duration": 8,
    "start_time": "2023-06-04T16:30:54.503Z"
   },
   {
    "duration": 333,
    "start_time": "2023-06-04T16:30:56.107Z"
   },
   {
    "duration": 8,
    "start_time": "2023-06-04T16:32:59.637Z"
   },
   {
    "duration": 9,
    "start_time": "2023-06-04T16:33:15.096Z"
   },
   {
    "duration": 332,
    "start_time": "2023-06-04T16:33:17.012Z"
   },
   {
    "duration": 433,
    "start_time": "2023-06-04T16:34:56.985Z"
   },
   {
    "duration": 487,
    "start_time": "2023-06-04T16:36:51.325Z"
   },
   {
    "duration": 1020,
    "start_time": "2023-06-04T16:37:01.191Z"
   },
   {
    "duration": 455,
    "start_time": "2023-06-04T16:37:19.492Z"
   },
   {
    "duration": 9,
    "start_time": "2023-06-04T16:38:10.864Z"
   },
   {
    "duration": 7,
    "start_time": "2023-06-04T16:38:20.599Z"
   },
   {
    "duration": 10,
    "start_time": "2023-06-04T16:40:10.176Z"
   },
   {
    "duration": 339,
    "start_time": "2023-06-04T16:40:12.209Z"
   },
   {
    "duration": 332,
    "start_time": "2023-06-04T16:40:20.399Z"
   },
   {
    "duration": 13,
    "start_time": "2023-06-04T16:40:48.060Z"
   },
   {
    "duration": 10,
    "start_time": "2023-06-04T16:41:20.603Z"
   },
   {
    "duration": 318,
    "start_time": "2023-06-04T16:41:21.402Z"
   },
   {
    "duration": 8,
    "start_time": "2023-06-04T16:41:58.728Z"
   },
   {
    "duration": 7,
    "start_time": "2023-06-04T16:41:59.489Z"
   },
   {
    "duration": 9,
    "start_time": "2023-06-04T16:42:00.169Z"
   },
   {
    "duration": 349,
    "start_time": "2023-06-04T16:42:01.137Z"
   },
   {
    "duration": 326,
    "start_time": "2023-06-04T16:47:10.322Z"
   },
   {
    "duration": 468,
    "start_time": "2023-06-04T16:49:17.248Z"
   },
   {
    "duration": 11,
    "start_time": "2023-06-04T16:49:37.297Z"
   },
   {
    "duration": 11,
    "start_time": "2023-06-04T16:49:48.343Z"
   },
   {
    "duration": 8,
    "start_time": "2023-06-04T16:49:55.529Z"
   },
   {
    "duration": 13,
    "start_time": "2023-06-04T16:50:07.356Z"
   },
   {
    "duration": 10,
    "start_time": "2023-06-04T16:50:56.368Z"
   },
   {
    "duration": 8,
    "start_time": "2023-06-04T16:51:00.282Z"
   },
   {
    "duration": 13,
    "start_time": "2023-06-04T16:51:03.954Z"
   },
   {
    "duration": 318,
    "start_time": "2023-06-04T16:51:48.609Z"
   },
   {
    "duration": 10,
    "start_time": "2023-06-04T16:53:15.771Z"
   },
   {
    "duration": 9,
    "start_time": "2023-06-04T16:53:21.439Z"
   },
   {
    "duration": 12,
    "start_time": "2023-06-04T16:55:32.926Z"
   },
   {
    "duration": 7,
    "start_time": "2023-06-04T16:55:38.468Z"
   },
   {
    "duration": 9,
    "start_time": "2023-06-04T16:55:48.959Z"
   },
   {
    "duration": 10,
    "start_time": "2023-06-04T16:55:53.692Z"
   },
   {
    "duration": 9,
    "start_time": "2023-06-04T16:56:05.009Z"
   },
   {
    "duration": 19,
    "start_time": "2023-06-04T16:57:01.517Z"
   },
   {
    "duration": 4,
    "start_time": "2023-06-04T17:00:28.568Z"
   },
   {
    "duration": 11,
    "start_time": "2023-06-04T17:01:53.272Z"
   },
   {
    "duration": 302,
    "start_time": "2023-06-04T17:04:59.337Z"
   },
   {
    "duration": 173,
    "start_time": "2023-06-04T17:05:12.864Z"
   },
   {
    "duration": 7,
    "start_time": "2023-06-04T17:06:18.340Z"
   },
   {
    "duration": 7,
    "start_time": "2023-06-04T17:06:25.334Z"
   },
   {
    "duration": 8,
    "start_time": "2023-06-04T17:06:54.813Z"
   },
   {
    "duration": 174,
    "start_time": "2023-06-04T17:07:59.371Z"
   },
   {
    "duration": 187,
    "start_time": "2023-06-04T17:08:08.925Z"
   },
   {
    "duration": 9,
    "start_time": "2023-06-04T17:08:38.232Z"
   },
   {
    "duration": 10,
    "start_time": "2023-06-04T17:09:40.025Z"
   },
   {
    "duration": 416,
    "start_time": "2023-06-04T17:12:49.071Z"
   },
   {
    "duration": 97,
    "start_time": "2023-06-04T17:12:49.490Z"
   },
   {
    "duration": 36,
    "start_time": "2023-06-04T17:12:49.592Z"
   },
   {
    "duration": 27,
    "start_time": "2023-06-04T17:12:49.629Z"
   },
   {
    "duration": 65,
    "start_time": "2023-06-04T17:12:49.667Z"
   },
   {
    "duration": 2286,
    "start_time": "2023-06-04T17:12:49.734Z"
   },
   {
    "duration": 39,
    "start_time": "2023-06-04T17:12:52.022Z"
   },
   {
    "duration": 12,
    "start_time": "2023-06-04T17:12:52.067Z"
   },
   {
    "duration": 149,
    "start_time": "2023-06-04T17:12:52.083Z"
   },
   {
    "duration": 143,
    "start_time": "2023-06-04T17:12:52.234Z"
   },
   {
    "duration": 6,
    "start_time": "2023-06-04T17:12:52.379Z"
   },
   {
    "duration": 8,
    "start_time": "2023-06-04T17:12:52.386Z"
   },
   {
    "duration": 7,
    "start_time": "2023-06-04T17:12:52.396Z"
   },
   {
    "duration": 9,
    "start_time": "2023-06-04T17:12:52.404Z"
   },
   {
    "duration": 8,
    "start_time": "2023-06-04T17:12:52.414Z"
   },
   {
    "duration": 30,
    "start_time": "2023-06-04T17:12:52.452Z"
   },
   {
    "duration": 42,
    "start_time": "2023-06-04T17:12:52.484Z"
   },
   {
    "duration": 8,
    "start_time": "2023-06-04T17:12:52.528Z"
   },
   {
    "duration": 16,
    "start_time": "2023-06-04T17:12:52.549Z"
   },
   {
    "duration": 5,
    "start_time": "2023-06-04T17:12:52.567Z"
   },
   {
    "duration": 29,
    "start_time": "2023-06-04T17:12:52.574Z"
   },
   {
    "duration": 13,
    "start_time": "2023-06-04T17:12:52.604Z"
   },
   {
    "duration": 46,
    "start_time": "2023-06-04T17:12:52.619Z"
   },
   {
    "duration": 17,
    "start_time": "2023-06-04T17:12:52.667Z"
   },
   {
    "duration": 5,
    "start_time": "2023-06-04T17:12:52.685Z"
   },
   {
    "duration": 73,
    "start_time": "2023-06-04T17:12:52.691Z"
   },
   {
    "duration": 6,
    "start_time": "2023-06-04T17:12:52.770Z"
   },
   {
    "duration": 28,
    "start_time": "2023-06-04T17:12:52.778Z"
   },
   {
    "duration": 54,
    "start_time": "2023-06-04T17:12:52.807Z"
   },
   {
    "duration": 391,
    "start_time": "2023-06-04T17:12:52.865Z"
   },
   {
    "duration": 9,
    "start_time": "2023-06-04T17:12:53.265Z"
   },
   {
    "duration": 40,
    "start_time": "2023-06-04T17:12:53.275Z"
   },
   {
    "duration": 386,
    "start_time": "2023-06-04T17:12:53.316Z"
   },
   {
    "duration": 12,
    "start_time": "2023-06-04T17:12:53.704Z"
   },
   {
    "duration": 8,
    "start_time": "2023-06-04T17:12:53.717Z"
   },
   {
    "duration": 38,
    "start_time": "2023-06-04T17:12:53.726Z"
   },
   {
    "duration": 333,
    "start_time": "2023-06-04T17:12:53.765Z"
   },
   {
    "duration": 11,
    "start_time": "2023-06-04T17:12:54.100Z"
   },
   {
    "duration": 8,
    "start_time": "2023-06-04T17:12:54.113Z"
   },
   {
    "duration": 44,
    "start_time": "2023-06-04T17:12:54.123Z"
   },
   {
    "duration": 207,
    "start_time": "2023-06-04T17:12:54.170Z"
   },
   {
    "duration": 9,
    "start_time": "2023-06-04T17:12:54.379Z"
   },
   {
    "duration": 7,
    "start_time": "2023-06-04T17:12:54.389Z"
   },
   {
    "duration": 10,
    "start_time": "2023-06-04T17:12:54.398Z"
   },
   {
    "duration": 15,
    "start_time": "2023-06-04T17:14:52.080Z"
   },
   {
    "duration": 11,
    "start_time": "2023-06-04T17:17:36.784Z"
   },
   {
    "duration": 43,
    "start_time": "2023-06-04T17:17:50.369Z"
   },
   {
    "duration": 8,
    "start_time": "2023-06-04T17:18:01.026Z"
   },
   {
    "duration": 10,
    "start_time": "2023-06-04T17:18:10.401Z"
   },
   {
    "duration": 103,
    "start_time": "2023-06-04T17:18:27.521Z"
   },
   {
    "duration": 12,
    "start_time": "2023-06-04T17:18:49.693Z"
   },
   {
    "duration": 30,
    "start_time": "2023-06-04T17:19:00.688Z"
   },
   {
    "duration": 101,
    "start_time": "2023-06-04T17:19:09.818Z"
   },
   {
    "duration": 82,
    "start_time": "2023-06-04T17:20:27.464Z"
   },
   {
    "duration": 14,
    "start_time": "2023-06-04T17:20:33.561Z"
   },
   {
    "duration": 31,
    "start_time": "2023-06-04T17:22:04.038Z"
   },
   {
    "duration": 12,
    "start_time": "2023-06-04T17:22:10.219Z"
   },
   {
    "duration": 398,
    "start_time": "2023-06-04T17:22:48.937Z"
   },
   {
    "duration": 98,
    "start_time": "2023-06-04T17:22:49.337Z"
   },
   {
    "duration": 43,
    "start_time": "2023-06-04T17:22:49.437Z"
   },
   {
    "duration": 15,
    "start_time": "2023-06-04T17:22:49.482Z"
   },
   {
    "duration": 86,
    "start_time": "2023-06-04T17:22:49.499Z"
   },
   {
    "duration": 2331,
    "start_time": "2023-06-04T17:22:49.587Z"
   },
   {
    "duration": 28,
    "start_time": "2023-06-04T17:22:51.920Z"
   },
   {
    "duration": 15,
    "start_time": "2023-06-04T17:22:51.952Z"
   },
   {
    "duration": 156,
    "start_time": "2023-06-04T17:22:51.968Z"
   },
   {
    "duration": 154,
    "start_time": "2023-06-04T17:22:52.126Z"
   },
   {
    "duration": 6,
    "start_time": "2023-06-04T17:22:52.282Z"
   },
   {
    "duration": 8,
    "start_time": "2023-06-04T17:22:52.290Z"
   },
   {
    "duration": 8,
    "start_time": "2023-06-04T17:22:52.300Z"
   },
   {
    "duration": 8,
    "start_time": "2023-06-04T17:22:52.311Z"
   },
   {
    "duration": 33,
    "start_time": "2023-06-04T17:22:52.321Z"
   },
   {
    "duration": 20,
    "start_time": "2023-06-04T17:22:52.356Z"
   },
   {
    "duration": 33,
    "start_time": "2023-06-04T17:22:52.378Z"
   },
   {
    "duration": 6,
    "start_time": "2023-06-04T17:22:52.413Z"
   },
   {
    "duration": 9,
    "start_time": "2023-06-04T17:22:52.420Z"
   },
   {
    "duration": 20,
    "start_time": "2023-06-04T17:22:52.453Z"
   },
   {
    "duration": 37,
    "start_time": "2023-06-04T17:22:52.475Z"
   },
   {
    "duration": 13,
    "start_time": "2023-06-04T17:22:52.514Z"
   },
   {
    "duration": 40,
    "start_time": "2023-06-04T17:22:52.528Z"
   },
   {
    "duration": 17,
    "start_time": "2023-06-04T17:22:52.570Z"
   },
   {
    "duration": 6,
    "start_time": "2023-06-04T17:22:52.589Z"
   },
   {
    "duration": 60,
    "start_time": "2023-06-04T17:22:52.596Z"
   },
   {
    "duration": 6,
    "start_time": "2023-06-04T17:22:52.659Z"
   },
   {
    "duration": 29,
    "start_time": "2023-06-04T17:22:52.667Z"
   },
   {
    "duration": 32,
    "start_time": "2023-06-04T17:22:52.698Z"
   },
   {
    "duration": 421,
    "start_time": "2023-06-04T17:22:52.732Z"
   },
   {
    "duration": 8,
    "start_time": "2023-06-04T17:22:53.158Z"
   },
   {
    "duration": 25,
    "start_time": "2023-06-04T17:22:53.167Z"
   },
   {
    "duration": 396,
    "start_time": "2023-06-04T17:22:53.193Z"
   },
   {
    "duration": 11,
    "start_time": "2023-06-04T17:22:53.590Z"
   },
   {
    "duration": 8,
    "start_time": "2023-06-04T17:22:53.603Z"
   },
   {
    "duration": 10,
    "start_time": "2023-06-04T17:22:53.612Z"
   },
   {
    "duration": 346,
    "start_time": "2023-06-04T17:22:53.624Z"
   },
   {
    "duration": 9,
    "start_time": "2023-06-04T17:22:53.972Z"
   },
   {
    "duration": 8,
    "start_time": "2023-06-04T17:22:53.983Z"
   },
   {
    "duration": 11,
    "start_time": "2023-06-04T17:22:53.992Z"
   },
   {
    "duration": 245,
    "start_time": "2023-06-04T17:22:54.007Z"
   },
   {
    "duration": 14,
    "start_time": "2023-06-04T17:22:54.253Z"
   },
   {
    "duration": 11,
    "start_time": "2023-06-04T17:22:54.269Z"
   },
   {
    "duration": 9,
    "start_time": "2023-06-04T17:22:54.281Z"
   },
   {
    "duration": 9,
    "start_time": "2023-06-04T17:24:51.457Z"
   },
   {
    "duration": 8,
    "start_time": "2023-06-04T17:25:03.814Z"
   },
   {
    "duration": 9,
    "start_time": "2023-06-04T17:25:24.835Z"
   },
   {
    "duration": 57,
    "start_time": "2023-06-04T17:25:34.605Z"
   },
   {
    "duration": 8,
    "start_time": "2023-06-04T17:25:44.532Z"
   },
   {
    "duration": 41,
    "start_time": "2023-06-04T17:26:03.500Z"
   },
   {
    "duration": 10,
    "start_time": "2023-06-04T17:26:08.292Z"
   },
   {
    "duration": 8,
    "start_time": "2023-06-04T17:26:33.739Z"
   },
   {
    "duration": 9,
    "start_time": "2023-06-04T17:27:18.702Z"
   },
   {
    "duration": 10,
    "start_time": "2023-06-04T17:27:57.385Z"
   },
   {
    "duration": 9,
    "start_time": "2023-06-04T17:28:09.847Z"
   },
   {
    "duration": 11,
    "start_time": "2023-06-04T17:28:17.885Z"
   },
   {
    "duration": 8,
    "start_time": "2023-06-04T17:28:30.873Z"
   },
   {
    "duration": 12,
    "start_time": "2023-06-04T17:28:45.534Z"
   },
   {
    "duration": 403,
    "start_time": "2023-06-04T17:28:56.626Z"
   },
   {
    "duration": 99,
    "start_time": "2023-06-04T17:28:57.031Z"
   },
   {
    "duration": 44,
    "start_time": "2023-06-04T17:28:57.132Z"
   },
   {
    "duration": 15,
    "start_time": "2023-06-04T17:28:57.177Z"
   },
   {
    "duration": 83,
    "start_time": "2023-06-04T17:28:57.195Z"
   },
   {
    "duration": 2420,
    "start_time": "2023-06-04T17:28:57.280Z"
   },
   {
    "duration": 44,
    "start_time": "2023-06-04T17:28:59.704Z"
   },
   {
    "duration": 13,
    "start_time": "2023-06-04T17:28:59.750Z"
   },
   {
    "duration": 178,
    "start_time": "2023-06-04T17:28:59.765Z"
   },
   {
    "duration": 153,
    "start_time": "2023-06-04T17:28:59.944Z"
   },
   {
    "duration": 6,
    "start_time": "2023-06-04T17:29:00.099Z"
   },
   {
    "duration": 42,
    "start_time": "2023-06-04T17:29:00.107Z"
   },
   {
    "duration": 41,
    "start_time": "2023-06-04T17:29:00.159Z"
   },
   {
    "duration": 61,
    "start_time": "2023-06-04T17:29:00.203Z"
   },
   {
    "duration": 41,
    "start_time": "2023-06-04T17:29:00.265Z"
   },
   {
    "duration": 60,
    "start_time": "2023-06-04T17:29:00.307Z"
   },
   {
    "duration": 41,
    "start_time": "2023-06-04T17:29:00.369Z"
   },
   {
    "duration": 21,
    "start_time": "2023-06-04T17:29:00.412Z"
   },
   {
    "duration": 46,
    "start_time": "2023-06-04T17:29:00.434Z"
   },
   {
    "duration": 64,
    "start_time": "2023-06-04T17:29:00.483Z"
   },
   {
    "duration": 64,
    "start_time": "2023-06-04T17:29:00.549Z"
   },
   {
    "duration": 32,
    "start_time": "2023-06-04T17:29:00.615Z"
   },
   {
    "duration": 36,
    "start_time": "2023-06-04T17:29:00.650Z"
   },
   {
    "duration": 56,
    "start_time": "2023-06-04T17:29:00.688Z"
   },
   {
    "duration": 29,
    "start_time": "2023-06-04T17:29:00.745Z"
   },
   {
    "duration": 101,
    "start_time": "2023-06-04T17:29:00.776Z"
   },
   {
    "duration": 5,
    "start_time": "2023-06-04T17:29:00.879Z"
   },
   {
    "duration": 77,
    "start_time": "2023-06-04T17:29:00.885Z"
   },
   {
    "duration": 45,
    "start_time": "2023-06-04T17:29:00.965Z"
   },
   {
    "duration": 379,
    "start_time": "2023-06-04T17:29:01.012Z"
   },
   {
    "duration": 8,
    "start_time": "2023-06-04T17:29:01.393Z"
   },
   {
    "duration": 66,
    "start_time": "2023-06-04T17:29:01.402Z"
   },
   {
    "duration": 439,
    "start_time": "2023-06-04T17:29:01.470Z"
   },
   {
    "duration": 14,
    "start_time": "2023-06-04T17:29:01.912Z"
   },
   {
    "duration": 34,
    "start_time": "2023-06-04T17:29:01.929Z"
   },
   {
    "duration": 30,
    "start_time": "2023-06-04T17:29:01.967Z"
   },
   {
    "duration": 344,
    "start_time": "2023-06-04T17:29:02.000Z"
   },
   {
    "duration": 17,
    "start_time": "2023-06-04T17:29:02.346Z"
   },
   {
    "duration": 9,
    "start_time": "2023-06-04T17:29:02.364Z"
   },
   {
    "duration": 24,
    "start_time": "2023-06-04T17:29:02.375Z"
   },
   {
    "duration": 224,
    "start_time": "2023-06-04T17:29:02.402Z"
   },
   {
    "duration": 8,
    "start_time": "2023-06-04T17:29:02.628Z"
   },
   {
    "duration": 31,
    "start_time": "2023-06-04T17:29:02.637Z"
   },
   {
    "duration": 15,
    "start_time": "2023-06-04T17:29:02.670Z"
   },
   {
    "duration": 87,
    "start_time": "2023-06-04T17:31:16.688Z"
   },
   {
    "duration": 11,
    "start_time": "2023-06-04T17:31:21.517Z"
   },
   {
    "duration": 13,
    "start_time": "2023-06-04T17:31:44.280Z"
   },
   {
    "duration": 1402,
    "start_time": "2023-06-04T17:36:07.694Z"
   },
   {
    "duration": 369,
    "start_time": "2023-06-04T17:36:39.427Z"
   },
   {
    "duration": 405,
    "start_time": "2023-06-04T17:36:52.559Z"
   },
   {
    "duration": 319,
    "start_time": "2023-06-04T17:37:10.971Z"
   },
   {
    "duration": 9,
    "start_time": "2023-06-04T17:39:22.068Z"
   },
   {
    "duration": 10,
    "start_time": "2023-06-04T17:39:33.168Z"
   },
   {
    "duration": 10,
    "start_time": "2023-06-04T17:40:00.110Z"
   },
   {
    "duration": 9,
    "start_time": "2023-06-04T17:40:30.829Z"
   },
   {
    "duration": 186,
    "start_time": "2023-06-04T17:40:37.683Z"
   },
   {
    "duration": 15,
    "start_time": "2023-06-04T17:40:49.550Z"
   },
   {
    "duration": 8,
    "start_time": "2023-06-04T17:41:12.009Z"
   },
   {
    "duration": 8,
    "start_time": "2023-06-04T17:41:16.708Z"
   },
   {
    "duration": 8,
    "start_time": "2023-06-04T17:41:25.115Z"
   },
   {
    "duration": 11,
    "start_time": "2023-06-04T17:41:34.736Z"
   },
   {
    "duration": 9,
    "start_time": "2023-06-04T17:41:38.285Z"
   },
   {
    "duration": 10,
    "start_time": "2023-06-04T17:43:34.224Z"
   },
   {
    "duration": 11,
    "start_time": "2023-06-04T17:43:42.068Z"
   },
   {
    "duration": 252,
    "start_time": "2023-06-04T17:48:42.361Z"
   },
   {
    "duration": 150,
    "start_time": "2023-06-04T17:48:56.786Z"
   },
   {
    "duration": 170,
    "start_time": "2023-06-04T17:49:13.595Z"
   },
   {
    "duration": 10,
    "start_time": "2023-06-04T17:49:48.100Z"
   },
   {
    "duration": 8,
    "start_time": "2023-06-04T17:49:54.980Z"
   },
   {
    "duration": 9,
    "start_time": "2023-06-04T17:50:00.741Z"
   },
   {
    "duration": 8,
    "start_time": "2023-06-04T17:53:09.586Z"
   },
   {
    "duration": 204,
    "start_time": "2023-06-04T17:55:20.439Z"
   },
   {
    "duration": 10,
    "start_time": "2023-06-04T17:57:51.801Z"
   },
   {
    "duration": 166,
    "start_time": "2023-06-04T17:59:53.611Z"
   },
   {
    "duration": 174,
    "start_time": "2023-06-04T18:03:24.589Z"
   },
   {
    "duration": 192,
    "start_time": "2023-06-04T18:03:37.208Z"
   },
   {
    "duration": 8,
    "start_time": "2023-06-04T18:04:12.813Z"
   },
   {
    "duration": 4,
    "start_time": "2023-06-04T18:06:10.742Z"
   },
   {
    "duration": 29,
    "start_time": "2023-06-04T18:06:40.334Z"
   },
   {
    "duration": 1929,
    "start_time": "2023-06-04T18:08:39.792Z"
   },
   {
    "duration": 194,
    "start_time": "2023-06-04T18:10:13.043Z"
   },
   {
    "duration": 294,
    "start_time": "2023-06-04T18:10:27.474Z"
   },
   {
    "duration": 293,
    "start_time": "2023-06-04T18:10:54.277Z"
   },
   {
    "duration": 302,
    "start_time": "2023-06-04T18:11:02.171Z"
   },
   {
    "duration": 100,
    "start_time": "2023-06-04T18:11:51.787Z"
   },
   {
    "duration": 127,
    "start_time": "2023-06-04T18:11:57.749Z"
   },
   {
    "duration": 121,
    "start_time": "2023-06-04T18:12:16.707Z"
   },
   {
    "duration": 123,
    "start_time": "2023-06-04T18:13:15.116Z"
   },
   {
    "duration": 110,
    "start_time": "2023-06-04T18:14:47.789Z"
   },
   {
    "duration": 269,
    "start_time": "2023-06-04T18:16:35.203Z"
   },
   {
    "duration": 9,
    "start_time": "2023-06-04T18:17:03.118Z"
   },
   {
    "duration": 179,
    "start_time": "2023-06-04T18:18:02.623Z"
   },
   {
    "duration": 129,
    "start_time": "2023-06-04T18:19:47.112Z"
   },
   {
    "duration": 197,
    "start_time": "2023-06-04T18:29:26.222Z"
   },
   {
    "duration": 217,
    "start_time": "2023-06-04T18:35:46.804Z"
   },
   {
    "duration": 277,
    "start_time": "2023-06-04T18:36:05.860Z"
   },
   {
    "duration": 1003,
    "start_time": "2023-06-04T18:41:40.492Z"
   },
   {
    "duration": 746,
    "start_time": "2023-06-04T18:42:05.144Z"
   },
   {
    "duration": 1096,
    "start_time": "2023-06-04T18:42:27.904Z"
   },
   {
    "duration": 603,
    "start_time": "2023-06-04T18:42:43.265Z"
   },
   {
    "duration": 638,
    "start_time": "2023-06-04T18:43:09.566Z"
   },
   {
    "duration": 294,
    "start_time": "2023-06-04T18:59:35.477Z"
   },
   {
    "duration": 343,
    "start_time": "2023-06-04T18:59:40.764Z"
   },
   {
    "duration": 363,
    "start_time": "2023-06-04T19:18:39.930Z"
   },
   {
    "duration": 196,
    "start_time": "2023-06-04T19:21:11.291Z"
   },
   {
    "duration": 172,
    "start_time": "2023-06-04T19:21:53.245Z"
   },
   {
    "duration": 449,
    "start_time": "2023-06-04T19:22:12.732Z"
   },
   {
    "duration": 165,
    "start_time": "2023-06-04T19:22:27.141Z"
   },
   {
    "duration": 48,
    "start_time": "2023-06-05T05:08:46.619Z"
   },
   {
    "duration": 138,
    "start_time": "2023-06-05T05:10:41.039Z"
   },
   {
    "duration": 128,
    "start_time": "2023-06-05T05:10:41.179Z"
   },
   {
    "duration": 34,
    "start_time": "2023-06-05T05:10:41.311Z"
   },
   {
    "duration": 11,
    "start_time": "2023-06-05T05:10:41.347Z"
   },
   {
    "duration": 59,
    "start_time": "2023-06-05T05:10:41.359Z"
   },
   {
    "duration": 1827,
    "start_time": "2023-06-05T05:10:41.424Z"
   },
   {
    "duration": 20,
    "start_time": "2023-06-05T05:10:43.253Z"
   },
   {
    "duration": 28,
    "start_time": "2023-06-05T05:10:43.274Z"
   },
   {
    "duration": 131,
    "start_time": "2023-06-05T05:10:43.303Z"
   },
   {
    "duration": 109,
    "start_time": "2023-06-05T05:10:43.436Z"
   },
   {
    "duration": 4,
    "start_time": "2023-06-05T05:10:43.546Z"
   },
   {
    "duration": 30,
    "start_time": "2023-06-05T05:10:43.551Z"
   },
   {
    "duration": 39,
    "start_time": "2023-06-05T05:10:43.582Z"
   },
   {
    "duration": 9,
    "start_time": "2023-06-05T05:10:43.622Z"
   },
   {
    "duration": 11,
    "start_time": "2023-06-05T05:10:43.632Z"
   },
   {
    "duration": 16,
    "start_time": "2023-06-05T05:10:43.644Z"
   },
   {
    "duration": 47,
    "start_time": "2023-06-05T05:10:43.661Z"
   },
   {
    "duration": 6,
    "start_time": "2023-06-05T05:10:43.710Z"
   },
   {
    "duration": 23,
    "start_time": "2023-06-05T05:10:43.717Z"
   },
   {
    "duration": 18,
    "start_time": "2023-06-05T05:10:43.741Z"
   },
   {
    "duration": 49,
    "start_time": "2023-06-05T05:10:43.760Z"
   },
   {
    "duration": 11,
    "start_time": "2023-06-05T05:10:43.810Z"
   },
   {
    "duration": 18,
    "start_time": "2023-06-05T05:10:43.823Z"
   },
   {
    "duration": 18,
    "start_time": "2023-06-05T05:10:43.842Z"
   },
   {
    "duration": 7,
    "start_time": "2023-06-05T05:10:43.861Z"
   },
   {
    "duration": 59,
    "start_time": "2023-06-05T05:10:43.869Z"
   },
   {
    "duration": 9,
    "start_time": "2023-06-05T05:10:43.929Z"
   },
   {
    "duration": 42,
    "start_time": "2023-06-05T05:10:43.939Z"
   },
   {
    "duration": 30,
    "start_time": "2023-06-05T05:10:43.982Z"
   },
   {
    "duration": 353,
    "start_time": "2023-06-05T05:10:44.013Z"
   },
   {
    "duration": 15,
    "start_time": "2023-06-05T05:10:44.368Z"
   },
   {
    "duration": 39,
    "start_time": "2023-06-05T05:10:44.400Z"
   },
   {
    "duration": 8,
    "start_time": "2023-06-05T05:10:44.440Z"
   },
   {
    "duration": 264,
    "start_time": "2023-06-05T05:10:44.449Z"
   },
   {
    "duration": 9,
    "start_time": "2023-06-05T05:10:44.714Z"
   },
   {
    "duration": 15,
    "start_time": "2023-06-05T05:10:44.724Z"
   },
   {
    "duration": 270,
    "start_time": "2023-06-05T05:10:44.740Z"
   },
   {
    "duration": 8,
    "start_time": "2023-06-05T05:10:45.013Z"
   },
   {
    "duration": 49,
    "start_time": "2023-06-05T05:10:45.022Z"
   },
   {
    "duration": 227,
    "start_time": "2023-06-05T05:10:45.073Z"
   },
   {
    "duration": 7,
    "start_time": "2023-06-05T05:10:45.309Z"
   },
   {
    "duration": 28,
    "start_time": "2023-06-05T05:10:45.317Z"
   },
   {
    "duration": 251,
    "start_time": "2023-06-05T05:10:45.346Z"
   },
   {
    "duration": 11,
    "start_time": "2023-06-05T05:10:45.599Z"
   },
   {
    "duration": 149,
    "start_time": "2023-06-05T05:10:45.612Z"
   },
   {
    "duration": 7,
    "start_time": "2023-06-05T05:10:45.762Z"
   },
   {
    "duration": 20,
    "start_time": "2023-06-05T05:10:45.770Z"
   },
   {
    "duration": 175,
    "start_time": "2023-06-05T05:10:45.791Z"
   },
   {
    "duration": 205,
    "start_time": "2023-06-05T05:10:45.968Z"
   },
   {
    "duration": 19,
    "start_time": "2023-06-05T05:10:46.176Z"
   },
   {
    "duration": 166,
    "start_time": "2023-06-05T05:10:46.196Z"
   },
   {
    "duration": 175,
    "start_time": "2023-06-05T05:10:46.364Z"
   },
   {
    "duration": 269,
    "start_time": "2023-06-05T05:10:46.541Z"
   },
   {
    "duration": 138,
    "start_time": "2023-06-05T05:10:46.811Z"
   },
   {
    "duration": 8,
    "start_time": "2023-06-05T05:10:46.950Z"
   },
   {
    "duration": 176,
    "start_time": "2023-06-05T05:10:46.960Z"
   },
   {
    "duration": 26,
    "start_time": "2023-06-05T05:10:47.138Z"
   },
   {
    "duration": 12,
    "start_time": "2023-06-05T05:12:44.901Z"
   },
   {
    "duration": 7,
    "start_time": "2023-06-05T05:15:00.320Z"
   },
   {
    "duration": 307,
    "start_time": "2023-06-05T05:17:51.728Z"
   },
   {
    "duration": 286,
    "start_time": "2023-06-05T05:18:15.542Z"
   },
   {
    "duration": 4,
    "start_time": "2023-06-05T05:21:39.411Z"
   },
   {
    "duration": 8,
    "start_time": "2023-06-05T05:22:37.534Z"
   },
   {
    "duration": 7,
    "start_time": "2023-06-05T05:22:46.443Z"
   },
   {
    "duration": 262,
    "start_time": "2023-06-05T05:23:03.717Z"
   },
   {
    "duration": 7,
    "start_time": "2023-06-05T05:24:04.142Z"
   },
   {
    "duration": 8,
    "start_time": "2023-06-05T05:24:16.411Z"
   },
   {
    "duration": 7,
    "start_time": "2023-06-05T05:24:20.859Z"
   },
   {
    "duration": 279,
    "start_time": "2023-06-05T05:25:45.380Z"
   },
   {
    "duration": 9,
    "start_time": "2023-06-05T05:30:52.416Z"
   },
   {
    "duration": 6,
    "start_time": "2023-06-05T05:32:37.467Z"
   },
   {
    "duration": 6,
    "start_time": "2023-06-05T05:32:43.953Z"
   },
   {
    "duration": 8,
    "start_time": "2023-06-05T05:34:32.074Z"
   },
   {
    "duration": 190,
    "start_time": "2023-06-05T05:35:13.771Z"
   },
   {
    "duration": 12,
    "start_time": "2023-06-05T05:35:20.843Z"
   },
   {
    "duration": 198,
    "start_time": "2023-06-05T05:36:21.870Z"
   },
   {
    "duration": 335,
    "start_time": "2023-06-05T05:36:44.022Z"
   },
   {
    "duration": 191,
    "start_time": "2023-06-05T05:37:04.942Z"
   },
   {
    "duration": 11,
    "start_time": "2023-06-05T05:37:13.453Z"
   },
   {
    "duration": 203,
    "start_time": "2023-06-05T05:37:26.051Z"
   },
   {
    "duration": 7,
    "start_time": "2023-06-05T05:37:39.014Z"
   },
   {
    "duration": 75,
    "start_time": "2023-06-05T06:01:27.711Z"
   },
   {
    "duration": 51,
    "start_time": "2023-06-05T06:03:11.911Z"
   },
   {
    "duration": 289,
    "start_time": "2023-06-05T06:06:34.865Z"
   },
   {
    "duration": 253,
    "start_time": "2023-06-05T06:07:06.793Z"
   },
   {
    "duration": 293,
    "start_time": "2023-06-05T06:08:38.881Z"
   },
   {
    "duration": 175,
    "start_time": "2023-06-05T06:08:49.789Z"
   },
   {
    "duration": 127,
    "start_time": "2023-06-05T06:09:14.450Z"
   },
   {
    "duration": 152,
    "start_time": "2023-06-05T06:09:26.091Z"
   },
   {
    "duration": 157,
    "start_time": "2023-06-05T06:10:06.010Z"
   },
   {
    "duration": 108,
    "start_time": "2023-06-05T06:10:39.028Z"
   },
   {
    "duration": 9,
    "start_time": "2023-06-05T06:32:56.187Z"
   },
   {
    "duration": 274,
    "start_time": "2023-06-05T06:34:54.636Z"
   },
   {
    "duration": 207,
    "start_time": "2023-06-05T06:36:29.055Z"
   },
   {
    "duration": 257,
    "start_time": "2023-06-05T06:37:15.463Z"
   },
   {
    "duration": 420,
    "start_time": "2023-06-05T06:37:32.218Z"
   },
   {
    "duration": 270,
    "start_time": "2023-06-05T06:38:16.391Z"
   },
   {
    "duration": 121,
    "start_time": "2023-06-05T06:46:12.462Z"
   },
   {
    "duration": 128,
    "start_time": "2023-06-05T06:46:26.790Z"
   },
   {
    "duration": 132,
    "start_time": "2023-06-05T06:46:34.686Z"
   },
   {
    "duration": 125,
    "start_time": "2023-06-05T06:46:52.910Z"
   },
   {
    "duration": 136,
    "start_time": "2023-06-05T07:39:53.843Z"
   },
   {
    "duration": 136,
    "start_time": "2023-06-05T07:41:35.419Z"
   },
   {
    "duration": 135,
    "start_time": "2023-06-05T07:41:43.028Z"
   },
   {
    "duration": 140,
    "start_time": "2023-06-05T07:43:19.718Z"
   },
   {
    "duration": 151,
    "start_time": "2023-06-05T07:50:49.716Z"
   },
   {
    "duration": 125,
    "start_time": "2023-06-05T07:53:58.024Z"
   },
   {
    "duration": 130,
    "start_time": "2023-06-05T07:58:05.648Z"
   },
   {
    "duration": 465,
    "start_time": "2023-06-05T08:01:15.016Z"
   },
   {
    "duration": 133,
    "start_time": "2023-06-05T08:02:03.110Z"
   },
   {
    "duration": 140,
    "start_time": "2023-06-05T08:08:16.184Z"
   },
   {
    "duration": 22,
    "start_time": "2023-06-05T08:15:18.516Z"
   },
   {
    "duration": 604,
    "start_time": "2023-06-05T08:17:14.139Z"
   },
   {
    "duration": 88,
    "start_time": "2023-06-05T08:17:14.745Z"
   },
   {
    "duration": 29,
    "start_time": "2023-06-05T08:17:14.835Z"
   },
   {
    "duration": 23,
    "start_time": "2023-06-05T08:17:14.866Z"
   },
   {
    "duration": 58,
    "start_time": "2023-06-05T08:17:14.891Z"
   },
   {
    "duration": 1793,
    "start_time": "2023-06-05T08:17:14.950Z"
   },
   {
    "duration": 33,
    "start_time": "2023-06-05T08:17:16.745Z"
   },
   {
    "duration": 9,
    "start_time": "2023-06-05T08:17:16.780Z"
   },
   {
    "duration": 128,
    "start_time": "2023-06-05T08:17:16.791Z"
   },
   {
    "duration": 126,
    "start_time": "2023-06-05T08:17:16.921Z"
   },
   {
    "duration": 5,
    "start_time": "2023-06-05T08:17:17.049Z"
   },
   {
    "duration": 23,
    "start_time": "2023-06-05T08:17:17.055Z"
   },
   {
    "duration": 19,
    "start_time": "2023-06-05T08:17:17.081Z"
   },
   {
    "duration": 11,
    "start_time": "2023-06-05T08:17:17.101Z"
   },
   {
    "duration": 24,
    "start_time": "2023-06-05T08:17:17.113Z"
   },
   {
    "duration": 25,
    "start_time": "2023-06-05T08:17:17.139Z"
   },
   {
    "duration": 36,
    "start_time": "2023-06-05T08:17:17.166Z"
   },
   {
    "duration": 5,
    "start_time": "2023-06-05T08:17:17.204Z"
   },
   {
    "duration": 11,
    "start_time": "2023-06-05T08:17:17.211Z"
   },
   {
    "duration": 18,
    "start_time": "2023-06-05T08:17:17.224Z"
   },
   {
    "duration": 28,
    "start_time": "2023-06-05T08:17:17.243Z"
   },
   {
    "duration": 22,
    "start_time": "2023-06-05T08:17:17.272Z"
   },
   {
    "duration": 20,
    "start_time": "2023-06-05T08:17:17.295Z"
   },
   {
    "duration": 17,
    "start_time": "2023-06-05T08:17:17.317Z"
   },
   {
    "duration": 17,
    "start_time": "2023-06-05T08:17:17.335Z"
   },
   {
    "duration": 52,
    "start_time": "2023-06-05T08:17:17.354Z"
   },
   {
    "duration": 6,
    "start_time": "2023-06-05T08:17:17.407Z"
   },
   {
    "duration": 29,
    "start_time": "2023-06-05T08:17:17.417Z"
   },
   {
    "duration": 41,
    "start_time": "2023-06-05T08:17:17.447Z"
   },
   {
    "duration": 351,
    "start_time": "2023-06-05T08:17:17.490Z"
   },
   {
    "duration": 6,
    "start_time": "2023-06-05T08:17:17.843Z"
   },
   {
    "duration": 45,
    "start_time": "2023-06-05T08:17:17.851Z"
   },
   {
    "duration": 9,
    "start_time": "2023-06-05T08:17:17.898Z"
   },
   {
    "duration": 347,
    "start_time": "2023-06-05T08:17:17.909Z"
   },
   {
    "duration": 9,
    "start_time": "2023-06-05T08:17:18.258Z"
   },
   {
    "duration": 20,
    "start_time": "2023-06-05T08:17:18.269Z"
   },
   {
    "duration": 266,
    "start_time": "2023-06-05T08:17:18.291Z"
   },
   {
    "duration": 7,
    "start_time": "2023-06-05T08:17:18.559Z"
   },
   {
    "duration": 27,
    "start_time": "2023-06-05T08:17:18.567Z"
   },
   {
    "duration": 166,
    "start_time": "2023-06-05T08:17:18.596Z"
   },
   {
    "duration": 8,
    "start_time": "2023-06-05T08:17:18.764Z"
   },
   {
    "duration": 14,
    "start_time": "2023-06-05T08:17:18.773Z"
   },
   {
    "duration": 167,
    "start_time": "2023-06-05T08:17:18.788Z"
   },
   {
    "duration": 7,
    "start_time": "2023-06-05T08:17:18.957Z"
   },
   {
    "duration": 157,
    "start_time": "2023-06-05T08:17:18.966Z"
   },
   {
    "duration": 8,
    "start_time": "2023-06-05T08:17:19.124Z"
   },
   {
    "duration": 9,
    "start_time": "2023-06-05T08:17:19.133Z"
   },
   {
    "duration": 173,
    "start_time": "2023-06-05T08:17:19.143Z"
   },
   {
    "duration": 167,
    "start_time": "2023-06-05T08:17:19.317Z"
   },
   {
    "duration": 7,
    "start_time": "2023-06-05T08:17:19.486Z"
   },
   {
    "duration": 131,
    "start_time": "2023-06-05T08:17:19.494Z"
   },
   {
    "duration": 175,
    "start_time": "2023-06-05T08:17:19.626Z"
   },
   {
    "duration": 0,
    "start_time": "2023-06-05T08:17:19.802Z"
   },
   {
    "duration": 0,
    "start_time": "2023-06-05T08:17:19.803Z"
   },
   {
    "duration": 0,
    "start_time": "2023-06-05T08:17:19.805Z"
   },
   {
    "duration": 0,
    "start_time": "2023-06-05T08:17:19.807Z"
   },
   {
    "duration": 0,
    "start_time": "2023-06-05T08:17:19.808Z"
   },
   {
    "duration": 0,
    "start_time": "2023-06-05T08:17:19.809Z"
   },
   {
    "duration": 0,
    "start_time": "2023-06-05T08:17:19.810Z"
   },
   {
    "duration": 0,
    "start_time": "2023-06-05T08:17:19.811Z"
   },
   {
    "duration": 0,
    "start_time": "2023-06-05T08:17:19.812Z"
   },
   {
    "duration": 0,
    "start_time": "2023-06-05T08:17:19.813Z"
   },
   {
    "duration": 0,
    "start_time": "2023-06-05T08:17:19.814Z"
   },
   {
    "duration": 0,
    "start_time": "2023-06-05T08:17:19.815Z"
   },
   {
    "duration": 0,
    "start_time": "2023-06-05T08:17:19.816Z"
   },
   {
    "duration": 0,
    "start_time": "2023-06-05T08:17:19.816Z"
   },
   {
    "duration": 0,
    "start_time": "2023-06-05T08:17:19.817Z"
   },
   {
    "duration": 0,
    "start_time": "2023-06-05T08:17:19.818Z"
   },
   {
    "duration": 0,
    "start_time": "2023-06-05T08:17:19.818Z"
   },
   {
    "duration": 0,
    "start_time": "2023-06-05T08:17:19.819Z"
   },
   {
    "duration": 0,
    "start_time": "2023-06-05T08:17:19.820Z"
   },
   {
    "duration": 0,
    "start_time": "2023-06-05T08:17:19.821Z"
   },
   {
    "duration": 647,
    "start_time": "2023-06-05T08:18:37.988Z"
   },
   {
    "duration": 91,
    "start_time": "2023-06-05T08:18:38.637Z"
   },
   {
    "duration": 30,
    "start_time": "2023-06-05T08:18:38.729Z"
   },
   {
    "duration": 30,
    "start_time": "2023-06-05T08:18:38.760Z"
   },
   {
    "duration": 64,
    "start_time": "2023-06-05T08:18:38.792Z"
   },
   {
    "duration": 1693,
    "start_time": "2023-06-05T08:18:38.858Z"
   },
   {
    "duration": 23,
    "start_time": "2023-06-05T08:18:40.553Z"
   },
   {
    "duration": 76,
    "start_time": "2023-06-05T08:18:40.578Z"
   },
   {
    "duration": 146,
    "start_time": "2023-06-05T08:18:40.655Z"
   },
   {
    "duration": 124,
    "start_time": "2023-06-05T08:18:40.803Z"
   },
   {
    "duration": 6,
    "start_time": "2023-06-05T08:18:40.928Z"
   },
   {
    "duration": 27,
    "start_time": "2023-06-05T08:18:40.935Z"
   },
   {
    "duration": 7,
    "start_time": "2023-06-05T08:18:40.963Z"
   },
   {
    "duration": 5,
    "start_time": "2023-06-05T08:18:40.973Z"
   },
   {
    "duration": 14,
    "start_time": "2023-06-05T08:18:40.980Z"
   },
   {
    "duration": 15,
    "start_time": "2023-06-05T08:18:40.996Z"
   },
   {
    "duration": 34,
    "start_time": "2023-06-05T08:18:41.012Z"
   },
   {
    "duration": 5,
    "start_time": "2023-06-05T08:18:41.047Z"
   },
   {
    "duration": 29,
    "start_time": "2023-06-05T08:18:41.054Z"
   },
   {
    "duration": 13,
    "start_time": "2023-06-05T08:18:41.085Z"
   },
   {
    "duration": 50,
    "start_time": "2023-06-05T08:18:41.100Z"
   },
   {
    "duration": 12,
    "start_time": "2023-06-05T08:18:41.151Z"
   },
   {
    "duration": 26,
    "start_time": "2023-06-05T08:18:41.164Z"
   },
   {
    "duration": 17,
    "start_time": "2023-06-05T08:18:41.191Z"
   },
   {
    "duration": 8,
    "start_time": "2023-06-05T08:18:41.209Z"
   },
   {
    "duration": 53,
    "start_time": "2023-06-05T08:18:41.218Z"
   },
   {
    "duration": 5,
    "start_time": "2023-06-05T08:18:41.273Z"
   },
   {
    "duration": 38,
    "start_time": "2023-06-05T08:18:41.284Z"
   },
   {
    "duration": 26,
    "start_time": "2023-06-05T08:18:41.324Z"
   },
   {
    "duration": 349,
    "start_time": "2023-06-05T08:18:41.351Z"
   },
   {
    "duration": 6,
    "start_time": "2023-06-05T08:18:41.701Z"
   },
   {
    "duration": 27,
    "start_time": "2023-06-05T08:18:41.708Z"
   },
   {
    "duration": 4,
    "start_time": "2023-06-05T08:18:41.736Z"
   },
   {
    "duration": 329,
    "start_time": "2023-06-05T08:18:41.741Z"
   },
   {
    "duration": 16,
    "start_time": "2023-06-05T08:18:42.071Z"
   },
   {
    "duration": 11,
    "start_time": "2023-06-05T08:18:42.088Z"
   },
   {
    "duration": 254,
    "start_time": "2023-06-05T08:18:42.100Z"
   },
   {
    "duration": 9,
    "start_time": "2023-06-05T08:18:42.356Z"
   },
   {
    "duration": 28,
    "start_time": "2023-06-05T08:18:42.366Z"
   },
   {
    "duration": 172,
    "start_time": "2023-06-05T08:18:42.396Z"
   },
   {
    "duration": 10,
    "start_time": "2023-06-05T08:18:42.572Z"
   },
   {
    "duration": 24,
    "start_time": "2023-06-05T08:18:42.585Z"
   },
   {
    "duration": 174,
    "start_time": "2023-06-05T08:18:42.610Z"
   },
   {
    "duration": 7,
    "start_time": "2023-06-05T08:18:42.786Z"
   },
   {
    "duration": 232,
    "start_time": "2023-06-05T08:18:42.795Z"
   },
   {
    "duration": 8,
    "start_time": "2023-06-05T08:18:43.029Z"
   },
   {
    "duration": 11,
    "start_time": "2023-06-05T08:18:43.039Z"
   },
   {
    "duration": 164,
    "start_time": "2023-06-05T08:18:43.052Z"
   },
   {
    "duration": 162,
    "start_time": "2023-06-05T08:18:43.217Z"
   },
   {
    "duration": 7,
    "start_time": "2023-06-05T08:18:43.384Z"
   },
   {
    "duration": 133,
    "start_time": "2023-06-05T08:18:43.392Z"
   },
   {
    "duration": 173,
    "start_time": "2023-06-05T08:18:43.526Z"
   },
   {
    "duration": 7,
    "start_time": "2023-06-05T08:18:43.700Z"
   },
   {
    "duration": 325,
    "start_time": "2023-06-05T08:18:43.708Z"
   },
   {
    "duration": 165,
    "start_time": "2023-06-05T08:18:44.034Z"
   },
   {
    "duration": 10,
    "start_time": "2023-06-05T08:18:44.200Z"
   },
   {
    "duration": 185,
    "start_time": "2023-06-05T08:18:44.212Z"
   },
   {
    "duration": 9,
    "start_time": "2023-06-05T08:18:44.399Z"
   },
   {
    "duration": 137,
    "start_time": "2023-06-05T08:18:44.409Z"
   },
   {
    "duration": 147,
    "start_time": "2023-06-05T08:18:44.548Z"
   },
   {
    "duration": 6,
    "start_time": "2023-06-05T08:18:44.697Z"
   },
   {
    "duration": 269,
    "start_time": "2023-06-05T08:18:44.704Z"
   },
   {
    "duration": 254,
    "start_time": "2023-06-05T08:18:44.975Z"
   },
   {
    "duration": 10,
    "start_time": "2023-06-05T08:18:45.231Z"
   },
   {
    "duration": 171,
    "start_time": "2023-06-05T08:18:45.243Z"
   },
   {
    "duration": 152,
    "start_time": "2023-06-05T08:18:45.415Z"
   },
   {
    "duration": 210,
    "start_time": "2023-06-05T08:18:45.569Z"
   },
   {
    "duration": 146,
    "start_time": "2023-06-05T08:18:45.785Z"
   },
   {
    "duration": 298,
    "start_time": "2023-06-05T08:18:45.933Z"
   },
   {
    "duration": 193,
    "start_time": "2023-06-05T08:18:46.234Z"
   },
   {
    "duration": 100,
    "start_time": "2023-06-05T08:18:46.429Z"
   },
   {
    "duration": 144,
    "start_time": "2023-06-05T08:24:56.273Z"
   },
   {
    "duration": 159,
    "start_time": "2023-06-05T08:32:04.957Z"
   },
   {
    "duration": 145,
    "start_time": "2023-06-05T08:33:43.606Z"
   },
   {
    "duration": 143,
    "start_time": "2023-06-05T08:40:32.299Z"
   },
   {
    "duration": 32,
    "start_time": "2023-06-05T08:43:34.029Z"
   },
   {
    "duration": 1032,
    "start_time": "2023-06-05T08:54:41.508Z"
   },
   {
    "duration": 171,
    "start_time": "2023-06-05T08:55:46.118Z"
   },
   {
    "duration": 140,
    "start_time": "2023-06-05T08:56:28.193Z"
   },
   {
    "duration": 170,
    "start_time": "2023-06-05T09:01:04.244Z"
   },
   {
    "duration": 45,
    "start_time": "2023-06-06T16:18:25.580Z"
   },
   {
    "duration": 768,
    "start_time": "2023-06-06T16:18:36.986Z"
   },
   {
    "duration": 140,
    "start_time": "2023-06-06T16:18:37.756Z"
   },
   {
    "duration": 32,
    "start_time": "2023-06-06T16:18:37.898Z"
   },
   {
    "duration": 13,
    "start_time": "2023-06-06T16:18:37.932Z"
   },
   {
    "duration": 69,
    "start_time": "2023-06-06T16:18:37.947Z"
   },
   {
    "duration": 1833,
    "start_time": "2023-06-06T16:18:38.017Z"
   },
   {
    "duration": 26,
    "start_time": "2023-06-06T16:18:39.852Z"
   },
   {
    "duration": 8,
    "start_time": "2023-06-06T16:18:39.880Z"
   },
   {
    "duration": 138,
    "start_time": "2023-06-06T16:18:39.889Z"
   },
   {
    "duration": 125,
    "start_time": "2023-06-06T16:18:40.030Z"
   },
   {
    "duration": 18,
    "start_time": "2023-06-06T16:18:40.157Z"
   },
   {
    "duration": 8,
    "start_time": "2023-06-06T16:18:40.177Z"
   },
   {
    "duration": 7,
    "start_time": "2023-06-06T16:18:40.186Z"
   },
   {
    "duration": 5,
    "start_time": "2023-06-06T16:18:40.195Z"
   },
   {
    "duration": 5,
    "start_time": "2023-06-06T16:18:40.201Z"
   },
   {
    "duration": 13,
    "start_time": "2023-06-06T16:18:40.207Z"
   },
   {
    "duration": 3,
    "start_time": "2023-06-06T16:18:40.222Z"
   },
   {
    "duration": 70,
    "start_time": "2023-06-06T16:18:40.227Z"
   },
   {
    "duration": 5,
    "start_time": "2023-06-06T16:18:40.299Z"
   },
   {
    "duration": 6,
    "start_time": "2023-06-06T16:18:40.305Z"
   },
   {
    "duration": 6,
    "start_time": "2023-06-06T16:18:40.312Z"
   },
   {
    "duration": 27,
    "start_time": "2023-06-06T16:18:40.319Z"
   },
   {
    "duration": 34,
    "start_time": "2023-06-06T16:18:40.347Z"
   },
   {
    "duration": 20,
    "start_time": "2023-06-06T16:18:40.382Z"
   },
   {
    "duration": 16,
    "start_time": "2023-06-06T16:18:40.404Z"
   },
   {
    "duration": 4,
    "start_time": "2023-06-06T16:18:40.421Z"
   },
   {
    "duration": 68,
    "start_time": "2023-06-06T16:18:40.427Z"
   },
   {
    "duration": 5,
    "start_time": "2023-06-06T16:18:40.498Z"
   },
   {
    "duration": 24,
    "start_time": "2023-06-06T16:18:40.505Z"
   },
   {
    "duration": 51,
    "start_time": "2023-06-06T16:18:40.531Z"
   },
   {
    "duration": 347,
    "start_time": "2023-06-06T16:18:40.584Z"
   },
   {
    "duration": 7,
    "start_time": "2023-06-06T16:18:40.933Z"
   },
   {
    "duration": 35,
    "start_time": "2023-06-06T16:18:40.941Z"
   },
   {
    "duration": 4,
    "start_time": "2023-06-06T16:18:40.978Z"
   },
   {
    "duration": 379,
    "start_time": "2023-06-06T16:18:40.984Z"
   },
   {
    "duration": 16,
    "start_time": "2023-06-06T16:18:41.364Z"
   },
   {
    "duration": 8,
    "start_time": "2023-06-06T16:18:41.381Z"
   },
   {
    "duration": 329,
    "start_time": "2023-06-06T16:18:41.390Z"
   },
   {
    "duration": 10,
    "start_time": "2023-06-06T16:18:41.720Z"
   },
   {
    "duration": 13,
    "start_time": "2023-06-06T16:18:41.731Z"
   },
   {
    "duration": 205,
    "start_time": "2023-06-06T16:18:41.747Z"
   },
   {
    "duration": 9,
    "start_time": "2023-06-06T16:18:41.954Z"
   },
   {
    "duration": 18,
    "start_time": "2023-06-06T16:18:41.964Z"
   },
   {
    "duration": 173,
    "start_time": "2023-06-06T16:18:41.983Z"
   },
   {
    "duration": 8,
    "start_time": "2023-06-06T16:18:42.157Z"
   },
   {
    "duration": 166,
    "start_time": "2023-06-06T16:18:42.174Z"
   },
   {
    "duration": 8,
    "start_time": "2023-06-06T16:18:42.342Z"
   },
   {
    "duration": 24,
    "start_time": "2023-06-06T16:18:42.352Z"
   },
   {
    "duration": 176,
    "start_time": "2023-06-06T16:18:42.377Z"
   },
   {
    "duration": 176,
    "start_time": "2023-06-06T16:18:42.554Z"
   },
   {
    "duration": 9,
    "start_time": "2023-06-06T16:18:42.732Z"
   },
   {
    "duration": 137,
    "start_time": "2023-06-06T16:18:42.742Z"
   },
   {
    "duration": 188,
    "start_time": "2023-06-06T16:18:42.880Z"
   },
   {
    "duration": 10,
    "start_time": "2023-06-06T16:18:43.070Z"
   },
   {
    "duration": 375,
    "start_time": "2023-06-06T16:18:43.081Z"
   },
   {
    "duration": 172,
    "start_time": "2023-06-06T16:18:43.458Z"
   },
   {
    "duration": 7,
    "start_time": "2023-06-06T16:18:43.632Z"
   },
   {
    "duration": 174,
    "start_time": "2023-06-06T16:18:43.641Z"
   },
   {
    "duration": 8,
    "start_time": "2023-06-06T16:18:43.817Z"
   },
   {
    "duration": 153,
    "start_time": "2023-06-06T16:18:43.826Z"
   },
   {
    "duration": 207,
    "start_time": "2023-06-06T16:18:43.981Z"
   },
   {
    "duration": 8,
    "start_time": "2023-06-06T16:18:44.190Z"
   },
   {
    "duration": 311,
    "start_time": "2023-06-06T16:18:44.200Z"
   },
   {
    "duration": 273,
    "start_time": "2023-06-06T16:18:44.513Z"
   },
   {
    "duration": 10,
    "start_time": "2023-06-06T16:18:44.787Z"
   },
   {
    "duration": 151,
    "start_time": "2023-06-06T16:18:44.798Z"
   },
   {
    "duration": 171,
    "start_time": "2023-06-06T16:18:44.951Z"
   },
   {
    "duration": 169,
    "start_time": "2023-06-06T16:18:45.124Z"
   },
   {
    "duration": 166,
    "start_time": "2023-06-06T16:18:45.295Z"
   },
   {
    "duration": 272,
    "start_time": "2023-06-06T16:18:45.463Z"
   },
   {
    "duration": 149,
    "start_time": "2023-06-06T16:18:45.736Z"
   },
   {
    "duration": 164,
    "start_time": "2023-06-06T16:18:45.886Z"
   },
   {
    "duration": 182,
    "start_time": "2023-06-06T16:18:46.052Z"
   },
   {
    "duration": 166,
    "start_time": "2023-06-06T16:18:46.236Z"
   },
   {
    "duration": 31,
    "start_time": "2023-06-06T16:18:46.404Z"
   },
   {
    "duration": 164,
    "start_time": "2023-06-06T16:18:46.436Z"
   },
   {
    "duration": 80,
    "start_time": "2023-06-06T16:31:33.116Z"
   },
   {
    "duration": 6,
    "start_time": "2023-06-06T16:31:37.710Z"
   },
   {
    "duration": 5,
    "start_time": "2023-06-06T16:33:33.172Z"
   },
   {
    "duration": 6,
    "start_time": "2023-06-06T16:34:45.030Z"
   },
   {
    "duration": 16,
    "start_time": "2023-06-06T16:34:49.206Z"
   },
   {
    "duration": 5,
    "start_time": "2023-06-06T16:36:27.018Z"
   },
   {
    "duration": 54,
    "start_time": "2023-06-07T06:50:22.877Z"
   },
   {
    "duration": 830,
    "start_time": "2023-06-07T06:50:29.946Z"
   },
   {
    "duration": 771,
    "start_time": "2023-06-07T06:50:30.778Z"
   },
   {
    "duration": 29,
    "start_time": "2023-06-07T06:50:31.551Z"
   },
   {
    "duration": 26,
    "start_time": "2023-06-07T06:50:31.582Z"
   },
   {
    "duration": 107,
    "start_time": "2023-06-07T06:50:31.609Z"
   },
   {
    "duration": 1917,
    "start_time": "2023-06-07T06:50:31.717Z"
   },
   {
    "duration": 23,
    "start_time": "2023-06-07T06:50:33.635Z"
   },
   {
    "duration": 8,
    "start_time": "2023-06-07T06:50:33.659Z"
   },
   {
    "duration": 149,
    "start_time": "2023-06-07T06:50:33.669Z"
   },
   {
    "duration": 129,
    "start_time": "2023-06-07T06:50:33.821Z"
   },
   {
    "duration": 6,
    "start_time": "2023-06-07T06:50:33.951Z"
   },
   {
    "duration": 17,
    "start_time": "2023-06-07T06:50:33.958Z"
   },
   {
    "duration": 35,
    "start_time": "2023-06-07T06:50:33.976Z"
   },
   {
    "duration": 27,
    "start_time": "2023-06-07T06:50:34.013Z"
   },
   {
    "duration": 16,
    "start_time": "2023-06-07T06:50:34.042Z"
   },
   {
    "duration": 18,
    "start_time": "2023-06-07T06:50:34.060Z"
   },
   {
    "duration": 27,
    "start_time": "2023-06-07T06:50:34.080Z"
   },
   {
    "duration": 38,
    "start_time": "2023-06-07T06:50:34.109Z"
   },
   {
    "duration": 6,
    "start_time": "2023-06-07T06:50:34.148Z"
   },
   {
    "duration": 18,
    "start_time": "2023-06-07T06:50:34.155Z"
   },
   {
    "duration": 44,
    "start_time": "2023-06-07T06:50:34.174Z"
   },
   {
    "duration": 10,
    "start_time": "2023-06-07T06:50:34.220Z"
   },
   {
    "duration": 5,
    "start_time": "2023-06-07T06:50:34.231Z"
   },
   {
    "duration": 73,
    "start_time": "2023-06-07T06:50:34.238Z"
   },
   {
    "duration": 14,
    "start_time": "2023-06-07T06:50:34.312Z"
   },
   {
    "duration": 29,
    "start_time": "2023-06-07T06:50:34.327Z"
   },
   {
    "duration": 20,
    "start_time": "2023-06-07T06:50:34.357Z"
   },
   {
    "duration": 88,
    "start_time": "2023-06-07T06:50:34.381Z"
   },
   {
    "duration": 95,
    "start_time": "2023-06-07T06:50:34.470Z"
   },
   {
    "duration": 7,
    "start_time": "2023-06-07T06:50:34.566Z"
   },
   {
    "duration": 61,
    "start_time": "2023-06-07T06:50:34.575Z"
   },
   {
    "duration": 25,
    "start_time": "2023-06-07T06:50:34.637Z"
   },
   {
    "duration": 399,
    "start_time": "2023-06-07T06:50:34.663Z"
   },
   {
    "duration": 6,
    "start_time": "2023-06-07T06:50:35.064Z"
   },
   {
    "duration": 65,
    "start_time": "2023-06-07T06:50:35.071Z"
   },
   {
    "duration": 13,
    "start_time": "2023-06-07T06:50:35.137Z"
   },
   {
    "duration": 327,
    "start_time": "2023-06-07T06:50:35.151Z"
   },
   {
    "duration": 33,
    "start_time": "2023-06-07T06:50:35.479Z"
   },
   {
    "duration": 37,
    "start_time": "2023-06-07T06:50:35.513Z"
   },
   {
    "duration": 300,
    "start_time": "2023-06-07T06:50:35.551Z"
   },
   {
    "duration": 7,
    "start_time": "2023-06-07T06:50:35.852Z"
   },
   {
    "duration": 45,
    "start_time": "2023-06-07T06:50:35.861Z"
   },
   {
    "duration": 233,
    "start_time": "2023-06-07T06:50:35.908Z"
   },
   {
    "duration": 9,
    "start_time": "2023-06-07T06:50:36.142Z"
   },
   {
    "duration": 10,
    "start_time": "2023-06-07T06:50:36.152Z"
   },
   {
    "duration": 219,
    "start_time": "2023-06-07T06:50:36.163Z"
   },
   {
    "duration": 31,
    "start_time": "2023-06-07T06:50:36.383Z"
   },
   {
    "duration": 163,
    "start_time": "2023-06-07T06:50:36.415Z"
   },
   {
    "duration": 32,
    "start_time": "2023-06-07T06:50:36.579Z"
   },
   {
    "duration": 14,
    "start_time": "2023-06-07T06:50:36.613Z"
   },
   {
    "duration": 183,
    "start_time": "2023-06-07T06:50:36.629Z"
   },
   {
    "duration": 163,
    "start_time": "2023-06-07T06:50:36.814Z"
   },
   {
    "duration": 25,
    "start_time": "2023-06-07T06:50:36.979Z"
   },
   {
    "duration": 155,
    "start_time": "2023-06-07T06:50:37.009Z"
   },
   {
    "duration": 178,
    "start_time": "2023-06-07T06:50:37.165Z"
   },
   {
    "duration": 7,
    "start_time": "2023-06-07T06:50:37.344Z"
   },
   {
    "duration": 366,
    "start_time": "2023-06-07T06:50:37.352Z"
   },
   {
    "duration": 153,
    "start_time": "2023-06-07T06:50:37.720Z"
   },
   {
    "duration": 7,
    "start_time": "2023-06-07T06:50:37.874Z"
   },
   {
    "duration": 191,
    "start_time": "2023-06-07T06:50:37.883Z"
   },
   {
    "duration": 7,
    "start_time": "2023-06-07T06:50:38.075Z"
   },
   {
    "duration": 148,
    "start_time": "2023-06-07T06:50:38.090Z"
   },
   {
    "duration": 143,
    "start_time": "2023-06-07T06:50:38.240Z"
   },
   {
    "duration": 26,
    "start_time": "2023-06-07T06:50:38.384Z"
   },
   {
    "duration": 288,
    "start_time": "2023-06-07T06:50:38.414Z"
   },
   {
    "duration": 272,
    "start_time": "2023-06-07T06:50:38.707Z"
   },
   {
    "duration": 28,
    "start_time": "2023-06-07T06:50:38.981Z"
   },
   {
    "duration": 158,
    "start_time": "2023-06-07T06:50:39.011Z"
   },
   {
    "duration": 165,
    "start_time": "2023-06-07T06:50:39.170Z"
   },
   {
    "duration": 179,
    "start_time": "2023-06-07T06:50:39.337Z"
   },
   {
    "duration": 142,
    "start_time": "2023-06-07T06:50:39.517Z"
   },
   {
    "duration": 251,
    "start_time": "2023-06-07T06:50:39.661Z"
   },
   {
    "duration": 142,
    "start_time": "2023-06-07T06:50:39.914Z"
   },
   {
    "duration": 171,
    "start_time": "2023-06-07T06:50:40.057Z"
   },
   {
    "duration": 189,
    "start_time": "2023-06-07T06:50:40.230Z"
   },
   {
    "duration": 146,
    "start_time": "2023-06-07T06:50:40.421Z"
   },
   {
    "duration": 48,
    "start_time": "2023-06-07T06:50:40.568Z"
   },
   {
    "duration": 150,
    "start_time": "2023-06-07T06:50:40.618Z"
   },
   {
    "duration": 7,
    "start_time": "2023-06-07T06:52:38.841Z"
   },
   {
    "duration": 8,
    "start_time": "2023-06-07T06:53:19.836Z"
   },
   {
    "duration": 7,
    "start_time": "2023-06-07T06:53:28.306Z"
   },
   {
    "duration": 6,
    "start_time": "2023-06-07T06:53:32.373Z"
   },
   {
    "duration": 6,
    "start_time": "2023-06-07T06:53:43.552Z"
   },
   {
    "duration": 6,
    "start_time": "2023-06-07T06:53:46.528Z"
   },
   {
    "duration": 8,
    "start_time": "2023-06-07T06:53:52.836Z"
   },
   {
    "duration": 8,
    "start_time": "2023-06-07T06:53:57.511Z"
   },
   {
    "duration": 14,
    "start_time": "2023-06-07T06:56:21.276Z"
   },
   {
    "duration": 8,
    "start_time": "2023-06-07T06:56:33.004Z"
   },
   {
    "duration": 7,
    "start_time": "2023-06-07T06:56:47.922Z"
   },
   {
    "duration": 7,
    "start_time": "2023-06-07T06:56:51.821Z"
   },
   {
    "duration": 6,
    "start_time": "2023-06-07T06:58:41.571Z"
   },
   {
    "duration": 144,
    "start_time": "2023-06-07T06:59:21.231Z"
   },
   {
    "duration": 164,
    "start_time": "2023-06-07T06:59:45.207Z"
   },
   {
    "duration": 156,
    "start_time": "2023-06-07T07:03:57.804Z"
   },
   {
    "duration": 93,
    "start_time": "2023-06-07T08:07:20.764Z"
   },
   {
    "duration": 92,
    "start_time": "2023-06-07T08:07:42.935Z"
   },
   {
    "duration": 59,
    "start_time": "2023-06-07T08:08:08.515Z"
   },
   {
    "duration": 240,
    "start_time": "2023-06-07T08:08:29.882Z"
   },
   {
    "duration": 75,
    "start_time": "2023-06-07T08:09:13.331Z"
   },
   {
    "duration": 96,
    "start_time": "2023-06-07T08:09:29.134Z"
   },
   {
    "duration": 14,
    "start_time": "2023-06-07T08:09:54.508Z"
   },
   {
    "duration": 153,
    "start_time": "2023-06-07T08:10:13.598Z"
   },
   {
    "duration": 13,
    "start_time": "2023-06-07T08:10:23.056Z"
   },
   {
    "duration": 15,
    "start_time": "2023-06-07T08:10:31.916Z"
   },
   {
    "duration": 12,
    "start_time": "2023-06-07T08:11:04.839Z"
   },
   {
    "duration": 13,
    "start_time": "2023-06-07T08:13:48.304Z"
   },
   {
    "duration": 1119,
    "start_time": "2023-06-07T08:14:09.711Z"
   },
   {
    "duration": 12,
    "start_time": "2023-06-07T08:15:03.871Z"
   },
   {
    "duration": 11,
    "start_time": "2023-06-07T08:16:15.617Z"
   },
   {
    "duration": 22,
    "start_time": "2023-06-07T08:16:47.480Z"
   },
   {
    "duration": 49,
    "start_time": "2023-06-07T08:17:18.657Z"
   },
   {
    "duration": 52,
    "start_time": "2023-06-07T08:17:55.264Z"
   },
   {
    "duration": 45,
    "start_time": "2023-06-07T08:18:21.563Z"
   },
   {
    "duration": 41,
    "start_time": "2023-06-07T08:18:57.111Z"
   },
   {
    "duration": 20,
    "start_time": "2023-06-07T08:19:35.037Z"
   },
   {
    "duration": 40,
    "start_time": "2023-06-07T08:20:33.613Z"
   },
   {
    "duration": 34,
    "start_time": "2023-06-07T08:20:56.832Z"
   },
   {
    "duration": 88,
    "start_time": "2023-06-07T08:21:07.240Z"
   },
   {
    "duration": 51,
    "start_time": "2023-06-07T08:21:45.177Z"
   },
   {
    "duration": 23,
    "start_time": "2023-06-07T08:22:29.507Z"
   },
   {
    "duration": 11,
    "start_time": "2023-06-07T08:23:07.051Z"
   },
   {
    "duration": 21,
    "start_time": "2023-06-07T08:23:21.310Z"
   },
   {
    "duration": 20,
    "start_time": "2023-06-07T08:23:38.111Z"
   },
   {
    "duration": 19,
    "start_time": "2023-06-07T08:23:45.612Z"
   },
   {
    "duration": 7,
    "start_time": "2023-06-07T08:25:29.927Z"
   },
   {
    "duration": 20,
    "start_time": "2023-06-07T08:26:36.662Z"
   },
   {
    "duration": 22,
    "start_time": "2023-06-07T08:27:58.213Z"
   },
   {
    "duration": 4,
    "start_time": "2023-06-07T08:30:00.964Z"
   },
   {
    "duration": 5,
    "start_time": "2023-06-07T08:33:30.097Z"
   },
   {
    "duration": 803,
    "start_time": "2023-06-07T08:33:48.324Z"
   },
   {
    "duration": 98,
    "start_time": "2023-06-07T08:33:49.129Z"
   },
   {
    "duration": 28,
    "start_time": "2023-06-07T08:33:49.229Z"
   },
   {
    "duration": 59,
    "start_time": "2023-06-07T08:33:49.259Z"
   },
   {
    "duration": 59,
    "start_time": "2023-06-07T08:33:49.319Z"
   },
   {
    "duration": 1828,
    "start_time": "2023-06-07T08:33:49.379Z"
   },
   {
    "duration": 27,
    "start_time": "2023-06-07T08:33:51.209Z"
   },
   {
    "duration": 25,
    "start_time": "2023-06-07T08:33:51.238Z"
   },
   {
    "duration": 176,
    "start_time": "2023-06-07T08:33:51.265Z"
   },
   {
    "duration": 155,
    "start_time": "2023-06-07T08:33:51.444Z"
   },
   {
    "duration": 6,
    "start_time": "2023-06-07T08:33:51.605Z"
   },
   {
    "duration": 22,
    "start_time": "2023-06-07T08:33:51.613Z"
   },
   {
    "duration": 13,
    "start_time": "2023-06-07T08:33:51.636Z"
   },
   {
    "duration": 32,
    "start_time": "2023-06-07T08:33:51.651Z"
   },
   {
    "duration": 36,
    "start_time": "2023-06-07T08:33:51.689Z"
   },
   {
    "duration": 44,
    "start_time": "2023-06-07T08:33:51.727Z"
   },
   {
    "duration": 44,
    "start_time": "2023-06-07T08:33:51.773Z"
   },
   {
    "duration": 27,
    "start_time": "2023-06-07T08:33:51.819Z"
   },
   {
    "duration": 15,
    "start_time": "2023-06-07T08:33:51.847Z"
   },
   {
    "duration": 31,
    "start_time": "2023-06-07T08:33:51.863Z"
   },
   {
    "duration": 9,
    "start_time": "2023-06-07T08:33:51.896Z"
   },
   {
    "duration": 28,
    "start_time": "2023-06-07T08:33:51.907Z"
   },
   {
    "duration": 15,
    "start_time": "2023-06-07T08:33:51.937Z"
   },
   {
    "duration": 13,
    "start_time": "2023-06-07T08:33:51.954Z"
   },
   {
    "duration": 66,
    "start_time": "2023-06-07T08:33:51.969Z"
   },
   {
    "duration": 11,
    "start_time": "2023-06-07T08:33:52.037Z"
   },
   {
    "duration": 47,
    "start_time": "2023-06-07T08:33:52.049Z"
   },
   {
    "duration": 30,
    "start_time": "2023-06-07T08:33:52.100Z"
   },
   {
    "duration": 1197,
    "start_time": "2023-06-07T08:33:52.131Z"
   },
   {
    "duration": 80,
    "start_time": "2023-06-07T08:33:53.330Z"
   },
   {
    "duration": 6,
    "start_time": "2023-06-07T08:33:53.414Z"
   },
   {
    "duration": 47,
    "start_time": "2023-06-07T08:33:53.422Z"
   },
   {
    "duration": 34,
    "start_time": "2023-06-07T08:33:53.471Z"
   },
   {
    "duration": 425,
    "start_time": "2023-06-07T08:33:53.506Z"
   },
   {
    "duration": 8,
    "start_time": "2023-06-07T08:33:53.932Z"
   },
   {
    "duration": 31,
    "start_time": "2023-06-07T08:33:53.941Z"
   },
   {
    "duration": 28,
    "start_time": "2023-06-07T08:33:53.973Z"
   },
   {
    "duration": 378,
    "start_time": "2023-06-07T08:33:54.003Z"
   },
   {
    "duration": 39,
    "start_time": "2023-06-07T08:33:54.383Z"
   },
   {
    "duration": 24,
    "start_time": "2023-06-07T08:33:54.424Z"
   },
   {
    "duration": 48,
    "start_time": "2023-06-07T08:33:54.450Z"
   },
   {
    "duration": 291,
    "start_time": "2023-06-07T08:33:54.507Z"
   },
   {
    "duration": 10,
    "start_time": "2023-06-07T08:33:54.803Z"
   },
   {
    "duration": 13,
    "start_time": "2023-06-07T08:33:54.815Z"
   },
   {
    "duration": 14,
    "start_time": "2023-06-07T08:33:54.830Z"
   },
   {
    "duration": 27,
    "start_time": "2023-06-07T08:33:54.846Z"
   },
   {
    "duration": 188,
    "start_time": "2023-06-07T08:33:54.874Z"
   },
   {
    "duration": 9,
    "start_time": "2023-06-07T08:33:55.063Z"
   },
   {
    "duration": 44,
    "start_time": "2023-06-07T08:33:55.074Z"
   },
   {
    "duration": 44,
    "start_time": "2023-06-07T08:33:55.119Z"
   },
   {
    "duration": 162,
    "start_time": "2023-06-07T08:33:55.165Z"
   },
   {
    "duration": 9,
    "start_time": "2023-06-07T08:33:55.329Z"
   },
   {
    "duration": 25,
    "start_time": "2023-06-07T08:33:55.339Z"
   },
   {
    "duration": 13,
    "start_time": "2023-06-07T08:33:55.366Z"
   },
   {
    "duration": 225,
    "start_time": "2023-06-07T08:33:55.380Z"
   },
   {
    "duration": 31,
    "start_time": "2023-06-07T08:33:55.606Z"
   },
   {
    "duration": 173,
    "start_time": "2023-06-07T08:33:55.638Z"
   },
   {
    "duration": 10,
    "start_time": "2023-06-07T08:33:55.813Z"
   },
   {
    "duration": 61,
    "start_time": "2023-06-07T08:33:55.825Z"
   },
   {
    "duration": 70,
    "start_time": "2023-06-07T08:33:55.887Z"
   },
   {
    "duration": 79,
    "start_time": "2023-06-07T08:33:55.959Z"
   },
   {
    "duration": 249,
    "start_time": "2023-06-07T08:33:56.040Z"
   },
   {
    "duration": 187,
    "start_time": "2023-06-07T08:33:56.290Z"
   },
   {
    "duration": 24,
    "start_time": "2023-06-07T08:33:56.479Z"
   },
   {
    "duration": 132,
    "start_time": "2023-06-07T08:33:56.505Z"
   },
   {
    "duration": 184,
    "start_time": "2023-06-07T08:33:56.639Z"
   },
   {
    "duration": 7,
    "start_time": "2023-06-07T08:33:56.824Z"
   },
   {
    "duration": 415,
    "start_time": "2023-06-07T08:33:56.833Z"
   },
   {
    "duration": 194,
    "start_time": "2023-06-07T08:33:57.249Z"
   },
   {
    "duration": 8,
    "start_time": "2023-06-07T08:33:57.444Z"
   },
   {
    "duration": 185,
    "start_time": "2023-06-07T08:33:57.454Z"
   },
   {
    "duration": 8,
    "start_time": "2023-06-07T08:33:57.641Z"
   },
   {
    "duration": 148,
    "start_time": "2023-06-07T08:33:57.650Z"
   },
   {
    "duration": 161,
    "start_time": "2023-06-07T08:33:57.799Z"
   },
   {
    "duration": 7,
    "start_time": "2023-06-07T08:33:57.962Z"
   },
   {
    "duration": 295,
    "start_time": "2023-06-07T08:33:57.970Z"
   },
   {
    "duration": 263,
    "start_time": "2023-06-07T08:33:58.266Z"
   },
   {
    "duration": 8,
    "start_time": "2023-06-07T08:33:58.530Z"
   },
   {
    "duration": 163,
    "start_time": "2023-06-07T08:33:58.539Z"
   },
   {
    "duration": 186,
    "start_time": "2023-06-07T08:33:58.704Z"
   },
   {
    "duration": 262,
    "start_time": "2023-06-07T08:33:58.898Z"
   },
   {
    "duration": 184,
    "start_time": "2023-06-07T08:33:59.167Z"
   },
   {
    "duration": 171,
    "start_time": "2023-06-07T08:33:59.353Z"
   },
   {
    "duration": 583,
    "start_time": "2023-06-07T08:33:59.526Z"
   },
   {
    "duration": 198,
    "start_time": "2023-06-07T08:34:00.110Z"
   },
   {
    "duration": 161,
    "start_time": "2023-06-07T08:34:00.310Z"
   },
   {
    "duration": 157,
    "start_time": "2023-06-07T08:34:00.473Z"
   },
   {
    "duration": 31,
    "start_time": "2023-06-07T08:34:00.631Z"
   },
   {
    "duration": 193,
    "start_time": "2023-06-07T08:34:00.663Z"
   },
   {
    "duration": 145,
    "start_time": "2023-06-07T08:40:00.677Z"
   },
   {
    "duration": 349,
    "start_time": "2023-06-07T08:46:39.364Z"
   },
   {
    "duration": 19,
    "start_time": "2023-06-07T08:54:32.980Z"
   },
   {
    "duration": 99,
    "start_time": "2023-06-07T08:54:35.940Z"
   },
   {
    "duration": 29,
    "start_time": "2023-06-07T08:54:59.901Z"
   },
   {
    "duration": 614,
    "start_time": "2023-06-07T15:50:47.879Z"
   },
   {
    "duration": 87,
    "start_time": "2023-06-07T15:50:48.495Z"
   },
   {
    "duration": 27,
    "start_time": "2023-06-07T15:50:48.585Z"
   },
   {
    "duration": 16,
    "start_time": "2023-06-07T15:50:48.614Z"
   },
   {
    "duration": 78,
    "start_time": "2023-06-07T15:50:48.631Z"
   },
   {
    "duration": 1608,
    "start_time": "2023-06-07T15:50:48.711Z"
   },
   {
    "duration": 21,
    "start_time": "2023-06-07T15:50:50.321Z"
   },
   {
    "duration": 8,
    "start_time": "2023-06-07T15:50:50.349Z"
   },
   {
    "duration": 130,
    "start_time": "2023-06-07T15:50:50.360Z"
   },
   {
    "duration": 121,
    "start_time": "2023-06-07T15:50:50.492Z"
   },
   {
    "duration": 6,
    "start_time": "2023-06-07T15:50:50.615Z"
   },
   {
    "duration": 22,
    "start_time": "2023-06-07T15:50:50.622Z"
   },
   {
    "duration": 8,
    "start_time": "2023-06-07T15:50:50.645Z"
   },
   {
    "duration": 5,
    "start_time": "2023-06-07T15:50:50.654Z"
   },
   {
    "duration": 7,
    "start_time": "2023-06-07T15:50:50.660Z"
   },
   {
    "duration": 21,
    "start_time": "2023-06-07T15:50:50.669Z"
   },
   {
    "duration": 6,
    "start_time": "2023-06-07T15:50:50.692Z"
   },
   {
    "duration": 27,
    "start_time": "2023-06-07T15:50:50.699Z"
   },
   {
    "duration": 5,
    "start_time": "2023-06-07T15:50:50.728Z"
   },
   {
    "duration": 9,
    "start_time": "2023-06-07T15:50:50.735Z"
   },
   {
    "duration": 11,
    "start_time": "2023-06-07T15:50:50.745Z"
   },
   {
    "duration": 17,
    "start_time": "2023-06-07T15:50:50.758Z"
   },
   {
    "duration": 20,
    "start_time": "2023-06-07T15:50:50.777Z"
   },
   {
    "duration": 4,
    "start_time": "2023-06-07T15:50:50.799Z"
   },
   {
    "duration": 39,
    "start_time": "2023-06-07T15:50:50.805Z"
   },
   {
    "duration": 11,
    "start_time": "2023-06-07T15:50:50.845Z"
   },
   {
    "duration": 35,
    "start_time": "2023-06-07T15:50:50.860Z"
   },
   {
    "duration": 15,
    "start_time": "2023-06-07T15:50:50.897Z"
   },
   {
    "duration": 26,
    "start_time": "2023-06-07T15:50:50.914Z"
   },
   {
    "duration": 50,
    "start_time": "2023-06-07T15:50:50.942Z"
   },
   {
    "duration": 6,
    "start_time": "2023-06-07T15:50:50.993Z"
   },
   {
    "duration": 36,
    "start_time": "2023-06-07T15:50:51.001Z"
   },
   {
    "duration": 25,
    "start_time": "2023-06-07T15:50:51.039Z"
   },
   {
    "duration": 324,
    "start_time": "2023-06-07T15:50:51.065Z"
   },
   {
    "duration": 6,
    "start_time": "2023-06-07T15:50:51.391Z"
   },
   {
    "duration": 36,
    "start_time": "2023-06-07T15:50:51.399Z"
   },
   {
    "duration": 20,
    "start_time": "2023-06-07T15:50:51.437Z"
   },
   {
    "duration": 372,
    "start_time": "2023-06-07T15:50:51.459Z"
   },
   {
    "duration": 10,
    "start_time": "2023-06-07T15:50:51.832Z"
   },
   {
    "duration": 50,
    "start_time": "2023-06-07T15:50:51.843Z"
   },
   {
    "duration": 25,
    "start_time": "2023-06-07T15:50:51.894Z"
   },
   {
    "duration": 269,
    "start_time": "2023-06-07T15:50:51.921Z"
   },
   {
    "duration": 8,
    "start_time": "2023-06-07T15:50:52.191Z"
   },
   {
    "duration": 10,
    "start_time": "2023-06-07T15:50:52.201Z"
   },
   {
    "duration": 21,
    "start_time": "2023-06-07T15:50:52.212Z"
   },
   {
    "duration": 29,
    "start_time": "2023-06-07T15:50:52.235Z"
   },
   {
    "duration": 182,
    "start_time": "2023-06-07T15:50:52.266Z"
   },
   {
    "duration": 9,
    "start_time": "2023-06-07T15:50:52.450Z"
   },
   {
    "duration": 25,
    "start_time": "2023-06-07T15:50:52.461Z"
   },
   {
    "duration": 22,
    "start_time": "2023-06-07T15:50:52.488Z"
   },
   {
    "duration": 179,
    "start_time": "2023-06-07T15:50:52.511Z"
   },
   {
    "duration": 10,
    "start_time": "2023-06-07T15:50:52.692Z"
   },
   {
    "duration": 9,
    "start_time": "2023-06-07T15:50:52.703Z"
   },
   {
    "duration": 7,
    "start_time": "2023-06-07T15:50:52.714Z"
   },
   {
    "duration": 23,
    "start_time": "2023-06-07T15:50:52.723Z"
   },
   {
    "duration": 202,
    "start_time": "2023-06-07T15:50:52.748Z"
   },
   {
    "duration": 7,
    "start_time": "2023-06-07T15:50:52.952Z"
   },
   {
    "duration": 42,
    "start_time": "2023-06-07T15:50:52.961Z"
   },
   {
    "duration": 4,
    "start_time": "2023-06-07T15:50:53.005Z"
   },
   {
    "duration": 159,
    "start_time": "2023-06-07T15:50:53.011Z"
   },
   {
    "duration": 14,
    "start_time": "2023-06-07T15:50:53.171Z"
   },
   {
    "duration": 164,
    "start_time": "2023-06-07T15:50:53.187Z"
   },
   {
    "duration": 9,
    "start_time": "2023-06-07T15:50:53.353Z"
   },
   {
    "duration": 181,
    "start_time": "2023-06-07T15:50:53.364Z"
   },
   {
    "duration": 140,
    "start_time": "2023-06-07T15:50:53.547Z"
   },
   {
    "duration": 182,
    "start_time": "2023-06-07T15:50:53.688Z"
   },
   {
    "duration": 14,
    "start_time": "2023-06-07T15:50:53.872Z"
   },
   {
    "duration": 336,
    "start_time": "2023-06-07T15:50:53.888Z"
   },
   {
    "duration": 169,
    "start_time": "2023-06-07T15:50:54.226Z"
   },
   {
    "duration": 11,
    "start_time": "2023-06-07T15:50:54.397Z"
   },
   {
    "duration": 185,
    "start_time": "2023-06-07T15:50:54.410Z"
   },
   {
    "duration": 8,
    "start_time": "2023-06-07T15:50:54.597Z"
   },
   {
    "duration": 138,
    "start_time": "2023-06-07T15:50:54.606Z"
   },
   {
    "duration": 158,
    "start_time": "2023-06-07T15:50:54.746Z"
   },
   {
    "duration": 8,
    "start_time": "2023-06-07T15:50:54.919Z"
   },
   {
    "duration": 274,
    "start_time": "2023-06-07T15:50:54.928Z"
   },
   {
    "duration": 262,
    "start_time": "2023-06-07T15:50:55.204Z"
   },
   {
    "duration": 19,
    "start_time": "2023-06-07T15:50:55.468Z"
   },
   {
    "duration": 142,
    "start_time": "2023-06-07T15:50:55.489Z"
   },
   {
    "duration": 183,
    "start_time": "2023-06-07T15:50:55.633Z"
   },
   {
    "duration": 276,
    "start_time": "2023-06-07T15:50:55.821Z"
   },
   {
    "duration": 205,
    "start_time": "2023-06-07T15:50:56.098Z"
   },
   {
    "duration": 179,
    "start_time": "2023-06-07T15:50:56.305Z"
   },
   {
    "duration": 162,
    "start_time": "2023-06-07T15:50:56.486Z"
   },
   {
    "duration": 167,
    "start_time": "2023-06-07T15:50:56.649Z"
   },
   {
    "duration": 168,
    "start_time": "2023-06-07T15:50:56.818Z"
   },
   {
    "duration": 160,
    "start_time": "2023-06-07T15:50:56.987Z"
   },
   {
    "duration": 40,
    "start_time": "2023-06-07T15:50:57.149Z"
   },
   {
    "duration": 154,
    "start_time": "2023-06-07T15:50:57.191Z"
   },
   {
    "duration": 4,
    "start_time": "2023-06-07T15:51:27.079Z"
   },
   {
    "duration": 77,
    "start_time": "2023-06-07T15:51:48.828Z"
   },
   {
    "duration": 4,
    "start_time": "2023-06-07T15:52:04.397Z"
   },
   {
    "duration": 9,
    "start_time": "2023-06-07T15:52:14.189Z"
   },
   {
    "duration": 23,
    "start_time": "2023-06-07T15:53:48.121Z"
   },
   {
    "duration": 4386,
    "start_time": "2023-06-07T15:57:07.595Z"
   },
   {
    "duration": 2457,
    "start_time": "2023-06-07T15:58:38.096Z"
   },
   {
    "duration": 9,
    "start_time": "2023-06-07T16:01:28.861Z"
   },
   {
    "duration": 192,
    "start_time": "2023-06-07T16:02:13.260Z"
   },
   {
    "duration": 8,
    "start_time": "2023-06-07T16:02:46.709Z"
   },
   {
    "duration": 180,
    "start_time": "2023-06-07T16:02:54.141Z"
   },
   {
    "duration": 155,
    "start_time": "2023-06-07T16:02:57.871Z"
   },
   {
    "duration": 169,
    "start_time": "2023-06-07T16:08:10.411Z"
   },
   {
    "duration": 155,
    "start_time": "2023-06-07T16:08:47.689Z"
   },
   {
    "duration": 148,
    "start_time": "2023-06-07T16:09:06.624Z"
   },
   {
    "duration": 136,
    "start_time": "2023-06-07T16:09:09.960Z"
   },
   {
    "duration": 190,
    "start_time": "2023-06-07T16:12:38.250Z"
   },
   {
    "duration": 134,
    "start_time": "2023-06-07T16:13:04.458Z"
   },
   {
    "duration": 154,
    "start_time": "2023-06-07T16:13:19.961Z"
   },
   {
    "duration": 139,
    "start_time": "2023-06-07T16:13:35.580Z"
   },
   {
    "duration": 576,
    "start_time": "2023-06-07T16:13:52.528Z"
   },
   {
    "duration": 84,
    "start_time": "2023-06-07T16:13:53.105Z"
   },
   {
    "duration": 25,
    "start_time": "2023-06-07T16:13:53.190Z"
   },
   {
    "duration": 12,
    "start_time": "2023-06-07T16:13:53.217Z"
   },
   {
    "duration": 69,
    "start_time": "2023-06-07T16:13:53.231Z"
   },
   {
    "duration": 1714,
    "start_time": "2023-06-07T16:13:53.301Z"
   },
   {
    "duration": 22,
    "start_time": "2023-06-07T16:13:55.017Z"
   },
   {
    "duration": 8,
    "start_time": "2023-06-07T16:13:55.041Z"
   },
   {
    "duration": 123,
    "start_time": "2023-06-07T16:13:55.051Z"
   },
   {
    "duration": 130,
    "start_time": "2023-06-07T16:13:55.176Z"
   },
   {
    "duration": 6,
    "start_time": "2023-06-07T16:13:55.307Z"
   },
   {
    "duration": 9,
    "start_time": "2023-06-07T16:13:55.314Z"
   },
   {
    "duration": 6,
    "start_time": "2023-06-07T16:13:55.324Z"
   },
   {
    "duration": 9,
    "start_time": "2023-06-07T16:13:55.331Z"
   },
   {
    "duration": 5,
    "start_time": "2023-06-07T16:13:55.341Z"
   },
   {
    "duration": 40,
    "start_time": "2023-06-07T16:13:55.347Z"
   },
   {
    "duration": 5,
    "start_time": "2023-06-07T16:13:55.388Z"
   },
   {
    "duration": 29,
    "start_time": "2023-06-07T16:13:55.394Z"
   },
   {
    "duration": 6,
    "start_time": "2023-06-07T16:13:55.424Z"
   },
   {
    "duration": 7,
    "start_time": "2023-06-07T16:13:55.432Z"
   },
   {
    "duration": 9,
    "start_time": "2023-06-07T16:13:55.440Z"
   },
   {
    "duration": 7,
    "start_time": "2023-06-07T16:13:55.450Z"
   },
   {
    "duration": 31,
    "start_time": "2023-06-07T16:13:55.458Z"
   },
   {
    "duration": 4,
    "start_time": "2023-06-07T16:13:55.491Z"
   },
   {
    "duration": 28,
    "start_time": "2023-06-07T16:13:55.496Z"
   },
   {
    "duration": 12,
    "start_time": "2023-06-07T16:13:55.525Z"
   },
   {
    "duration": 20,
    "start_time": "2023-06-07T16:13:55.538Z"
   },
   {
    "duration": 18,
    "start_time": "2023-06-07T16:13:55.584Z"
   },
   {
    "duration": 5,
    "start_time": "2023-06-07T16:13:55.603Z"
   },
   {
    "duration": 51,
    "start_time": "2023-06-07T16:13:55.609Z"
   },
   {
    "duration": 24,
    "start_time": "2023-06-07T16:13:55.661Z"
   },
   {
    "duration": 23,
    "start_time": "2023-06-07T16:13:55.686Z"
   },
   {
    "duration": 25,
    "start_time": "2023-06-07T16:13:55.711Z"
   },
   {
    "duration": 371,
    "start_time": "2023-06-07T16:13:55.737Z"
   },
   {
    "duration": 9,
    "start_time": "2023-06-07T16:13:56.110Z"
   },
   {
    "duration": 41,
    "start_time": "2023-06-07T16:13:56.121Z"
   },
   {
    "duration": 4,
    "start_time": "2023-06-07T16:13:56.164Z"
   },
   {
    "duration": 366,
    "start_time": "2023-06-07T16:13:56.184Z"
   },
   {
    "duration": 9,
    "start_time": "2023-06-07T16:13:56.552Z"
   },
   {
    "duration": 7,
    "start_time": "2023-06-07T16:13:56.563Z"
   },
   {
    "duration": 30,
    "start_time": "2023-06-07T16:13:56.572Z"
   },
   {
    "duration": 260,
    "start_time": "2023-06-07T16:13:56.603Z"
   },
   {
    "duration": 8,
    "start_time": "2023-06-07T16:13:56.865Z"
   },
   {
    "duration": 6,
    "start_time": "2023-06-07T16:13:56.884Z"
   },
   {
    "duration": 6,
    "start_time": "2023-06-07T16:13:56.892Z"
   },
   {
    "duration": 26,
    "start_time": "2023-06-07T16:13:56.899Z"
   },
   {
    "duration": 197,
    "start_time": "2023-06-07T16:13:56.926Z"
   },
   {
    "duration": 8,
    "start_time": "2023-06-07T16:13:57.124Z"
   },
   {
    "duration": 7,
    "start_time": "2023-06-07T16:13:57.133Z"
   },
   {
    "duration": 17,
    "start_time": "2023-06-07T16:13:57.142Z"
   },
   {
    "duration": 167,
    "start_time": "2023-06-07T16:13:57.161Z"
   },
   {
    "duration": 7,
    "start_time": "2023-06-07T16:13:57.329Z"
   },
   {
    "duration": 7,
    "start_time": "2023-06-07T16:13:57.337Z"
   },
   {
    "duration": 6,
    "start_time": "2023-06-07T16:13:57.346Z"
   },
   {
    "duration": 38,
    "start_time": "2023-06-07T16:13:57.353Z"
   },
   {
    "duration": 169,
    "start_time": "2023-06-07T16:13:57.393Z"
   },
   {
    "duration": 8,
    "start_time": "2023-06-07T16:13:57.563Z"
   },
   {
    "duration": 33,
    "start_time": "2023-06-07T16:13:57.572Z"
   },
   {
    "duration": 3,
    "start_time": "2023-06-07T16:13:57.607Z"
   },
   {
    "duration": 154,
    "start_time": "2023-06-07T16:13:57.611Z"
   },
   {
    "duration": 8,
    "start_time": "2023-06-07T16:13:57.766Z"
   },
   {
    "duration": 162,
    "start_time": "2023-06-07T16:13:57.775Z"
   },
   {
    "duration": 9,
    "start_time": "2023-06-07T16:13:57.939Z"
   },
   {
    "duration": 175,
    "start_time": "2023-06-07T16:13:57.949Z"
   },
   {
    "duration": 123,
    "start_time": "2023-06-07T16:13:58.125Z"
   },
   {
    "duration": 189,
    "start_time": "2023-06-07T16:13:58.249Z"
   },
   {
    "duration": 7,
    "start_time": "2023-06-07T16:13:58.440Z"
   },
   {
    "duration": 331,
    "start_time": "2023-06-07T16:13:58.449Z"
   },
   {
    "duration": 152,
    "start_time": "2023-06-07T16:13:58.782Z"
   },
   {
    "duration": 8,
    "start_time": "2023-06-07T16:13:58.935Z"
   },
   {
    "duration": 167,
    "start_time": "2023-06-07T16:13:58.945Z"
   },
   {
    "duration": 8,
    "start_time": "2023-06-07T16:13:59.114Z"
   },
   {
    "duration": 133,
    "start_time": "2023-06-07T16:13:59.123Z"
   },
   {
    "duration": 153,
    "start_time": "2023-06-07T16:13:59.257Z"
   },
   {
    "duration": 7,
    "start_time": "2023-06-07T16:13:59.411Z"
   },
   {
    "duration": 274,
    "start_time": "2023-06-07T16:13:59.419Z"
   },
   {
    "duration": 227,
    "start_time": "2023-06-07T16:13:59.694Z"
   },
   {
    "duration": 8,
    "start_time": "2023-06-07T16:13:59.922Z"
   },
   {
    "duration": 124,
    "start_time": "2023-06-07T16:13:59.931Z"
   },
   {
    "duration": 220,
    "start_time": "2023-06-07T16:14:00.057Z"
   },
   {
    "duration": 156,
    "start_time": "2023-06-07T16:14:00.278Z"
   },
   {
    "duration": 138,
    "start_time": "2023-06-07T16:14:00.438Z"
   },
   {
    "duration": 157,
    "start_time": "2023-06-07T16:14:00.584Z"
   },
   {
    "duration": 128,
    "start_time": "2023-06-07T16:14:00.743Z"
   },
   {
    "duration": 143,
    "start_time": "2023-06-07T16:14:00.873Z"
   },
   {
    "duration": 171,
    "start_time": "2023-06-07T16:14:01.018Z"
   },
   {
    "duration": 140,
    "start_time": "2023-06-07T16:14:01.191Z"
   },
   {
    "duration": 27,
    "start_time": "2023-06-07T16:14:01.333Z"
   },
   {
    "duration": 156,
    "start_time": "2023-06-07T16:14:01.362Z"
   },
   {
    "duration": 127,
    "start_time": "2023-06-07T16:15:28.404Z"
   },
   {
    "duration": 130,
    "start_time": "2023-06-07T16:23:19.167Z"
   },
   {
    "duration": 658,
    "start_time": "2023-06-08T05:52:13.359Z"
   },
   {
    "duration": 92,
    "start_time": "2023-06-08T05:52:14.019Z"
   },
   {
    "duration": 28,
    "start_time": "2023-06-08T05:52:14.113Z"
   },
   {
    "duration": 14,
    "start_time": "2023-06-08T05:52:14.143Z"
   },
   {
    "duration": 79,
    "start_time": "2023-06-08T05:52:14.159Z"
   },
   {
    "duration": 1763,
    "start_time": "2023-06-08T05:52:14.239Z"
   },
   {
    "duration": 31,
    "start_time": "2023-06-08T05:52:16.003Z"
   },
   {
    "duration": 8,
    "start_time": "2023-06-08T05:52:16.036Z"
   },
   {
    "duration": 138,
    "start_time": "2023-06-08T05:52:16.045Z"
   },
   {
    "duration": 123,
    "start_time": "2023-06-08T05:52:16.186Z"
   },
   {
    "duration": 5,
    "start_time": "2023-06-08T05:52:16.315Z"
   },
   {
    "duration": 9,
    "start_time": "2023-06-08T05:52:16.322Z"
   },
   {
    "duration": 8,
    "start_time": "2023-06-08T05:52:16.332Z"
   },
   {
    "duration": 6,
    "start_time": "2023-06-08T05:52:16.341Z"
   },
   {
    "duration": 6,
    "start_time": "2023-06-08T05:52:16.348Z"
   },
   {
    "duration": 15,
    "start_time": "2023-06-08T05:52:16.355Z"
   },
   {
    "duration": 4,
    "start_time": "2023-06-08T05:52:16.372Z"
   },
   {
    "duration": 62,
    "start_time": "2023-06-08T05:52:16.377Z"
   },
   {
    "duration": 6,
    "start_time": "2023-06-08T05:52:16.440Z"
   },
   {
    "duration": 16,
    "start_time": "2023-06-08T05:52:16.447Z"
   },
   {
    "duration": 30,
    "start_time": "2023-06-08T05:52:16.464Z"
   },
   {
    "duration": 13,
    "start_time": "2023-06-08T05:52:16.495Z"
   },
   {
    "duration": 20,
    "start_time": "2023-06-08T05:52:16.509Z"
   },
   {
    "duration": 21,
    "start_time": "2023-06-08T05:52:16.530Z"
   },
   {
    "duration": 27,
    "start_time": "2023-06-08T05:52:16.553Z"
   },
   {
    "duration": 12,
    "start_time": "2023-06-08T05:52:16.581Z"
   },
   {
    "duration": 20,
    "start_time": "2023-06-08T05:52:16.595Z"
   },
   {
    "duration": 18,
    "start_time": "2023-06-08T05:52:16.619Z"
   },
   {
    "duration": 6,
    "start_time": "2023-06-08T05:52:16.639Z"
   },
   {
    "duration": 56,
    "start_time": "2023-06-08T05:52:16.647Z"
   },
   {
    "duration": 11,
    "start_time": "2023-06-08T05:52:16.705Z"
   },
   {
    "duration": 20,
    "start_time": "2023-06-08T05:52:16.718Z"
   },
   {
    "duration": 25,
    "start_time": "2023-06-08T05:52:16.740Z"
   },
   {
    "duration": 385,
    "start_time": "2023-06-08T05:52:16.767Z"
   },
   {
    "duration": 6,
    "start_time": "2023-06-08T05:52:17.153Z"
   },
   {
    "duration": 23,
    "start_time": "2023-06-08T05:52:17.161Z"
   },
   {
    "duration": 4,
    "start_time": "2023-06-08T05:52:17.186Z"
   },
   {
    "duration": 351,
    "start_time": "2023-06-08T05:52:17.191Z"
   },
   {
    "duration": 10,
    "start_time": "2023-06-08T05:52:17.544Z"
   },
   {
    "duration": 17,
    "start_time": "2023-06-08T05:52:17.555Z"
   },
   {
    "duration": 22,
    "start_time": "2023-06-08T05:52:17.573Z"
   },
   {
    "duration": 259,
    "start_time": "2023-06-08T05:52:17.596Z"
   },
   {
    "duration": 9,
    "start_time": "2023-06-08T05:52:17.856Z"
   },
   {
    "duration": 14,
    "start_time": "2023-06-08T05:52:17.866Z"
   },
   {
    "duration": 17,
    "start_time": "2023-06-08T05:52:17.881Z"
   },
   {
    "duration": 26,
    "start_time": "2023-06-08T05:52:17.900Z"
   },
   {
    "duration": 168,
    "start_time": "2023-06-08T05:52:17.928Z"
   },
   {
    "duration": 18,
    "start_time": "2023-06-08T05:52:18.098Z"
   },
   {
    "duration": 7,
    "start_time": "2023-06-08T05:52:18.117Z"
   },
   {
    "duration": 22,
    "start_time": "2023-06-08T05:52:18.125Z"
   },
   {
    "duration": 162,
    "start_time": "2023-06-08T05:52:18.148Z"
   },
   {
    "duration": 8,
    "start_time": "2023-06-08T05:52:18.315Z"
   },
   {
    "duration": 10,
    "start_time": "2023-06-08T05:52:18.324Z"
   },
   {
    "duration": 11,
    "start_time": "2023-06-08T05:52:18.336Z"
   },
   {
    "duration": 21,
    "start_time": "2023-06-08T05:52:18.348Z"
   },
   {
    "duration": 188,
    "start_time": "2023-06-08T05:52:18.371Z"
   },
   {
    "duration": 8,
    "start_time": "2023-06-08T05:52:18.560Z"
   },
   {
    "duration": 36,
    "start_time": "2023-06-08T05:52:18.570Z"
   },
   {
    "duration": 6,
    "start_time": "2023-06-08T05:52:18.610Z"
   },
   {
    "duration": 152,
    "start_time": "2023-06-08T05:52:18.618Z"
   },
   {
    "duration": 8,
    "start_time": "2023-06-08T05:52:18.772Z"
   },
   {
    "duration": 156,
    "start_time": "2023-06-08T05:52:18.782Z"
   },
   {
    "duration": 8,
    "start_time": "2023-06-08T05:52:18.940Z"
   },
   {
    "duration": 167,
    "start_time": "2023-06-08T05:52:18.950Z"
   },
   {
    "duration": 125,
    "start_time": "2023-06-08T05:52:19.119Z"
   },
   {
    "duration": 171,
    "start_time": "2023-06-08T05:52:19.246Z"
   },
   {
    "duration": 8,
    "start_time": "2023-06-08T05:52:19.418Z"
   },
   {
    "duration": 323,
    "start_time": "2023-06-08T05:52:19.428Z"
   },
   {
    "duration": 152,
    "start_time": "2023-06-08T05:52:19.753Z"
   },
   {
    "duration": 14,
    "start_time": "2023-06-08T05:52:19.907Z"
   },
   {
    "duration": 156,
    "start_time": "2023-06-08T05:52:19.925Z"
   },
   {
    "duration": 7,
    "start_time": "2023-06-08T05:52:20.083Z"
   },
   {
    "duration": 141,
    "start_time": "2023-06-08T05:52:20.092Z"
   },
   {
    "duration": 141,
    "start_time": "2023-06-08T05:52:20.235Z"
   },
   {
    "duration": 7,
    "start_time": "2023-06-08T05:52:20.377Z"
   },
   {
    "duration": 262,
    "start_time": "2023-06-08T05:52:20.385Z"
   },
   {
    "duration": 258,
    "start_time": "2023-06-08T05:52:20.649Z"
   },
   {
    "duration": 12,
    "start_time": "2023-06-08T05:52:20.909Z"
   },
   {
    "duration": 142,
    "start_time": "2023-06-08T05:52:20.923Z"
   },
   {
    "duration": 229,
    "start_time": "2023-06-08T05:52:21.067Z"
   },
   {
    "duration": 163,
    "start_time": "2023-06-08T05:52:21.298Z"
   },
   {
    "duration": 176,
    "start_time": "2023-06-08T05:52:21.466Z"
   },
   {
    "duration": 163,
    "start_time": "2023-06-08T05:52:21.644Z"
   },
   {
    "duration": 154,
    "start_time": "2023-06-08T05:52:21.809Z"
   },
   {
    "duration": 140,
    "start_time": "2023-06-08T05:52:21.965Z"
   },
   {
    "duration": 172,
    "start_time": "2023-06-08T05:52:22.106Z"
   },
   {
    "duration": 149,
    "start_time": "2023-06-08T05:52:22.279Z"
   },
   {
    "duration": 31,
    "start_time": "2023-06-08T05:52:22.430Z"
   },
   {
    "duration": 163,
    "start_time": "2023-06-08T05:52:22.462Z"
   },
   {
    "duration": 782,
    "start_time": "2023-06-08T07:09:32.808Z"
   },
   {
    "duration": 317,
    "start_time": "2023-06-08T07:09:33.592Z"
   },
   {
    "duration": 25,
    "start_time": "2023-06-08T07:09:33.910Z"
   },
   {
    "duration": 30,
    "start_time": "2023-06-08T07:09:33.937Z"
   },
   {
    "duration": 69,
    "start_time": "2023-06-08T07:09:33.969Z"
   },
   {
    "duration": 1685,
    "start_time": "2023-06-08T07:09:34.039Z"
   },
   {
    "duration": 21,
    "start_time": "2023-06-08T07:09:35.725Z"
   },
   {
    "duration": 9,
    "start_time": "2023-06-08T07:09:35.748Z"
   },
   {
    "duration": 128,
    "start_time": "2023-06-08T07:09:35.758Z"
   },
   {
    "duration": 114,
    "start_time": "2023-06-08T07:09:35.888Z"
   },
   {
    "duration": 4,
    "start_time": "2023-06-08T07:09:36.004Z"
   },
   {
    "duration": 15,
    "start_time": "2023-06-08T07:09:36.010Z"
   },
   {
    "duration": 12,
    "start_time": "2023-06-08T07:09:36.026Z"
   },
   {
    "duration": 9,
    "start_time": "2023-06-08T07:09:36.039Z"
   },
   {
    "duration": 7,
    "start_time": "2023-06-08T07:09:36.049Z"
   },
   {
    "duration": 20,
    "start_time": "2023-06-08T07:09:36.057Z"
   },
   {
    "duration": 19,
    "start_time": "2023-06-08T07:09:36.078Z"
   },
   {
    "duration": 49,
    "start_time": "2023-06-08T07:09:36.099Z"
   },
   {
    "duration": 6,
    "start_time": "2023-06-08T07:09:36.150Z"
   },
   {
    "duration": 43,
    "start_time": "2023-06-08T07:09:36.157Z"
   },
   {
    "duration": 42,
    "start_time": "2023-06-08T07:09:36.202Z"
   },
   {
    "duration": 29,
    "start_time": "2023-06-08T07:09:36.246Z"
   },
   {
    "duration": 29,
    "start_time": "2023-06-08T07:09:36.277Z"
   },
   {
    "duration": 21,
    "start_time": "2023-06-08T07:09:36.307Z"
   },
   {
    "duration": 35,
    "start_time": "2023-06-08T07:09:36.330Z"
   },
   {
    "duration": 23,
    "start_time": "2023-06-08T07:09:36.367Z"
   },
   {
    "duration": 18,
    "start_time": "2023-06-08T07:09:36.391Z"
   },
   {
    "duration": 16,
    "start_time": "2023-06-08T07:09:36.412Z"
   },
   {
    "duration": 4,
    "start_time": "2023-06-08T07:09:36.429Z"
   },
   {
    "duration": 54,
    "start_time": "2023-06-08T07:09:36.435Z"
   },
   {
    "duration": 4,
    "start_time": "2023-06-08T07:09:36.490Z"
   },
   {
    "duration": 36,
    "start_time": "2023-06-08T07:09:36.496Z"
   },
   {
    "duration": 24,
    "start_time": "2023-06-08T07:09:36.533Z"
   },
   {
    "duration": 324,
    "start_time": "2023-06-08T07:09:36.558Z"
   },
   {
    "duration": 6,
    "start_time": "2023-06-08T07:09:36.885Z"
   },
   {
    "duration": 46,
    "start_time": "2023-06-08T07:09:36.893Z"
   },
   {
    "duration": 12,
    "start_time": "2023-06-08T07:09:36.940Z"
   },
   {
    "duration": 321,
    "start_time": "2023-06-08T07:09:36.953Z"
   },
   {
    "duration": 15,
    "start_time": "2023-06-08T07:09:37.275Z"
   },
   {
    "duration": 12,
    "start_time": "2023-06-08T07:09:37.291Z"
   },
   {
    "duration": 22,
    "start_time": "2023-06-08T07:09:37.304Z"
   },
   {
    "duration": 251,
    "start_time": "2023-06-08T07:09:37.328Z"
   },
   {
    "duration": 10,
    "start_time": "2023-06-08T07:09:37.580Z"
   },
   {
    "duration": 22,
    "start_time": "2023-06-08T07:09:37.591Z"
   },
   {
    "duration": 22,
    "start_time": "2023-06-08T07:09:37.614Z"
   },
   {
    "duration": 35,
    "start_time": "2023-06-08T07:09:37.637Z"
   },
   {
    "duration": 153,
    "start_time": "2023-06-08T07:09:37.674Z"
   },
   {
    "duration": 7,
    "start_time": "2023-06-08T07:09:37.829Z"
   },
   {
    "duration": 27,
    "start_time": "2023-06-08T07:09:37.838Z"
   },
   {
    "duration": 25,
    "start_time": "2023-06-08T07:09:37.866Z"
   },
   {
    "duration": 143,
    "start_time": "2023-06-08T07:09:37.893Z"
   },
   {
    "duration": 7,
    "start_time": "2023-06-08T07:09:38.038Z"
   },
   {
    "duration": 17,
    "start_time": "2023-06-08T07:09:38.047Z"
   },
   {
    "duration": 9,
    "start_time": "2023-06-08T07:09:38.065Z"
   },
   {
    "duration": 21,
    "start_time": "2023-06-08T07:09:38.076Z"
   },
   {
    "duration": 157,
    "start_time": "2023-06-08T07:09:38.098Z"
   },
   {
    "duration": 8,
    "start_time": "2023-06-08T07:09:38.256Z"
   },
   {
    "duration": 32,
    "start_time": "2023-06-08T07:09:38.265Z"
   },
   {
    "duration": 4,
    "start_time": "2023-06-08T07:09:38.298Z"
   },
   {
    "duration": 142,
    "start_time": "2023-06-08T07:09:38.303Z"
   },
   {
    "duration": 6,
    "start_time": "2023-06-08T07:09:38.447Z"
   },
   {
    "duration": 157,
    "start_time": "2023-06-08T07:09:38.454Z"
   },
   {
    "duration": 7,
    "start_time": "2023-06-08T07:09:38.612Z"
   },
   {
    "duration": 161,
    "start_time": "2023-06-08T07:09:38.621Z"
   },
   {
    "duration": 117,
    "start_time": "2023-06-08T07:09:38.784Z"
   },
   {
    "duration": 156,
    "start_time": "2023-06-08T07:09:38.902Z"
   },
   {
    "duration": 7,
    "start_time": "2023-06-08T07:09:39.060Z"
   },
   {
    "duration": 314,
    "start_time": "2023-06-08T07:09:39.068Z"
   },
   {
    "duration": 137,
    "start_time": "2023-06-08T07:09:39.383Z"
   },
   {
    "duration": 7,
    "start_time": "2023-06-08T07:09:39.521Z"
   },
   {
    "duration": 150,
    "start_time": "2023-06-08T07:09:39.529Z"
   },
   {
    "duration": 8,
    "start_time": "2023-06-08T07:09:39.684Z"
   },
   {
    "duration": 129,
    "start_time": "2023-06-08T07:09:39.693Z"
   },
   {
    "duration": 133,
    "start_time": "2023-06-08T07:09:39.824Z"
   },
   {
    "duration": 6,
    "start_time": "2023-06-08T07:09:39.958Z"
   },
   {
    "duration": 335,
    "start_time": "2023-06-08T07:09:39.965Z"
   },
   {
    "duration": 235,
    "start_time": "2023-06-08T07:09:40.302Z"
   },
   {
    "duration": 7,
    "start_time": "2023-06-08T07:09:40.539Z"
   },
   {
    "duration": 119,
    "start_time": "2023-06-08T07:09:40.547Z"
   },
   {
    "duration": 218,
    "start_time": "2023-06-08T07:09:40.668Z"
   },
   {
    "duration": 149,
    "start_time": "2023-06-08T07:09:40.888Z"
   },
   {
    "duration": 149,
    "start_time": "2023-06-08T07:09:41.042Z"
   },
   {
    "duration": 140,
    "start_time": "2023-06-08T07:09:41.193Z"
   },
   {
    "duration": 132,
    "start_time": "2023-06-08T07:09:41.335Z"
   },
   {
    "duration": 136,
    "start_time": "2023-06-08T07:09:41.468Z"
   },
   {
    "duration": 156,
    "start_time": "2023-06-08T07:09:41.606Z"
   },
   {
    "duration": 139,
    "start_time": "2023-06-08T07:09:41.763Z"
   },
   {
    "duration": 27,
    "start_time": "2023-06-08T07:09:41.903Z"
   },
   {
    "duration": 140,
    "start_time": "2023-06-08T07:09:41.931Z"
   },
   {
    "duration": 58,
    "start_time": "2023-09-29T10:38:14.017Z"
   },
   {
    "duration": 649,
    "start_time": "2023-09-29T10:38:25.333Z"
   },
   {
    "duration": 149,
    "start_time": "2023-09-29T10:38:25.983Z"
   },
   {
    "duration": 27,
    "start_time": "2023-09-29T10:38:26.134Z"
   },
   {
    "duration": 20,
    "start_time": "2023-09-29T10:38:26.164Z"
   },
   {
    "duration": 66,
    "start_time": "2023-09-29T10:38:26.186Z"
   },
   {
    "duration": 1756,
    "start_time": "2023-09-29T10:38:26.254Z"
   },
   {
    "duration": 22,
    "start_time": "2023-09-29T10:38:28.012Z"
   },
   {
    "duration": 10,
    "start_time": "2023-09-29T10:38:28.036Z"
   },
   {
    "duration": 131,
    "start_time": "2023-09-29T10:38:28.047Z"
   },
   {
    "duration": 135,
    "start_time": "2023-09-29T10:38:28.181Z"
   },
   {
    "duration": 6,
    "start_time": "2023-09-29T10:38:28.317Z"
   },
   {
    "duration": 20,
    "start_time": "2023-09-29T10:38:28.325Z"
   },
   {
    "duration": 6,
    "start_time": "2023-09-29T10:38:28.346Z"
   },
   {
    "duration": 10,
    "start_time": "2023-09-29T10:38:28.354Z"
   },
   {
    "duration": 8,
    "start_time": "2023-09-29T10:38:28.366Z"
   },
   {
    "duration": 14,
    "start_time": "2023-09-29T10:38:28.375Z"
   },
   {
    "duration": 5,
    "start_time": "2023-09-29T10:38:28.390Z"
   },
   {
    "duration": 55,
    "start_time": "2023-09-29T10:38:28.397Z"
   },
   {
    "duration": 7,
    "start_time": "2023-09-29T10:38:28.454Z"
   },
   {
    "duration": 7,
    "start_time": "2023-09-29T10:38:28.463Z"
   },
   {
    "duration": 12,
    "start_time": "2023-09-29T10:38:28.471Z"
   },
   {
    "duration": 24,
    "start_time": "2023-09-29T10:38:28.485Z"
   },
   {
    "duration": 19,
    "start_time": "2023-09-29T10:38:28.511Z"
   },
   {
    "duration": 6,
    "start_time": "2023-09-29T10:38:28.531Z"
   },
   {
    "duration": 26,
    "start_time": "2023-09-29T10:38:28.538Z"
   },
   {
    "duration": 14,
    "start_time": "2023-09-29T10:38:28.565Z"
   },
   {
    "duration": 23,
    "start_time": "2023-09-29T10:38:28.580Z"
   },
   {
    "duration": 37,
    "start_time": "2023-09-29T10:38:28.608Z"
   },
   {
    "duration": 5,
    "start_time": "2023-09-29T10:38:28.647Z"
   },
   {
    "duration": 48,
    "start_time": "2023-09-29T10:38:28.654Z"
   },
   {
    "duration": 5,
    "start_time": "2023-09-29T10:38:28.704Z"
   },
   {
    "duration": 48,
    "start_time": "2023-09-29T10:38:28.711Z"
   },
   {
    "duration": 28,
    "start_time": "2023-09-29T10:38:28.760Z"
   },
   {
    "duration": 346,
    "start_time": "2023-09-29T10:38:28.789Z"
   },
   {
    "duration": 11,
    "start_time": "2023-09-29T10:38:29.136Z"
   },
   {
    "duration": 26,
    "start_time": "2023-09-29T10:38:29.148Z"
   },
   {
    "duration": 4,
    "start_time": "2023-09-29T10:38:29.175Z"
   },
   {
    "duration": 355,
    "start_time": "2023-09-29T10:38:29.180Z"
   },
   {
    "duration": 16,
    "start_time": "2023-09-29T10:38:29.537Z"
   },
   {
    "duration": 8,
    "start_time": "2023-09-29T10:38:29.555Z"
   },
   {
    "duration": 23,
    "start_time": "2023-09-29T10:38:29.565Z"
   },
   {
    "duration": 277,
    "start_time": "2023-09-29T10:38:29.589Z"
   },
   {
    "duration": 9,
    "start_time": "2023-09-29T10:38:29.867Z"
   },
   {
    "duration": 17,
    "start_time": "2023-09-29T10:38:29.877Z"
   },
   {
    "duration": 7,
    "start_time": "2023-09-29T10:38:29.896Z"
   },
   {
    "duration": 45,
    "start_time": "2023-09-29T10:38:29.905Z"
   },
   {
    "duration": 165,
    "start_time": "2023-09-29T10:38:29.952Z"
   },
   {
    "duration": 8,
    "start_time": "2023-09-29T10:38:30.119Z"
   },
   {
    "duration": 65,
    "start_time": "2023-09-29T10:38:30.129Z"
   },
   {
    "duration": 46,
    "start_time": "2023-09-29T10:38:30.195Z"
   },
   {
    "duration": 168,
    "start_time": "2023-09-29T10:38:30.242Z"
   },
   {
    "duration": 9,
    "start_time": "2023-09-29T10:38:30.411Z"
   },
   {
    "duration": 30,
    "start_time": "2023-09-29T10:38:30.422Z"
   },
   {
    "duration": 26,
    "start_time": "2023-09-29T10:38:30.454Z"
   },
   {
    "duration": 64,
    "start_time": "2023-09-29T10:38:30.481Z"
   },
   {
    "duration": 228,
    "start_time": "2023-09-29T10:38:30.547Z"
   },
   {
    "duration": 11,
    "start_time": "2023-09-29T10:38:30.777Z"
   },
   {
    "duration": 53,
    "start_time": "2023-09-29T10:38:30.790Z"
   },
   {
    "duration": 15,
    "start_time": "2023-09-29T10:38:30.845Z"
   },
   {
    "duration": 181,
    "start_time": "2023-09-29T10:38:30.861Z"
   },
   {
    "duration": 22,
    "start_time": "2023-09-29T10:38:31.044Z"
   },
   {
    "duration": 173,
    "start_time": "2023-09-29T10:38:31.070Z"
   },
   {
    "duration": 9,
    "start_time": "2023-09-29T10:38:31.245Z"
   },
   {
    "duration": 186,
    "start_time": "2023-09-29T10:38:31.256Z"
   },
   {
    "duration": 122,
    "start_time": "2023-09-29T10:38:31.444Z"
   },
   {
    "duration": 186,
    "start_time": "2023-09-29T10:38:31.567Z"
   },
   {
    "duration": 8,
    "start_time": "2023-09-29T10:38:31.755Z"
   },
   {
    "duration": 348,
    "start_time": "2023-09-29T10:38:31.765Z"
   },
   {
    "duration": 154,
    "start_time": "2023-09-29T10:38:32.115Z"
   },
   {
    "duration": 9,
    "start_time": "2023-09-29T10:38:32.271Z"
   },
   {
    "duration": 193,
    "start_time": "2023-09-29T10:38:32.282Z"
   },
   {
    "duration": 8,
    "start_time": "2023-09-29T10:38:32.476Z"
   },
   {
    "duration": 127,
    "start_time": "2023-09-29T10:38:32.485Z"
   },
   {
    "duration": 142,
    "start_time": "2023-09-29T10:38:32.613Z"
   },
   {
    "duration": 6,
    "start_time": "2023-09-29T10:38:32.757Z"
   },
   {
    "duration": 269,
    "start_time": "2023-09-29T10:38:32.765Z"
   },
   {
    "duration": 255,
    "start_time": "2023-09-29T10:38:33.035Z"
   },
   {
    "duration": 8,
    "start_time": "2023-09-29T10:38:33.292Z"
   },
   {
    "duration": 131,
    "start_time": "2023-09-29T10:38:33.301Z"
   },
   {
    "duration": 234,
    "start_time": "2023-09-29T10:38:33.444Z"
   },
   {
    "duration": 166,
    "start_time": "2023-09-29T10:38:33.680Z"
   },
   {
    "duration": 158,
    "start_time": "2023-09-29T10:38:33.851Z"
   },
   {
    "duration": 201,
    "start_time": "2023-09-29T10:38:34.010Z"
   },
   {
    "duration": 162,
    "start_time": "2023-09-29T10:38:34.213Z"
   },
   {
    "duration": 159,
    "start_time": "2023-09-29T10:38:34.376Z"
   },
   {
    "duration": 183,
    "start_time": "2023-09-29T10:38:34.536Z"
   },
   {
    "duration": 165,
    "start_time": "2023-09-29T10:38:34.720Z"
   },
   {
    "duration": 32,
    "start_time": "2023-09-29T10:38:34.887Z"
   },
   {
    "duration": 172,
    "start_time": "2023-09-29T10:38:34.921Z"
   },
   {
    "duration": 5,
    "start_time": "2023-09-29T10:39:22.443Z"
   }
  ],
  "kernelspec": {
   "display_name": "Python 3 (ipykernel)",
   "language": "python",
   "name": "python3"
  },
  "language_info": {
   "codemirror_mode": {
    "name": "ipython",
    "version": 3
   },
   "file_extension": ".py",
   "mimetype": "text/x-python",
   "name": "python",
   "nbconvert_exporter": "python",
   "pygments_lexer": "ipython3",
   "version": "3.11.3"
  },
  "toc": {
   "base_numbering": 1,
   "nav_menu": {},
   "number_sections": true,
   "sideBar": true,
   "skip_h1_title": true,
   "title_cell": "Table of Contents",
   "title_sidebar": "Contents",
   "toc_cell": false,
   "toc_position": {},
   "toc_section_display": true,
   "toc_window_display": false
  }
 },
 "nbformat": 4,
 "nbformat_minor": 2
}
