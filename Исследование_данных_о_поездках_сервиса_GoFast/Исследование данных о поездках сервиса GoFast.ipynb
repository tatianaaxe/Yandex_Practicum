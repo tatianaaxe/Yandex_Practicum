{
 "cells": [
  {
   "cell_type": "markdown",
   "id": "7b27f4f0",
   "metadata": {},
   "source": [
    "# Исследование данных о поездках сервиса GoFast\n",
    "\n",
    "Задача:\n",
    "\n",
    "Имеются данные популярного сервиса аренды самокатов GoFast: о некоторых пользователях из нескольких городов, а также об их поездках. Необходимо проаназировать данные и проверить некоторые гипотезы, которые могут помочь бизнесу вырасти.\n",
    "\n",
    "Чтобы совершать поездки по городу, пользователи сервиса GoFast пользуются мобильным приложением. Сервисом можно пользоваться:\n",
    "\n",
    "**без подписки**\n",
    "\n",
    "абонентская плата отсутствует;\n",
    "\n",
    "стоимость одной минуты поездки — 8 рублей;\n",
    "\n",
    "стоимость старта (начала поездки) — 50 рублей;\n",
    "\n",
    "**с подпиской Ultra**\n",
    "\n",
    "абонентская плата — 199 рублей в месяц;\n",
    "\n",
    "стоимость одной минуты поездки — 6 рублей;\n",
    "\n",
    "стоимость старта — бесплатно."
   ]
  },
  {
   "cell_type": "code",
   "execution_count": 1,
   "id": "72576667",
   "metadata": {},
   "outputs": [],
   "source": [
    "import pandas as pd\n",
    "import matplotlib.pyplot as plt\n",
    "from scipy import stats as st\n",
    "import numpy as np\n",
    "import math"
   ]
  },
  {
   "cell_type": "markdown",
   "id": "c42cbe00",
   "metadata": {},
   "source": [
    "#### Шаг 1. Загрузка данных"
   ]
  },
  {
   "cell_type": "code",
   "execution_count": 2,
   "id": "373a4cf4",
   "metadata": {},
   "outputs": [],
   "source": [
    "try:\n",
    "    data_users = pd.read_csv('https://code.s3.yandex.net/datasets/users_go.csv')\n",
    "except:\n",
    "    data_users = pd.read_csv('/datasets/users_go.csv')\n",
    "    \n",
    "try:\n",
    "    data_rides = pd.read_csv('https://code.s3.yandex.net/datasets/rides_go.csv')\n",
    "except:\n",
    "    data_rides = pd.read_csv('/datasets/rides_go.csv')\n",
    "\n",
    "try:\n",
    "    data_sscr = pd.read_csv('https://code.s3.yandex.net/datasets/subscriptions_go.csv')\n",
    "except:\n",
    "    data_sscr = pd.read_csv('/datasets/subscriptions_go.csv')"
   ]
  },
  {
   "cell_type": "code",
   "execution_count": 3,
   "id": "7dc2b2e4",
   "metadata": {},
   "outputs": [],
   "source": [
    "# ознакомление с ДФ\n",
    "def df_info(name_df):\n",
    "    display(name_df.head())\n",
    "    display(name_df.info())\n",
    "    display(name_df.isna().sum())\n"
   ]
  },
  {
   "cell_type": "code",
   "execution_count": 4,
   "id": "b440553a",
   "metadata": {},
   "outputs": [
    {
     "data": {
      "text/html": [
       "<div>\n",
       "<style scoped>\n",
       "    .dataframe tbody tr th:only-of-type {\n",
       "        vertical-align: middle;\n",
       "    }\n",
       "\n",
       "    .dataframe tbody tr th {\n",
       "        vertical-align: top;\n",
       "    }\n",
       "\n",
       "    .dataframe thead th {\n",
       "        text-align: right;\n",
       "    }\n",
       "</style>\n",
       "<table border=\"1\" class=\"dataframe\">\n",
       "  <thead>\n",
       "    <tr style=\"text-align: right;\">\n",
       "      <th></th>\n",
       "      <th>user_id</th>\n",
       "      <th>name</th>\n",
       "      <th>age</th>\n",
       "      <th>city</th>\n",
       "      <th>subscription_type</th>\n",
       "    </tr>\n",
       "  </thead>\n",
       "  <tbody>\n",
       "    <tr>\n",
       "      <th>0</th>\n",
       "      <td>1</td>\n",
       "      <td>Кира</td>\n",
       "      <td>22</td>\n",
       "      <td>Тюмень</td>\n",
       "      <td>ultra</td>\n",
       "    </tr>\n",
       "    <tr>\n",
       "      <th>1</th>\n",
       "      <td>2</td>\n",
       "      <td>Станислав</td>\n",
       "      <td>31</td>\n",
       "      <td>Омск</td>\n",
       "      <td>ultra</td>\n",
       "    </tr>\n",
       "    <tr>\n",
       "      <th>2</th>\n",
       "      <td>3</td>\n",
       "      <td>Алексей</td>\n",
       "      <td>20</td>\n",
       "      <td>Москва</td>\n",
       "      <td>ultra</td>\n",
       "    </tr>\n",
       "    <tr>\n",
       "      <th>3</th>\n",
       "      <td>4</td>\n",
       "      <td>Константин</td>\n",
       "      <td>26</td>\n",
       "      <td>Ростов-на-Дону</td>\n",
       "      <td>ultra</td>\n",
       "    </tr>\n",
       "    <tr>\n",
       "      <th>4</th>\n",
       "      <td>5</td>\n",
       "      <td>Адель</td>\n",
       "      <td>28</td>\n",
       "      <td>Омск</td>\n",
       "      <td>ultra</td>\n",
       "    </tr>\n",
       "  </tbody>\n",
       "</table>\n",
       "</div>"
      ],
      "text/plain": [
       "   user_id        name  age            city subscription_type\n",
       "0        1        Кира   22          Тюмень             ultra\n",
       "1        2   Станислав   31            Омск             ultra\n",
       "2        3     Алексей   20          Москва             ultra\n",
       "3        4  Константин   26  Ростов-на-Дону             ultra\n",
       "4        5       Адель   28            Омск             ultra"
      ]
     },
     "metadata": {},
     "output_type": "display_data"
    },
    {
     "name": "stdout",
     "output_type": "stream",
     "text": [
      "<class 'pandas.core.frame.DataFrame'>\n",
      "RangeIndex: 1565 entries, 0 to 1564\n",
      "Data columns (total 5 columns):\n",
      " #   Column             Non-Null Count  Dtype \n",
      "---  ------             --------------  ----- \n",
      " 0   user_id            1565 non-null   int64 \n",
      " 1   name               1565 non-null   object\n",
      " 2   age                1565 non-null   int64 \n",
      " 3   city               1565 non-null   object\n",
      " 4   subscription_type  1565 non-null   object\n",
      "dtypes: int64(2), object(3)\n",
      "memory usage: 61.3+ KB\n"
     ]
    },
    {
     "data": {
      "text/plain": [
       "None"
      ]
     },
     "metadata": {},
     "output_type": "display_data"
    },
    {
     "data": {
      "text/plain": [
       "user_id              0\n",
       "name                 0\n",
       "age                  0\n",
       "city                 0\n",
       "subscription_type    0\n",
       "dtype: int64"
      ]
     },
     "metadata": {},
     "output_type": "display_data"
    }
   ],
   "source": [
    "df_info(data_users)"
   ]
  },
  {
   "cell_type": "markdown",
   "id": "20d1ddc9",
   "metadata": {},
   "source": [
    "**Таблица с информацией по пользователям**\n",
    "\n",
    "**user_id** - уникальный идентификатор пользователя\n",
    "\n",
    "**name** - имя пользователя\n",
    "\n",
    "**age** - возраст\n",
    "\n",
    "**city** - город\n",
    "\n",
    "**subscription_type** - тип подписки (free, ultra)\n",
    "\n",
    "Пропусков в данных нет."
   ]
  },
  {
   "cell_type": "code",
   "execution_count": 5,
   "id": "019bab3f",
   "metadata": {},
   "outputs": [
    {
     "data": {
      "text/html": [
       "<div>\n",
       "<style scoped>\n",
       "    .dataframe tbody tr th:only-of-type {\n",
       "        vertical-align: middle;\n",
       "    }\n",
       "\n",
       "    .dataframe tbody tr th {\n",
       "        vertical-align: top;\n",
       "    }\n",
       "\n",
       "    .dataframe thead th {\n",
       "        text-align: right;\n",
       "    }\n",
       "</style>\n",
       "<table border=\"1\" class=\"dataframe\">\n",
       "  <thead>\n",
       "    <tr style=\"text-align: right;\">\n",
       "      <th></th>\n",
       "      <th>user_id</th>\n",
       "      <th>distance</th>\n",
       "      <th>duration</th>\n",
       "      <th>date</th>\n",
       "    </tr>\n",
       "  </thead>\n",
       "  <tbody>\n",
       "    <tr>\n",
       "      <th>0</th>\n",
       "      <td>1</td>\n",
       "      <td>4409.919140</td>\n",
       "      <td>25.599769</td>\n",
       "      <td>2021-01-01</td>\n",
       "    </tr>\n",
       "    <tr>\n",
       "      <th>1</th>\n",
       "      <td>1</td>\n",
       "      <td>2617.592153</td>\n",
       "      <td>15.816871</td>\n",
       "      <td>2021-01-18</td>\n",
       "    </tr>\n",
       "    <tr>\n",
       "      <th>2</th>\n",
       "      <td>1</td>\n",
       "      <td>754.159807</td>\n",
       "      <td>6.232113</td>\n",
       "      <td>2021-04-20</td>\n",
       "    </tr>\n",
       "    <tr>\n",
       "      <th>3</th>\n",
       "      <td>1</td>\n",
       "      <td>2694.783254</td>\n",
       "      <td>18.511000</td>\n",
       "      <td>2021-08-11</td>\n",
       "    </tr>\n",
       "    <tr>\n",
       "      <th>4</th>\n",
       "      <td>1</td>\n",
       "      <td>4028.687306</td>\n",
       "      <td>26.265803</td>\n",
       "      <td>2021-08-28</td>\n",
       "    </tr>\n",
       "  </tbody>\n",
       "</table>\n",
       "</div>"
      ],
      "text/plain": [
       "   user_id     distance   duration        date\n",
       "0        1  4409.919140  25.599769  2021-01-01\n",
       "1        1  2617.592153  15.816871  2021-01-18\n",
       "2        1   754.159807   6.232113  2021-04-20\n",
       "3        1  2694.783254  18.511000  2021-08-11\n",
       "4        1  4028.687306  26.265803  2021-08-28"
      ]
     },
     "metadata": {},
     "output_type": "display_data"
    },
    {
     "name": "stdout",
     "output_type": "stream",
     "text": [
      "<class 'pandas.core.frame.DataFrame'>\n",
      "RangeIndex: 18068 entries, 0 to 18067\n",
      "Data columns (total 4 columns):\n",
      " #   Column    Non-Null Count  Dtype  \n",
      "---  ------    --------------  -----  \n",
      " 0   user_id   18068 non-null  int64  \n",
      " 1   distance  18068 non-null  float64\n",
      " 2   duration  18068 non-null  float64\n",
      " 3   date      18068 non-null  object \n",
      "dtypes: float64(2), int64(1), object(1)\n",
      "memory usage: 564.8+ KB\n"
     ]
    },
    {
     "data": {
      "text/plain": [
       "None"
      ]
     },
     "metadata": {},
     "output_type": "display_data"
    },
    {
     "data": {
      "text/plain": [
       "user_id     0\n",
       "distance    0\n",
       "duration    0\n",
       "date        0\n",
       "dtype: int64"
      ]
     },
     "metadata": {},
     "output_type": "display_data"
    }
   ],
   "source": [
    "df_info(data_rides)"
   ]
  },
  {
   "cell_type": "markdown",
   "id": "781d2c2c",
   "metadata": {},
   "source": [
    "**Таблица с информацией по поездкам**\n",
    "\n",
    "**user_id** - уникальный идентификатор пользователя\n",
    "\n",
    "**distance** - расстояние, которое пользователь проехал в текущей сессии (в метрах)\n",
    "\n",
    "**duration** - продолжительность сессии (в минутах) — время с того момента, как пользователь нажал кнопку «Начать поездку» до момента, как он нажал кнопку «Завершить поездку»\n",
    "\n",
    "**date** - дата совершения поездки\n",
    "\n",
    "Пропусков в данных нет. В столбце date необходимо изменить тип данных на дату."
   ]
  },
  {
   "cell_type": "code",
   "execution_count": 6,
   "id": "50582ff4",
   "metadata": {},
   "outputs": [
    {
     "data": {
      "text/html": [
       "<div>\n",
       "<style scoped>\n",
       "    .dataframe tbody tr th:only-of-type {\n",
       "        vertical-align: middle;\n",
       "    }\n",
       "\n",
       "    .dataframe tbody tr th {\n",
       "        vertical-align: top;\n",
       "    }\n",
       "\n",
       "    .dataframe thead th {\n",
       "        text-align: right;\n",
       "    }\n",
       "</style>\n",
       "<table border=\"1\" class=\"dataframe\">\n",
       "  <thead>\n",
       "    <tr style=\"text-align: right;\">\n",
       "      <th></th>\n",
       "      <th>subscription_type</th>\n",
       "      <th>minute_price</th>\n",
       "      <th>start_ride_price</th>\n",
       "      <th>subscription_fee</th>\n",
       "    </tr>\n",
       "  </thead>\n",
       "  <tbody>\n",
       "    <tr>\n",
       "      <th>0</th>\n",
       "      <td>free</td>\n",
       "      <td>8</td>\n",
       "      <td>50</td>\n",
       "      <td>0</td>\n",
       "    </tr>\n",
       "    <tr>\n",
       "      <th>1</th>\n",
       "      <td>ultra</td>\n",
       "      <td>6</td>\n",
       "      <td>0</td>\n",
       "      <td>199</td>\n",
       "    </tr>\n",
       "  </tbody>\n",
       "</table>\n",
       "</div>"
      ],
      "text/plain": [
       "  subscription_type  minute_price  start_ride_price  subscription_fee\n",
       "0              free             8                50                 0\n",
       "1             ultra             6                 0               199"
      ]
     },
     "metadata": {},
     "output_type": "display_data"
    },
    {
     "name": "stdout",
     "output_type": "stream",
     "text": [
      "<class 'pandas.core.frame.DataFrame'>\n",
      "RangeIndex: 2 entries, 0 to 1\n",
      "Data columns (total 4 columns):\n",
      " #   Column             Non-Null Count  Dtype \n",
      "---  ------             --------------  ----- \n",
      " 0   subscription_type  2 non-null      object\n",
      " 1   minute_price       2 non-null      int64 \n",
      " 2   start_ride_price   2 non-null      int64 \n",
      " 3   subscription_fee   2 non-null      int64 \n",
      "dtypes: int64(3), object(1)\n",
      "memory usage: 196.0+ bytes\n"
     ]
    },
    {
     "data": {
      "text/plain": [
       "None"
      ]
     },
     "metadata": {},
     "output_type": "display_data"
    },
    {
     "data": {
      "text/plain": [
       "subscription_type    0\n",
       "minute_price         0\n",
       "start_ride_price     0\n",
       "subscription_fee     0\n",
       "dtype: int64"
      ]
     },
     "metadata": {},
     "output_type": "display_data"
    }
   ],
   "source": [
    "df_info(data_sscr)"
   ]
  },
  {
   "cell_type": "markdown",
   "id": "b9152742",
   "metadata": {},
   "source": [
    "**Таблица с информацией о подписке**\n",
    "**subscription_type** - тип подписки\n",
    "\n",
    "**minute_price** - стоимость одной минуты поездки по данной подписке\n",
    "\n",
    "**start_ride_price** - стоимость начала поездки\n",
    "\n",
    "**subscription_fee** - стоимость ежемесячного платежа\n",
    "\n",
    "Пропусков в данных нет. 0 - значит, что стоимость нулевая."
   ]
  },
  {
   "cell_type": "markdown",
   "id": "e95ebca7",
   "metadata": {},
   "source": [
    "#### Шаг 2. Предобработка данных"
   ]
  },
  {
   "cell_type": "code",
   "execution_count": 7,
   "id": "af6d202c",
   "metadata": {},
   "outputs": [],
   "source": [
    "# приведем столбец date к формату даты:\n",
    "data_rides['date'] = pd.to_datetime(data_rides['date'], format='%Y-%m-%d')\n"
   ]
  },
  {
   "cell_type": "code",
   "execution_count": 8,
   "id": "76717133",
   "metadata": {},
   "outputs": [
    {
     "data": {
      "text/plain": [
       "array([2021], dtype=int64)"
      ]
     },
     "execution_count": 8,
     "metadata": {},
     "output_type": "execute_result"
    }
   ],
   "source": [
    "# проверим, за какой период предоставлены данные\n",
    "data_rides['date'].dt.year.unique()\n"
   ]
  },
  {
   "cell_type": "markdown",
   "id": "7b9c48dd",
   "metadata": {},
   "source": [
    "Данные предоставлены за один год, 2021"
   ]
  },
  {
   "cell_type": "code",
   "execution_count": 9,
   "id": "776af883",
   "metadata": {},
   "outputs": [],
   "source": [
    "# добавим столбец с месяцем\n",
    "data_rides['month'] = data_rides['date'].dt.month\n"
   ]
  },
  {
   "cell_type": "code",
   "execution_count": 10,
   "id": "72ca31b3",
   "metadata": {},
   "outputs": [
    {
     "name": "stdout",
     "output_type": "stream",
     "text": [
      "Количество дубликатов в таблице с пользователями: 31\n",
      "Количество дубликатов в таблице с поездками:  0\n",
      "Количество дубликатов в таблице с подписками:  0\n"
     ]
    }
   ],
   "source": [
    "# проверяем дубликаты\n",
    "print('Количество дубликатов в таблице с пользователями:', data_users.duplicated().sum())\n",
    "print('Количество дубликатов в таблице с поездками: ', data_rides.duplicated().sum())\n",
    "print('Количество дубликатов в таблице с подписками: ', data_sscr.duplicated().sum())"
   ]
  },
  {
   "cell_type": "code",
   "execution_count": 11,
   "id": "8b4e1d35",
   "metadata": {},
   "outputs": [
    {
     "name": "stdout",
     "output_type": "stream",
     "text": [
      "Количество дубликатов в таблице с пользователями после обработки: 0\n"
     ]
    }
   ],
   "source": [
    "# удаляем дубликаты\n",
    "data_users = data_users.drop_duplicates()\n",
    "data_users = data_users.reset_index(drop=True)\n",
    "print('Количество дубликатов в таблице с пользователями после обработки:', data_users.duplicated().sum())"
   ]
  },
  {
   "cell_type": "code",
   "execution_count": 12,
   "id": "6b422e28",
   "metadata": {},
   "outputs": [
    {
     "data": {
      "text/plain": [
       "1534"
      ]
     },
     "metadata": {},
     "output_type": "display_data"
    },
    {
     "data": {
      "text/plain": [
       "1534"
      ]
     },
     "metadata": {},
     "output_type": "display_data"
    }
   ],
   "source": [
    "# проверяем уникальность id:\n",
    "display(len(data_users['user_id']))\n",
    "display(data_users['user_id'].nunique())"
   ]
  },
  {
   "cell_type": "code",
   "execution_count": 13,
   "id": "17fd2cc1",
   "metadata": {},
   "outputs": [
    {
     "data": {
      "text/plain": [
       "8"
      ]
     },
     "metadata": {},
     "output_type": "display_data"
    },
    {
     "data": {
      "text/plain": [
       "8"
      ]
     },
     "metadata": {},
     "output_type": "display_data"
    }
   ],
   "source": [
    "# проверяем уникальность городов:\n",
    "display(data_users['city'].nunique())\n",
    "display(data_users['city'].str.upper().nunique())"
   ]
  },
  {
   "cell_type": "code",
   "execution_count": 14,
   "id": "43432f3f",
   "metadata": {},
   "outputs": [
    {
     "data": {
      "text/plain": [
       "array(['ultra', 'free'], dtype=object)"
      ]
     },
     "execution_count": 14,
     "metadata": {},
     "output_type": "execute_result"
    }
   ],
   "source": [
    "# проверяем уникальные значения типа подписки\n",
    "data_users['subscription_type'].unique()"
   ]
  },
  {
   "cell_type": "markdown",
   "id": "d22603e8",
   "metadata": {},
   "source": [
    "**Выводы по разделу 2** \n",
    "\n",
    "Провели предобработку данных:\n",
    "\n",
    "1. Привели столбец date к формату даты.\n",
    "2. Добавили столбец с месяцем month.\n",
    "3. Удалили дубликаты в таблице с пользователями.\n",
    "4. Проверили уникальность значений среди ид пользователей, городов и типа подписки. Данные в порядке, замены не требуется."
   ]
  },
  {
   "cell_type": "markdown",
   "id": "212593c7",
   "metadata": {},
   "source": [
    "#### Шаг 3. Исследовательский анализ данных"
   ]
  },
  {
   "cell_type": "code",
   "execution_count": 15,
   "id": "9a7a8465",
   "metadata": {},
   "outputs": [
    {
     "name": "stdout",
     "output_type": "stream",
     "text": [
      "Медиана: 191.0\n"
     ]
    },
    {
     "data": {
      "text/plain": [
       "Пятигорск         219\n",
       "Екатеринбург      204\n",
       "Ростов-на-Дону    198\n",
       "Краснодар         193\n",
       "Сочи              189\n",
       "Омск              183\n",
       "Тюмень            180\n",
       "Москва            168\n",
       "Name: city, dtype: int64"
      ]
     },
     "execution_count": 15,
     "metadata": {},
     "output_type": "execute_result"
    },
    {
     "data": {
      "image/png": "[encoded data removed]",
      "text/plain": [
       "<Figure size 640x480 with 1 Axes>"
      ]
     },
     "metadata": {},
     "output_type": "display_data"
    }
   ],
   "source": [
    "# частота встречаемости городов\n",
    "data_users['city'].value_counts().plot(kind='bar');\n",
    "plt.title('Количество пользователей по городам');\n",
    "plt.xlabel(\"Города\");\n",
    "plt.ylabel(\"Количество пользователей\"); \n",
    "print('Медиана:', data_users['city'].value_counts().median())\n",
    "data_users['city'].value_counts()"
   ]
  },
  {
   "cell_type": "markdown",
   "id": "74a6a069",
   "metadata": {},
   "source": [
    "Наибольшую популярность аренда самокатов имеет в Пятигорске - там 219 пользователей. Наименьшую - в Москве, 168 пользователей.\n",
    "\n",
    "Медианное значение равно 191 и число пользователей по остальным городам близко к этому значению."
   ]
  },
  {
   "cell_type": "code",
   "execution_count": 16,
   "id": "5c978a55",
   "metadata": {},
   "outputs": [
    {
     "data": {
      "image/png": "[encoded data removed]",
      "text/plain": [
       "<Figure size 640x480 with 1 Axes>"
      ]
     },
     "metadata": {},
     "output_type": "display_data"
    }
   ],
   "source": [
    "# соотношение пользователей с подпиской и без подписки\n",
    "data_users['subscription_type'].value_counts().plot(kind='pie', autopct='%.1f%%');\n",
    "plt.title('Соотношение пользователей по типам подписки');\n"
   ]
  },
  {
   "cell_type": "markdown",
   "id": "98e8e09c",
   "metadata": {},
   "source": [
    "Пользователи по типам подписки разделились примерно поровну, но все же без подписки их больше - 54.4% против 45.6%"
   ]
  },
  {
   "cell_type": "code",
   "execution_count": 17,
   "id": "117d14e3",
   "metadata": {},
   "outputs": [
    {
     "data": {
      "image/png": "[encoded data removed]",
      "text/plain": [
       "<Figure size 1000x500 with 1 Axes>"
      ]
     },
     "metadata": {},
     "output_type": "display_data"
    }
   ],
   "source": [
    "# возраст пользователей\n",
    "data_users['age'].hist (bins= 100, figsize = (10,5));\n",
    "plt.title('Количество пользователей по возрасту');\n",
    "plt.xlabel(\"Возраст\");\n",
    "plt.ylabel(\"Количество пользователей\");"
   ]
  },
  {
   "cell_type": "markdown",
   "id": "1b8fbaa2",
   "metadata": {},
   "source": [
    "Больше всего популярны самокаты среди 25-летних, а большинство значений приходится на интервал от 18 до 33 лет."
   ]
  },
  {
   "cell_type": "code",
   "execution_count": 18,
   "id": "c39ab756",
   "metadata": {},
   "outputs": [
    {
     "data": {
      "text/plain": [
       "count    18068.000000\n",
       "mean      3070.659976\n",
       "std       1116.831209\n",
       "min          0.855683\n",
       "25%       2543.226360\n",
       "50%       3133.609994\n",
       "75%       3776.222735\n",
       "max       7211.007745\n",
       "Name: distance, dtype: float64"
      ]
     },
     "execution_count": 18,
     "metadata": {},
     "output_type": "execute_result"
    },
    {
     "data": {
      "image/png": "[encoded data removed]",
      "text/plain": [
       "<Figure size 1000x500 with 1 Axes>"
      ]
     },
     "metadata": {},
     "output_type": "display_data"
    }
   ],
   "source": [
    "# расстояние, которое пользователь преодолел за одну поездку\n",
    "data_rides['distance'].hist(bins=100, figsize = (10,5))\n",
    "plt.title('Расстояние поездок, м');\n",
    "plt.xlabel(\"Расстояние в метрах\");\n",
    "plt.ylabel(\"Количество поездок\");\n",
    "data_rides['distance'].describe()"
   ]
  },
  {
   "cell_type": "code",
   "execution_count": 19,
   "id": "092097ea",
   "metadata": {},
   "outputs": [
    {
     "data": {
      "text/plain": [
       "424"
      ]
     },
     "execution_count": 19,
     "metadata": {},
     "output_type": "execute_result"
    }
   ],
   "source": [
    "data_rides.query('distance < 400')['distance'].count()"
   ]
  },
  {
   "cell_type": "code",
   "execution_count": 20,
   "id": "c96ae0da",
   "metadata": {},
   "outputs": [
    {
     "data": {
      "text/plain": [
       "541"
      ]
     },
     "execution_count": 20,
     "metadata": {},
     "output_type": "execute_result"
    }
   ],
   "source": [
    "data_rides.query('distance > 5000')['distance'].count()"
   ]
  },
  {
   "cell_type": "markdown",
   "id": "bc0395a1",
   "metadata": {},
   "source": [
    "Сильных выбросов нет. Значения менее 400 метров и более 5 километров довольно редки и выглядят как эскперименты пользователей.\n",
    "\n",
    "Среднее и медианное значения по длине поездки близки друг к другу, поэтому можно сказать, что самокат в среднем арендуют, чтобы проехать около 3 км."
   ]
  },
  {
   "cell_type": "code",
   "execution_count": 21,
   "id": "c6ed488e",
   "metadata": {},
   "outputs": [
    {
     "data": {
      "text/plain": [
       "count    18068.000000\n",
       "mean        17.805011\n",
       "std          6.091051\n",
       "min          0.500000\n",
       "25%         13.597563\n",
       "50%         17.678395\n",
       "75%         21.724800\n",
       "max         40.823963\n",
       "Name: duration, dtype: float64"
      ]
     },
     "execution_count": 21,
     "metadata": {},
     "output_type": "execute_result"
    },
    {
     "data": {
      "image/png": "[encoded data removed]",
      "text/plain": [
       "<Figure size 1000x500 with 1 Axes>"
      ]
     },
     "metadata": {},
     "output_type": "display_data"
    }
   ],
   "source": [
    "# продолжительность поездок\n",
    "data_rides['duration'].hist(bins=40, figsize = (10,5))\n",
    "plt.title('Продолжительность поездок, минуты');\n",
    "plt.xlabel(\"Продолжительность в минутах\");\n",
    "plt.ylabel(\"Количество поездок\");\n",
    "data_rides['duration'].describe()"
   ]
  },
  {
   "cell_type": "code",
   "execution_count": 22,
   "id": "fd4d1a94",
   "metadata": {},
   "outputs": [
    {
     "data": {
      "text/plain": [
       "421"
      ]
     },
     "execution_count": 22,
     "metadata": {},
     "output_type": "execute_result"
    }
   ],
   "source": [
    "data_rides.query('duration <= 6')['distance'].count()"
   ]
  },
  {
   "cell_type": "markdown",
   "id": "ec517683",
   "metadata": {},
   "source": [
    "Данные по продолжительности поездки соответствуют данным по расстоянию. Средняя поездка занимает 17-18 минут, так что при скорости 10,5 км/час пользователь проедет 3 км. \n",
    "\n",
    "Короткие по расстоянию поездки, которые мы сочли экспериментальными, по времени могли занять не меньше 6 минут. Не у всех пользователей получилось покататься, хотя они долго пытались!"
   ]
  },
  {
   "cell_type": "markdown",
   "id": "dd41d8a3",
   "metadata": {},
   "source": [
    "**Выводы по разделу 3** \n",
    "1. Большинство пользователей самокатов находится в Пятигорске (219), меньше всего их в Москве (168). В среднем по городам 191 пользователь.\n",
    "\n",
    "2. Пользователей без подписки - 54.4%, с подпиской - 45,6%.\n",
    "\n",
    "3. Пользуется сервисом в основном молодежь от 18 до 33 лет, пик приходится на 25 лет.\n",
    "\n",
    "4. В среднем самокат арендуют на 17-18 минут, чтобы проехать около 3 км.\n",
    "\n"
   ]
  },
  {
   "cell_type": "markdown",
   "id": "4ef51331",
   "metadata": {},
   "source": [
    "#### Шаг 4. Объединение данных"
   ]
  },
  {
   "cell_type": "code",
   "execution_count": 23,
   "id": "6bf288b5",
   "metadata": {},
   "outputs": [
    {
     "data": {
      "text/plain": [
       "18068"
      ]
     },
     "metadata": {},
     "output_type": "display_data"
    },
    {
     "data": {
      "text/plain": [
       "18068"
      ]
     },
     "metadata": {},
     "output_type": "display_data"
    },
    {
     "data": {
      "text/html": [
       "<div>\n",
       "<style scoped>\n",
       "    .dataframe tbody tr th:only-of-type {\n",
       "        vertical-align: middle;\n",
       "    }\n",
       "\n",
       "    .dataframe tbody tr th {\n",
       "        vertical-align: top;\n",
       "    }\n",
       "\n",
       "    .dataframe thead th {\n",
       "        text-align: right;\n",
       "    }\n",
       "</style>\n",
       "<table border=\"1\" class=\"dataframe\">\n",
       "  <thead>\n",
       "    <tr style=\"text-align: right;\">\n",
       "      <th></th>\n",
       "      <th>user_id</th>\n",
       "      <th>name</th>\n",
       "      <th>age</th>\n",
       "      <th>city</th>\n",
       "      <th>subscription_type</th>\n",
       "      <th>distance</th>\n",
       "      <th>duration</th>\n",
       "      <th>date</th>\n",
       "      <th>month</th>\n",
       "      <th>minute_price</th>\n",
       "      <th>start_ride_price</th>\n",
       "      <th>subscription_fee</th>\n",
       "      <th>_merge</th>\n",
       "    </tr>\n",
       "  </thead>\n",
       "  <tbody>\n",
       "    <tr>\n",
       "      <th>0</th>\n",
       "      <td>1</td>\n",
       "      <td>Кира</td>\n",
       "      <td>22</td>\n",
       "      <td>Тюмень</td>\n",
       "      <td>ultra</td>\n",
       "      <td>4409.919140</td>\n",
       "      <td>25.599769</td>\n",
       "      <td>2021-01-01</td>\n",
       "      <td>1</td>\n",
       "      <td>6</td>\n",
       "      <td>0</td>\n",
       "      <td>199</td>\n",
       "      <td>both</td>\n",
       "    </tr>\n",
       "    <tr>\n",
       "      <th>12036</th>\n",
       "      <td>1104</td>\n",
       "      <td>Ольга</td>\n",
       "      <td>24</td>\n",
       "      <td>Краснодар</td>\n",
       "      <td>free</td>\n",
       "      <td>2767.373507</td>\n",
       "      <td>15.547382</td>\n",
       "      <td>2021-11-09</td>\n",
       "      <td>11</td>\n",
       "      <td>8</td>\n",
       "      <td>50</td>\n",
       "      <td>0</td>\n",
       "      <td>both</td>\n",
       "    </tr>\n",
       "    <tr>\n",
       "      <th>12037</th>\n",
       "      <td>1104</td>\n",
       "      <td>Ольга</td>\n",
       "      <td>24</td>\n",
       "      <td>Краснодар</td>\n",
       "      <td>free</td>\n",
       "      <td>3871.834746</td>\n",
       "      <td>15.615504</td>\n",
       "      <td>2021-11-14</td>\n",
       "      <td>11</td>\n",
       "      <td>8</td>\n",
       "      <td>50</td>\n",
       "      <td>0</td>\n",
       "      <td>both</td>\n",
       "    </tr>\n",
       "    <tr>\n",
       "      <th>12038</th>\n",
       "      <td>1105</td>\n",
       "      <td>Богдан</td>\n",
       "      <td>22</td>\n",
       "      <td>Пятигорск</td>\n",
       "      <td>free</td>\n",
       "      <td>3295.364742</td>\n",
       "      <td>12.061496</td>\n",
       "      <td>2021-01-09</td>\n",
       "      <td>1</td>\n",
       "      <td>8</td>\n",
       "      <td>50</td>\n",
       "      <td>0</td>\n",
       "      <td>both</td>\n",
       "    </tr>\n",
       "    <tr>\n",
       "      <th>12039</th>\n",
       "      <td>1105</td>\n",
       "      <td>Богдан</td>\n",
       "      <td>22</td>\n",
       "      <td>Пятигорск</td>\n",
       "      <td>free</td>\n",
       "      <td>3232.037291</td>\n",
       "      <td>19.120140</td>\n",
       "      <td>2021-02-24</td>\n",
       "      <td>2</td>\n",
       "      <td>8</td>\n",
       "      <td>50</td>\n",
       "      <td>0</td>\n",
       "      <td>both</td>\n",
       "    </tr>\n",
       "    <tr>\n",
       "      <th>...</th>\n",
       "      <td>...</td>\n",
       "      <td>...</td>\n",
       "      <td>...</td>\n",
       "      <td>...</td>\n",
       "      <td>...</td>\n",
       "      <td>...</td>\n",
       "      <td>...</td>\n",
       "      <td>...</td>\n",
       "      <td>...</td>\n",
       "      <td>...</td>\n",
       "      <td>...</td>\n",
       "      <td>...</td>\n",
       "      <td>...</td>\n",
       "    </tr>\n",
       "    <tr>\n",
       "      <th>6020</th>\n",
       "      <td>645</td>\n",
       "      <td>Олеся</td>\n",
       "      <td>36</td>\n",
       "      <td>Краснодар</td>\n",
       "      <td>ultra</td>\n",
       "      <td>2556.430106</td>\n",
       "      <td>25.338581</td>\n",
       "      <td>2021-05-06</td>\n",
       "      <td>5</td>\n",
       "      <td>6</td>\n",
       "      <td>0</td>\n",
       "      <td>199</td>\n",
       "      <td>both</td>\n",
       "    </tr>\n",
       "    <tr>\n",
       "      <th>6019</th>\n",
       "      <td>645</td>\n",
       "      <td>Олеся</td>\n",
       "      <td>36</td>\n",
       "      <td>Краснодар</td>\n",
       "      <td>ultra</td>\n",
       "      <td>2559.843612</td>\n",
       "      <td>10.143625</td>\n",
       "      <td>2021-01-25</td>\n",
       "      <td>1</td>\n",
       "      <td>6</td>\n",
       "      <td>0</td>\n",
       "      <td>199</td>\n",
       "      <td>both</td>\n",
       "    </tr>\n",
       "    <tr>\n",
       "      <th>6018</th>\n",
       "      <td>645</td>\n",
       "      <td>Олеся</td>\n",
       "      <td>36</td>\n",
       "      <td>Краснодар</td>\n",
       "      <td>ultra</td>\n",
       "      <td>955.930910</td>\n",
       "      <td>7.294234</td>\n",
       "      <td>2021-01-18</td>\n",
       "      <td>1</td>\n",
       "      <td>6</td>\n",
       "      <td>0</td>\n",
       "      <td>199</td>\n",
       "      <td>both</td>\n",
       "    </tr>\n",
       "    <tr>\n",
       "      <th>6024</th>\n",
       "      <td>645</td>\n",
       "      <td>Олеся</td>\n",
       "      <td>36</td>\n",
       "      <td>Краснодар</td>\n",
       "      <td>ultra</td>\n",
       "      <td>2807.733574</td>\n",
       "      <td>18.657455</td>\n",
       "      <td>2021-07-19</td>\n",
       "      <td>7</td>\n",
       "      <td>6</td>\n",
       "      <td>0</td>\n",
       "      <td>199</td>\n",
       "      <td>both</td>\n",
       "    </tr>\n",
       "    <tr>\n",
       "      <th>18067</th>\n",
       "      <td>1534</td>\n",
       "      <td>Альберт</td>\n",
       "      <td>25</td>\n",
       "      <td>Краснодар</td>\n",
       "      <td>free</td>\n",
       "      <td>2371.711192</td>\n",
       "      <td>15.893917</td>\n",
       "      <td>2021-12-29</td>\n",
       "      <td>12</td>\n",
       "      <td>8</td>\n",
       "      <td>50</td>\n",
       "      <td>0</td>\n",
       "      <td>both</td>\n",
       "    </tr>\n",
       "  </tbody>\n",
       "</table>\n",
       "<p>18068 rows × 13 columns</p>\n",
       "</div>"
      ],
      "text/plain": [
       "       user_id     name  age       city subscription_type     distance  \\\n",
       "0            1     Кира   22     Тюмень             ultra  4409.919140   \n",
       "12036     1104    Ольга   24  Краснодар              free  2767.373507   \n",
       "12037     1104    Ольга   24  Краснодар              free  3871.834746   \n",
       "12038     1105   Богдан   22  Пятигорск              free  3295.364742   \n",
       "12039     1105   Богдан   22  Пятигорск              free  3232.037291   \n",
       "...        ...      ...  ...        ...               ...          ...   \n",
       "6020       645    Олеся   36  Краснодар             ultra  2556.430106   \n",
       "6019       645    Олеся   36  Краснодар             ultra  2559.843612   \n",
       "6018       645    Олеся   36  Краснодар             ultra   955.930910   \n",
       "6024       645    Олеся   36  Краснодар             ultra  2807.733574   \n",
       "18067     1534  Альберт   25  Краснодар              free  2371.711192   \n",
       "\n",
       "        duration       date  month  minute_price  start_ride_price  \\\n",
       "0      25.599769 2021-01-01      1             6                 0   \n",
       "12036  15.547382 2021-11-09     11             8                50   \n",
       "12037  15.615504 2021-11-14     11             8                50   \n",
       "12038  12.061496 2021-01-09      1             8                50   \n",
       "12039  19.120140 2021-02-24      2             8                50   \n",
       "...          ...        ...    ...           ...               ...   \n",
       "6020   25.338581 2021-05-06      5             6                 0   \n",
       "6019   10.143625 2021-01-25      1             6                 0   \n",
       "6018    7.294234 2021-01-18      1             6                 0   \n",
       "6024   18.657455 2021-07-19      7             6                 0   \n",
       "18067  15.893917 2021-12-29     12             8                50   \n",
       "\n",
       "       subscription_fee _merge  \n",
       "0                   199   both  \n",
       "12036                 0   both  \n",
       "12037                 0   both  \n",
       "12038                 0   both  \n",
       "12039                 0   both  \n",
       "...                 ...    ...  \n",
       "6020                199   both  \n",
       "6019                199   both  \n",
       "6018                199   both  \n",
       "6024                199   both  \n",
       "18067                 0   both  \n",
       "\n",
       "[18068 rows x 13 columns]"
      ]
     },
     "execution_count": 23,
     "metadata": {},
     "output_type": "execute_result"
    }
   ],
   "source": [
    "#  объединим данные о пользователях, поездках и подписках в один датафрейм\n",
    "data_total = data_users.merge(data_rides, on='user_id', how='left')\n",
    "data_total = data_total.merge(data_sscr, on='subscription_type', how='left', indicator=True)\n",
    "\n",
    "# проверим, все ли строки попали в финальную таблицу\n",
    "display(len(data_total))\n",
    "display(len(data_rides))\n",
    "\n",
    "data_total.sort_values(by='_merge')"
   ]
  },
  {
   "cell_type": "code",
   "execution_count": 24,
   "id": "1b7457a3",
   "metadata": {},
   "outputs": [
    {
     "data": {
      "text/html": [
       "<div>\n",
       "<style scoped>\n",
       "    .dataframe tbody tr th:only-of-type {\n",
       "        vertical-align: middle;\n",
       "    }\n",
       "\n",
       "    .dataframe tbody tr th {\n",
       "        vertical-align: top;\n",
       "    }\n",
       "\n",
       "    .dataframe thead th {\n",
       "        text-align: right;\n",
       "    }\n",
       "</style>\n",
       "<table border=\"1\" class=\"dataframe\">\n",
       "  <thead>\n",
       "    <tr style=\"text-align: right;\">\n",
       "      <th></th>\n",
       "      <th>user_id</th>\n",
       "      <th>name</th>\n",
       "      <th>age</th>\n",
       "      <th>city</th>\n",
       "      <th>subscription_type</th>\n",
       "      <th>distance</th>\n",
       "      <th>duration</th>\n",
       "      <th>date</th>\n",
       "      <th>month</th>\n",
       "      <th>minute_price</th>\n",
       "      <th>start_ride_price</th>\n",
       "      <th>subscription_fee</th>\n",
       "      <th>_merge</th>\n",
       "    </tr>\n",
       "  </thead>\n",
       "  <tbody>\n",
       "    <tr>\n",
       "      <th>0</th>\n",
       "      <td>1</td>\n",
       "      <td>Кира</td>\n",
       "      <td>22</td>\n",
       "      <td>Тюмень</td>\n",
       "      <td>ultra</td>\n",
       "      <td>4409.919140</td>\n",
       "      <td>25.599769</td>\n",
       "      <td>2021-01-01</td>\n",
       "      <td>1</td>\n",
       "      <td>6</td>\n",
       "      <td>0</td>\n",
       "      <td>199</td>\n",
       "      <td>both</td>\n",
       "    </tr>\n",
       "    <tr>\n",
       "      <th>1</th>\n",
       "      <td>1</td>\n",
       "      <td>Кира</td>\n",
       "      <td>22</td>\n",
       "      <td>Тюмень</td>\n",
       "      <td>ultra</td>\n",
       "      <td>2617.592153</td>\n",
       "      <td>15.816871</td>\n",
       "      <td>2021-01-18</td>\n",
       "      <td>1</td>\n",
       "      <td>6</td>\n",
       "      <td>0</td>\n",
       "      <td>199</td>\n",
       "      <td>both</td>\n",
       "    </tr>\n",
       "    <tr>\n",
       "      <th>2</th>\n",
       "      <td>1</td>\n",
       "      <td>Кира</td>\n",
       "      <td>22</td>\n",
       "      <td>Тюмень</td>\n",
       "      <td>ultra</td>\n",
       "      <td>754.159807</td>\n",
       "      <td>6.232113</td>\n",
       "      <td>2021-04-20</td>\n",
       "      <td>4</td>\n",
       "      <td>6</td>\n",
       "      <td>0</td>\n",
       "      <td>199</td>\n",
       "      <td>both</td>\n",
       "    </tr>\n",
       "    <tr>\n",
       "      <th>3</th>\n",
       "      <td>1</td>\n",
       "      <td>Кира</td>\n",
       "      <td>22</td>\n",
       "      <td>Тюмень</td>\n",
       "      <td>ultra</td>\n",
       "      <td>2694.783254</td>\n",
       "      <td>18.511000</td>\n",
       "      <td>2021-08-11</td>\n",
       "      <td>8</td>\n",
       "      <td>6</td>\n",
       "      <td>0</td>\n",
       "      <td>199</td>\n",
       "      <td>both</td>\n",
       "    </tr>\n",
       "    <tr>\n",
       "      <th>4</th>\n",
       "      <td>1</td>\n",
       "      <td>Кира</td>\n",
       "      <td>22</td>\n",
       "      <td>Тюмень</td>\n",
       "      <td>ultra</td>\n",
       "      <td>4028.687306</td>\n",
       "      <td>26.265803</td>\n",
       "      <td>2021-08-28</td>\n",
       "      <td>8</td>\n",
       "      <td>6</td>\n",
       "      <td>0</td>\n",
       "      <td>199</td>\n",
       "      <td>both</td>\n",
       "    </tr>\n",
       "  </tbody>\n",
       "</table>\n",
       "</div>"
      ],
      "text/plain": [
       "   user_id  name  age    city subscription_type     distance   duration  \\\n",
       "0        1  Кира   22  Тюмень             ultra  4409.919140  25.599769   \n",
       "1        1  Кира   22  Тюмень             ultra  2617.592153  15.816871   \n",
       "2        1  Кира   22  Тюмень             ultra   754.159807   6.232113   \n",
       "3        1  Кира   22  Тюмень             ultra  2694.783254  18.511000   \n",
       "4        1  Кира   22  Тюмень             ultra  4028.687306  26.265803   \n",
       "\n",
       "        date  month  minute_price  start_ride_price  subscription_fee _merge  \n",
       "0 2021-01-01      1             6                 0               199   both  \n",
       "1 2021-01-18      1             6                 0               199   both  \n",
       "2 2021-04-20      4             6                 0               199   both  \n",
       "3 2021-08-11      8             6                 0               199   both  \n",
       "4 2021-08-28      8             6                 0               199   both  "
      ]
     },
     "metadata": {},
     "output_type": "display_data"
    },
    {
     "data": {
      "text/html": [
       "<div>\n",
       "<style scoped>\n",
       "    .dataframe tbody tr th:only-of-type {\n",
       "        vertical-align: middle;\n",
       "    }\n",
       "\n",
       "    .dataframe tbody tr th {\n",
       "        vertical-align: top;\n",
       "    }\n",
       "\n",
       "    .dataframe thead th {\n",
       "        text-align: right;\n",
       "    }\n",
       "</style>\n",
       "<table border=\"1\" class=\"dataframe\">\n",
       "  <thead>\n",
       "    <tr style=\"text-align: right;\">\n",
       "      <th></th>\n",
       "      <th>user_id</th>\n",
       "      <th>name</th>\n",
       "      <th>age</th>\n",
       "      <th>city</th>\n",
       "      <th>subscription_type</th>\n",
       "      <th>distance</th>\n",
       "      <th>duration</th>\n",
       "      <th>date</th>\n",
       "      <th>month</th>\n",
       "      <th>minute_price</th>\n",
       "      <th>start_ride_price</th>\n",
       "      <th>subscription_fee</th>\n",
       "      <th>_merge</th>\n",
       "    </tr>\n",
       "  </thead>\n",
       "  <tbody>\n",
       "    <tr>\n",
       "      <th>6500</th>\n",
       "      <td>700</td>\n",
       "      <td>Айдар</td>\n",
       "      <td>22</td>\n",
       "      <td>Омск</td>\n",
       "      <td>free</td>\n",
       "      <td>2515.690719</td>\n",
       "      <td>14.944286</td>\n",
       "      <td>2021-01-02</td>\n",
       "      <td>1</td>\n",
       "      <td>8</td>\n",
       "      <td>50</td>\n",
       "      <td>0</td>\n",
       "      <td>both</td>\n",
       "    </tr>\n",
       "    <tr>\n",
       "      <th>6501</th>\n",
       "      <td>700</td>\n",
       "      <td>Айдар</td>\n",
       "      <td>22</td>\n",
       "      <td>Омск</td>\n",
       "      <td>free</td>\n",
       "      <td>846.932642</td>\n",
       "      <td>16.234663</td>\n",
       "      <td>2021-02-01</td>\n",
       "      <td>2</td>\n",
       "      <td>8</td>\n",
       "      <td>50</td>\n",
       "      <td>0</td>\n",
       "      <td>both</td>\n",
       "    </tr>\n",
       "    <tr>\n",
       "      <th>6502</th>\n",
       "      <td>700</td>\n",
       "      <td>Айдар</td>\n",
       "      <td>22</td>\n",
       "      <td>Омск</td>\n",
       "      <td>free</td>\n",
       "      <td>4004.434142</td>\n",
       "      <td>20.016628</td>\n",
       "      <td>2021-02-04</td>\n",
       "      <td>2</td>\n",
       "      <td>8</td>\n",
       "      <td>50</td>\n",
       "      <td>0</td>\n",
       "      <td>both</td>\n",
       "    </tr>\n",
       "    <tr>\n",
       "      <th>6503</th>\n",
       "      <td>700</td>\n",
       "      <td>Айдар</td>\n",
       "      <td>22</td>\n",
       "      <td>Омск</td>\n",
       "      <td>free</td>\n",
       "      <td>1205.911290</td>\n",
       "      <td>9.782872</td>\n",
       "      <td>2021-02-10</td>\n",
       "      <td>2</td>\n",
       "      <td>8</td>\n",
       "      <td>50</td>\n",
       "      <td>0</td>\n",
       "      <td>both</td>\n",
       "    </tr>\n",
       "    <tr>\n",
       "      <th>6504</th>\n",
       "      <td>700</td>\n",
       "      <td>Айдар</td>\n",
       "      <td>22</td>\n",
       "      <td>Омск</td>\n",
       "      <td>free</td>\n",
       "      <td>3047.379435</td>\n",
       "      <td>17.427673</td>\n",
       "      <td>2021-02-14</td>\n",
       "      <td>2</td>\n",
       "      <td>8</td>\n",
       "      <td>50</td>\n",
       "      <td>0</td>\n",
       "      <td>both</td>\n",
       "    </tr>\n",
       "  </tbody>\n",
       "</table>\n",
       "</div>"
      ],
      "text/plain": [
       "      user_id   name  age  city subscription_type     distance   duration  \\\n",
       "6500      700  Айдар   22  Омск              free  2515.690719  14.944286   \n",
       "6501      700  Айдар   22  Омск              free   846.932642  16.234663   \n",
       "6502      700  Айдар   22  Омск              free  4004.434142  20.016628   \n",
       "6503      700  Айдар   22  Омск              free  1205.911290   9.782872   \n",
       "6504      700  Айдар   22  Омск              free  3047.379435  17.427673   \n",
       "\n",
       "           date  month  minute_price  start_ride_price  subscription_fee  \\\n",
       "6500 2021-01-02      1             8                50                 0   \n",
       "6501 2021-02-01      2             8                50                 0   \n",
       "6502 2021-02-04      2             8                50                 0   \n",
       "6503 2021-02-10      2             8                50                 0   \n",
       "6504 2021-02-14      2             8                50                 0   \n",
       "\n",
       "     _merge  \n",
       "6500   both  \n",
       "6501   both  \n",
       "6502   both  \n",
       "6503   both  \n",
       "6504   both  "
      ]
     },
     "metadata": {},
     "output_type": "display_data"
    }
   ],
   "source": [
    "# датафрейм c данными о пользователях без подписки\n",
    "data_sscr_on = data_total.loc[data_total['subscription_type'] == 'ultra']\n",
    "display(data_sscr_on.head())\n",
    "# датафрейм с данными о пользователях с подпиской\n",
    "data_sscr_off = data_total.loc[data_total['subscription_type'] == 'free']\n",
    "display(data_sscr_off.head())"
   ]
  },
  {
   "cell_type": "code",
   "execution_count": 25,
   "id": "5d2af8cc",
   "metadata": {},
   "outputs": [
    {
     "data": {
      "image/png": "[encoded data removed]",
      "text/plain": [
       "<Figure size 1000x500 with 1 Axes>"
      ]
     },
     "metadata": {},
     "output_type": "display_data"
    },
    {
     "data": {
      "image/png": "[encoded data removed]",
      "text/plain": [
       "<Figure size 1000x500 with 1 Axes>"
      ]
     },
     "metadata": {},
     "output_type": "display_data"
    },
    {
     "data": {
      "image/png": "[encoded data removed]",
      "text/plain": [
       "<Figure size 1000x500 with 1 Axes>"
      ]
     },
     "metadata": {},
     "output_type": "display_data"
    },
    {
     "data": {
      "image/png": "[encoded data removed]",
      "text/plain": [
       "<Figure size 1000x500 with 1 Axes>"
      ]
     },
     "metadata": {},
     "output_type": "display_data"
    }
   ],
   "source": [
    "# визуализируем информацию о расстоянии и времени поездок для пользователей с разным типом подписки\n",
    "data_sscr_on['distance'].hist(bins=100, figsize = (10,5))\n",
    "plt.title('Расстояние поездок по пользователям с платной подпиской,м');\n",
    "plt.xlabel(\"Расстояние в метрах\");\n",
    "plt.ylabel(\"Количество поездок\");\n",
    "plt.show()\n",
    "data_sscr_on['duration'].hist(bins=40, figsize = (10,5))\n",
    "plt.title('Продолжительность поездок по пользователям с платной подпиской, минуты');\n",
    "plt.xlabel(\"Продолжительность в минутах\");\n",
    "plt.ylabel(\"Количество поездок\");\n",
    "plt.show()\n",
    " \n",
    "data_sscr_off['distance'].hist(bins=100, figsize = (10,5))\n",
    "plt.title('Расстояние поездок по пользователям без платной подписки, м');\n",
    "plt.xlabel(\"Расстояние в метрах\");\n",
    "plt.ylabel(\"Количество поездок\");\n",
    "plt.show()\n",
    "data_sscr_off['duration'].hist(bins=35, figsize = (10,5))\n",
    "plt.title('Продолжительность поездок по пользователям без платной подписки, минуты');\n",
    "plt.xlabel(\"Продолжительность в минутах\");\n",
    "plt.ylabel(\"Количество поездок\");\n",
    "plt.show()"
   ]
  },
  {
   "cell_type": "markdown",
   "id": "da09c18d",
   "metadata": {},
   "source": [
    "Графики расстояния и времени поездки с разделением по типу подписки в целом повторяют общую картину. Большинство поездок совершается в интервале 2,5-3,5 км за 15-20 минут.\n",
    "\n",
    "Но есть и различия:\n",
    "\n",
    "Пользователи с подпиской ездят по привычным маршрутам. Для кого-то они составялют 1 км, но в среднем это 3 км за 18 минут.\n",
    "\n",
    "Пользователи без подписки много экспериментируют. Почти сотня поездок длилась минуту, за которую проезжали не больше пары сотен метров. И большинство поездок дальше 5 км также принадлежит эскпериментаторам из free-подписки.\n"
   ]
  },
  {
   "cell_type": "markdown",
   "id": "35996aa8",
   "metadata": {},
   "source": [
    "**Выводы по разделу 4**\n",
    "\n",
    "1. Объединили данные о пользователях, поездках и подписках в один датафрейм data_total.\n",
    "2. Создали ещё два датафрейма из ДФ data_total:\n",
    "- c данными о пользователях без подписки data_sscr_off;\n",
    "- с данными о пользователях с подпиской data_sscr_on.\n",
    "3. Визуализировали информацию о расстоянии и времени поездок для пользователей обеих категорий:\n",
    "- Пользователи с платной подпиской пользуются самокатами в качестве транспорта, чтобы добраться по привычныму маршруту, который в среднем составляет 3 км, но также есть пики в районе 1 км и 4км.\n",
    "- Пользватели без платной подписки в среднем тоже используют самокаты на поездки такой длины и продолжительности, хоть и с большим разбросом, но также совершают пробные поездки на малые (менее 1 км) и дальние (больше 5,5 км) расстояния. Логичный вывод - люди сначала тестируют сервис, прежде чем оформить платную подписку.\n"
   ]
  },
  {
   "cell_type": "markdown",
   "id": "402d620f",
   "metadata": {},
   "source": [
    "#### Шаг 5. Подсчёт выручки"
   ]
  },
  {
   "cell_type": "code",
   "execution_count": 26,
   "id": "53049e0a",
   "metadata": {},
   "outputs": [
    {
     "data": {
      "text/html": [
       "<div>\n",
       "<style scoped>\n",
       "    .dataframe tbody tr th:only-of-type {\n",
       "        vertical-align: middle;\n",
       "    }\n",
       "\n",
       "    .dataframe tbody tr th {\n",
       "        vertical-align: top;\n",
       "    }\n",
       "\n",
       "    .dataframe thead th {\n",
       "        text-align: right;\n",
       "    }\n",
       "</style>\n",
       "<table border=\"1\" class=\"dataframe\">\n",
       "  <thead>\n",
       "    <tr style=\"text-align: right;\">\n",
       "      <th></th>\n",
       "      <th>user_id</th>\n",
       "      <th>month</th>\n",
       "      <th>trips</th>\n",
       "      <th>distance_sum</th>\n",
       "      <th>duration_sum</th>\n",
       "      <th>subscription_type</th>\n",
       "    </tr>\n",
       "  </thead>\n",
       "  <tbody>\n",
       "    <tr>\n",
       "      <th>0</th>\n",
       "      <td>1</td>\n",
       "      <td>1</td>\n",
       "      <td>2</td>\n",
       "      <td>7027.511294</td>\n",
       "      <td>41.416640</td>\n",
       "      <td>ultra</td>\n",
       "    </tr>\n",
       "    <tr>\n",
       "      <th>1</th>\n",
       "      <td>1</td>\n",
       "      <td>4</td>\n",
       "      <td>1</td>\n",
       "      <td>754.159807</td>\n",
       "      <td>6.232113</td>\n",
       "      <td>ultra</td>\n",
       "    </tr>\n",
       "    <tr>\n",
       "      <th>2</th>\n",
       "      <td>1</td>\n",
       "      <td>8</td>\n",
       "      <td>2</td>\n",
       "      <td>6723.470560</td>\n",
       "      <td>44.776802</td>\n",
       "      <td>ultra</td>\n",
       "    </tr>\n",
       "    <tr>\n",
       "      <th>3</th>\n",
       "      <td>1</td>\n",
       "      <td>10</td>\n",
       "      <td>2</td>\n",
       "      <td>5809.911100</td>\n",
       "      <td>31.578017</td>\n",
       "      <td>ultra</td>\n",
       "    </tr>\n",
       "    <tr>\n",
       "      <th>4</th>\n",
       "      <td>1</td>\n",
       "      <td>11</td>\n",
       "      <td>3</td>\n",
       "      <td>7003.499363</td>\n",
       "      <td>53.397424</td>\n",
       "      <td>ultra</td>\n",
       "    </tr>\n",
       "    <tr>\n",
       "      <th>...</th>\n",
       "      <td>...</td>\n",
       "      <td>...</td>\n",
       "      <td>...</td>\n",
       "      <td>...</td>\n",
       "      <td>...</td>\n",
       "      <td>...</td>\n",
       "    </tr>\n",
       "    <tr>\n",
       "      <th>11326</th>\n",
       "      <td>1534</td>\n",
       "      <td>6</td>\n",
       "      <td>2</td>\n",
       "      <td>3409.468534</td>\n",
       "      <td>24.812678</td>\n",
       "      <td>free</td>\n",
       "    </tr>\n",
       "    <tr>\n",
       "      <th>11327</th>\n",
       "      <td>1534</td>\n",
       "      <td>8</td>\n",
       "      <td>2</td>\n",
       "      <td>7622.453034</td>\n",
       "      <td>47.205960</td>\n",
       "      <td>free</td>\n",
       "    </tr>\n",
       "    <tr>\n",
       "      <th>11328</th>\n",
       "      <td>1534</td>\n",
       "      <td>9</td>\n",
       "      <td>1</td>\n",
       "      <td>4928.173852</td>\n",
       "      <td>22.560373</td>\n",
       "      <td>free</td>\n",
       "    </tr>\n",
       "    <tr>\n",
       "      <th>11329</th>\n",
       "      <td>1534</td>\n",
       "      <td>11</td>\n",
       "      <td>4</td>\n",
       "      <td>13350.015305</td>\n",
       "      <td>76.342174</td>\n",
       "      <td>free</td>\n",
       "    </tr>\n",
       "    <tr>\n",
       "      <th>11330</th>\n",
       "      <td>1534</td>\n",
       "      <td>12</td>\n",
       "      <td>1</td>\n",
       "      <td>2371.711192</td>\n",
       "      <td>15.893917</td>\n",
       "      <td>free</td>\n",
       "    </tr>\n",
       "  </tbody>\n",
       "</table>\n",
       "<p>11331 rows × 6 columns</p>\n",
       "</div>"
      ],
      "text/plain": [
       "       user_id  month  trips  distance_sum  duration_sum subscription_type\n",
       "0            1      1      2   7027.511294     41.416640             ultra\n",
       "1            1      4      1    754.159807      6.232113             ultra\n",
       "2            1      8      2   6723.470560     44.776802             ultra\n",
       "3            1     10      2   5809.911100     31.578017             ultra\n",
       "4            1     11      3   7003.499363     53.397424             ultra\n",
       "...        ...    ...    ...           ...           ...               ...\n",
       "11326     1534      6      2   3409.468534     24.812678              free\n",
       "11327     1534      8      2   7622.453034     47.205960              free\n",
       "11328     1534      9      1   4928.173852     22.560373              free\n",
       "11329     1534     11      4  13350.015305     76.342174              free\n",
       "11330     1534     12      1   2371.711192     15.893917              free\n",
       "\n",
       "[11331 rows x 6 columns]"
      ]
     },
     "execution_count": 26,
     "metadata": {},
     "output_type": "execute_result"
    }
   ],
   "source": [
    "# создадим ДФ, в который добавим суммарное расстояние, количество поездок и суммарное время для каждого пользователя за каждый месяц\n",
    "data_revenue = (data_total.groupby(['user_id', 'month'])\n",
    "                .agg({'distance':['count','sum'], 'duration':['sum']})\n",
    "                .reset_index()\n",
    "               )\n",
    "data_revenue.columns = ['user_id', 'month', 'trips', 'distance_sum', 'duration_sum']\n",
    "\n",
    "data_revenue['subscription_type'] = data_total['subscription_type']\n",
    "\n",
    "data_revenue"
   ]
  },
  {
   "cell_type": "code",
   "execution_count": 27,
   "id": "baade861",
   "metadata": {},
   "outputs": [
    {
     "data": {
      "text/html": [
       "<div>\n",
       "<style scoped>\n",
       "    .dataframe tbody tr th:only-of-type {\n",
       "        vertical-align: middle;\n",
       "    }\n",
       "\n",
       "    .dataframe tbody tr th {\n",
       "        vertical-align: top;\n",
       "    }\n",
       "\n",
       "    .dataframe thead th {\n",
       "        text-align: right;\n",
       "    }\n",
       "</style>\n",
       "<table border=\"1\" class=\"dataframe\">\n",
       "  <thead>\n",
       "    <tr style=\"text-align: right;\">\n",
       "      <th></th>\n",
       "      <th>subscription_type</th>\n",
       "      <th>minute_price</th>\n",
       "      <th>start_ride_price</th>\n",
       "      <th>subscription_fee</th>\n",
       "    </tr>\n",
       "  </thead>\n",
       "  <tbody>\n",
       "    <tr>\n",
       "      <th>0</th>\n",
       "      <td>free</td>\n",
       "      <td>8</td>\n",
       "      <td>50</td>\n",
       "      <td>0</td>\n",
       "    </tr>\n",
       "    <tr>\n",
       "      <th>1</th>\n",
       "      <td>ultra</td>\n",
       "      <td>6</td>\n",
       "      <td>0</td>\n",
       "      <td>199</td>\n",
       "    </tr>\n",
       "  </tbody>\n",
       "</table>\n",
       "</div>"
      ],
      "text/plain": [
       "  subscription_type  minute_price  start_ride_price  subscription_fee\n",
       "0              free             8                50                 0\n",
       "1             ultra             6                 0               199"
      ]
     },
     "execution_count": 27,
     "metadata": {},
     "output_type": "execute_result"
    }
   ],
   "source": [
    "data_sscr"
   ]
  },
  {
   "cell_type": "code",
   "execution_count": 28,
   "id": "56e11220",
   "metadata": {},
   "outputs": [
    {
     "data": {
      "text/html": [
       "<div>\n",
       "<style scoped>\n",
       "    .dataframe tbody tr th:only-of-type {\n",
       "        vertical-align: middle;\n",
       "    }\n",
       "\n",
       "    .dataframe tbody tr th {\n",
       "        vertical-align: top;\n",
       "    }\n",
       "\n",
       "    .dataframe thead th {\n",
       "        text-align: right;\n",
       "    }\n",
       "</style>\n",
       "<table border=\"1\" class=\"dataframe\">\n",
       "  <thead>\n",
       "    <tr style=\"text-align: right;\">\n",
       "      <th></th>\n",
       "      <th>user_id</th>\n",
       "      <th>month</th>\n",
       "      <th>trips</th>\n",
       "      <th>distance_sum</th>\n",
       "      <th>duration_sum</th>\n",
       "      <th>subscription_type</th>\n",
       "      <th>revenue</th>\n",
       "    </tr>\n",
       "  </thead>\n",
       "  <tbody>\n",
       "    <tr>\n",
       "      <th>0</th>\n",
       "      <td>1</td>\n",
       "      <td>1</td>\n",
       "      <td>2</td>\n",
       "      <td>7027.511294</td>\n",
       "      <td>41.416640</td>\n",
       "      <td>ultra</td>\n",
       "      <td>451.0</td>\n",
       "    </tr>\n",
       "    <tr>\n",
       "      <th>1</th>\n",
       "      <td>1</td>\n",
       "      <td>4</td>\n",
       "      <td>1</td>\n",
       "      <td>754.159807</td>\n",
       "      <td>6.232113</td>\n",
       "      <td>ultra</td>\n",
       "      <td>241.0</td>\n",
       "    </tr>\n",
       "    <tr>\n",
       "      <th>2</th>\n",
       "      <td>1</td>\n",
       "      <td>8</td>\n",
       "      <td>2</td>\n",
       "      <td>6723.470560</td>\n",
       "      <td>44.776802</td>\n",
       "      <td>ultra</td>\n",
       "      <td>469.0</td>\n",
       "    </tr>\n",
       "    <tr>\n",
       "      <th>3</th>\n",
       "      <td>1</td>\n",
       "      <td>10</td>\n",
       "      <td>2</td>\n",
       "      <td>5809.911100</td>\n",
       "      <td>31.578017</td>\n",
       "      <td>ultra</td>\n",
       "      <td>391.0</td>\n",
       "    </tr>\n",
       "    <tr>\n",
       "      <th>4</th>\n",
       "      <td>1</td>\n",
       "      <td>11</td>\n",
       "      <td>3</td>\n",
       "      <td>7003.499363</td>\n",
       "      <td>53.397424</td>\n",
       "      <td>ultra</td>\n",
       "      <td>523.0</td>\n",
       "    </tr>\n",
       "    <tr>\n",
       "      <th>...</th>\n",
       "      <td>...</td>\n",
       "      <td>...</td>\n",
       "      <td>...</td>\n",
       "      <td>...</td>\n",
       "      <td>...</td>\n",
       "      <td>...</td>\n",
       "      <td>...</td>\n",
       "    </tr>\n",
       "    <tr>\n",
       "      <th>11326</th>\n",
       "      <td>1534</td>\n",
       "      <td>6</td>\n",
       "      <td>2</td>\n",
       "      <td>3409.468534</td>\n",
       "      <td>24.812678</td>\n",
       "      <td>free</td>\n",
       "      <td>300.0</td>\n",
       "    </tr>\n",
       "    <tr>\n",
       "      <th>11327</th>\n",
       "      <td>1534</td>\n",
       "      <td>8</td>\n",
       "      <td>2</td>\n",
       "      <td>7622.453034</td>\n",
       "      <td>47.205960</td>\n",
       "      <td>free</td>\n",
       "      <td>484.0</td>\n",
       "    </tr>\n",
       "    <tr>\n",
       "      <th>11328</th>\n",
       "      <td>1534</td>\n",
       "      <td>9</td>\n",
       "      <td>1</td>\n",
       "      <td>4928.173852</td>\n",
       "      <td>22.560373</td>\n",
       "      <td>free</td>\n",
       "      <td>234.0</td>\n",
       "    </tr>\n",
       "    <tr>\n",
       "      <th>11329</th>\n",
       "      <td>1534</td>\n",
       "      <td>11</td>\n",
       "      <td>4</td>\n",
       "      <td>13350.015305</td>\n",
       "      <td>76.342174</td>\n",
       "      <td>free</td>\n",
       "      <td>816.0</td>\n",
       "    </tr>\n",
       "    <tr>\n",
       "      <th>11330</th>\n",
       "      <td>1534</td>\n",
       "      <td>12</td>\n",
       "      <td>1</td>\n",
       "      <td>2371.711192</td>\n",
       "      <td>15.893917</td>\n",
       "      <td>free</td>\n",
       "      <td>178.0</td>\n",
       "    </tr>\n",
       "  </tbody>\n",
       "</table>\n",
       "<p>11331 rows × 7 columns</p>\n",
       "</div>"
      ],
      "text/plain": [
       "       user_id  month  trips  distance_sum  duration_sum subscription_type  \\\n",
       "0            1      1      2   7027.511294     41.416640             ultra   \n",
       "1            1      4      1    754.159807      6.232113             ultra   \n",
       "2            1      8      2   6723.470560     44.776802             ultra   \n",
       "3            1     10      2   5809.911100     31.578017             ultra   \n",
       "4            1     11      3   7003.499363     53.397424             ultra   \n",
       "...        ...    ...    ...           ...           ...               ...   \n",
       "11326     1534      6      2   3409.468534     24.812678              free   \n",
       "11327     1534      8      2   7622.453034     47.205960              free   \n",
       "11328     1534      9      1   4928.173852     22.560373              free   \n",
       "11329     1534     11      4  13350.015305     76.342174              free   \n",
       "11330     1534     12      1   2371.711192     15.893917              free   \n",
       "\n",
       "       revenue  \n",
       "0        451.0  \n",
       "1        241.0  \n",
       "2        469.0  \n",
       "3        391.0  \n",
       "4        523.0  \n",
       "...        ...  \n",
       "11326    300.0  \n",
       "11327    484.0  \n",
       "11328    234.0  \n",
       "11329    816.0  \n",
       "11330    178.0  \n",
       "\n",
       "[11331 rows x 7 columns]"
      ]
     },
     "execution_count": 28,
     "metadata": {},
     "output_type": "execute_result"
    }
   ],
   "source": [
    "# добавим столбец с помесячной выручкой, которую принёс каждый пользователь\n",
    "\n",
    "def revenue_monthly(data_revenue):\n",
    "    if data_revenue['subscription_type'] == 'free':\n",
    "        rev  = (np.ceil(data_revenue['duration_sum']) * data_sscr.loc[0, 'minute_price']\n",
    "         + data_sscr.loc[0, 'start_ride_price'] * data_revenue['trips']\n",
    "         + data_sscr.loc[0, 'subscription_fee'])\n",
    "    elif data_revenue['subscription_type'] == 'ultra':\n",
    "        rev  = (np.ceil(data_revenue['duration_sum']) * data_sscr.loc[1, 'minute_price'] \n",
    "         + data_sscr.loc[1, 'start_ride_price']  * data_revenue['trips']\n",
    "         + data_sscr.loc[1, 'subscription_fee'])\n",
    "    return rev\n",
    "        \n",
    "\n",
    "data_revenue['revenue'] = data_revenue.apply(revenue_monthly, axis=1)\n",
    "data_revenue"
   ]
  },
  {
   "cell_type": "markdown",
   "id": "0b6f58bc",
   "metadata": {},
   "source": [
    "**Выводы по разделу 5:**\n",
    "\n",
    "Создали датафрейм data_revenue со столбцами:\n",
    "- ид пользователя user_id \n",
    "- разбивка по месяцам month\n",
    "- количество поездок trips\n",
    "- расстояние в разрезе пользователей по месяцам distance_sum\n",
    "- продолжительность поездок в разрезе пользователей по месяцам duration_sum\n",
    "- тип подписки subscription_type\n",
    "- помесячная выручка в разрезе пользователей revenue"
   ]
  },
  {
   "cell_type": "markdown",
   "id": "41545ac0",
   "metadata": {},
   "source": [
    "#### Шаг 6. Проверка гипотез\n",
    "\n",
    "Продакт-менеджеры сервиса хотят увеличить количество пользователей с подпиской. Для этого они будут проводить различные акции, но сначала нужно выяснить несколько важных моментов.\n"
   ]
  },
  {
   "cell_type": "markdown",
   "id": "ad9bb443",
   "metadata": {},
   "source": [
    "##### \n",
    "Важно понять, тратят ли пользователи с подпиской больше времени на поездки? Если да, то пользователи с подпиской могут быть «выгоднее» для компании. Проверим гипотезу. "
   ]
  },
  {
   "cell_type": "code",
   "execution_count": 29,
   "id": "23ea867b",
   "metadata": {},
   "outputs": [
    {
     "name": "stdout",
     "output_type": "stream",
     "text": [
      "p-значение: 1.2804098316645618e-34\n",
      "Отвергаем нулевую гипотезу.\n"
     ]
    }
   ],
   "source": [
    "# нулевая гипотеза: пользователи с подпиской тратят столько же времени на поездки, как и люди без подписки\n",
    "# альтернативная гипотеза: пользователи с подпиской тратят больше времени на поездки, чем люди без подписки\n",
    "\n",
    "alpha = 0.05\n",
    " \n",
    "results = st.ttest_ind(data_sscr_on['duration'], data_sscr_off['duration'], alternative = 'greater')\n",
    "print('p-значение:', results.pvalue)\n",
    "if results.pvalue < alpha:\n",
    "    print('Отвергаем нулевую гипотезу.')\n",
    "else:\n",
    "    print('Не получилось отвергнуть нулевую гипотезу.')"
   ]
  },
  {
   "cell_type": "markdown",
   "id": "502ad8e9",
   "metadata": {},
   "source": [
    "Вывод: гипотетически, пользователи с подпиской потратят больше времени на поездки, чем люди без подписки."
   ]
  },
  {
   "cell_type": "markdown",
   "id": "8fbdf059",
   "metadata": {},
   "source": [
    "##### \n",
    "\n",
    "Расстояние одной поездки в 3130 метров — оптимальное с точки зрения износа самоката. Можно ли сказать, что расстояние, которое проезжают пользователи с подпиской за одну поездку, не превышает 3130 метров? Проверим гипотезу."
   ]
  },
  {
   "cell_type": "code",
   "execution_count": 30,
   "id": "e7d90a5e",
   "metadata": {},
   "outputs": [
    {
     "name": "stdout",
     "output_type": "stream",
     "text": [
      "p-значение: 0.08046311521502146\n",
      "Не получилось отвергнуть нулевую гипотезу\n"
     ]
    }
   ],
   "source": [
    "# нулевая гипотеза: пользователи с подпиской за одну поездку проезжают расстояние, которое равно 3130 метрам\n",
    "# альтернативная гипотеза: пользователи с подпиской за одну поездку проезжают расстояние, которое не превышает 3130 метров\n",
    "optimal_distance = 3130\n",
    " \n",
    "alpha = 0.05\n",
    " \n",
    "results = st.ttest_1samp(\n",
    "    data_sscr_on['distance'],\n",
    "    optimal_distance,\n",
    "    alternative='less')\n",
    " \n",
    "print('p-значение:', results.pvalue)\n",
    " \n",
    "if (results.pvalue < alpha):\n",
    "    print('Отвергаем нулевую гипотезу')\n",
    "else:\n",
    "    print('Не получилось отвергнуть нулевую гипотезу')"
   ]
  },
  {
   "cell_type": "markdown",
   "id": "77ea4a51",
   "metadata": {},
   "source": [
    "Вывод: согласно гипотезе, пользователи с подпиской проедут за одну поездку проедут не менее 3130 метров. Однако р-значение лишь 8%, значит, гипотеза приближалась к альтернативной. "
   ]
  },
  {
   "cell_type": "markdown",
   "id": "5461da86",
   "metadata": {},
   "source": [
    "##### \n",
    "\n",
    "Проверим гипотезу о том, будет ли помесячная выручка от пользователей с подпиской по месяцам выше, чем выручка от пользователей без подписки."
   ]
  },
  {
   "cell_type": "code",
   "execution_count": 31,
   "id": "32c4e0bc",
   "metadata": {},
   "outputs": [
    {
     "name": "stdout",
     "output_type": "stream",
     "text": [
      "p-значение: 7.151717626168935e-48\n",
      "Отвергаем нулевую гипотезу\n"
     ]
    }
   ],
   "source": [
    "# нулевая гипотеза: помесячная выручка от пользователей с подпиской равна выручке от пользователей без подписки\n",
    "# альтернативная гипотеза: помесячная выручка от пользователей с подпиской больше, чем выручка от пользователей без подписки\n",
    "ultra = data_revenue.query('subscription_type == \"ultra\"')\n",
    "free = data_revenue.query('subscription_type == \"free\"')\n",
    "alpha = 0.05\n",
    "results = st.ttest_ind(ultra['revenue'],free['revenue'], equal_var=False, alternative = 'greater')\n",
    "print('p-значение:', results.pvalue)\n",
    " \n",
    "if results.pvalue < alpha:\n",
    "    print('Отвергаем нулевую гипотезу')\n",
    "else:\n",
    "    print('Не получилось отвергнуть нулевую гипотезу')\n"
   ]
  },
  {
   "cell_type": "markdown",
   "id": "d4f39a74",
   "metadata": {},
   "source": [
    "Вывод: гипотетически, пользователи с подпиской принесут больше выручки сервису, чем пользователи без подписки."
   ]
  },
  {
   "cell_type": "markdown",
   "id": "f8eafa82",
   "metadata": {},
   "source": [
    "##### \n",
    "\n",
    "ВОПРОС:\n",
    "Представьте такую ситуацию: техническая команда сервиса обновила сервера, с которыми взаимодействует мобильное приложение. Она надеется, что из-за этого количество обращений в техподдержку значимо снизилось. Некоторый файл содержит для каждого пользователя данные о количестве обращений до обновления и после него. Какой тест вам понадобился бы для проверки этой гипотезы?\n",
    "\n",
    "ОТВЕТ:\n",
    "В данном случае выборки будут парными, так как переменная \"количество обращений в техподдержку\" измеряется дважды для одних и тех же объектов до и после обновления сервера. Чтобы проверить гипотезу о равенстве среднего генеральной совокупности для зависимых (парных) выборок в Python, применяется метод scipy.stats.ttest_rel()."
   ]
  },
  {
   "cell_type": "markdown",
   "id": "776dc98a",
   "metadata": {},
   "source": [
    "**Выводы по разделу 6:**\n",
    "\n",
    "Согласно гипотезам, пользователи с платной подпиской тратят больше времени на поездки и приносят больше выручки в месяц, чем пользователи без подписки.\n",
    "\n",
    "А вот соблюсти износостойкость самокатов вряд ли получится за счет подписки - подписанты вероятно проедут не меньше 3130 метров.\n"
   ]
  },
  {
   "cell_type": "markdown",
   "id": "61213c5e",
   "metadata": {},
   "source": [
    "#### Шаг 7. Распределения"
   ]
  },
  {
   "cell_type": "markdown",
   "id": "672fb7f2",
   "metadata": {},
   "source": [
    "7.1 Отделу маркетинга GoFast поставили задачу: нужно провести акцию с раздачей промокодов на один бесплатный месяц подписки, в рамках которой как минимум 100 существующих клиентов должны продлить эту подписку. То есть по завершении периода действия подписки пользователь может либо отказаться от неё, либо продлить, совершив соотвествующий платёж. \n",
    "Эта акция уже проводилась ранее и по итогу выяснилось, что после бесплатного пробного периода подписку продлевают 10 % пользователей. Выясните, какое минимальное количество промокодов нужно разослать, чтобы вероятность не выполнить план была примерно 5 %. Подберите параметры распределения, описывающего эту ситуацию, постройте график распределения и сформулируйте ответ на вопрос о количестве промокодов."
   ]
  },
  {
   "cell_type": "code",
   "execution_count": 32,
   "id": "4ca0d139",
   "metadata": {},
   "outputs": [
    {
     "data": {
      "text/plain": [
       "1176"
      ]
     },
     "execution_count": 32,
     "metadata": {},
     "output_type": "execute_result"
    }
   ],
   "source": [
    "#from scipy.stats import poisson\n",
    "from scipy.stats import binom\n",
    "\n",
    "p = 0.1\n",
    "threshold = 100 \n",
    "n = 0\n",
    "#lmbd = p*n\n",
    "prob = 1 - st.binom.cdf(threshold, n, p)\n",
    "\n",
    "for c in range(0, 100000):\n",
    "    if prob < 0.95:\n",
    "        n += c\n",
    "        #lmbd = p*n\n",
    "        prob = 1 - st.binom.cdf(threshold, n, p)\n",
    "n\n"
   ]
  },
  {
   "cell_type": "code",
   "execution_count": 33,
   "id": "3b0b203e",
   "metadata": {},
   "outputs": [
    {
     "data": {
      "text/plain": [
       "0.9504520478979693"
      ]
     },
     "execution_count": 33,
     "metadata": {},
     "output_type": "execute_result"
    }
   ],
   "source": [
    "1 - st.binom.cdf(100, 1172, 0.1)"
   ]
  },
  {
   "cell_type": "code",
   "execution_count": 34,
   "id": "95cd1d51",
   "metadata": {},
   "outputs": [
    {
     "data": {
      "image/png": "[encoded data removed]",
      "text/plain": [
       "<Figure size 640x480 with 1 Axes>"
      ]
     },
     "metadata": {},
     "output_type": "display_data"
    }
   ],
   "source": [
    "#from math import factorial\n",
    "from scipy.stats import binom\n",
    "\n",
    "p = 0.1 # вероятность, что подписку продлят\n",
    "n = 1176 # сколько промокодов с бесплатной подпиской\n",
    "\n",
    "distr = [] \n",
    "\n",
    "for k in range(0, n + 1):\n",
    "    current_value = binom.pmf(k, n, p)\n",
    "    #choose = factorial(n) / (factorial(k) * factorial(n - k))\n",
    "    #prob = choose * p**k * (1 - p)**(n - k) \n",
    "    distr.append(current_value)\n",
    "     \n",
    "\n",
    "plt.bar(range(0, n + 1), distr);"
   ]
  },
  {
   "cell_type": "markdown",
   "id": "13015324",
   "metadata": {},
   "source": [
    "Чтобы с вероятностью 5% получить 100 продлений подписки, нужно раздать не менее 861 промокода."
   ]
  },
  {
   "cell_type": "markdown",
   "id": "3889e808",
   "metadata": {},
   "source": [
    "7.2 Отдел маркетинга рассылает клиентам push-уведомления в мобильном приложении. Клиенты могут открыть его или не открывать. Известно, что уведомления открывают около \n",
    "40 % получивших клиентов. Отдел планирует разослать 1 млн уведомлений. С помощью аппроксимации постройте примерный график распределения и оцените вероятность того, что уведомление откроют не более 399,5 тыс. пользователей."
   ]
  },
  {
   "cell_type": "code",
   "execution_count": 36,
   "id": "85eb735f",
   "metadata": {},
   "outputs": [
    {
     "data": {
      "image/png": "[encoded data removed]",
      "text/plain": [
       "<Figure size 640x480 with 1 Axes>"
      ]
     },
     "metadata": {},
     "output_type": "display_data"
    },
    {
     "name": "stdout",
     "output_type": "stream",
     "text": [
      "0.15371708296369768\n"
     ]
    }
   ],
   "source": [
    "from math import sqrt\n",
    "from scipy import stats as st\n",
    "import matplotlib.pyplot as plt\n",
    "from scipy.stats import binom, norm\n",
    "\n",
    "def linspace(start, stop, num):\n",
    "    step = (stop - start) / (num - 1)\n",
    "    result = []\n",
    "    for i in range(num):\n",
    "        result.append(start + step * i)\n",
    "    return result\n",
    "\n",
    "n = 1000000 \n",
    "p = 0.4\n",
    "\n",
    "left = int(n * p - 4 * sqrt(n * p * (1 - p)))\n",
    "right = int(n * p + 4 * sqrt(n * p * (1 - p)))\n",
    "\n",
    "x = list(range(max(0, left), right))\n",
    "ax = plt.subplot()\n",
    "\n",
    "mu = n * p  \n",
    "sigma = sqrt(n * p * (1 - p)) \n",
    "\n",
    "mu = n * p\n",
    "sigma = sqrt(n * p * (1 - p))\n",
    "x = linspace(left, right, 100)\n",
    "ax.plot(x, norm.pdf(x, mu, sigma), 'r-', lw=3, alpha=0.3, label='Плотность вероятности нормального распределения')\n",
    "x_ticks = list(range(int(mu - 3 * sigma), int(mu + 3 * sigma), 1))\n",
    "ax.set_xticks(x_ticks)\n",
    "ax.legend(loc='best')\n",
    "plt.show()\n",
    "        \n",
    "        \n",
    "        \n",
    "distr = st.norm(mu, sigma)\n",
    "\n",
    "result = distr.cdf(399500)\n",
    "print(result)\n"
   ]
  },
  {
   "cell_type": "markdown",
   "id": "6a51b5fe",
   "metadata": {},
   "source": [
    "Вероятность того, что уведомление откроют не более 399,5 тыс. пользователей, равна 15.4%"
   ]
  },
  {
   "cell_type": "markdown",
   "id": "00989f15",
   "metadata": {},
   "source": [
    "**Общий вывод:**\n",
    "\n",
    "1. Пропусков в данных не было.\n",
    "2. В предобработке данных заменили тип в столбце date на дату, добавили столбец с месяцем month, удалили дубликаты в таблице с пользователями.\n",
    "3. В исследовательском анализе данных выяснили, что:\n",
    "- Большинство пользователей самокатов находится в Пятигорске (219), меньше всего их в Москве (168). В среднем по городам 191 пользователь.\n",
    "\n",
    "- Пользователей без подписки - 54.4%, с подпиской - 45,6%.\n",
    "\n",
    "- Пользуется сервисом в основном молодежь от 18 до 33 лет, пик приходится на 25 лет.\n",
    "\n",
    "- В среднем самокат арендуют на 17-18 минут, чтобы проехать около 3 км.\n",
    "\n",
    "4. Проверили гипотезы, не отвергнуты:\n",
    "- Пользователи с подпиской потратят больше времени на поездки, чем люди без подписки.\n",
    "- Пользователи с подпиской проедут за одну поездку проедут не менее 3130 метров.\n",
    "- Пользователи с подпиской принесут больше выручки сервису, чем пользователи без подписки.\n",
    "\n",
    "5. Посчитали с помощью распределений для отдела маркетинга:\n",
    "- Чтобы с вероятностью 5% получить 100 продлений подписки, нужно раздать не менее 861 промокода на 1 месяц бесплатной подписки.\n",
    "- Вероятность того, что push-уведомление в мобильном приложении откроют не более 399,5 тыс. пользователей из 1 млн, равна 15.4%"
   ]
  },
  {
   "cell_type": "code",
   "execution_count": null,
   "id": "c74f8e7c",
   "metadata": {},
   "outputs": [],
   "source": []
  }
 ],
 "metadata": {
  "ExecuteTimeLog": [
   {
    "duration": 1537,
    "start_time": "2023-06-16T09:21:32.591Z"
   },
   {
    "duration": 119,
    "start_time": "2023-06-16T09:26:42.828Z"
   },
   {
    "duration": 53,
    "start_time": "2023-06-16T09:26:56.752Z"
   },
   {
    "duration": 41,
    "start_time": "2023-06-16T09:28:14.628Z"
   },
   {
    "duration": 43,
    "start_time": "2023-06-16T09:28:57.592Z"
   },
   {
    "duration": 133,
    "start_time": "2023-06-16T09:30:01.740Z"
   },
   {
    "duration": 220,
    "start_time": "2023-06-16T09:30:18.798Z"
   },
   {
    "duration": 107,
    "start_time": "2023-06-16T09:32:20.552Z"
   },
   {
    "duration": 3,
    "start_time": "2023-06-16T09:41:25.664Z"
   },
   {
    "duration": 480,
    "start_time": "2023-06-16T09:43:45.562Z"
   },
   {
    "duration": 846,
    "start_time": "2023-06-16T09:43:46.044Z"
   },
   {
    "duration": 101,
    "start_time": "2023-06-16T09:43:46.901Z"
   },
   {
    "duration": 8,
    "start_time": "2023-06-16T09:43:47.013Z"
   },
   {
    "duration": 138,
    "start_time": "2023-06-16T09:43:47.025Z"
   },
   {
    "duration": 0,
    "start_time": "2023-06-16T09:43:47.164Z"
   },
   {
    "duration": 0,
    "start_time": "2023-06-16T09:43:47.165Z"
   },
   {
    "duration": 0,
    "start_time": "2023-06-16T09:43:47.168Z"
   },
   {
    "duration": 19,
    "start_time": "2023-06-16T09:44:10.730Z"
   },
   {
    "duration": 4,
    "start_time": "2023-06-16T09:45:03.624Z"
   },
   {
    "duration": 30,
    "start_time": "2023-06-16T09:45:08.295Z"
   },
   {
    "duration": 4,
    "start_time": "2023-06-16T09:45:52.702Z"
   },
   {
    "duration": 17,
    "start_time": "2023-06-16T09:45:53.645Z"
   },
   {
    "duration": 66,
    "start_time": "2023-06-16T09:45:53.894Z"
   },
   {
    "duration": 9,
    "start_time": "2023-06-16T09:46:14.187Z"
   },
   {
    "duration": 18,
    "start_time": "2023-06-16T09:46:14.927Z"
   },
   {
    "duration": 4,
    "start_time": "2023-06-16T09:47:46.947Z"
   },
   {
    "duration": 34,
    "start_time": "2023-06-16T09:47:47.689Z"
   },
   {
    "duration": 39,
    "start_time": "2023-06-16T09:48:54.794Z"
   },
   {
    "duration": 28,
    "start_time": "2023-06-16T09:49:53.487Z"
   },
   {
    "duration": 441,
    "start_time": "2023-06-16T10:01:56.270Z"
   },
   {
    "duration": 821,
    "start_time": "2023-06-16T10:01:56.712Z"
   },
   {
    "duration": 94,
    "start_time": "2023-06-16T10:01:57.536Z"
   },
   {
    "duration": 4,
    "start_time": "2023-06-16T10:01:57.632Z"
   },
   {
    "duration": 45,
    "start_time": "2023-06-16T10:01:57.638Z"
   },
   {
    "duration": 45,
    "start_time": "2023-06-16T10:01:57.686Z"
   },
   {
    "duration": 19,
    "start_time": "2023-06-16T10:01:57.732Z"
   },
   {
    "duration": 11,
    "start_time": "2023-06-16T10:14:48.037Z"
   },
   {
    "duration": 9,
    "start_time": "2023-06-16T10:16:48.123Z"
   },
   {
    "duration": 16,
    "start_time": "2023-06-16T10:17:08.420Z"
   },
   {
    "duration": 21,
    "start_time": "2023-06-16T10:17:35.394Z"
   },
   {
    "duration": 7,
    "start_time": "2023-06-16T10:20:14.911Z"
   },
   {
    "duration": 13,
    "start_time": "2023-06-16T10:57:18.030Z"
   },
   {
    "duration": 13,
    "start_time": "2023-06-16T10:57:42.927Z"
   },
   {
    "duration": 23,
    "start_time": "2023-06-16T10:59:35.262Z"
   },
   {
    "duration": 158,
    "start_time": "2023-06-16T10:59:57.047Z"
   },
   {
    "duration": 160,
    "start_time": "2023-06-16T11:00:15.593Z"
   },
   {
    "duration": 27,
    "start_time": "2023-06-16T11:00:32.302Z"
   },
   {
    "duration": 19,
    "start_time": "2023-06-16T11:00:42.915Z"
   },
   {
    "duration": 15,
    "start_time": "2023-06-16T11:00:57.616Z"
   },
   {
    "duration": 13,
    "start_time": "2023-06-16T11:01:39.324Z"
   },
   {
    "duration": 10,
    "start_time": "2023-06-16T11:04:45.832Z"
   },
   {
    "duration": 142,
    "start_time": "2023-06-16T11:05:08.365Z"
   },
   {
    "duration": 14,
    "start_time": "2023-06-16T11:05:23.622Z"
   },
   {
    "duration": 7,
    "start_time": "2023-06-16T11:05:41.655Z"
   },
   {
    "duration": 1878,
    "start_time": "2023-06-16T11:22:50.706Z"
   },
   {
    "duration": 11,
    "start_time": "2023-06-16T11:23:27.431Z"
   },
   {
    "duration": 15,
    "start_time": "2023-06-16T11:23:57.221Z"
   },
   {
    "duration": 14,
    "start_time": "2023-06-16T11:24:23.838Z"
   },
   {
    "duration": 11,
    "start_time": "2023-06-16T11:24:59.400Z"
   },
   {
    "duration": 14,
    "start_time": "2023-06-16T11:25:07.704Z"
   },
   {
    "duration": 11,
    "start_time": "2023-06-16T11:25:51.503Z"
   },
   {
    "duration": 5,
    "start_time": "2023-06-16T11:26:37.163Z"
   },
   {
    "duration": 15,
    "start_time": "2023-06-16T11:27:34.129Z"
   },
   {
    "duration": 6,
    "start_time": "2023-06-16T11:29:20.434Z"
   },
   {
    "duration": 10,
    "start_time": "2023-06-16T11:30:57.731Z"
   },
   {
    "duration": 148,
    "start_time": "2023-06-16T11:35:56.818Z"
   },
   {
    "duration": 7,
    "start_time": "2023-06-16T11:36:13.422Z"
   },
   {
    "duration": 16,
    "start_time": "2023-06-16T11:40:33.218Z"
   },
   {
    "duration": 8,
    "start_time": "2023-06-16T11:41:50.418Z"
   },
   {
    "duration": 132,
    "start_time": "2023-06-16T11:42:16.180Z"
   },
   {
    "duration": 6,
    "start_time": "2023-06-16T11:42:26.411Z"
   },
   {
    "duration": 10,
    "start_time": "2023-06-16T11:42:49.440Z"
   },
   {
    "duration": 15,
    "start_time": "2023-06-16T12:00:10.292Z"
   },
   {
    "duration": 10,
    "start_time": "2023-06-16T12:00:53.739Z"
   },
   {
    "duration": 9,
    "start_time": "2023-06-16T12:01:32.726Z"
   },
   {
    "duration": 5,
    "start_time": "2023-06-16T12:04:40.125Z"
   },
   {
    "duration": 266,
    "start_time": "2023-06-16T12:27:18.063Z"
   },
   {
    "duration": 192,
    "start_time": "2023-06-16T12:27:30.552Z"
   },
   {
    "duration": 89,
    "start_time": "2023-06-16T12:36:20.956Z"
   },
   {
    "duration": 119,
    "start_time": "2023-06-16T12:38:22.482Z"
   },
   {
    "duration": 112,
    "start_time": "2023-06-16T12:38:47.155Z"
   },
   {
    "duration": 140,
    "start_time": "2023-06-16T12:44:42.332Z"
   },
   {
    "duration": 100,
    "start_time": "2023-06-16T12:45:03.017Z"
   },
   {
    "duration": 254,
    "start_time": "2023-06-16T12:45:14.686Z"
   },
   {
    "duration": 363,
    "start_time": "2023-06-16T12:53:13.602Z"
   },
   {
    "duration": 244,
    "start_time": "2023-06-16T12:58:57.931Z"
   },
   {
    "duration": 262,
    "start_time": "2023-06-16T13:02:11.927Z"
   },
   {
    "duration": 7,
    "start_time": "2023-06-16T13:05:14.731Z"
   },
   {
    "duration": 7,
    "start_time": "2023-06-16T13:05:56.836Z"
   },
   {
    "duration": 7,
    "start_time": "2023-06-16T13:06:13.710Z"
   },
   {
    "duration": 6,
    "start_time": "2023-06-16T13:06:32.377Z"
   },
   {
    "duration": 6,
    "start_time": "2023-06-16T13:06:49.526Z"
   },
   {
    "duration": 7,
    "start_time": "2023-06-16T13:06:55.816Z"
   },
   {
    "duration": 6,
    "start_time": "2023-06-16T13:07:07.317Z"
   },
   {
    "duration": 7,
    "start_time": "2023-06-16T13:07:12.766Z"
   },
   {
    "duration": 7,
    "start_time": "2023-06-16T13:07:21.931Z"
   },
   {
    "duration": 7,
    "start_time": "2023-06-16T13:08:34.610Z"
   },
   {
    "duration": 6,
    "start_time": "2023-06-16T13:10:18.941Z"
   },
   {
    "duration": 7,
    "start_time": "2023-06-16T13:10:30.509Z"
   },
   {
    "duration": 6,
    "start_time": "2023-06-16T13:10:35.670Z"
   },
   {
    "duration": 245,
    "start_time": "2023-06-16T13:19:24.360Z"
   },
   {
    "duration": 260,
    "start_time": "2023-06-16T13:25:26.234Z"
   },
   {
    "duration": 7,
    "start_time": "2023-06-16T13:34:56.552Z"
   },
   {
    "duration": 6,
    "start_time": "2023-06-16T13:35:27.971Z"
   },
   {
    "duration": 7,
    "start_time": "2023-06-16T13:35:33.757Z"
   },
   {
    "duration": 9,
    "start_time": "2023-06-16T13:35:42.125Z"
   },
   {
    "duration": 7,
    "start_time": "2023-06-16T13:35:48.314Z"
   },
   {
    "duration": 6,
    "start_time": "2023-06-16T13:38:41.636Z"
   },
   {
    "duration": 127,
    "start_time": "2023-06-16T13:47:07.030Z"
   },
   {
    "duration": 222,
    "start_time": "2023-06-16T13:48:05.474Z"
   },
   {
    "duration": 144,
    "start_time": "2023-06-16T13:50:19.538Z"
   },
   {
    "duration": 156,
    "start_time": "2023-06-16T13:50:53.944Z"
   },
   {
    "duration": 18,
    "start_time": "2023-06-16T14:04:33.304Z"
   },
   {
    "duration": 31,
    "start_time": "2023-06-16T14:06:46.284Z"
   },
   {
    "duration": 26,
    "start_time": "2023-06-16T14:08:11.920Z"
   },
   {
    "duration": 38,
    "start_time": "2023-06-16T14:11:55.777Z"
   },
   {
    "duration": 1260,
    "start_time": "2023-06-16T14:22:53.144Z"
   },
   {
    "duration": 514,
    "start_time": "2023-06-17T07:35:01.119Z"
   },
   {
    "duration": 1102,
    "start_time": "2023-06-17T07:35:01.635Z"
   },
   {
    "duration": 312,
    "start_time": "2023-06-17T07:35:02.755Z"
   },
   {
    "duration": 5,
    "start_time": "2023-06-17T07:35:03.069Z"
   },
   {
    "duration": 197,
    "start_time": "2023-06-17T07:35:03.076Z"
   },
   {
    "duration": 205,
    "start_time": "2023-06-17T07:35:03.274Z"
   },
   {
    "duration": 46,
    "start_time": "2023-06-17T07:35:03.480Z"
   },
   {
    "duration": 67,
    "start_time": "2023-06-17T07:35:03.528Z"
   },
   {
    "duration": 75,
    "start_time": "2023-06-17T07:35:03.597Z"
   },
   {
    "duration": 45,
    "start_time": "2023-06-17T07:35:03.673Z"
   },
   {
    "duration": 113,
    "start_time": "2023-06-17T07:35:03.719Z"
   },
   {
    "duration": 52,
    "start_time": "2023-06-17T07:35:03.833Z"
   },
   {
    "duration": 45,
    "start_time": "2023-06-17T07:35:03.887Z"
   },
   {
    "duration": 47,
    "start_time": "2023-06-17T07:35:03.934Z"
   },
   {
    "duration": 242,
    "start_time": "2023-06-17T07:35:03.982Z"
   },
   {
    "duration": 107,
    "start_time": "2023-06-17T07:35:04.234Z"
   },
   {
    "duration": 306,
    "start_time": "2023-06-17T07:35:04.342Z"
   },
   {
    "duration": 315,
    "start_time": "2023-06-17T07:35:04.650Z"
   },
   {
    "duration": 9,
    "start_time": "2023-06-17T07:35:04.967Z"
   },
   {
    "duration": 62,
    "start_time": "2023-06-17T07:35:04.977Z"
   },
   {
    "duration": 376,
    "start_time": "2023-06-17T07:35:05.040Z"
   },
   {
    "duration": 7,
    "start_time": "2023-06-17T07:35:05.417Z"
   },
   {
    "duration": 98,
    "start_time": "2023-06-17T07:35:05.425Z"
   },
   {
    "duration": 51,
    "start_time": "2023-06-17T07:35:05.528Z"
   },
   {
    "duration": 1462,
    "start_time": "2023-06-17T07:35:05.582Z"
   },
   {
    "duration": 206,
    "start_time": "2023-06-17T07:36:50.551Z"
   },
   {
    "duration": 1058,
    "start_time": "2023-06-17T07:39:10.960Z"
   },
   {
    "duration": 942,
    "start_time": "2023-06-17T07:42:38.820Z"
   },
   {
    "duration": 19,
    "start_time": "2023-06-17T08:52:14.721Z"
   },
   {
    "duration": 1354,
    "start_time": "2023-06-17T08:54:46.990Z"
   },
   {
    "duration": 1109,
    "start_time": "2023-06-17T08:55:49.756Z"
   },
   {
    "duration": 1093,
    "start_time": "2023-06-17T08:56:47.952Z"
   },
   {
    "duration": 1230,
    "start_time": "2023-06-17T08:58:06.667Z"
   },
   {
    "duration": 275,
    "start_time": "2023-06-17T08:58:21.530Z"
   },
   {
    "duration": 36,
    "start_time": "2023-06-17T08:58:37.297Z"
   },
   {
    "duration": 1294,
    "start_time": "2023-06-17T08:59:17.836Z"
   },
   {
    "duration": 1618,
    "start_time": "2023-06-17T09:00:09.636Z"
   },
   {
    "duration": 16,
    "start_time": "2023-06-17T09:00:21.666Z"
   },
   {
    "duration": 25,
    "start_time": "2023-06-17T09:00:36.136Z"
   },
   {
    "duration": 16,
    "start_time": "2023-06-17T09:03:25.982Z"
   },
   {
    "duration": 304,
    "start_time": "2023-06-17T09:04:20.092Z"
   },
   {
    "duration": 436,
    "start_time": "2023-06-17T09:04:44.285Z"
   },
   {
    "duration": 20,
    "start_time": "2023-06-17T09:05:05.232Z"
   },
   {
    "duration": 323,
    "start_time": "2023-06-17T09:07:45.819Z"
   },
   {
    "duration": 294,
    "start_time": "2023-06-17T09:08:46.134Z"
   },
   {
    "duration": 37,
    "start_time": "2023-06-17T09:09:30.085Z"
   },
   {
    "duration": 11,
    "start_time": "2023-06-17T09:09:56.852Z"
   },
   {
    "duration": 371,
    "start_time": "2023-06-17T09:10:30.084Z"
   },
   {
    "duration": 331,
    "start_time": "2023-06-17T09:10:53.327Z"
   },
   {
    "duration": 1067,
    "start_time": "2023-06-17T09:11:26.223Z"
   },
   {
    "duration": 327,
    "start_time": "2023-06-17T09:14:56.317Z"
   },
   {
    "duration": 19,
    "start_time": "2023-06-17T09:17:44.122Z"
   },
   {
    "duration": 310,
    "start_time": "2023-06-17T09:18:07.740Z"
   },
   {
    "duration": 18,
    "start_time": "2023-06-17T09:18:16.762Z"
   },
   {
    "duration": 24,
    "start_time": "2023-06-17T09:18:32.274Z"
   },
   {
    "duration": 343,
    "start_time": "2023-06-17T09:21:54.322Z"
   },
   {
    "duration": 297,
    "start_time": "2023-06-17T09:23:20.347Z"
   },
   {
    "duration": 18,
    "start_time": "2023-06-17T09:23:52.633Z"
   },
   {
    "duration": 19,
    "start_time": "2023-06-17T09:24:18.642Z"
   },
   {
    "duration": 35,
    "start_time": "2023-06-17T09:35:49.916Z"
   },
   {
    "duration": 37,
    "start_time": "2023-06-17T09:37:05.395Z"
   },
   {
    "duration": 521,
    "start_time": "2023-06-17T10:02:24.651Z"
   },
   {
    "duration": 983,
    "start_time": "2023-06-17T10:02:25.175Z"
   },
   {
    "duration": 418,
    "start_time": "2023-06-17T10:02:26.170Z"
   },
   {
    "duration": 4,
    "start_time": "2023-06-17T10:02:26.590Z"
   },
   {
    "duration": 188,
    "start_time": "2023-06-17T10:02:26.598Z"
   },
   {
    "duration": 145,
    "start_time": "2023-06-17T10:02:26.788Z"
   },
   {
    "duration": 61,
    "start_time": "2023-06-17T10:02:26.935Z"
   },
   {
    "duration": 14,
    "start_time": "2023-06-17T10:02:26.998Z"
   },
   {
    "duration": 82,
    "start_time": "2023-06-17T10:02:27.014Z"
   },
   {
    "duration": 89,
    "start_time": "2023-06-17T10:02:27.098Z"
   },
   {
    "duration": 16,
    "start_time": "2023-06-17T10:02:27.189Z"
   },
   {
    "duration": 146,
    "start_time": "2023-06-17T10:02:27.208Z"
   },
   {
    "duration": 32,
    "start_time": "2023-06-17T10:02:27.356Z"
   },
   {
    "duration": 5,
    "start_time": "2023-06-17T10:02:27.392Z"
   },
   {
    "duration": 333,
    "start_time": "2023-06-17T10:02:27.399Z"
   },
   {
    "duration": 121,
    "start_time": "2023-06-17T10:02:27.734Z"
   },
   {
    "duration": 415,
    "start_time": "2023-06-17T10:02:27.859Z"
   },
   {
    "duration": 378,
    "start_time": "2023-06-17T10:02:28.276Z"
   },
   {
    "duration": 12,
    "start_time": "2023-06-17T10:02:28.660Z"
   },
   {
    "duration": 55,
    "start_time": "2023-06-17T10:02:28.676Z"
   },
   {
    "duration": 332,
    "start_time": "2023-06-17T10:02:28.733Z"
   },
   {
    "duration": 9,
    "start_time": "2023-06-17T10:02:29.066Z"
   },
   {
    "duration": 113,
    "start_time": "2023-06-17T10:02:29.076Z"
   },
   {
    "duration": 58,
    "start_time": "2023-06-17T10:02:29.191Z"
   },
   {
    "duration": 1245,
    "start_time": "2023-06-17T10:02:29.253Z"
   },
   {
    "duration": 141,
    "start_time": "2023-06-17T10:02:30.500Z"
   },
   {
    "duration": 0,
    "start_time": "2023-06-17T10:02:30.644Z"
   },
   {
    "duration": 2807,
    "start_time": "2023-06-17T10:04:47.864Z"
   },
   {
    "duration": 2341,
    "start_time": "2023-06-17T10:05:51.426Z"
   },
   {
    "duration": 3732,
    "start_time": "2023-06-17T10:07:24.354Z"
   },
   {
    "duration": 5693,
    "start_time": "2023-06-17T10:10:01.127Z"
   },
   {
    "duration": 1241,
    "start_time": "2023-06-17T10:15:41.039Z"
   },
   {
    "duration": 20,
    "start_time": "2023-06-17T10:16:15.462Z"
   },
   {
    "duration": 37,
    "start_time": "2023-06-17T10:23:12.826Z"
   },
   {
    "duration": 33,
    "start_time": "2023-06-17T10:23:20.084Z"
   },
   {
    "duration": 7,
    "start_time": "2023-06-17T11:15:32.592Z"
   },
   {
    "duration": 37,
    "start_time": "2023-06-17T11:31:16.693Z"
   },
   {
    "duration": 14,
    "start_time": "2023-06-17T11:31:29.972Z"
   },
   {
    "duration": 400,
    "start_time": "2023-06-17T12:37:22.097Z"
   },
   {
    "duration": 636,
    "start_time": "2023-06-17T12:37:22.499Z"
   },
   {
    "duration": 68,
    "start_time": "2023-06-17T12:37:23.137Z"
   },
   {
    "duration": 4,
    "start_time": "2023-06-17T12:37:23.207Z"
   },
   {
    "duration": 58,
    "start_time": "2023-06-17T12:37:23.212Z"
   },
   {
    "duration": 20,
    "start_time": "2023-06-17T12:37:23.272Z"
   },
   {
    "duration": 47,
    "start_time": "2023-06-17T12:37:23.293Z"
   },
   {
    "duration": 7,
    "start_time": "2023-06-17T12:37:23.341Z"
   },
   {
    "duration": 8,
    "start_time": "2023-06-17T12:37:23.349Z"
   },
   {
    "duration": 19,
    "start_time": "2023-06-17T12:37:23.360Z"
   },
   {
    "duration": 25,
    "start_time": "2023-06-17T12:37:23.380Z"
   },
   {
    "duration": 18,
    "start_time": "2023-06-17T12:37:23.406Z"
   },
   {
    "duration": 13,
    "start_time": "2023-06-17T12:37:23.425Z"
   },
   {
    "duration": 36,
    "start_time": "2023-06-17T12:37:23.440Z"
   },
   {
    "duration": 160,
    "start_time": "2023-06-17T12:37:23.478Z"
   },
   {
    "duration": 82,
    "start_time": "2023-06-17T12:37:23.639Z"
   },
   {
    "duration": 222,
    "start_time": "2023-06-17T12:37:23.722Z"
   },
   {
    "duration": 236,
    "start_time": "2023-06-17T12:37:23.945Z"
   },
   {
    "duration": 7,
    "start_time": "2023-06-17T12:37:24.182Z"
   },
   {
    "duration": 28,
    "start_time": "2023-06-17T12:37:24.190Z"
   },
   {
    "duration": 168,
    "start_time": "2023-06-17T12:37:24.220Z"
   },
   {
    "duration": 6,
    "start_time": "2023-06-17T12:37:24.390Z"
   },
   {
    "duration": 47,
    "start_time": "2023-06-17T12:37:24.399Z"
   },
   {
    "duration": 27,
    "start_time": "2023-06-17T12:37:24.448Z"
   },
   {
    "duration": 801,
    "start_time": "2023-06-17T12:37:24.476Z"
   },
   {
    "duration": 114,
    "start_time": "2023-06-17T12:37:25.279Z"
   },
   {
    "duration": 0,
    "start_time": "2023-06-17T12:37:25.399Z"
   },
   {
    "duration": 0,
    "start_time": "2023-06-17T12:37:25.400Z"
   },
   {
    "duration": 0,
    "start_time": "2023-06-17T12:37:25.401Z"
   },
   {
    "duration": 0,
    "start_time": "2023-06-17T12:37:25.403Z"
   },
   {
    "duration": 0,
    "start_time": "2023-06-17T12:37:25.404Z"
   },
   {
    "duration": 424,
    "start_time": "2023-06-17T12:38:09.705Z"
   },
   {
    "duration": 637,
    "start_time": "2023-06-17T12:38:10.130Z"
   },
   {
    "duration": 65,
    "start_time": "2023-06-17T12:38:10.769Z"
   },
   {
    "duration": 3,
    "start_time": "2023-06-17T12:38:10.836Z"
   },
   {
    "duration": 55,
    "start_time": "2023-06-17T12:38:10.842Z"
   },
   {
    "duration": 46,
    "start_time": "2023-06-17T12:38:10.898Z"
   },
   {
    "duration": 32,
    "start_time": "2023-06-17T12:38:10.945Z"
   },
   {
    "duration": 7,
    "start_time": "2023-06-17T12:38:10.979Z"
   },
   {
    "duration": 16,
    "start_time": "2023-06-17T12:38:10.987Z"
   },
   {
    "duration": 11,
    "start_time": "2023-06-17T12:38:11.005Z"
   },
   {
    "duration": 7,
    "start_time": "2023-06-17T12:38:11.018Z"
   },
   {
    "duration": 6,
    "start_time": "2023-06-17T12:38:11.026Z"
   },
   {
    "duration": 9,
    "start_time": "2023-06-17T12:38:11.034Z"
   },
   {
    "duration": 14,
    "start_time": "2023-06-17T12:38:11.045Z"
   },
   {
    "duration": 155,
    "start_time": "2023-06-17T12:38:11.061Z"
   },
   {
    "duration": 81,
    "start_time": "2023-06-17T12:38:11.218Z"
   },
   {
    "duration": 224,
    "start_time": "2023-06-17T12:38:11.301Z"
   },
   {
    "duration": 230,
    "start_time": "2023-06-17T12:38:11.527Z"
   },
   {
    "duration": 9,
    "start_time": "2023-06-17T12:38:11.759Z"
   },
   {
    "duration": 9,
    "start_time": "2023-06-17T12:38:11.769Z"
   },
   {
    "duration": 197,
    "start_time": "2023-06-17T12:38:11.779Z"
   },
   {
    "duration": 6,
    "start_time": "2023-06-17T12:38:11.978Z"
   },
   {
    "duration": 31,
    "start_time": "2023-06-17T12:38:11.986Z"
   },
   {
    "duration": 23,
    "start_time": "2023-06-17T12:38:12.019Z"
   },
   {
    "duration": 834,
    "start_time": "2023-06-17T12:38:12.044Z"
   },
   {
    "duration": 1320,
    "start_time": "2023-06-17T12:38:12.880Z"
   },
   {
    "duration": 0,
    "start_time": "2023-06-17T12:38:14.202Z"
   },
   {
    "duration": 0,
    "start_time": "2023-06-17T12:38:14.203Z"
   },
   {
    "duration": 0,
    "start_time": "2023-06-17T12:38:14.204Z"
   },
   {
    "duration": 0,
    "start_time": "2023-06-17T12:38:14.205Z"
   },
   {
    "duration": 22,
    "start_time": "2023-06-17T12:38:41.831Z"
   },
   {
    "duration": 12,
    "start_time": "2023-06-17T12:38:55.706Z"
   },
   {
    "duration": 49,
    "start_time": "2023-06-17T12:48:57.215Z"
   },
   {
    "duration": 869,
    "start_time": "2023-06-17T12:49:50.262Z"
   },
   {
    "duration": 888,
    "start_time": "2023-06-17T13:07:57.415Z"
   },
   {
    "duration": 22,
    "start_time": "2023-06-17T13:18:04.122Z"
   },
   {
    "duration": 22,
    "start_time": "2023-06-17T13:18:24.457Z"
   },
   {
    "duration": 22,
    "start_time": "2023-06-17T13:21:57.649Z"
   },
   {
    "duration": 17,
    "start_time": "2023-06-17T13:32:44.027Z"
   },
   {
    "duration": 45,
    "start_time": "2023-06-17T13:34:40.816Z"
   },
   {
    "duration": 69,
    "start_time": "2023-06-17T13:35:07.171Z"
   },
   {
    "duration": 13,
    "start_time": "2023-06-17T13:35:49.868Z"
   },
   {
    "duration": 58,
    "start_time": "2023-06-17T13:36:55.400Z"
   },
   {
    "duration": 47,
    "start_time": "2023-06-17T13:37:24.986Z"
   },
   {
    "duration": 17,
    "start_time": "2023-06-17T13:37:55.691Z"
   },
   {
    "duration": 18,
    "start_time": "2023-06-17T13:38:40.042Z"
   },
   {
    "duration": 17,
    "start_time": "2023-06-17T13:38:54.817Z"
   },
   {
    "duration": 26,
    "start_time": "2023-06-17T13:40:14.136Z"
   },
   {
    "duration": 46,
    "start_time": "2023-06-17T13:42:12.886Z"
   },
   {
    "duration": 351,
    "start_time": "2023-06-17T13:42:24.330Z"
   },
   {
    "duration": 632,
    "start_time": "2023-06-17T13:42:24.683Z"
   },
   {
    "duration": 200,
    "start_time": "2023-06-17T13:42:25.317Z"
   },
   {
    "duration": 4,
    "start_time": "2023-06-17T13:42:25.518Z"
   },
   {
    "duration": 25,
    "start_time": "2023-06-17T13:42:25.525Z"
   },
   {
    "duration": 19,
    "start_time": "2023-06-17T13:42:25.552Z"
   },
   {
    "duration": 27,
    "start_time": "2023-06-17T13:42:25.573Z"
   },
   {
    "duration": 7,
    "start_time": "2023-06-17T13:42:25.601Z"
   },
   {
    "duration": 7,
    "start_time": "2023-06-17T13:42:25.609Z"
   },
   {
    "duration": 20,
    "start_time": "2023-06-17T13:42:25.618Z"
   },
   {
    "duration": 8,
    "start_time": "2023-06-17T13:42:25.640Z"
   },
   {
    "duration": 9,
    "start_time": "2023-06-17T13:42:25.650Z"
   },
   {
    "duration": 15,
    "start_time": "2023-06-17T13:42:25.660Z"
   },
   {
    "duration": 23,
    "start_time": "2023-06-17T13:42:25.677Z"
   },
   {
    "duration": 133,
    "start_time": "2023-06-17T13:42:25.701Z"
   },
   {
    "duration": 79,
    "start_time": "2023-06-17T13:42:25.836Z"
   },
   {
    "duration": 251,
    "start_time": "2023-06-17T13:42:25.917Z"
   },
   {
    "duration": 271,
    "start_time": "2023-06-17T13:42:26.171Z"
   },
   {
    "duration": 8,
    "start_time": "2023-06-17T13:42:26.444Z"
   },
   {
    "duration": 11,
    "start_time": "2023-06-17T13:42:26.453Z"
   },
   {
    "duration": 167,
    "start_time": "2023-06-17T13:42:26.466Z"
   },
   {
    "duration": 6,
    "start_time": "2023-06-17T13:42:26.635Z"
   },
   {
    "duration": 26,
    "start_time": "2023-06-17T13:42:26.642Z"
   },
   {
    "duration": 35,
    "start_time": "2023-06-17T13:42:26.669Z"
   },
   {
    "duration": 769,
    "start_time": "2023-06-17T13:42:26.705Z"
   },
   {
    "duration": 30,
    "start_time": "2023-06-17T13:42:27.475Z"
   },
   {
    "duration": 6,
    "start_time": "2023-06-17T13:42:27.507Z"
   },
   {
    "duration": 58,
    "start_time": "2023-06-17T13:43:17.233Z"
   },
   {
    "duration": 10,
    "start_time": "2023-06-17T13:49:39.322Z"
   },
   {
    "duration": 395,
    "start_time": "2023-06-17T13:51:07.525Z"
   },
   {
    "duration": 630,
    "start_time": "2023-06-17T13:51:07.923Z"
   },
   {
    "duration": 193,
    "start_time": "2023-06-17T13:51:08.555Z"
   },
   {
    "duration": 4,
    "start_time": "2023-06-17T13:51:08.749Z"
   },
   {
    "duration": 75,
    "start_time": "2023-06-17T13:51:08.756Z"
   },
   {
    "duration": 79,
    "start_time": "2023-06-17T13:51:08.833Z"
   },
   {
    "duration": 23,
    "start_time": "2023-06-17T13:51:08.913Z"
   },
   {
    "duration": 8,
    "start_time": "2023-06-17T13:51:08.937Z"
   },
   {
    "duration": 19,
    "start_time": "2023-06-17T13:51:08.946Z"
   },
   {
    "duration": 17,
    "start_time": "2023-06-17T13:51:08.966Z"
   },
   {
    "duration": 42,
    "start_time": "2023-06-17T13:51:08.985Z"
   },
   {
    "duration": 25,
    "start_time": "2023-06-17T13:51:09.028Z"
   },
   {
    "duration": 12,
    "start_time": "2023-06-17T13:51:09.054Z"
   },
   {
    "duration": 12,
    "start_time": "2023-06-17T13:51:09.068Z"
   },
   {
    "duration": 163,
    "start_time": "2023-06-17T13:51:09.081Z"
   },
   {
    "duration": 69,
    "start_time": "2023-06-17T13:51:09.245Z"
   },
   {
    "duration": 216,
    "start_time": "2023-06-17T13:51:09.316Z"
   },
   {
    "duration": 225,
    "start_time": "2023-06-17T13:51:09.533Z"
   },
   {
    "duration": 7,
    "start_time": "2023-06-17T13:51:09.760Z"
   },
   {
    "duration": 41,
    "start_time": "2023-06-17T13:51:09.768Z"
   },
   {
    "duration": 163,
    "start_time": "2023-06-17T13:51:09.810Z"
   },
   {
    "duration": 6,
    "start_time": "2023-06-17T13:51:09.975Z"
   },
   {
    "duration": 68,
    "start_time": "2023-06-17T13:51:09.982Z"
   },
   {
    "duration": 37,
    "start_time": "2023-06-17T13:51:10.051Z"
   },
   {
    "duration": 744,
    "start_time": "2023-06-17T13:51:10.089Z"
   },
   {
    "duration": 23,
    "start_time": "2023-06-17T13:51:10.835Z"
   },
   {
    "duration": 6,
    "start_time": "2023-06-17T13:51:10.859Z"
   },
   {
    "duration": 92,
    "start_time": "2023-06-17T13:51:10.866Z"
   },
   {
    "duration": 2,
    "start_time": "2023-06-17T13:51:10.960Z"
   },
   {
    "duration": 68,
    "start_time": "2023-06-17T14:07:56.780Z"
   },
   {
    "duration": 95,
    "start_time": "2023-06-17T14:08:21.364Z"
   },
   {
    "duration": 69,
    "start_time": "2023-06-17T14:08:38.552Z"
   },
   {
    "duration": 68,
    "start_time": "2023-06-17T14:08:56.151Z"
   },
   {
    "duration": 58,
    "start_time": "2023-06-17T14:09:38.613Z"
   },
   {
    "duration": 2,
    "start_time": "2023-06-17T14:10:51.363Z"
   },
   {
    "duration": 100,
    "start_time": "2023-06-17T14:10:56.453Z"
   },
   {
    "duration": 49,
    "start_time": "2023-06-17T14:11:59.736Z"
   },
   {
    "duration": 45,
    "start_time": "2023-06-17T14:14:58.834Z"
   },
   {
    "duration": 74,
    "start_time": "2023-06-17T14:15:08.075Z"
   },
   {
    "duration": 58,
    "start_time": "2023-06-17T14:15:16.132Z"
   },
   {
    "duration": 54,
    "start_time": "2023-06-17T14:17:14.626Z"
   },
   {
    "duration": 71,
    "start_time": "2023-06-17T14:17:26.158Z"
   },
   {
    "duration": 65,
    "start_time": "2023-06-17T14:17:56.065Z"
   },
   {
    "duration": 77,
    "start_time": "2023-06-17T14:19:46.720Z"
   },
   {
    "duration": 82,
    "start_time": "2023-06-17T14:21:11.432Z"
   },
   {
    "duration": 62,
    "start_time": "2023-06-17T14:21:57.983Z"
   },
   {
    "duration": 418,
    "start_time": "2023-06-17T14:22:11.157Z"
   },
   {
    "duration": 700,
    "start_time": "2023-06-17T14:22:11.577Z"
   },
   {
    "duration": 91,
    "start_time": "2023-06-17T14:22:12.279Z"
   },
   {
    "duration": 4,
    "start_time": "2023-06-17T14:22:12.372Z"
   },
   {
    "duration": 54,
    "start_time": "2023-06-17T14:22:12.379Z"
   },
   {
    "duration": 28,
    "start_time": "2023-06-17T14:22:12.435Z"
   },
   {
    "duration": 18,
    "start_time": "2023-06-17T14:22:12.465Z"
   },
   {
    "duration": 13,
    "start_time": "2023-06-17T14:22:12.484Z"
   },
   {
    "duration": 45,
    "start_time": "2023-06-17T14:22:12.499Z"
   },
   {
    "duration": 13,
    "start_time": "2023-06-17T14:22:12.546Z"
   },
   {
    "duration": 7,
    "start_time": "2023-06-17T14:22:12.561Z"
   },
   {
    "duration": 7,
    "start_time": "2023-06-17T14:22:12.570Z"
   },
   {
    "duration": 17,
    "start_time": "2023-06-17T14:22:12.578Z"
   },
   {
    "duration": 5,
    "start_time": "2023-06-17T14:22:12.597Z"
   },
   {
    "duration": 215,
    "start_time": "2023-06-17T14:22:12.604Z"
   },
   {
    "duration": 96,
    "start_time": "2023-06-17T14:22:12.820Z"
   },
   {
    "duration": 235,
    "start_time": "2023-06-17T14:22:12.918Z"
   },
   {
    "duration": 275,
    "start_time": "2023-06-17T14:22:13.154Z"
   },
   {
    "duration": 9,
    "start_time": "2023-06-17T14:22:13.434Z"
   },
   {
    "duration": 8,
    "start_time": "2023-06-17T14:22:13.444Z"
   },
   {
    "duration": 233,
    "start_time": "2023-06-17T14:22:13.454Z"
   },
   {
    "duration": 12,
    "start_time": "2023-06-17T14:22:13.690Z"
   },
   {
    "duration": 70,
    "start_time": "2023-06-17T14:22:13.705Z"
   },
   {
    "duration": 32,
    "start_time": "2023-06-17T14:22:13.776Z"
   },
   {
    "duration": 896,
    "start_time": "2023-06-17T14:22:13.810Z"
   },
   {
    "duration": 30,
    "start_time": "2023-06-17T14:22:14.714Z"
   },
   {
    "duration": 32,
    "start_time": "2023-06-17T14:22:14.745Z"
   },
   {
    "duration": 85,
    "start_time": "2023-06-17T14:22:14.778Z"
   },
   {
    "duration": 0,
    "start_time": "2023-06-17T14:22:14.864Z"
   },
   {
    "duration": 80,
    "start_time": "2023-06-17T14:25:11.490Z"
   },
   {
    "duration": 48,
    "start_time": "2023-06-17T14:25:18.015Z"
   },
   {
    "duration": 62,
    "start_time": "2023-06-17T14:25:23.860Z"
   },
   {
    "duration": 81,
    "start_time": "2023-06-17T14:25:30.963Z"
   },
   {
    "duration": 83,
    "start_time": "2023-06-17T14:25:37.055Z"
   },
   {
    "duration": 45,
    "start_time": "2023-06-17T14:27:32.915Z"
   },
   {
    "duration": 58,
    "start_time": "2023-06-17T14:31:11.155Z"
   },
   {
    "duration": 90,
    "start_time": "2023-06-17T14:31:20.177Z"
   },
   {
    "duration": 85,
    "start_time": "2023-06-17T14:31:46.288Z"
   },
   {
    "duration": 58,
    "start_time": "2023-06-17T14:32:58.913Z"
   },
   {
    "duration": 114,
    "start_time": "2023-06-17T14:33:12.313Z"
   },
   {
    "duration": 16,
    "start_time": "2023-06-17T14:36:10.575Z"
   },
   {
    "duration": 1040,
    "start_time": "2023-06-17T14:36:44.438Z"
   },
   {
    "duration": 385,
    "start_time": "2023-06-17T14:37:36.333Z"
   },
   {
    "duration": 10,
    "start_time": "2023-06-17T14:52:07.536Z"
   },
   {
    "duration": 396,
    "start_time": "2023-06-17T16:15:17.633Z"
   },
   {
    "duration": 675,
    "start_time": "2023-06-17T16:15:18.042Z"
   },
   {
    "duration": 83,
    "start_time": "2023-06-17T16:15:18.735Z"
   },
   {
    "duration": 8,
    "start_time": "2023-06-17T16:15:18.823Z"
   },
   {
    "duration": 25,
    "start_time": "2023-06-17T16:15:18.844Z"
   },
   {
    "duration": 17,
    "start_time": "2023-06-17T16:15:18.870Z"
   },
   {
    "duration": 41,
    "start_time": "2023-06-17T16:15:18.888Z"
   },
   {
    "duration": 14,
    "start_time": "2023-06-17T16:15:18.930Z"
   },
   {
    "duration": 10,
    "start_time": "2023-06-17T16:15:18.945Z"
   },
   {
    "duration": 15,
    "start_time": "2023-06-17T16:15:18.957Z"
   },
   {
    "duration": 6,
    "start_time": "2023-06-17T16:15:18.973Z"
   },
   {
    "duration": 16,
    "start_time": "2023-06-17T16:15:18.980Z"
   },
   {
    "duration": 54,
    "start_time": "2023-06-17T16:15:18.997Z"
   },
   {
    "duration": 14,
    "start_time": "2023-06-17T16:15:19.053Z"
   },
   {
    "duration": 189,
    "start_time": "2023-06-17T16:15:19.068Z"
   },
   {
    "duration": 96,
    "start_time": "2023-06-17T16:15:19.259Z"
   },
   {
    "duration": 239,
    "start_time": "2023-06-17T16:15:19.356Z"
   },
   {
    "duration": 249,
    "start_time": "2023-06-17T16:15:19.599Z"
   },
   {
    "duration": 8,
    "start_time": "2023-06-17T16:15:19.849Z"
   },
   {
    "duration": 24,
    "start_time": "2023-06-17T16:15:19.859Z"
   },
   {
    "duration": 206,
    "start_time": "2023-06-17T16:15:19.885Z"
   },
   {
    "duration": 6,
    "start_time": "2023-06-17T16:15:20.092Z"
   },
   {
    "duration": 77,
    "start_time": "2023-06-17T16:15:20.099Z"
   },
   {
    "duration": 98,
    "start_time": "2023-06-17T16:15:20.178Z"
   },
   {
    "duration": 880,
    "start_time": "2023-06-17T16:15:20.278Z"
   },
   {
    "duration": 23,
    "start_time": "2023-06-17T16:15:21.160Z"
   },
   {
    "duration": 6,
    "start_time": "2023-06-17T16:15:21.185Z"
   },
   {
    "duration": 477,
    "start_time": "2023-06-17T16:15:21.193Z"
   },
   {
    "duration": 5,
    "start_time": "2023-06-17T16:15:21.672Z"
   },
   {
    "duration": 38,
    "start_time": "2023-06-17T16:15:21.679Z"
   },
   {
    "duration": 18,
    "start_time": "2023-06-17T16:21:17.424Z"
   },
   {
    "duration": 6,
    "start_time": "2023-06-17T16:21:33.649Z"
   },
   {
    "duration": 13,
    "start_time": "2023-06-17T16:25:07.922Z"
   },
   {
    "duration": 4,
    "start_time": "2023-06-17T16:26:07.275Z"
   },
   {
    "duration": 5,
    "start_time": "2023-06-17T16:26:54.267Z"
   },
   {
    "duration": 266,
    "start_time": "2023-06-17T16:29:52.196Z"
   },
   {
    "duration": 8,
    "start_time": "2023-06-17T16:33:10.227Z"
   },
   {
    "duration": 5,
    "start_time": "2023-06-17T16:38:02.590Z"
   },
   {
    "duration": 10,
    "start_time": "2023-06-17T16:42:10.640Z"
   },
   {
    "duration": 5,
    "start_time": "2023-06-17T16:42:18.471Z"
   },
   {
    "duration": 10,
    "start_time": "2023-06-17T17:31:49.679Z"
   },
   {
    "duration": 162,
    "start_time": "2023-06-18T15:48:23.786Z"
   },
   {
    "duration": 82,
    "start_time": "2023-06-18T16:18:08.147Z"
   },
   {
    "duration": 160,
    "start_time": "2023-06-18T16:18:34.527Z"
   },
   {
    "duration": 2437,
    "start_time": "2023-06-18T16:18:50.306Z"
   },
   {
    "duration": 1228,
    "start_time": "2023-06-18T16:18:52.751Z"
   },
   {
    "duration": 10,
    "start_time": "2023-06-18T16:18:53.986Z"
   },
   {
    "duration": 129,
    "start_time": "2023-06-18T16:18:54.012Z"
   },
   {
    "duration": 123,
    "start_time": "2023-06-18T16:18:54.155Z"
   },
   {
    "duration": 55,
    "start_time": "2023-06-18T16:18:54.292Z"
   },
   {
    "duration": 18,
    "start_time": "2023-06-18T16:18:54.355Z"
   },
   {
    "duration": 15,
    "start_time": "2023-06-18T16:18:54.382Z"
   },
   {
    "duration": 32,
    "start_time": "2023-06-18T16:18:54.405Z"
   },
   {
    "duration": 21,
    "start_time": "2023-06-18T16:18:54.444Z"
   },
   {
    "duration": 16,
    "start_time": "2023-06-18T16:18:54.477Z"
   },
   {
    "duration": 25,
    "start_time": "2023-06-18T16:18:54.502Z"
   },
   {
    "duration": 41,
    "start_time": "2023-06-18T16:18:54.536Z"
   },
   {
    "duration": 353,
    "start_time": "2023-06-18T16:18:54.588Z"
   },
   {
    "duration": 182,
    "start_time": "2023-06-18T16:18:54.952Z"
   },
   {
    "duration": 528,
    "start_time": "2023-06-18T16:18:55.140Z"
   },
   {
    "duration": 482,
    "start_time": "2023-06-18T16:18:55.675Z"
   },
   {
    "duration": 22,
    "start_time": "2023-06-18T16:18:56.167Z"
   },
   {
    "duration": 26,
    "start_time": "2023-06-18T16:18:56.195Z"
   },
   {
    "duration": 347,
    "start_time": "2023-06-18T16:18:56.229Z"
   },
   {
    "duration": 19,
    "start_time": "2023-06-18T16:18:56.583Z"
   },
   {
    "duration": 39,
    "start_time": "2023-06-18T16:18:56.604Z"
   },
   {
    "duration": 56,
    "start_time": "2023-06-18T16:18:56.645Z"
   },
   {
    "duration": 1373,
    "start_time": "2023-06-18T16:18:56.706Z"
   },
   {
    "duration": 37,
    "start_time": "2023-06-18T16:18:58.091Z"
   },
   {
    "duration": 13,
    "start_time": "2023-06-18T16:18:58.134Z"
   },
   {
    "duration": 674,
    "start_time": "2023-06-18T16:18:58.164Z"
   },
   {
    "duration": 9,
    "start_time": "2023-06-18T16:18:58.840Z"
   },
   {
    "duration": 29,
    "start_time": "2023-06-18T16:18:58.852Z"
   },
   {
    "duration": 23,
    "start_time": "2023-06-18T16:18:58.883Z"
   },
   {
    "duration": 206,
    "start_time": "2023-06-18T16:18:58.908Z"
   },
   {
    "duration": 2151,
    "start_time": "2023-06-18T16:19:17.977Z"
   },
   {
    "duration": 2307,
    "start_time": "2023-06-18T16:19:27.606Z"
   },
   {
    "duration": 1303,
    "start_time": "2023-06-18T16:24:42.396Z"
   },
   {
    "duration": 388,
    "start_time": "2023-06-18T16:24:49.342Z"
   },
   {
    "duration": 1220,
    "start_time": "2023-06-18T16:25:19.099Z"
   },
   {
    "duration": 2770,
    "start_time": "2023-06-18T16:25:29.819Z"
   },
   {
    "duration": 90,
    "start_time": "2023-06-18T16:26:09.398Z"
   },
   {
    "duration": 101,
    "start_time": "2023-06-18T16:26:28.506Z"
   },
   {
    "duration": 2293,
    "start_time": "2023-06-18T16:26:33.184Z"
   },
   {
    "duration": 7,
    "start_time": "2023-06-18T16:31:01.129Z"
   },
   {
    "duration": 685,
    "start_time": "2023-06-18T16:36:27.046Z"
   },
   {
    "duration": 1701,
    "start_time": "2023-06-18T16:36:35.251Z"
   },
   {
    "duration": 1982,
    "start_time": "2023-06-18T16:50:20.113Z"
   },
   {
    "duration": 1944,
    "start_time": "2023-06-18T16:51:14.062Z"
   },
   {
    "duration": 2398,
    "start_time": "2023-06-18T16:52:12.324Z"
   },
   {
    "duration": 2503,
    "start_time": "2023-06-18T16:56:28.482Z"
   },
   {
    "duration": 1707,
    "start_time": "2023-06-18T16:56:59.698Z"
   },
   {
    "duration": 2062,
    "start_time": "2023-06-18T16:57:10.484Z"
   },
   {
    "duration": 1854,
    "start_time": "2023-06-18T16:57:18.153Z"
   },
   {
    "duration": 1954,
    "start_time": "2023-06-18T16:57:24.984Z"
   },
   {
    "duration": 1851,
    "start_time": "2023-06-18T16:57:31.354Z"
   },
   {
    "duration": 2112,
    "start_time": "2023-06-18T16:57:38.978Z"
   },
   {
    "duration": 2032,
    "start_time": "2023-06-18T16:57:45.140Z"
   },
   {
    "duration": 1845,
    "start_time": "2023-06-18T16:57:49.966Z"
   },
   {
    "duration": 9,
    "start_time": "2023-06-18T17:01:09.680Z"
   },
   {
    "duration": 0,
    "start_time": "2023-06-18T17:03:56.936Z"
   },
   {
    "duration": 49289,
    "start_time": "2023-06-18T17:09:26.515Z"
   },
   {
    "duration": 50064,
    "start_time": "2023-06-18T17:11:25.201Z"
   },
   {
    "duration": 1122,
    "start_time": "2023-06-19T12:56:36.861Z"
   },
   {
    "duration": 75,
    "start_time": "2023-06-19T12:56:37.986Z"
   },
   {
    "duration": 3,
    "start_time": "2023-06-19T12:56:38.063Z"
   },
   {
    "duration": 48,
    "start_time": "2023-06-19T12:56:38.068Z"
   },
   {
    "duration": 32,
    "start_time": "2023-06-19T12:56:38.119Z"
   },
   {
    "duration": 17,
    "start_time": "2023-06-19T12:56:38.153Z"
   },
   {
    "duration": 7,
    "start_time": "2023-06-19T12:56:38.172Z"
   },
   {
    "duration": 42,
    "start_time": "2023-06-19T12:56:38.180Z"
   },
   {
    "duration": 15,
    "start_time": "2023-06-19T12:56:38.224Z"
   },
   {
    "duration": 16,
    "start_time": "2023-06-19T12:56:38.241Z"
   },
   {
    "duration": 13,
    "start_time": "2023-06-19T12:56:38.259Z"
   },
   {
    "duration": 9,
    "start_time": "2023-06-19T12:56:38.273Z"
   },
   {
    "duration": 20,
    "start_time": "2023-06-19T12:56:38.283Z"
   },
   {
    "duration": 187,
    "start_time": "2023-06-19T12:56:38.309Z"
   },
   {
    "duration": 91,
    "start_time": "2023-06-19T12:56:38.501Z"
   },
   {
    "duration": 321,
    "start_time": "2023-06-19T12:56:38.602Z"
   },
   {
    "duration": 328,
    "start_time": "2023-06-19T12:56:38.926Z"
   },
   {
    "duration": 8,
    "start_time": "2023-06-19T12:56:39.255Z"
   },
   {
    "duration": 11,
    "start_time": "2023-06-19T12:56:39.265Z"
   },
   {
    "duration": 251,
    "start_time": "2023-06-19T12:56:39.278Z"
   },
   {
    "duration": 7,
    "start_time": "2023-06-19T12:56:39.531Z"
   },
   {
    "duration": 50,
    "start_time": "2023-06-19T12:56:39.540Z"
   },
   {
    "duration": 43,
    "start_time": "2023-06-19T12:56:39.592Z"
   },
   {
    "duration": 1186,
    "start_time": "2023-06-19T12:56:39.637Z"
   },
   {
    "duration": 34,
    "start_time": "2023-06-19T12:56:40.825Z"
   },
   {
    "duration": 7,
    "start_time": "2023-06-19T12:56:40.861Z"
   },
   {
    "duration": 487,
    "start_time": "2023-06-19T12:56:40.870Z"
   },
   {
    "duration": 6,
    "start_time": "2023-06-19T12:56:41.361Z"
   },
   {
    "duration": 10,
    "start_time": "2023-06-19T12:56:41.369Z"
   },
   {
    "duration": 42,
    "start_time": "2023-06-19T12:56:41.380Z"
   },
   {
    "duration": 1395,
    "start_time": "2023-06-19T12:56:41.424Z"
   },
   {
    "duration": 38870,
    "start_time": "2023-06-19T12:56:42.826Z"
   },
   {
    "duration": 1185,
    "start_time": "2023-06-19T14:49:47.697Z"
   },
   {
    "duration": 86,
    "start_time": "2023-06-19T14:49:48.885Z"
   },
   {
    "duration": 4,
    "start_time": "2023-06-19T14:49:48.973Z"
   },
   {
    "duration": 50,
    "start_time": "2023-06-19T14:49:48.979Z"
   },
   {
    "duration": 21,
    "start_time": "2023-06-19T14:49:49.032Z"
   },
   {
    "duration": 18,
    "start_time": "2023-06-19T14:49:49.054Z"
   },
   {
    "duration": 7,
    "start_time": "2023-06-19T14:49:49.074Z"
   },
   {
    "duration": 29,
    "start_time": "2023-06-19T14:49:49.083Z"
   },
   {
    "duration": 20,
    "start_time": "2023-06-19T14:49:49.114Z"
   },
   {
    "duration": 10,
    "start_time": "2023-06-19T14:49:49.137Z"
   },
   {
    "duration": 19,
    "start_time": "2023-06-19T14:49:49.149Z"
   },
   {
    "duration": 29,
    "start_time": "2023-06-19T14:49:49.169Z"
   },
   {
    "duration": 36,
    "start_time": "2023-06-19T14:49:49.200Z"
   },
   {
    "duration": 163,
    "start_time": "2023-06-19T14:49:49.238Z"
   },
   {
    "duration": 108,
    "start_time": "2023-06-19T14:49:49.405Z"
   },
   {
    "duration": 281,
    "start_time": "2023-06-19T14:49:49.514Z"
   },
   {
    "duration": 321,
    "start_time": "2023-06-19T14:49:49.797Z"
   },
   {
    "duration": 14,
    "start_time": "2023-06-19T14:49:50.119Z"
   },
   {
    "duration": 52,
    "start_time": "2023-06-19T14:49:50.135Z"
   },
   {
    "duration": 246,
    "start_time": "2023-06-19T14:49:50.189Z"
   },
   {
    "duration": 8,
    "start_time": "2023-06-19T14:49:50.437Z"
   },
   {
    "duration": 52,
    "start_time": "2023-06-19T14:49:50.447Z"
   },
   {
    "duration": 64,
    "start_time": "2023-06-19T14:49:50.501Z"
   },
   {
    "duration": 1125,
    "start_time": "2023-06-19T14:49:50.567Z"
   },
   {
    "duration": 36,
    "start_time": "2023-06-19T14:49:51.703Z"
   },
   {
    "duration": 15,
    "start_time": "2023-06-19T14:49:51.741Z"
   },
   {
    "duration": 483,
    "start_time": "2023-06-19T14:49:51.758Z"
   },
   {
    "duration": 6,
    "start_time": "2023-06-19T14:49:52.245Z"
   },
   {
    "duration": 31,
    "start_time": "2023-06-19T14:49:52.253Z"
   },
   {
    "duration": 76,
    "start_time": "2023-06-19T14:49:52.286Z"
   },
   {
    "duration": 1340,
    "start_time": "2023-06-19T14:49:52.364Z"
   },
   {
    "duration": 40378,
    "start_time": "2023-06-19T14:49:53.706Z"
   },
   {
    "duration": 172,
    "start_time": "2023-06-19T14:56:49.816Z"
   },
   {
    "duration": 1152,
    "start_time": "2023-06-19T14:58:47.828Z"
   },
   {
    "duration": 85,
    "start_time": "2023-06-19T14:58:48.982Z"
   },
   {
    "duration": 3,
    "start_time": "2023-06-19T14:58:49.069Z"
   },
   {
    "duration": 29,
    "start_time": "2023-06-19T14:58:49.074Z"
   },
   {
    "duration": 35,
    "start_time": "2023-06-19T14:58:49.108Z"
   },
   {
    "duration": 20,
    "start_time": "2023-06-19T14:58:49.145Z"
   },
   {
    "duration": 9,
    "start_time": "2023-06-19T14:58:49.167Z"
   },
   {
    "duration": 34,
    "start_time": "2023-06-19T14:58:49.178Z"
   },
   {
    "duration": 31,
    "start_time": "2023-06-19T14:58:49.217Z"
   },
   {
    "duration": 8,
    "start_time": "2023-06-19T14:58:49.250Z"
   },
   {
    "duration": 9,
    "start_time": "2023-06-19T14:58:49.260Z"
   },
   {
    "duration": 11,
    "start_time": "2023-06-19T14:58:49.270Z"
   },
   {
    "duration": 4,
    "start_time": "2023-06-19T14:58:49.283Z"
   },
   {
    "duration": 176,
    "start_time": "2023-06-19T14:58:49.305Z"
   },
   {
    "duration": 99,
    "start_time": "2023-06-19T14:58:49.483Z"
   },
   {
    "duration": 298,
    "start_time": "2023-06-19T14:58:49.584Z"
   },
   {
    "duration": 327,
    "start_time": "2023-06-19T14:58:49.884Z"
   },
   {
    "duration": 11,
    "start_time": "2023-06-19T14:58:50.221Z"
   },
   {
    "duration": 26,
    "start_time": "2023-06-19T14:58:50.233Z"
   },
   {
    "duration": 248,
    "start_time": "2023-06-19T14:58:50.260Z"
   },
   {
    "duration": 15,
    "start_time": "2023-06-19T14:58:50.510Z"
   },
   {
    "duration": 45,
    "start_time": "2023-06-19T14:58:50.530Z"
   },
   {
    "duration": 41,
    "start_time": "2023-06-19T14:58:50.577Z"
   },
   {
    "duration": 1141,
    "start_time": "2023-06-19T14:58:50.622Z"
   },
   {
    "duration": 40,
    "start_time": "2023-06-19T14:58:51.765Z"
   },
   {
    "duration": 10,
    "start_time": "2023-06-19T14:58:51.807Z"
   },
   {
    "duration": 476,
    "start_time": "2023-06-19T14:58:51.819Z"
   },
   {
    "duration": 11,
    "start_time": "2023-06-19T14:58:52.297Z"
   },
   {
    "duration": 25,
    "start_time": "2023-06-19T14:58:52.316Z"
   },
   {
    "duration": 17,
    "start_time": "2023-06-19T14:58:52.343Z"
   },
   {
    "duration": 1467,
    "start_time": "2023-06-19T14:58:52.362Z"
   },
   {
    "duration": 39264,
    "start_time": "2023-06-19T14:58:53.831Z"
   },
   {
    "duration": 10,
    "start_time": "2023-06-19T15:05:46.919Z"
   },
   {
    "duration": 16,
    "start_time": "2023-06-19T15:05:58.819Z"
   },
   {
    "duration": 1371,
    "start_time": "2023-06-25T08:48:19.593Z"
   },
   {
    "duration": 320,
    "start_time": "2023-06-25T08:48:20.966Z"
   },
   {
    "duration": 3,
    "start_time": "2023-06-25T08:48:21.289Z"
   },
   {
    "duration": 43,
    "start_time": "2023-06-25T08:48:21.294Z"
   },
   {
    "duration": 25,
    "start_time": "2023-06-25T08:48:21.340Z"
   },
   {
    "duration": 40,
    "start_time": "2023-06-25T08:48:21.367Z"
   },
   {
    "duration": 23,
    "start_time": "2023-06-25T08:48:21.409Z"
   },
   {
    "duration": 9,
    "start_time": "2023-06-25T08:48:21.434Z"
   },
   {
    "duration": 57,
    "start_time": "2023-06-25T08:48:21.445Z"
   },
   {
    "duration": 32,
    "start_time": "2023-06-25T08:48:21.504Z"
   },
   {
    "duration": 29,
    "start_time": "2023-06-25T08:48:21.538Z"
   },
   {
    "duration": 13,
    "start_time": "2023-06-25T08:48:21.569Z"
   },
   {
    "duration": 25,
    "start_time": "2023-06-25T08:48:21.583Z"
   },
   {
    "duration": 193,
    "start_time": "2023-06-25T08:48:21.611Z"
   },
   {
    "duration": 91,
    "start_time": "2023-06-25T08:48:21.806Z"
   },
   {
    "duration": 279,
    "start_time": "2023-06-25T08:48:21.899Z"
   },
   {
    "duration": 300,
    "start_time": "2023-06-25T08:48:22.179Z"
   },
   {
    "duration": 9,
    "start_time": "2023-06-25T08:48:22.480Z"
   },
   {
    "duration": 40,
    "start_time": "2023-06-25T08:48:22.491Z"
   },
   {
    "duration": 245,
    "start_time": "2023-06-25T08:48:22.533Z"
   },
   {
    "duration": 8,
    "start_time": "2023-06-25T08:48:22.780Z"
   },
   {
    "duration": 58,
    "start_time": "2023-06-25T08:48:22.790Z"
   },
   {
    "duration": 39,
    "start_time": "2023-06-25T08:48:22.851Z"
   },
   {
    "duration": 1142,
    "start_time": "2023-06-25T08:48:22.893Z"
   },
   {
    "duration": 48,
    "start_time": "2023-06-25T08:48:24.037Z"
   },
   {
    "duration": 11,
    "start_time": "2023-06-25T08:48:24.088Z"
   },
   {
    "duration": 528,
    "start_time": "2023-06-25T08:48:24.101Z"
   },
   {
    "duration": 5,
    "start_time": "2023-06-25T08:48:24.631Z"
   },
   {
    "duration": 15,
    "start_time": "2023-06-25T08:48:24.638Z"
   },
   {
    "duration": 57,
    "start_time": "2023-06-25T08:48:24.654Z"
   },
   {
    "duration": 1410,
    "start_time": "2023-06-25T08:48:24.713Z"
   },
   {
    "duration": 36808,
    "start_time": "2023-06-25T08:48:26.125Z"
   },
   {
    "duration": 73,
    "start_time": "2023-06-25T09:19:18.697Z"
   },
   {
    "duration": 68,
    "start_time": "2023-06-25T09:29:19.916Z"
   },
   {
    "duration": 200,
    "start_time": "2023-06-25T09:30:34.912Z"
   },
   {
    "duration": 1171,
    "start_time": "2023-06-25T09:38:05.976Z"
   },
   {
    "duration": 188,
    "start_time": "2023-06-25T09:38:07.149Z"
   },
   {
    "duration": 3,
    "start_time": "2023-06-25T09:38:07.339Z"
   },
   {
    "duration": 115,
    "start_time": "2023-06-25T09:38:07.344Z"
   },
   {
    "duration": 31,
    "start_time": "2023-06-25T09:38:07.461Z"
   },
   {
    "duration": 36,
    "start_time": "2023-06-25T09:38:07.494Z"
   },
   {
    "duration": 7,
    "start_time": "2023-06-25T09:38:07.532Z"
   },
   {
    "duration": 26,
    "start_time": "2023-06-25T09:38:07.541Z"
   },
   {
    "duration": 20,
    "start_time": "2023-06-25T09:38:07.569Z"
   },
   {
    "duration": 8,
    "start_time": "2023-06-25T09:38:07.592Z"
   },
   {
    "duration": 9,
    "start_time": "2023-06-25T09:38:07.601Z"
   },
   {
    "duration": 18,
    "start_time": "2023-06-25T09:38:07.611Z"
   },
   {
    "duration": 11,
    "start_time": "2023-06-25T09:38:07.631Z"
   },
   {
    "duration": 242,
    "start_time": "2023-06-25T09:38:07.644Z"
   },
   {
    "duration": 185,
    "start_time": "2023-06-25T09:38:07.888Z"
   },
   {
    "duration": 294,
    "start_time": "2023-06-25T09:38:08.075Z"
   },
   {
    "duration": 318,
    "start_time": "2023-06-25T09:38:08.371Z"
   },
   {
    "duration": 8,
    "start_time": "2023-06-25T09:38:08.691Z"
   },
   {
    "duration": 14,
    "start_time": "2023-06-25T09:38:08.701Z"
   },
   {
    "duration": 262,
    "start_time": "2023-06-25T09:38:08.717Z"
   },
   {
    "duration": 7,
    "start_time": "2023-06-25T09:38:08.981Z"
   },
   {
    "duration": 42,
    "start_time": "2023-06-25T09:38:08.990Z"
   },
   {
    "duration": 37,
    "start_time": "2023-06-25T09:38:09.034Z"
   },
   {
    "duration": 1032,
    "start_time": "2023-06-25T09:38:09.073Z"
   },
   {
    "duration": 26,
    "start_time": "2023-06-25T09:38:10.107Z"
   },
   {
    "duration": 7,
    "start_time": "2023-06-25T09:38:10.134Z"
   },
   {
    "duration": 453,
    "start_time": "2023-06-25T09:38:10.142Z"
   },
   {
    "duration": 6,
    "start_time": "2023-06-25T09:38:10.598Z"
   },
   {
    "duration": 6,
    "start_time": "2023-06-25T09:38:10.605Z"
   },
   {
    "duration": 16,
    "start_time": "2023-06-25T09:38:10.612Z"
   },
   {
    "duration": 1362,
    "start_time": "2023-06-25T09:38:10.629Z"
   },
   {
    "duration": 38071,
    "start_time": "2023-06-25T09:38:11.993Z"
   },
   {
    "duration": 8,
    "start_time": "2023-06-25T09:40:04.035Z"
   },
   {
    "duration": 8,
    "start_time": "2023-06-25T09:40:19.485Z"
   },
   {
    "duration": 9,
    "start_time": "2023-06-25T09:40:36.886Z"
   },
   {
    "duration": 7,
    "start_time": "2023-06-25T09:41:42.845Z"
   },
   {
    "duration": 133,
    "start_time": "2023-06-25T09:46:28.484Z"
   },
   {
    "duration": 155,
    "start_time": "2023-06-25T09:49:30.903Z"
   },
   {
    "duration": 169,
    "start_time": "2023-06-25T09:56:07.956Z"
   },
   {
    "duration": 285,
    "start_time": "2023-06-25T09:59:01.816Z"
   },
   {
    "duration": 319,
    "start_time": "2023-06-25T09:59:14.055Z"
   },
   {
    "duration": 307,
    "start_time": "2023-06-25T10:03:46.394Z"
   },
   {
    "duration": 228,
    "start_time": "2023-06-25T10:05:01.513Z"
   },
   {
    "duration": 20,
    "start_time": "2023-06-25T10:12:10.635Z"
   },
   {
    "duration": 21,
    "start_time": "2023-06-25T10:12:50.055Z"
   },
   {
    "duration": 23,
    "start_time": "2023-06-25T10:13:37.256Z"
   },
   {
    "duration": 33,
    "start_time": "2023-06-25T10:14:22.195Z"
   },
   {
    "duration": 41,
    "start_time": "2023-06-25T10:21:27.924Z"
   },
   {
    "duration": 49,
    "start_time": "2023-06-25T10:23:45.876Z"
   },
   {
    "duration": 48,
    "start_time": "2023-06-25T10:25:51.685Z"
   },
   {
    "duration": 102,
    "start_time": "2023-06-25T10:55:48.705Z"
   },
   {
    "duration": 6,
    "start_time": "2023-06-25T10:58:03.635Z"
   },
   {
    "duration": 6,
    "start_time": "2023-06-25T10:58:18.955Z"
   },
   {
    "duration": 1026,
    "start_time": "2023-06-25T10:59:35.238Z"
   },
   {
    "duration": 8,
    "start_time": "2023-06-25T11:00:19.205Z"
   },
   {
    "duration": 8,
    "start_time": "2023-06-25T11:02:15.195Z"
   },
   {
    "duration": 13,
    "start_time": "2023-06-25T11:02:56.236Z"
   },
   {
    "duration": 1187,
    "start_time": "2023-06-25T11:03:07.148Z"
   },
   {
    "duration": 202,
    "start_time": "2023-06-25T11:03:08.337Z"
   },
   {
    "duration": 4,
    "start_time": "2023-06-25T11:03:08.541Z"
   },
   {
    "duration": 38,
    "start_time": "2023-06-25T11:03:08.547Z"
   },
   {
    "duration": 23,
    "start_time": "2023-06-25T11:03:08.587Z"
   },
   {
    "duration": 21,
    "start_time": "2023-06-25T11:03:08.612Z"
   },
   {
    "duration": 39,
    "start_time": "2023-06-25T11:03:08.635Z"
   },
   {
    "duration": 15,
    "start_time": "2023-06-25T11:03:08.676Z"
   },
   {
    "duration": 9,
    "start_time": "2023-06-25T11:03:08.694Z"
   },
   {
    "duration": 17,
    "start_time": "2023-06-25T11:03:08.708Z"
   },
   {
    "duration": 7,
    "start_time": "2023-06-25T11:03:08.728Z"
   },
   {
    "duration": 33,
    "start_time": "2023-06-25T11:03:08.737Z"
   },
   {
    "duration": 10,
    "start_time": "2023-06-25T11:03:08.772Z"
   },
   {
    "duration": 6,
    "start_time": "2023-06-25T11:03:08.784Z"
   },
   {
    "duration": 215,
    "start_time": "2023-06-25T11:03:08.792Z"
   },
   {
    "duration": 104,
    "start_time": "2023-06-25T11:03:09.009Z"
   },
   {
    "duration": 313,
    "start_time": "2023-06-25T11:03:09.116Z"
   },
   {
    "duration": 339,
    "start_time": "2023-06-25T11:03:09.432Z"
   },
   {
    "duration": 8,
    "start_time": "2023-06-25T11:03:09.773Z"
   },
   {
    "duration": 9,
    "start_time": "2023-06-25T11:03:09.782Z"
   },
   {
    "duration": 273,
    "start_time": "2023-06-25T11:03:09.794Z"
   },
   {
    "duration": 8,
    "start_time": "2023-06-25T11:03:10.069Z"
   },
   {
    "duration": 71,
    "start_time": "2023-06-25T11:03:10.079Z"
   },
   {
    "duration": 36,
    "start_time": "2023-06-25T11:03:10.151Z"
   },
   {
    "duration": 1090,
    "start_time": "2023-06-25T11:03:10.189Z"
   },
   {
    "duration": 27,
    "start_time": "2023-06-25T11:03:11.281Z"
   },
   {
    "duration": 7,
    "start_time": "2023-06-25T11:03:11.310Z"
   },
   {
    "duration": 449,
    "start_time": "2023-06-25T11:03:11.321Z"
   },
   {
    "duration": 7,
    "start_time": "2023-06-25T11:03:11.772Z"
   },
   {
    "duration": 7,
    "start_time": "2023-06-25T11:03:11.781Z"
   },
   {
    "duration": 13,
    "start_time": "2023-06-25T11:03:11.790Z"
   },
   {
    "duration": 121,
    "start_time": "2023-06-25T11:03:11.805Z"
   },
   {
    "duration": 0,
    "start_time": "2023-06-25T11:03:11.927Z"
   },
   {
    "duration": 0,
    "start_time": "2023-06-25T11:03:11.929Z"
   },
   {
    "duration": 10,
    "start_time": "2023-06-25T11:04:01.426Z"
   },
   {
    "duration": 1048,
    "start_time": "2023-06-25T11:04:21.127Z"
   },
   {
    "duration": 13,
    "start_time": "2023-06-25T11:06:52.493Z"
   },
   {
    "duration": 6,
    "start_time": "2023-06-25T11:07:09.646Z"
   },
   {
    "duration": 1043,
    "start_time": "2023-06-25T11:07:24.778Z"
   },
   {
    "duration": 10896,
    "start_time": "2023-06-25T11:07:36.993Z"
   },
   {
    "duration": 28,
    "start_time": "2023-06-25T11:08:27.815Z"
   },
   {
    "duration": 43,
    "start_time": "2023-06-25T11:12:39.341Z"
   },
   {
    "duration": 1412,
    "start_time": "2023-06-25T11:21:50.354Z"
   },
   {
    "duration": 18,
    "start_time": "2023-06-25T11:23:28.185Z"
   },
   {
    "duration": 17,
    "start_time": "2023-06-25T11:23:50.783Z"
   },
   {
    "duration": 27,
    "start_time": "2023-06-25T11:24:06.803Z"
   },
   {
    "duration": 37164,
    "start_time": "2023-06-25T11:34:52.540Z"
   },
   {
    "duration": 27,
    "start_time": "2023-06-25T11:43:45.108Z"
   },
   {
    "duration": 6,
    "start_time": "2023-06-25T11:56:43.533Z"
   },
   {
    "duration": 6,
    "start_time": "2023-06-25T11:56:53.469Z"
   },
   {
    "duration": 137,
    "start_time": "2023-06-25T11:57:20.922Z"
   },
   {
    "duration": 27,
    "start_time": "2023-06-25T11:57:38.692Z"
   },
   {
    "duration": 80,
    "start_time": "2023-06-25T12:08:15.836Z"
   },
   {
    "duration": 101,
    "start_time": "2023-06-25T12:10:05.730Z"
   },
   {
    "duration": 90,
    "start_time": "2023-06-25T12:10:25.469Z"
   },
   {
    "duration": 788,
    "start_time": "2023-06-25T12:10:46.370Z"
   },
   {
    "duration": 318,
    "start_time": "2023-06-25T12:11:36.105Z"
   },
   {
    "duration": 259,
    "start_time": "2023-06-25T12:13:21.275Z"
   },
   {
    "duration": 3,
    "start_time": "2023-06-25T12:18:25.182Z"
   },
   {
    "duration": 1416,
    "start_time": "2023-06-25T12:25:26.654Z"
   },
   {
    "duration": 229,
    "start_time": "2023-06-25T12:25:28.072Z"
   },
   {
    "duration": 3,
    "start_time": "2023-06-25T12:25:28.304Z"
   },
   {
    "duration": 55,
    "start_time": "2023-06-25T12:25:28.310Z"
   },
   {
    "duration": 29,
    "start_time": "2023-06-25T12:25:28.367Z"
   },
   {
    "duration": 23,
    "start_time": "2023-06-25T12:25:28.398Z"
   },
   {
    "duration": 8,
    "start_time": "2023-06-25T12:25:28.422Z"
   },
   {
    "duration": 37,
    "start_time": "2023-06-25T12:25:28.432Z"
   },
   {
    "duration": 16,
    "start_time": "2023-06-25T12:25:28.470Z"
   },
   {
    "duration": 17,
    "start_time": "2023-06-25T12:25:28.489Z"
   },
   {
    "duration": 8,
    "start_time": "2023-06-25T12:25:28.508Z"
   },
   {
    "duration": 16,
    "start_time": "2023-06-25T12:25:28.519Z"
   },
   {
    "duration": 30,
    "start_time": "2023-06-25T12:25:28.538Z"
   },
   {
    "duration": 8,
    "start_time": "2023-06-25T12:25:28.570Z"
   },
   {
    "duration": 228,
    "start_time": "2023-06-25T12:25:28.580Z"
   },
   {
    "duration": 130,
    "start_time": "2023-06-25T12:25:28.810Z"
   },
   {
    "duration": 355,
    "start_time": "2023-06-25T12:25:28.942Z"
   },
   {
    "duration": 383,
    "start_time": "2023-06-25T12:25:29.299Z"
   },
   {
    "duration": 9,
    "start_time": "2023-06-25T12:25:29.684Z"
   },
   {
    "duration": 10,
    "start_time": "2023-06-25T12:25:29.696Z"
   },
   {
    "duration": 316,
    "start_time": "2023-06-25T12:25:29.709Z"
   },
   {
    "duration": 10,
    "start_time": "2023-06-25T12:25:30.029Z"
   },
   {
    "duration": 113,
    "start_time": "2023-06-25T12:25:30.041Z"
   },
   {
    "duration": 90,
    "start_time": "2023-06-25T12:25:30.156Z"
   },
   {
    "duration": 1401,
    "start_time": "2023-06-25T12:25:30.248Z"
   },
   {
    "duration": 46,
    "start_time": "2023-06-25T12:25:31.651Z"
   },
   {
    "duration": 47,
    "start_time": "2023-06-25T12:25:31.702Z"
   },
   {
    "duration": 82,
    "start_time": "2023-06-25T12:25:31.754Z"
   },
   {
    "duration": 0,
    "start_time": "2023-06-25T12:25:31.838Z"
   },
   {
    "duration": 0,
    "start_time": "2023-06-25T12:25:31.840Z"
   },
   {
    "duration": 0,
    "start_time": "2023-06-25T12:25:31.841Z"
   },
   {
    "duration": 0,
    "start_time": "2023-06-25T12:25:31.842Z"
   },
   {
    "duration": 0,
    "start_time": "2023-06-25T12:25:31.844Z"
   },
   {
    "duration": 0,
    "start_time": "2023-06-25T12:25:31.846Z"
   },
   {
    "duration": 0,
    "start_time": "2023-06-25T12:25:31.847Z"
   },
   {
    "duration": 453,
    "start_time": "2023-06-25T12:30:13.193Z"
   },
   {
    "duration": 1191,
    "start_time": "2023-06-25T12:30:35.483Z"
   },
   {
    "duration": 204,
    "start_time": "2023-06-25T12:30:36.678Z"
   },
   {
    "duration": 6,
    "start_time": "2023-06-25T12:30:36.884Z"
   },
   {
    "duration": 30,
    "start_time": "2023-06-25T12:30:36.893Z"
   },
   {
    "duration": 23,
    "start_time": "2023-06-25T12:30:36.925Z"
   },
   {
    "duration": 32,
    "start_time": "2023-06-25T12:30:36.949Z"
   },
   {
    "duration": 20,
    "start_time": "2023-06-25T12:30:36.987Z"
   },
   {
    "duration": 7,
    "start_time": "2023-06-25T12:30:37.009Z"
   },
   {
    "duration": 17,
    "start_time": "2023-06-25T12:30:37.018Z"
   },
   {
    "duration": 12,
    "start_time": "2023-06-25T12:30:37.038Z"
   },
   {
    "duration": 24,
    "start_time": "2023-06-25T12:30:37.052Z"
   },
   {
    "duration": 14,
    "start_time": "2023-06-25T12:30:37.078Z"
   },
   {
    "duration": 9,
    "start_time": "2023-06-25T12:30:37.093Z"
   },
   {
    "duration": 4,
    "start_time": "2023-06-25T12:30:37.103Z"
   },
   {
    "duration": 199,
    "start_time": "2023-06-25T12:30:37.109Z"
   },
   {
    "duration": 107,
    "start_time": "2023-06-25T12:30:37.310Z"
   },
   {
    "duration": 338,
    "start_time": "2023-06-25T12:30:37.419Z"
   },
   {
    "duration": 348,
    "start_time": "2023-06-25T12:30:37.758Z"
   },
   {
    "duration": 9,
    "start_time": "2023-06-25T12:30:38.107Z"
   },
   {
    "duration": 23,
    "start_time": "2023-06-25T12:30:38.117Z"
   },
   {
    "duration": 235,
    "start_time": "2023-06-25T12:30:38.141Z"
   },
   {
    "duration": 8,
    "start_time": "2023-06-25T12:30:38.378Z"
   },
   {
    "duration": 64,
    "start_time": "2023-06-25T12:30:38.387Z"
   },
   {
    "duration": 43,
    "start_time": "2023-06-25T12:30:38.453Z"
   },
   {
    "duration": 1146,
    "start_time": "2023-06-25T12:30:38.498Z"
   },
   {
    "duration": 38,
    "start_time": "2023-06-25T12:30:39.646Z"
   },
   {
    "duration": 7,
    "start_time": "2023-06-25T12:30:39.686Z"
   },
   {
    "duration": 501,
    "start_time": "2023-06-25T12:30:39.697Z"
   },
   {
    "duration": 2,
    "start_time": "2023-06-25T12:30:40.200Z"
   },
   {
    "duration": 14,
    "start_time": "2023-06-25T12:30:40.204Z"
   },
   {
    "duration": 5,
    "start_time": "2023-06-25T12:30:40.220Z"
   },
   {
    "duration": 25,
    "start_time": "2023-06-25T12:30:40.227Z"
   },
   {
    "duration": 38,
    "start_time": "2023-06-25T12:30:40.253Z"
   },
   {
    "duration": 1406,
    "start_time": "2023-06-25T12:30:40.293Z"
   },
   {
    "duration": 38147,
    "start_time": "2023-06-25T12:30:41.701Z"
   },
   {
    "duration": 84,
    "start_time": "2023-06-25T14:38:54.611Z"
   },
   {
    "duration": 1432,
    "start_time": "2023-06-25T14:39:07.192Z"
   },
   {
    "duration": 589,
    "start_time": "2023-06-25T14:39:08.627Z"
   },
   {
    "duration": 4,
    "start_time": "2023-06-25T14:39:09.218Z"
   },
   {
    "duration": 31,
    "start_time": "2023-06-25T14:39:09.223Z"
   },
   {
    "duration": 42,
    "start_time": "2023-06-25T14:39:09.258Z"
   },
   {
    "duration": 27,
    "start_time": "2023-06-25T14:39:09.302Z"
   },
   {
    "duration": 8,
    "start_time": "2023-06-25T14:39:09.331Z"
   },
   {
    "duration": 31,
    "start_time": "2023-06-25T14:39:09.341Z"
   },
   {
    "duration": 8,
    "start_time": "2023-06-25T14:39:09.374Z"
   },
   {
    "duration": 17,
    "start_time": "2023-06-25T14:39:09.388Z"
   },
   {
    "duration": 20,
    "start_time": "2023-06-25T14:39:09.407Z"
   },
   {
    "duration": 7,
    "start_time": "2023-06-25T14:39:09.429Z"
   },
   {
    "duration": 41,
    "start_time": "2023-06-25T14:39:09.438Z"
   },
   {
    "duration": 5,
    "start_time": "2023-06-25T14:39:09.487Z"
   },
   {
    "duration": 205,
    "start_time": "2023-06-25T14:39:09.493Z"
   },
   {
    "duration": 102,
    "start_time": "2023-06-25T14:39:09.700Z"
   },
   {
    "duration": 308,
    "start_time": "2023-06-25T14:39:09.804Z"
   },
   {
    "duration": 395,
    "start_time": "2023-06-25T14:39:10.114Z"
   },
   {
    "duration": 10,
    "start_time": "2023-06-25T14:39:10.512Z"
   },
   {
    "duration": 10,
    "start_time": "2023-06-25T14:39:10.524Z"
   },
   {
    "duration": 325,
    "start_time": "2023-06-25T14:39:10.537Z"
   },
   {
    "duration": 20,
    "start_time": "2023-06-25T14:39:10.866Z"
   },
   {
    "duration": 56,
    "start_time": "2023-06-25T14:39:10.890Z"
   },
   {
    "duration": 59,
    "start_time": "2023-06-25T14:39:10.948Z"
   },
   {
    "duration": 1182,
    "start_time": "2023-06-25T14:39:11.009Z"
   },
   {
    "duration": 27,
    "start_time": "2023-06-25T14:39:12.193Z"
   },
   {
    "duration": 31,
    "start_time": "2023-06-25T14:39:12.221Z"
   },
   {
    "duration": 553,
    "start_time": "2023-06-25T14:39:12.253Z"
   },
   {
    "duration": 2,
    "start_time": "2023-06-25T14:39:12.808Z"
   },
   {
    "duration": 15,
    "start_time": "2023-06-25T14:39:12.812Z"
   },
   {
    "duration": 11,
    "start_time": "2023-06-25T14:39:12.829Z"
   },
   {
    "duration": 38,
    "start_time": "2023-06-25T14:39:12.842Z"
   },
   {
    "duration": 25,
    "start_time": "2023-06-25T14:39:12.881Z"
   },
   {
    "duration": 1520,
    "start_time": "2023-06-25T14:39:12.908Z"
   },
   {
    "duration": 40811,
    "start_time": "2023-06-25T14:39:14.430Z"
   },
   {
    "duration": 1359,
    "start_time": "2023-06-25T17:08:37.999Z"
   },
   {
    "duration": 542,
    "start_time": "2023-06-25T17:08:39.361Z"
   },
   {
    "duration": 3,
    "start_time": "2023-06-25T17:08:39.905Z"
   },
   {
    "duration": 43,
    "start_time": "2023-06-25T17:08:39.910Z"
   },
   {
    "duration": 29,
    "start_time": "2023-06-25T17:08:39.954Z"
   },
   {
    "duration": 20,
    "start_time": "2023-06-25T17:08:39.985Z"
   },
   {
    "duration": 89,
    "start_time": "2023-06-25T17:08:40.006Z"
   },
   {
    "duration": 58,
    "start_time": "2023-06-25T17:08:40.097Z"
   },
   {
    "duration": 15,
    "start_time": "2023-06-25T17:08:40.157Z"
   },
   {
    "duration": 16,
    "start_time": "2023-06-25T17:08:40.177Z"
   },
   {
    "duration": 24,
    "start_time": "2023-06-25T17:08:40.195Z"
   },
   {
    "duration": 38,
    "start_time": "2023-06-25T17:08:40.221Z"
   },
   {
    "duration": 25,
    "start_time": "2023-06-25T17:08:40.261Z"
   },
   {
    "duration": 23,
    "start_time": "2023-06-25T17:08:40.288Z"
   },
   {
    "duration": 203,
    "start_time": "2023-06-25T17:08:40.313Z"
   },
   {
    "duration": 100,
    "start_time": "2023-06-25T17:08:40.518Z"
   },
   {
    "duration": 311,
    "start_time": "2023-06-25T17:08:40.620Z"
   },
   {
    "duration": 307,
    "start_time": "2023-06-25T17:08:40.933Z"
   },
   {
    "duration": 10,
    "start_time": "2023-06-25T17:08:41.242Z"
   },
   {
    "duration": 30,
    "start_time": "2023-06-25T17:08:41.253Z"
   },
   {
    "duration": 246,
    "start_time": "2023-06-25T17:08:41.285Z"
   },
   {
    "duration": 9,
    "start_time": "2023-06-25T17:08:41.533Z"
   },
   {
    "duration": 81,
    "start_time": "2023-06-25T17:08:41.544Z"
   },
   {
    "duration": 32,
    "start_time": "2023-06-25T17:08:41.627Z"
   },
   {
    "duration": 1166,
    "start_time": "2023-06-25T17:08:41.667Z"
   },
   {
    "duration": 49,
    "start_time": "2023-06-25T17:08:42.834Z"
   },
   {
    "duration": 8,
    "start_time": "2023-06-25T17:08:42.886Z"
   },
   {
    "duration": 552,
    "start_time": "2023-06-25T17:08:42.899Z"
   },
   {
    "duration": 3,
    "start_time": "2023-06-25T17:08:43.453Z"
   },
   {
    "duration": 21,
    "start_time": "2023-06-25T17:08:43.458Z"
   },
   {
    "duration": 7,
    "start_time": "2023-06-25T17:08:43.480Z"
   },
   {
    "duration": 34,
    "start_time": "2023-06-25T17:08:43.489Z"
   },
   {
    "duration": 26,
    "start_time": "2023-06-25T17:08:43.525Z"
   },
   {
    "duration": 146,
    "start_time": "2023-06-25T17:08:43.553Z"
   },
   {
    "duration": 0,
    "start_time": "2023-06-25T17:08:43.701Z"
   },
   {
    "duration": 1559,
    "start_time": "2023-06-25T17:09:35.033Z"
   },
   {
    "duration": 21,
    "start_time": "2023-06-25T17:11:33.418Z"
   },
   {
    "duration": 25,
    "start_time": "2023-06-25T17:12:26.005Z"
   },
   {
    "duration": 26,
    "start_time": "2023-06-25T17:15:20.502Z"
   },
   {
    "duration": 26,
    "start_time": "2023-06-25T17:18:15.381Z"
   },
   {
    "duration": 41,
    "start_time": "2023-06-25T17:19:19.090Z"
   },
   {
    "duration": 6,
    "start_time": "2023-06-25T17:20:30.572Z"
   },
   {
    "duration": 6,
    "start_time": "2023-06-25T17:20:57.520Z"
   },
   {
    "duration": 6,
    "start_time": "2023-06-25T17:21:17.882Z"
   },
   {
    "duration": 42,
    "start_time": "2023-06-25T17:23:14.512Z"
   },
   {
    "duration": 1232,
    "start_time": "2023-06-25T17:23:27.393Z"
   },
   {
    "duration": 228,
    "start_time": "2023-06-25T17:23:28.627Z"
   },
   {
    "duration": 4,
    "start_time": "2023-06-25T17:23:28.858Z"
   },
   {
    "duration": 35,
    "start_time": "2023-06-25T17:23:28.864Z"
   },
   {
    "duration": 29,
    "start_time": "2023-06-25T17:23:28.901Z"
   },
   {
    "duration": 55,
    "start_time": "2023-06-25T17:23:28.932Z"
   },
   {
    "duration": 10,
    "start_time": "2023-06-25T17:23:28.989Z"
   },
   {
    "duration": 8,
    "start_time": "2023-06-25T17:23:29.001Z"
   },
   {
    "duration": 6,
    "start_time": "2023-06-25T17:23:29.011Z"
   },
   {
    "duration": 50,
    "start_time": "2023-06-25T17:23:29.021Z"
   },
   {
    "duration": 12,
    "start_time": "2023-06-25T17:23:29.073Z"
   },
   {
    "duration": 7,
    "start_time": "2023-06-25T17:23:29.088Z"
   },
   {
    "duration": 11,
    "start_time": "2023-06-25T17:23:29.098Z"
   },
   {
    "duration": 7,
    "start_time": "2023-06-25T17:23:29.111Z"
   },
   {
    "duration": 230,
    "start_time": "2023-06-25T17:23:29.120Z"
   },
   {
    "duration": 107,
    "start_time": "2023-06-25T17:23:29.352Z"
   },
   {
    "duration": 300,
    "start_time": "2023-06-25T17:23:29.467Z"
   },
   {
    "duration": 341,
    "start_time": "2023-06-25T17:23:29.770Z"
   },
   {
    "duration": 11,
    "start_time": "2023-06-25T17:23:30.113Z"
   },
   {
    "duration": 22,
    "start_time": "2023-06-25T17:23:30.125Z"
   },
   {
    "duration": 318,
    "start_time": "2023-06-25T17:23:30.149Z"
   },
   {
    "duration": 11,
    "start_time": "2023-06-25T17:23:30.469Z"
   },
   {
    "duration": 93,
    "start_time": "2023-06-25T17:23:30.483Z"
   },
   {
    "duration": 35,
    "start_time": "2023-06-25T17:23:30.578Z"
   },
   {
    "duration": 1218,
    "start_time": "2023-06-25T17:23:30.614Z"
   },
   {
    "duration": 40,
    "start_time": "2023-06-25T17:23:31.835Z"
   },
   {
    "duration": 12,
    "start_time": "2023-06-25T17:23:31.877Z"
   },
   {
    "duration": 550,
    "start_time": "2023-06-25T17:23:31.894Z"
   },
   {
    "duration": 6,
    "start_time": "2023-06-25T17:23:32.446Z"
   },
   {
    "duration": 16,
    "start_time": "2023-06-25T17:23:32.456Z"
   },
   {
    "duration": 13,
    "start_time": "2023-06-25T17:23:32.475Z"
   },
   {
    "duration": 20,
    "start_time": "2023-06-25T17:23:32.491Z"
   },
   {
    "duration": 30,
    "start_time": "2023-06-25T17:23:32.513Z"
   },
   {
    "duration": 7,
    "start_time": "2023-06-25T17:23:32.568Z"
   },
   {
    "duration": 1809,
    "start_time": "2023-06-25T17:23:32.577Z"
   },
   {
    "duration": 42061,
    "start_time": "2023-06-25T17:23:34.389Z"
   },
   {
    "duration": 7,
    "start_time": "2023-06-25T17:26:38.181Z"
   },
   {
    "duration": 12,
    "start_time": "2023-06-25T17:26:53.176Z"
   },
   {
    "duration": 7,
    "start_time": "2023-06-25T17:27:09.191Z"
   },
   {
    "duration": 6,
    "start_time": "2023-06-25T17:27:29.852Z"
   },
   {
    "duration": 7,
    "start_time": "2023-06-25T17:31:08.213Z"
   },
   {
    "duration": 26,
    "start_time": "2023-06-25T17:31:41.834Z"
   },
   {
    "duration": 30,
    "start_time": "2023-06-25T17:38:52.076Z"
   },
   {
    "duration": 2097,
    "start_time": "2023-06-25T17:39:05.065Z"
   },
   {
    "duration": 29,
    "start_time": "2023-06-25T17:42:10.246Z"
   },
   {
    "duration": 6,
    "start_time": "2023-06-25T17:44:01.183Z"
   },
   {
    "duration": 6,
    "start_time": "2023-06-25T17:44:57.186Z"
   },
   {
    "duration": 28,
    "start_time": "2023-06-25T17:45:12.557Z"
   },
   {
    "duration": 39,
    "start_time": "2023-06-25T17:45:21.025Z"
   },
   {
    "duration": 43,
    "start_time": "2023-06-25T17:45:43.974Z"
   },
   {
    "duration": 6,
    "start_time": "2023-06-25T17:46:20.236Z"
   },
   {
    "duration": 6,
    "start_time": "2023-06-25T17:46:29.925Z"
   },
   {
    "duration": 7,
    "start_time": "2023-06-25T17:46:45.407Z"
   },
   {
    "duration": 7,
    "start_time": "2023-06-25T17:46:55.555Z"
   },
   {
    "duration": 7,
    "start_time": "2023-06-25T17:47:08.666Z"
   },
   {
    "duration": 5,
    "start_time": "2023-06-25T17:47:24.342Z"
   }
  ],
  "kernelspec": {
   "display_name": "Python 3 (ipykernel)",
   "language": "python",
   "name": "python3"
  },
  "language_info": {
   "codemirror_mode": {
    "name": "ipython",
    "version": 3
   },
   "file_extension": ".py",
   "mimetype": "text/x-python",
   "name": "python",
   "nbconvert_exporter": "python",
   "pygments_lexer": "ipython3",
   "version": "3.11.3"
  },
  "toc": {
   "base_numbering": 1,
   "nav_menu": {},
   "number_sections": true,
   "sideBar": true,
   "skip_h1_title": true,
   "title_cell": "Table of Contents",
   "title_sidebar": "Contents",
   "toc_cell": false,
   "toc_position": {},
   "toc_section_display": true,
   "toc_window_display": true
  }
 },
 "nbformat": 4,
 "nbformat_minor": 5
}
