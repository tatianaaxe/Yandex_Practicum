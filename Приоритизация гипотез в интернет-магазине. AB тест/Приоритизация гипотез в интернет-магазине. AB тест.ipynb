{
 "cells": [
  {
   "cell_type": "markdown",
   "metadata": {},
   "source": [
    "# Приоритизация гипотез в интернет-магазине. A/B тест."
   ]
  },
  {
   "cell_type": "markdown",
   "metadata": {},
   "source": [
    "# Описание проекта  \n",
    "Контекст  \n",
    "Вы — аналитик крупного интернет-магазина. Вместе с отделом маркетинга вы подготовили список гипотез для увеличения выручки.  \n",
    "\n",
    "В проекте будет:\n",
    "1. Проведена приоритизация гипотез по методам ICE и RICE\n",
    "\n",
    "\n",
    "2. Проведен А/В тест:\n",
    "- построены графики кумулятивного среднего чека и кумулятивного среднего количества заказов на посетителя\n",
    "- посчитана статистическая значимость различий показателей между группами А и В\n",
    "- сделаны выводы об успешности теста\n",
    " "
   ]
  },
  {
   "cell_type": "code",
   "execution_count": 1,
   "metadata": {},
   "outputs": [],
   "source": [
    "import pandas as pd\n",
    "import numpy as np\n",
    "from datetime import datetime, timedelta\n",
    "from matplotlib import pyplot as plt\n",
    "import seaborn as sns\n",
    "import scipy.stats as stats\n",
    "import re"
   ]
  },
  {
   "cell_type": "markdown",
   "metadata": {},
   "source": [
    "### Загрузим данные и подготовим их к анализу"
   ]
  },
  {
   "cell_type": "code",
   "execution_count": 2,
   "metadata": {},
   "outputs": [],
   "source": [
    "try:\n",
    "    hypothesis, orders, visitors = (\n",
    "        pd.read_csv('https://code.s3.yandex.net/datasets/hypothesis.csv'),\n",
    "        pd.read_csv('https://code.s3.yandex.net/datasets/orders.csv', parse_dates=['date']),\n",
    "        pd.read_csv('https://code.s3.yandex.net/datasets/visitors.csv', parse_dates=['date'])\n",
    "    \n",
    "        )\n",
    "except FileNotFoundError:\n",
    "    print('Некорректный путь к файлу')"
   ]
  },
  {
   "cell_type": "code",
   "execution_count": 3,
   "metadata": {},
   "outputs": [
    {
     "data": {
      "text/html": [
       "<div>\n",
       "<style scoped>\n",
       "    .dataframe tbody tr th:only-of-type {\n",
       "        vertical-align: middle;\n",
       "    }\n",
       "\n",
       "    .dataframe tbody tr th {\n",
       "        vertical-align: top;\n",
       "    }\n",
       "\n",
       "    .dataframe thead th {\n",
       "        text-align: right;\n",
       "    }\n",
       "</style>\n",
       "<table border=\"1\" class=\"dataframe\">\n",
       "  <thead>\n",
       "    <tr style=\"text-align: right;\">\n",
       "      <th></th>\n",
       "      <th>Hypothesis</th>\n",
       "      <th>Reach</th>\n",
       "      <th>Impact</th>\n",
       "      <th>Confidence</th>\n",
       "      <th>Efforts</th>\n",
       "    </tr>\n",
       "  </thead>\n",
       "  <tbody>\n",
       "    <tr>\n",
       "      <th>0</th>\n",
       "      <td>Добавить два новых канала привлечения трафика, что позволит привлекать на 30% больше пользователей</td>\n",
       "      <td>3</td>\n",
       "      <td>10</td>\n",
       "      <td>8</td>\n",
       "      <td>6</td>\n",
       "    </tr>\n",
       "    <tr>\n",
       "      <th>1</th>\n",
       "      <td>Запустить собственную службу доставки, что сократит срок доставки заказов</td>\n",
       "      <td>2</td>\n",
       "      <td>5</td>\n",
       "      <td>4</td>\n",
       "      <td>10</td>\n",
       "    </tr>\n",
       "    <tr>\n",
       "      <th>2</th>\n",
       "      <td>Добавить блоки рекомендаций товаров на сайт интернет магазина, чтобы повысить конверсию и средний чек заказа</td>\n",
       "      <td>8</td>\n",
       "      <td>3</td>\n",
       "      <td>7</td>\n",
       "      <td>3</td>\n",
       "    </tr>\n",
       "    <tr>\n",
       "      <th>3</th>\n",
       "      <td>Изменить структура категорий, что увеличит конверсию, т.к. пользователи быстрее найдут нужный товар</td>\n",
       "      <td>8</td>\n",
       "      <td>3</td>\n",
       "      <td>3</td>\n",
       "      <td>8</td>\n",
       "    </tr>\n",
       "    <tr>\n",
       "      <th>4</th>\n",
       "      <td>Изменить цвет фона главной страницы, чтобы увеличить вовлеченность пользователей</td>\n",
       "      <td>3</td>\n",
       "      <td>1</td>\n",
       "      <td>1</td>\n",
       "      <td>1</td>\n",
       "    </tr>\n",
       "    <tr>\n",
       "      <th>5</th>\n",
       "      <td>Добавить страницу отзывов клиентов о магазине, что позволит увеличить количество заказов</td>\n",
       "      <td>3</td>\n",
       "      <td>2</td>\n",
       "      <td>2</td>\n",
       "      <td>3</td>\n",
       "    </tr>\n",
       "    <tr>\n",
       "      <th>6</th>\n",
       "      <td>Показать на главной странице баннеры с актуальными акциями и распродажами, чтобы увеличить конверсию</td>\n",
       "      <td>5</td>\n",
       "      <td>3</td>\n",
       "      <td>8</td>\n",
       "      <td>3</td>\n",
       "    </tr>\n",
       "    <tr>\n",
       "      <th>7</th>\n",
       "      <td>Добавить форму подписки на все основные страницы, чтобы собрать базу клиентов для email-рассылок</td>\n",
       "      <td>10</td>\n",
       "      <td>7</td>\n",
       "      <td>8</td>\n",
       "      <td>5</td>\n",
       "    </tr>\n",
       "    <tr>\n",
       "      <th>8</th>\n",
       "      <td>Запустить акцию, дающую скидку на товар в день рождения</td>\n",
       "      <td>1</td>\n",
       "      <td>9</td>\n",
       "      <td>9</td>\n",
       "      <td>5</td>\n",
       "    </tr>\n",
       "  </tbody>\n",
       "</table>\n",
       "</div>"
      ],
      "text/plain": [
       "                                                                                                     Hypothesis  \\\n",
       "0            Добавить два новых канала привлечения трафика, что позволит привлекать на 30% больше пользователей   \n",
       "1                                     Запустить собственную службу доставки, что сократит срок доставки заказов   \n",
       "2  Добавить блоки рекомендаций товаров на сайт интернет магазина, чтобы повысить конверсию и средний чек заказа   \n",
       "3           Изменить структура категорий, что увеличит конверсию, т.к. пользователи быстрее найдут нужный товар   \n",
       "4                              Изменить цвет фона главной страницы, чтобы увеличить вовлеченность пользователей   \n",
       "5                      Добавить страницу отзывов клиентов о магазине, что позволит увеличить количество заказов   \n",
       "6          Показать на главной странице баннеры с актуальными акциями и распродажами, чтобы увеличить конверсию   \n",
       "7              Добавить форму подписки на все основные страницы, чтобы собрать базу клиентов для email-рассылок   \n",
       "8                                                       Запустить акцию, дающую скидку на товар в день рождения   \n",
       "\n",
       "   Reach  Impact  Confidence  Efforts  \n",
       "0      3      10           8        6  \n",
       "1      2       5           4       10  \n",
       "2      8       3           7        3  \n",
       "3      8       3           3        8  \n",
       "4      3       1           1        1  \n",
       "5      3       2           2        3  \n",
       "6      5       3           8        3  \n",
       "7     10       7           8        5  \n",
       "8      1       9           9        5  "
      ]
     },
     "execution_count": 3,
     "metadata": {},
     "output_type": "execute_result"
    }
   ],
   "source": [
    "pd.set_option('display.max_columns', None)\n",
    "pd.set_option('max_colwidth', 150)\n",
    "hypothesis"
   ]
  },
  {
   "cell_type": "markdown",
   "metadata": {},
   "source": [
    "Hypothesis — краткое описание гипотезы;  \n",
    "Reach — охват пользователей по 10-балльной шкале;  \n",
    "Impact — влияние на пользователей по 10-балльной шкале;  \n",
    "Confidence — уверенность в гипотезе по 10-балльной шкале;  \n",
    "Efforts — затраты ресурсов на проверку гипотезы по 10-балльной шкале. Чем больше значение Efforts, тем дороже проверка гипотезы."
   ]
  },
  {
   "cell_type": "code",
   "execution_count": 4,
   "metadata": {},
   "outputs": [],
   "source": [
    "hypothesis.columns = hypothesis.columns.str.lower()"
   ]
  },
  {
   "cell_type": "code",
   "execution_count": 5,
   "metadata": {},
   "outputs": [
    {
     "data": {
      "text/html": [
       "<div>\n",
       "<style scoped>\n",
       "    .dataframe tbody tr th:only-of-type {\n",
       "        vertical-align: middle;\n",
       "    }\n",
       "\n",
       "    .dataframe tbody tr th {\n",
       "        vertical-align: top;\n",
       "    }\n",
       "\n",
       "    .dataframe thead th {\n",
       "        text-align: right;\n",
       "    }\n",
       "</style>\n",
       "<table border=\"1\" class=\"dataframe\">\n",
       "  <thead>\n",
       "    <tr style=\"text-align: right;\">\n",
       "      <th></th>\n",
       "      <th>transactionId</th>\n",
       "      <th>visitorId</th>\n",
       "      <th>date</th>\n",
       "      <th>revenue</th>\n",
       "      <th>group</th>\n",
       "    </tr>\n",
       "  </thead>\n",
       "  <tbody>\n",
       "    <tr>\n",
       "      <th>0</th>\n",
       "      <td>3667963787</td>\n",
       "      <td>3312258926</td>\n",
       "      <td>2019-08-15</td>\n",
       "      <td>1650</td>\n",
       "      <td>B</td>\n",
       "    </tr>\n",
       "    <tr>\n",
       "      <th>1</th>\n",
       "      <td>2804400009</td>\n",
       "      <td>3642806036</td>\n",
       "      <td>2019-08-15</td>\n",
       "      <td>730</td>\n",
       "      <td>B</td>\n",
       "    </tr>\n",
       "    <tr>\n",
       "      <th>2</th>\n",
       "      <td>2961555356</td>\n",
       "      <td>4069496402</td>\n",
       "      <td>2019-08-15</td>\n",
       "      <td>400</td>\n",
       "      <td>A</td>\n",
       "    </tr>\n",
       "    <tr>\n",
       "      <th>3</th>\n",
       "      <td>3797467345</td>\n",
       "      <td>1196621759</td>\n",
       "      <td>2019-08-15</td>\n",
       "      <td>9759</td>\n",
       "      <td>B</td>\n",
       "    </tr>\n",
       "    <tr>\n",
       "      <th>4</th>\n",
       "      <td>2282983706</td>\n",
       "      <td>2322279887</td>\n",
       "      <td>2019-08-15</td>\n",
       "      <td>2308</td>\n",
       "      <td>B</td>\n",
       "    </tr>\n",
       "  </tbody>\n",
       "</table>\n",
       "</div>"
      ],
      "text/plain": [
       "   transactionId   visitorId       date  revenue group\n",
       "0     3667963787  3312258926 2019-08-15     1650     B\n",
       "1     2804400009  3642806036 2019-08-15      730     B\n",
       "2     2961555356  4069496402 2019-08-15      400     A\n",
       "3     3797467345  1196621759 2019-08-15     9759     B\n",
       "4     2282983706  2322279887 2019-08-15     2308     B"
      ]
     },
     "execution_count": 5,
     "metadata": {},
     "output_type": "execute_result"
    }
   ],
   "source": [
    "orders.head()"
   ]
  },
  {
   "cell_type": "code",
   "execution_count": 6,
   "metadata": {},
   "outputs": [],
   "source": [
    "def camel_to_snake(s):\n",
    "    return ''.join(['_'+c.lower() if c.isupper() else c for c in s]).lstrip('_')"
   ]
  },
  {
   "cell_type": "code",
   "execution_count": 7,
   "metadata": {},
   "outputs": [],
   "source": [
    "orders.columns = orders.columns.map(lambda x: camel_to_snake(x))"
   ]
  },
  {
   "cell_type": "markdown",
   "metadata": {},
   "source": [
    "transactionId — идентификатор заказа;  \n",
    "visitorId — идентификатор пользователя, совершившего заказ;  \n",
    "date — дата, когда был совершён заказ;  \n",
    "revenue — выручка заказа;  \n",
    "group — группа A/B-теста, в которую попал заказ."
   ]
  },
  {
   "cell_type": "code",
   "execution_count": 8,
   "metadata": {},
   "outputs": [
    {
     "data": {
      "text/html": [
       "<div>\n",
       "<style scoped>\n",
       "    .dataframe tbody tr th:only-of-type {\n",
       "        vertical-align: middle;\n",
       "    }\n",
       "\n",
       "    .dataframe tbody tr th {\n",
       "        vertical-align: top;\n",
       "    }\n",
       "\n",
       "    .dataframe thead th {\n",
       "        text-align: right;\n",
       "    }\n",
       "</style>\n",
       "<table border=\"1\" class=\"dataframe\">\n",
       "  <thead>\n",
       "    <tr style=\"text-align: right;\">\n",
       "      <th></th>\n",
       "      <th>date</th>\n",
       "      <th>group</th>\n",
       "      <th>visitors</th>\n",
       "    </tr>\n",
       "  </thead>\n",
       "  <tbody>\n",
       "    <tr>\n",
       "      <th>0</th>\n",
       "      <td>2019-08-01</td>\n",
       "      <td>A</td>\n",
       "      <td>719</td>\n",
       "    </tr>\n",
       "    <tr>\n",
       "      <th>1</th>\n",
       "      <td>2019-08-02</td>\n",
       "      <td>A</td>\n",
       "      <td>619</td>\n",
       "    </tr>\n",
       "    <tr>\n",
       "      <th>2</th>\n",
       "      <td>2019-08-03</td>\n",
       "      <td>A</td>\n",
       "      <td>507</td>\n",
       "    </tr>\n",
       "    <tr>\n",
       "      <th>3</th>\n",
       "      <td>2019-08-04</td>\n",
       "      <td>A</td>\n",
       "      <td>717</td>\n",
       "    </tr>\n",
       "    <tr>\n",
       "      <th>4</th>\n",
       "      <td>2019-08-05</td>\n",
       "      <td>A</td>\n",
       "      <td>756</td>\n",
       "    </tr>\n",
       "  </tbody>\n",
       "</table>\n",
       "</div>"
      ],
      "text/plain": [
       "        date group  visitors\n",
       "0 2019-08-01     A       719\n",
       "1 2019-08-02     A       619\n",
       "2 2019-08-03     A       507\n",
       "3 2019-08-04     A       717\n",
       "4 2019-08-05     A       756"
      ]
     },
     "execution_count": 8,
     "metadata": {},
     "output_type": "execute_result"
    }
   ],
   "source": [
    "visitors.head()"
   ]
  },
  {
   "cell_type": "markdown",
   "metadata": {},
   "source": [
    "date — дата;  \n",
    "group — группа A/B-теста;  \n",
    "visitors — количество пользователей в указанную дату в указанной группе A/B-теста"
   ]
  },
  {
   "cell_type": "code",
   "execution_count": 9,
   "metadata": {},
   "outputs": [],
   "source": [
    "# функция для ознакомления с данными\n",
    "def look_at (data):\n",
    "    data.info()\n",
    "    print('*'*50)\n",
    "    print('Пропуски:')\n",
    "    display(data.isna().sum())\n",
    "    print('*'*50)\n",
    "    if data.duplicated().sum() > 0:\n",
    "        print('Дубликатов: ', data.duplicated().sum())\n",
    "    else:\n",
    "        print('Явные дубликаты не обнаружены')"
   ]
  },
  {
   "cell_type": "code",
   "execution_count": 10,
   "metadata": {},
   "outputs": [
    {
     "name": "stdout",
     "output_type": "stream",
     "text": [
      "<class 'pandas.core.frame.DataFrame'>\n",
      "RangeIndex: 9 entries, 0 to 8\n",
      "Data columns (total 5 columns):\n",
      " #   Column      Non-Null Count  Dtype \n",
      "---  ------      --------------  ----- \n",
      " 0   hypothesis  9 non-null      object\n",
      " 1   reach       9 non-null      int64 \n",
      " 2   impact      9 non-null      int64 \n",
      " 3   confidence  9 non-null      int64 \n",
      " 4   efforts     9 non-null      int64 \n",
      "dtypes: int64(4), object(1)\n",
      "memory usage: 488.0+ bytes\n",
      "**************************************************\n",
      "Пропуски:\n"
     ]
    },
    {
     "data": {
      "text/plain": [
       "hypothesis    0\n",
       "reach         0\n",
       "impact        0\n",
       "confidence    0\n",
       "efforts       0\n",
       "dtype: int64"
      ]
     },
     "metadata": {},
     "output_type": "display_data"
    },
    {
     "name": "stdout",
     "output_type": "stream",
     "text": [
      "**************************************************\n",
      "Явные дубликаты не обнаружены\n"
     ]
    }
   ],
   "source": [
    "look_at(hypothesis)"
   ]
  },
  {
   "cell_type": "code",
   "execution_count": 11,
   "metadata": {},
   "outputs": [
    {
     "name": "stdout",
     "output_type": "stream",
     "text": [
      "<class 'pandas.core.frame.DataFrame'>\n",
      "RangeIndex: 1197 entries, 0 to 1196\n",
      "Data columns (total 5 columns):\n",
      " #   Column          Non-Null Count  Dtype         \n",
      "---  ------          --------------  -----         \n",
      " 0   transaction_id  1197 non-null   int64         \n",
      " 1   visitor_id      1197 non-null   int64         \n",
      " 2   date            1197 non-null   datetime64[ns]\n",
      " 3   revenue         1197 non-null   int64         \n",
      " 4   group           1197 non-null   object        \n",
      "dtypes: datetime64[ns](1), int64(3), object(1)\n",
      "memory usage: 46.9+ KB\n",
      "**************************************************\n",
      "Пропуски:\n"
     ]
    },
    {
     "data": {
      "text/plain": [
       "transaction_id    0\n",
       "visitor_id        0\n",
       "date              0\n",
       "revenue           0\n",
       "group             0\n",
       "dtype: int64"
      ]
     },
     "metadata": {},
     "output_type": "display_data"
    },
    {
     "name": "stdout",
     "output_type": "stream",
     "text": [
      "**************************************************\n",
      "Явные дубликаты не обнаружены\n"
     ]
    }
   ],
   "source": [
    "look_at(orders)"
   ]
  },
  {
   "cell_type": "code",
   "execution_count": 12,
   "metadata": {},
   "outputs": [
    {
     "name": "stdout",
     "output_type": "stream",
     "text": [
      "\n",
      "Начальная дата 2019-08-01 00:00:00, конечная дата 2019-08-31 00:00:00\n",
      "\n"
     ]
    }
   ],
   "source": [
    "print('\\nНачальная дата {}, конечная дата {}\\n'.format(orders['date'].min(), orders['date'].max()))"
   ]
  },
  {
   "cell_type": "code",
   "execution_count": 13,
   "metadata": {},
   "outputs": [
    {
     "name": "stdout",
     "output_type": "stream",
     "text": [
      "<class 'pandas.core.frame.DataFrame'>\n",
      "RangeIndex: 62 entries, 0 to 61\n",
      "Data columns (total 3 columns):\n",
      " #   Column    Non-Null Count  Dtype         \n",
      "---  ------    --------------  -----         \n",
      " 0   date      62 non-null     datetime64[ns]\n",
      " 1   group     62 non-null     object        \n",
      " 2   visitors  62 non-null     int64         \n",
      "dtypes: datetime64[ns](1), int64(1), object(1)\n",
      "memory usage: 1.6+ KB\n",
      "**************************************************\n",
      "Пропуски:\n"
     ]
    },
    {
     "data": {
      "text/plain": [
       "date        0\n",
       "group       0\n",
       "visitors    0\n",
       "dtype: int64"
      ]
     },
     "metadata": {},
     "output_type": "display_data"
    },
    {
     "name": "stdout",
     "output_type": "stream",
     "text": [
      "**************************************************\n",
      "Явные дубликаты не обнаружены\n"
     ]
    }
   ],
   "source": [
    "look_at(visitors)"
   ]
  },
  {
   "cell_type": "code",
   "execution_count": 14,
   "metadata": {},
   "outputs": [
    {
     "name": "stdout",
     "output_type": "stream",
     "text": [
      "\n",
      "Начальная дата 2019-08-01 00:00:00, конечная дата 2019-08-31 00:00:00\n",
      "\n"
     ]
    }
   ],
   "source": [
    "print('\\nНачальная дата {}, конечная дата {}\\n'.format(visitors['date'].min(), visitors['date'].max()))"
   ]
  },
  {
   "cell_type": "markdown",
   "metadata": {},
   "source": [
    "#### Выводы по разделу 1\n",
    "\n",
    "Проведена предобработка данных:\n",
    "- наименования полей приведены к единому нижнему регистру  \n",
    "- значения с датами преобразованы в формат datetime  \n",
    "\n",
    "Пропуски и дубликаты не обнаружены.\n",
    "\n",
    "Выгрузки за период с 2019-08-01 до 2019-08-31 "
   ]
  },
  {
   "cell_type": "markdown",
   "metadata": {},
   "source": [
    "### Часть 1. Приоритизация гипотез\n",
    "В файле /datasets/hypothesis.csv 9 гипотез по увеличению выручки интернет-магазина с указанными параметрами Reach, Impact, Confidence, Effort.  \n",
    "Задача  \n",
    "Примените фреймворк ICE для приоритизации гипотез. Отсортируйте их по убыванию приоритета.\n",
    "Примените фреймворк RICE для приоритизации гипотез. Отсортируйте их по убыванию приоритета.\n",
    "Укажите, как изменилась приоритизация гипотез при применении RICE вместо ICE. Объясните, почему так произошло."
   ]
  },
  {
   "cell_type": "markdown",
   "metadata": {},
   "source": [
    "#### Приоритизация гипотез методом ICE"
   ]
  },
  {
   "cell_type": "code",
   "execution_count": 15,
   "metadata": {},
   "outputs": [
    {
     "data": {
      "text/html": [
       "<div>\n",
       "<style scoped>\n",
       "    .dataframe tbody tr th:only-of-type {\n",
       "        vertical-align: middle;\n",
       "    }\n",
       "\n",
       "    .dataframe tbody tr th {\n",
       "        vertical-align: top;\n",
       "    }\n",
       "\n",
       "    .dataframe thead th {\n",
       "        text-align: right;\n",
       "    }\n",
       "</style>\n",
       "<table border=\"1\" class=\"dataframe\">\n",
       "  <thead>\n",
       "    <tr style=\"text-align: right;\">\n",
       "      <th></th>\n",
       "      <th>hypothesis</th>\n",
       "      <th>ice</th>\n",
       "    </tr>\n",
       "  </thead>\n",
       "  <tbody>\n",
       "    <tr>\n",
       "      <th>8</th>\n",
       "      <td>Запустить акцию, дающую скидку на товар в день рождения</td>\n",
       "      <td>16.20</td>\n",
       "    </tr>\n",
       "    <tr>\n",
       "      <th>0</th>\n",
       "      <td>Добавить два новых канала привлечения трафика, что позволит привлекать на 30% больше пользователей</td>\n",
       "      <td>13.33</td>\n",
       "    </tr>\n",
       "    <tr>\n",
       "      <th>7</th>\n",
       "      <td>Добавить форму подписки на все основные страницы, чтобы собрать базу клиентов для email-рассылок</td>\n",
       "      <td>11.20</td>\n",
       "    </tr>\n",
       "    <tr>\n",
       "      <th>6</th>\n",
       "      <td>Показать на главной странице баннеры с актуальными акциями и распродажами, чтобы увеличить конверсию</td>\n",
       "      <td>8.00</td>\n",
       "    </tr>\n",
       "    <tr>\n",
       "      <th>2</th>\n",
       "      <td>Добавить блоки рекомендаций товаров на сайт интернет магазина, чтобы повысить конверсию и средний чек заказа</td>\n",
       "      <td>7.00</td>\n",
       "    </tr>\n",
       "    <tr>\n",
       "      <th>1</th>\n",
       "      <td>Запустить собственную службу доставки, что сократит срок доставки заказов</td>\n",
       "      <td>2.00</td>\n",
       "    </tr>\n",
       "    <tr>\n",
       "      <th>5</th>\n",
       "      <td>Добавить страницу отзывов клиентов о магазине, что позволит увеличить количество заказов</td>\n",
       "      <td>1.33</td>\n",
       "    </tr>\n",
       "    <tr>\n",
       "      <th>3</th>\n",
       "      <td>Изменить структура категорий, что увеличит конверсию, т.к. пользователи быстрее найдут нужный товар</td>\n",
       "      <td>1.12</td>\n",
       "    </tr>\n",
       "    <tr>\n",
       "      <th>4</th>\n",
       "      <td>Изменить цвет фона главной страницы, чтобы увеличить вовлеченность пользователей</td>\n",
       "      <td>1.00</td>\n",
       "    </tr>\n",
       "  </tbody>\n",
       "</table>\n",
       "</div>"
      ],
      "text/plain": [
       "                                                                                                     hypothesis  \\\n",
       "8                                                       Запустить акцию, дающую скидку на товар в день рождения   \n",
       "0            Добавить два новых канала привлечения трафика, что позволит привлекать на 30% больше пользователей   \n",
       "7              Добавить форму подписки на все основные страницы, чтобы собрать базу клиентов для email-рассылок   \n",
       "6          Показать на главной странице баннеры с актуальными акциями и распродажами, чтобы увеличить конверсию   \n",
       "2  Добавить блоки рекомендаций товаров на сайт интернет магазина, чтобы повысить конверсию и средний чек заказа   \n",
       "1                                     Запустить собственную службу доставки, что сократит срок доставки заказов   \n",
       "5                      Добавить страницу отзывов клиентов о магазине, что позволит увеличить количество заказов   \n",
       "3           Изменить структура категорий, что увеличит конверсию, т.к. пользователи быстрее найдут нужный товар   \n",
       "4                              Изменить цвет фона главной страницы, чтобы увеличить вовлеченность пользователей   \n",
       "\n",
       "     ice  \n",
       "8  16.20  \n",
       "0  13.33  \n",
       "7  11.20  \n",
       "6   8.00  \n",
       "2   7.00  \n",
       "1   2.00  \n",
       "5   1.33  \n",
       "3   1.12  \n",
       "4   1.00  "
      ]
     },
     "execution_count": 15,
     "metadata": {},
     "output_type": "execute_result"
    }
   ],
   "source": [
    "hypothesis['ice'] = round((hypothesis['impact'] * hypothesis['confidence']) / hypothesis['efforts'], 2)\n",
    "hypothesis[['hypothesis','ice']].sort_values('ice', ascending=False)"
   ]
  },
  {
   "cell_type": "markdown",
   "metadata": {},
   "source": [
    "Наиболее перспективные гипотезы по методу ICE 8 (Запустить акцию, дающую скидку на товар в день рождения), 0 (Добавить два новых канала привлечения трафика, что позволит привлекать на 30% больше пользователей), 7 (Добавить форму подписки на все основные страницы, чтобы собрать базу клиентов для email-рассылок)."
   ]
  },
  {
   "cell_type": "markdown",
   "metadata": {},
   "source": [
    "#### Приоритизация гипотез методом RICE"
   ]
  },
  {
   "cell_type": "code",
   "execution_count": 16,
   "metadata": {},
   "outputs": [
    {
     "data": {
      "text/html": [
       "<div>\n",
       "<style scoped>\n",
       "    .dataframe tbody tr th:only-of-type {\n",
       "        vertical-align: middle;\n",
       "    }\n",
       "\n",
       "    .dataframe tbody tr th {\n",
       "        vertical-align: top;\n",
       "    }\n",
       "\n",
       "    .dataframe thead th {\n",
       "        text-align: right;\n",
       "    }\n",
       "</style>\n",
       "<table border=\"1\" class=\"dataframe\">\n",
       "  <thead>\n",
       "    <tr style=\"text-align: right;\">\n",
       "      <th></th>\n",
       "      <th>hypothesis</th>\n",
       "      <th>rice</th>\n",
       "    </tr>\n",
       "  </thead>\n",
       "  <tbody>\n",
       "    <tr>\n",
       "      <th>7</th>\n",
       "      <td>Добавить форму подписки на все основные страницы, чтобы собрать базу клиентов для email-рассылок</td>\n",
       "      <td>112.0</td>\n",
       "    </tr>\n",
       "    <tr>\n",
       "      <th>2</th>\n",
       "      <td>Добавить блоки рекомендаций товаров на сайт интернет магазина, чтобы повысить конверсию и средний чек заказа</td>\n",
       "      <td>56.0</td>\n",
       "    </tr>\n",
       "    <tr>\n",
       "      <th>0</th>\n",
       "      <td>Добавить два новых канала привлечения трафика, что позволит привлекать на 30% больше пользователей</td>\n",
       "      <td>40.0</td>\n",
       "    </tr>\n",
       "    <tr>\n",
       "      <th>6</th>\n",
       "      <td>Показать на главной странице баннеры с актуальными акциями и распродажами, чтобы увеличить конверсию</td>\n",
       "      <td>40.0</td>\n",
       "    </tr>\n",
       "    <tr>\n",
       "      <th>8</th>\n",
       "      <td>Запустить акцию, дающую скидку на товар в день рождения</td>\n",
       "      <td>16.2</td>\n",
       "    </tr>\n",
       "    <tr>\n",
       "      <th>3</th>\n",
       "      <td>Изменить структура категорий, что увеличит конверсию, т.к. пользователи быстрее найдут нужный товар</td>\n",
       "      <td>9.0</td>\n",
       "    </tr>\n",
       "    <tr>\n",
       "      <th>1</th>\n",
       "      <td>Запустить собственную службу доставки, что сократит срок доставки заказов</td>\n",
       "      <td>4.0</td>\n",
       "    </tr>\n",
       "    <tr>\n",
       "      <th>5</th>\n",
       "      <td>Добавить страницу отзывов клиентов о магазине, что позволит увеличить количество заказов</td>\n",
       "      <td>4.0</td>\n",
       "    </tr>\n",
       "    <tr>\n",
       "      <th>4</th>\n",
       "      <td>Изменить цвет фона главной страницы, чтобы увеличить вовлеченность пользователей</td>\n",
       "      <td>3.0</td>\n",
       "    </tr>\n",
       "  </tbody>\n",
       "</table>\n",
       "</div>"
      ],
      "text/plain": [
       "                                                                                                     hypothesis  \\\n",
       "7              Добавить форму подписки на все основные страницы, чтобы собрать базу клиентов для email-рассылок   \n",
       "2  Добавить блоки рекомендаций товаров на сайт интернет магазина, чтобы повысить конверсию и средний чек заказа   \n",
       "0            Добавить два новых канала привлечения трафика, что позволит привлекать на 30% больше пользователей   \n",
       "6          Показать на главной странице баннеры с актуальными акциями и распродажами, чтобы увеличить конверсию   \n",
       "8                                                       Запустить акцию, дающую скидку на товар в день рождения   \n",
       "3           Изменить структура категорий, что увеличит конверсию, т.к. пользователи быстрее найдут нужный товар   \n",
       "1                                     Запустить собственную службу доставки, что сократит срок доставки заказов   \n",
       "5                      Добавить страницу отзывов клиентов о магазине, что позволит увеличить количество заказов   \n",
       "4                              Изменить цвет фона главной страницы, чтобы увеличить вовлеченность пользователей   \n",
       "\n",
       "    rice  \n",
       "7  112.0  \n",
       "2   56.0  \n",
       "0   40.0  \n",
       "6   40.0  \n",
       "8   16.2  \n",
       "3    9.0  \n",
       "1    4.0  \n",
       "5    4.0  \n",
       "4    3.0  "
      ]
     },
     "execution_count": 16,
     "metadata": {},
     "output_type": "execute_result"
    }
   ],
   "source": [
    "hypothesis['rice'] = (hypothesis['reach'] * hypothesis['impact'] * hypothesis['confidence']) / hypothesis['efforts']\n",
    "hypothesis[['hypothesis','rice']].sort_values('rice', ascending=False)"
   ]
  },
  {
   "cell_type": "markdown",
   "metadata": {},
   "source": [
    "Наиболее перспективные гипотезы по методу RICE 7 (Добавить форму подписки на все основные страницы, чтобы собрать базу клиентов для email-рассылок), 2 (Добавить блоки рекомендаций товаров на сайт интернет магазина, чтобы повысить конверсию и средний чек заказа), 0 (Добавить два новых канала привлечения трафика, что позволит привлекать на 30% больше пользователей), 6 (Показать на главной странице баннеры с актуальными акциями и распродажами, чтобы увеличить конверсию)."
   ]
  },
  {
   "cell_type": "markdown",
   "metadata": {},
   "source": [
    "#### Выводы по разделу 2\n",
    "\n",
    "RICE учитывает оценку количества пользователей, которых затронут изменения и чем их больше, тем приоритет гипотезы выше. По нему в топе оказались гипотезы 7, 2, 0, 6. Для ICE этот критерий не учитывается. По нему в топе оказались гипотезы 8, 0, 7.  \n",
    "\n",
    "Если смотреть совпадения по обоим методам, наиболее привлекательными оказываются гипотезы 7 (Добавить форму подписки на все основные страницы, чтобы собрать базу клиентов для email-рассылок) и 0 (Добавить два новых канала привлечения трафика, что позволит привлекать на 30% больше пользователей)."
   ]
  },
  {
   "cell_type": "markdown",
   "metadata": {},
   "source": [
    "### Часть 2. Анализ A/B-теста\n",
    "Мы провели A/B-тест и получили результаты, которые описаны в файлах /datasets/orders.csv и /datasets/visitors.csv.  \n",
    "Задача  \n",
    "Проанализируйте A/B-тест:\n",
    "Постройте график кумулятивной выручки по группам. Сделайте выводы и предположения.  \n",
    "Постройте график кумулятивного среднего чека по группам. Сделайте выводы и предположения.  \n",
    "Постройте график относительного изменения кумулятивного среднего чека группы B к группе A. Сделайте выводы и предположения.  \n",
    "Постройте график кумулятивного среднего количества заказов на посетителя по группам. Сделайте выводы и предположения.  \n",
    "Постройте график относительного изменения кумулятивного среднего количества заказов на посетителя группы B к группе A. Сделайте выводы и предположения.  \n",
    "Постройте точечный график количества заказов по пользователям. Сделайте выводы и предположения.  \n",
    "Посчитайте 95-й и 99-й перцентили количества заказов на пользователя. Выберите границу для определения аномальных пользователей.  \n",
    "Постройте точечный график стоимостей заказов. Сделайте выводы и предположения.  \n",
    "Посчитайте 95-й и 99-й перцентили стоимости заказов. Выберите границу для определения аномальных заказов.  \n",
    "Посчитайте статистическую значимость различий в среднем количестве заказов на посетителя между группами по «сырым» данным. Сделайте выводы и предположения.  \n",
    "Посчитайте статистическую значимость различий в среднем чеке заказа между группами по «сырым» данным. Сделайте выводы и предположения.  \n",
    "Посчитайте статистическую значимость различий в среднем количестве заказов на посетителя между группами по «очищенным» данным. Сделайте выводы и предположения.  \n",
    "Посчитайте статистическую значимость различий в среднем чеке заказа между группами по «очищенным» данным. Сделайте выводы и предположения.  \n",
    "Примите решение по результатам теста и объясните его. Варианты решений:  \n",
    "1. Остановить тест, зафиксировать победу одной из групп.  \n",
    "2. Остановить тест, зафиксировать отсутствие различий между группами.  \n",
    "3. Продолжить тест.  "
   ]
  },
  {
   "cell_type": "code",
   "execution_count": 17,
   "metadata": {},
   "outputs": [
    {
     "data": {
      "text/plain": [
       "58"
      ]
     },
     "execution_count": 17,
     "metadata": {},
     "output_type": "execute_result"
    }
   ],
   "source": [
    "# отбираем группы из данных с заказами \n",
    "group_a=orders.query('group == \"A\"') \n",
    "group_b=orders.query('group == \"B\"') \n",
    "  \n",
    "# получаем количество пользователей, попавших в обе группы \n",
    "group_intersections=list(np.intersect1d(group_a['visitor_id'], group_b['visitor_id']))\n",
    "len(group_intersections)\n"
   ]
  },
  {
   "cell_type": "code",
   "execution_count": 18,
   "metadata": {},
   "outputs": [
    {
     "data": {
      "text/plain": [
       "0.1"
      ]
     },
     "execution_count": 18,
     "metadata": {},
     "output_type": "execute_result"
    }
   ],
   "source": [
    "round(len(group_intersections)/len(group_a),2)"
   ]
  },
  {
   "cell_type": "code",
   "execution_count": 19,
   "metadata": {},
   "outputs": [
    {
     "data": {
      "text/plain": [
       "0.09"
      ]
     },
     "execution_count": 19,
     "metadata": {},
     "output_type": "execute_result"
    }
   ],
   "source": [
    "round(len(group_intersections)/len(group_b),2)"
   ]
  },
  {
   "cell_type": "markdown",
   "metadata": {},
   "source": [
    "58 пользователей попали в обе группы, что составляет 9-10% от каждой выборки.  \n",
    "Для данного исследования не будем исключать их, поскольку это значительная часть данных."
   ]
  },
  {
   "cell_type": "markdown",
   "metadata": {},
   "source": [
    "#### Проанализируем A/B-тест: построим график кумулятивной выручки по группам. "
   ]
  },
  {
   "cell_type": "code",
   "execution_count": 20,
   "metadata": {},
   "outputs": [],
   "source": [
    "# создаем массив уникальных пар значений дат и групп теста\n",
    "dates_groups = orders[['date', 'group']].drop_duplicates().reset_index(drop=True)\n",
    "\n",
    "# получаем агрегированные кумулятивные по дням данные о заказах \n",
    "orders_aggregated = (dates_groups\n",
    "                    .apply(lambda x: orders[np.logical_and(orders['date'] <= x['date'],\n",
    "                                                           orders['group'] == x['group'])]\n",
    "                           .agg({'date' : 'max', 'group' : 'max', 'transaction_id' : 'nunique',\n",
    "                                 'visitor_id' : 'nunique', 'revenue' : 'sum'}), axis=1)\n",
    "                    .sort_values(by=['date','group'])\n",
    "                    .reset_index(drop=True))\n",
    "                    \n",
    "# получаем агрегированные кумулятивные по дням данные о посетителях интернет-магазина \n",
    "visitors_aggregated = (dates_groups\n",
    "                      .apply(lambda x: visitors[np.logical_and(visitors['date'] <= x['date'],\n",
    "                                                               visitors['group'] == x['group'])]\n",
    "                             .agg({'date' : 'max', 'group' : 'max', 'visitors' : 'sum'}), axis=1)\n",
    "                      .sort_values(by=['date','group'])\n",
    "                      .reset_index(drop=True))\n",
    "\n",
    "# объединяем кумулятивные данные в одной таблице и присваиваем ее столбцам понятные названия\n",
    "cumulative_data = orders_aggregated.merge(visitors_aggregated, on=['date', 'group'])\n",
    "cumulative_data.columns = ['date', 'group', 'orders', 'buyers', 'revenue', 'visitors']\n",
    "\n",
    "cumulative_data['aov'] = cumulative_data[\"revenue\"] / cumulative_data[\"orders\"]\n",
    "cumulative_data['conversion'] = cumulative_data[\"orders\"] / cumulative_data[\"visitors\"]"
   ]
  },
  {
   "cell_type": "code",
   "execution_count": 21,
   "metadata": {
    "scrolled": false
   },
   "outputs": [
    {
     "data": {
      "image/png": "[encoded data removed]",
      "text/plain": [
       "<Figure size 1280x800 with 1 Axes>"
      ]
     },
     "metadata": {
      "needs_background": "light"
     },
     "output_type": "display_data"
    }
   ],
   "source": [
    "# датафрейм с кумулятивным количеством заказов и кумулятивной выручкой по дням в группе А\n",
    "cumulative_revenue_A = cumulative_data[cumulative_data['group']=='A'][['date','revenue', 'orders']]\n",
    "# датафрейм с кумулятивным количеством заказов и кумулятивной выручкой по дням в группе B\n",
    "cumulative_revenue_B = cumulative_data[cumulative_data['group']=='B'][['date','revenue', 'orders']]\n",
    "plt.subplots(figsize=(16,10), dpi= 80)\n",
    "\n",
    "# Строим график выручки группы А\n",
    "plt.plot(cumulative_revenue_A['date'], cumulative_revenue_A['revenue'], label='A')\n",
    "# Строим график выручки группы B\n",
    "plt.plot(cumulative_revenue_B['date'], cumulative_revenue_B['revenue'], label='B')\n",
    "plt.grid(True)\n",
    "plt.title('График выручки по группам')\n",
    "plt.xlabel('Дата')\n",
    "plt.ylabel('Выручка')\n",
    "plt.legend();\n"
   ]
  },
  {
   "cell_type": "markdown",
   "metadata": {},
   "source": [
    "Кумулятивная выручка группы B стабильно выше показателя группы А. Однако в интервале 17-21 августа был аномальный скачок у группы В - без него показатели могли сравняться."
   ]
  },
  {
   "cell_type": "markdown",
   "metadata": {},
   "source": [
    "#### Построим график кумулятивного среднего чека по группам"
   ]
  },
  {
   "cell_type": "code",
   "execution_count": 22,
   "metadata": {},
   "outputs": [
    {
     "data": {
      "image/png": "[encoded data removed]",
      "text/plain": [
       "<Figure size 1280x800 with 1 Axes>"
      ]
     },
     "metadata": {
      "needs_background": "light"
     },
     "output_type": "display_data"
    }
   ],
   "source": [
    "plt.subplots(figsize=(16,10), dpi= 80)\n",
    "plt.plot(cumulative_revenue_A['date'], cumulative_revenue_A['revenue']/cumulative_revenue_A['orders'], label='A')\n",
    "plt.plot(cumulative_revenue_B['date'], cumulative_revenue_B['revenue']/cumulative_revenue_B['orders'], label='B')\n",
    "plt.grid(True)\n",
    "plt.title('График кумулятивного среднего чека по группам')\n",
    "plt.xlabel('Дата')\n",
    "plt.ylabel('Кумулятивное среднее')\n",
    "plt.legend();"
   ]
  },
  {
   "cell_type": "markdown",
   "metadata": {},
   "source": [
    "Кумулятивный средний чек группы В выше показателя группы А, но здесь также вмешался аномально высокий чек в интервале 17-21 августа.\n",
    "\n",
    "Показатели группы А относительно стабильны во второй половине теста, показатели группы В стабильно падают."
   ]
  },
  {
   "cell_type": "markdown",
   "metadata": {},
   "source": [
    "#### Построим график относительного изменения кумулятивного среднего чека группы B к группе A. "
   ]
  },
  {
   "cell_type": "code",
   "execution_count": 23,
   "metadata": {},
   "outputs": [
    {
     "data": {
      "image/png": "[encoded data removed]",
      "text/plain": [
       "<Figure size 1280x800 with 1 Axes>"
      ]
     },
     "metadata": {
      "needs_background": "light"
     },
     "output_type": "display_data"
    }
   ],
   "source": [
    "# собираем данные в одном датафрейме\n",
    "merged_cumulative_revenue = cumulative_revenue_A.merge(cumulative_revenue_B, left_on='date',\n",
    "right_on='date', how='left', suffixes=['A', 'B'])\n",
    "# cтроим отношение средних чеков\n",
    "plt.subplots(figsize=(16,10), dpi= 80)\n",
    "plt.plot(merged_cumulative_revenue['date'], (merged_cumulative_revenue['revenueB']/merged_cumulative_revenue['ordersB'])/(merged_cumulative_revenue['revenueA']/merged_cumulative_revenue['ordersA'])-1)\n",
    "\n",
    "plt.grid(True)\n",
    "plt.title('График относительного изменения кумулятивного среднего чека группы B к группе A')\n",
    "plt.xlabel('Дата')\n",
    "plt.ylabel('Кумулятивное среднее')\n",
    "plt.axhline(y=0, color='black', linestyle='--');"
   ]
  },
  {
   "cell_type": "markdown",
   "metadata": {},
   "source": [
    "Результаты теста значительно менялись между 9 и 18 августа - в эти даты и сделали аномальные заказы."
   ]
  },
  {
   "cell_type": "markdown",
   "metadata": {},
   "source": [
    "#### Построим график кумулятивного среднего количества заказов на посетителя по группам\n"
   ]
  },
  {
   "cell_type": "code",
   "execution_count": 24,
   "metadata": {},
   "outputs": [],
   "source": [
    "cumulative_data['avg'] = cumulative_data['orders']/(cumulative_data['visitors'])\n"
   ]
  },
  {
   "cell_type": "code",
   "execution_count": 25,
   "metadata": {},
   "outputs": [
    {
     "data": {
      "image/png": "[encoded data removed]",
      "text/plain": [
       "<Figure size 1280x400 with 1 Axes>"
      ]
     },
     "metadata": {
      "needs_background": "light"
     },
     "output_type": "display_data"
    }
   ],
   "source": [
    "# отделяем данные по группе A\n",
    "cumulative_data_a = cumulative_data[cumulative_data['group']=='A']\n",
    "\n",
    "# отделяем данные по группе B\n",
    "cumulative_data_b = cumulative_data[cumulative_data['group']=='B']\n",
    "\n",
    "plt.subplots(figsize=(16,5), dpi= 80)\n",
    "plt.plot(cumulative_data_a['date'], cumulative_data_a['avg'], label='A')\n",
    "plt.plot(cumulative_data_b['date'], cumulative_data_b['avg'], label='B')\n",
    "plt.legend()\n",
    "plt.grid(True)\n",
    "plt.title('График кумулятивного среднего количества заказов на посетителя по группам')\n",
    "plt.xlabel('Дата')\n",
    "plt.ylabel('Кумулятивное среднее')\n",
    "plt.axhline(y=0, color='black', linestyle='--');\n",
    "\n"
   ]
  },
  {
   "cell_type": "markdown",
   "metadata": {},
   "source": [
    "Показатели среднего количества заказов на посетителя в обеих группах стабильные, у группы В незначительно выше."
   ]
  },
  {
   "cell_type": "markdown",
   "metadata": {},
   "source": [
    "#### Построим график относительного изменения кумулятивного среднего количества заказов на посетителя группы B к группе A"
   ]
  },
  {
   "cell_type": "code",
   "execution_count": 26,
   "metadata": {},
   "outputs": [
    {
     "data": {
      "image/png": "[encoded data removed]",
      "text/plain": [
       "<Figure size 1280x400 with 1 Axes>"
      ]
     },
     "metadata": {
      "needs_background": "light"
     },
     "output_type": "display_data"
    }
   ],
   "source": [
    "merged_cumulative_conversions = cumulative_data_a[['date','conversion']].merge(cumulative_data_b[['date','conversion']], left_on='date', right_on='date', how='left', suffixes=['A', 'B'])\n",
    "plt.subplots(figsize=(16,5), dpi= 80)\n",
    "plt.plot(merged_cumulative_conversions['date'], merged_cumulative_conversions['conversionB']/merged_cumulative_conversions['conversionA']-1, label=\"Относительное изменение среднего количества заказов на посетителя группы B относительно группы A\")\n",
    "\n",
    "plt.legend()\n",
    "\n",
    "plt.grid(True)\n",
    "\n",
    "plt.axhline(y=0, color='black', linestyle='--')\n",
    "plt.axhline(y=0.1, color='grey', linestyle='--')\n",
    "\n",
    "# размер шрифта по оси x\n",
    "plt.tick_params(axis='x', which='major', labelsize=15)\n",
    "\n",
    "plt.title('График относительного изменения кумулятивного среднего количества заказов на посетителя группы B к группе A')\n",
    "plt.xlabel('Дата')\n",
    "plt.ylabel('Кумулятивное среднее');"
   ]
  },
  {
   "cell_type": "markdown",
   "metadata": {},
   "source": [
    "По среднему количеству заказов на посетителя почти с самого начала теста группа В лидирует, в конце теста превосходит группу А примерно на 10%."
   ]
  },
  {
   "cell_type": "markdown",
   "metadata": {},
   "source": [
    "#### Построим точечный график количества заказов по пользователям"
   ]
  },
  {
   "cell_type": "code",
   "execution_count": 27,
   "metadata": {},
   "outputs": [
    {
     "data": {
      "image/png": "[encoded data removed]",
      "text/plain": [
       "<Figure size 1080x504 with 1 Axes>"
      ]
     },
     "metadata": {
      "needs_background": "light"
     },
     "output_type": "display_data"
    }
   ],
   "source": [
    "orders_by_users = orders.groupby(['visitor_id', 'group'], as_index=False).agg({'transaction_id': 'nunique'})\n",
    "orders_by_users.columns = ['visitor_id','group','orders']\n",
    "x_values = pd.Series(range(0,len(orders_by_users)))\n",
    "\n",
    "plt.figure(figsize=(15, 7))\n",
    "plt.grid(True)\n",
    "ax = sns.scatterplot(x=x_values, y=\"orders\", hue='group',hue_order=['A', 'B'],\n",
    "                     data=orders_by_users, alpha=.7)\n",
    "plt.title('График количества заказов по пользователям')\n",
    "plt.xlabel('Пользователи')\n",
    "plt.ylabel('Заказы')\n",
    "plt.show()"
   ]
  },
  {
   "cell_type": "markdown",
   "metadata": {},
   "source": [
    "Много пользователей с 1-2 заказами. Однако принято отсеивать от 1% до 5% наблюдений с крайними значениями. "
   ]
  },
  {
   "cell_type": "markdown",
   "metadata": {},
   "source": [
    "#### Посчитаем 95-й и 99-й перцентили количества заказов на пользователя. Выберем границу для определения аномальных пользователей."
   ]
  },
  {
   "cell_type": "code",
   "execution_count": 28,
   "metadata": {},
   "outputs": [
    {
     "name": "stdout",
     "output_type": "stream",
     "text": [
      "Количество заказов для 95% и 99% пользователей = [2. 4.]\n"
     ]
    }
   ],
   "source": [
    "print('Количество заказов для 95% и 99% пользователей = {}'\n",
    "      .format(np.percentile(orders_by_users['orders'], [95, 99])))"
   ]
  },
  {
   "cell_type": "markdown",
   "metadata": {},
   "source": [
    "Не более 5% пользователей оформляли больше чем 2 заказов. И 1% пользователей заказывал более 4 раз. \n",
    "\n",
    "Аномальным будем считать количество заказов больше 4."
   ]
  },
  {
   "cell_type": "markdown",
   "metadata": {},
   "source": [
    "#### Построим точечный график стоимостей заказов"
   ]
  },
  {
   "cell_type": "code",
   "execution_count": 29,
   "metadata": {},
   "outputs": [
    {
     "data": {
      "image/png": "[encoded data removed]",
      "text/plain": [
       "<Figure size 1080x360 with 1 Axes>"
      ]
     },
     "metadata": {
      "needs_background": "light"
     },
     "output_type": "display_data"
    }
   ],
   "source": [
    "x_values = pd.Series(range(0, len(orders['revenue'])))\n",
    "plt.figure(figsize=(15, 5))\n",
    "plt.grid(True)\n",
    "plt.scatter(x_values, orders['revenue']);\n",
    "plt.title('Точечный график стоимостей заказов')\n",
    "plt.xlabel('Пользователи')\n",
    "plt.ylabel('Стоимость заказа, млн');"
   ]
  },
  {
   "cell_type": "markdown",
   "metadata": {},
   "source": [
    "По графику можно выбрать границу аномальных заказов до 100 тысяч рублей.Поскольку это большой промежуток, посчитаем перцентили."
   ]
  },
  {
   "cell_type": "markdown",
   "metadata": {},
   "source": [
    "#### Посчитаем 95-й и 99-й перцентили стоимости заказов"
   ]
  },
  {
   "cell_type": "code",
   "execution_count": 30,
   "metadata": {},
   "outputs": [
    {
     "name": "stdout",
     "output_type": "stream",
     "text": [
      "[28000.  58233.2]\n"
     ]
    }
   ],
   "source": [
    "print(np.percentile(orders['revenue'], [95, 99]))"
   ]
  },
  {
   "cell_type": "markdown",
   "metadata": {},
   "source": [
    "Не более 5% пользователей оформляли заказы дороже 28 тысяч рублей. И 1% пользователей заказывал товары более, чем на 58,3 тысяч рублей.\n",
    "\n",
    "Аномальным будем считать заказы дороже 58 234 рублей."
   ]
  },
  {
   "cell_type": "markdown",
   "metadata": {},
   "source": [
    "#### Посчитаем статистическую значимость различий в среднем количестве заказов на посетителя между группами по «сырым» данным"
   ]
  },
  {
   "cell_type": "markdown",
   "metadata": {},
   "source": [
    "Нулевая гипотеза: Cтатистически значимых различий в среднем количестве заказов на посетителя между группой B и группой А нет \n",
    "\n",
    "Альтернативная гипотеза: Cтатистически значимые различия в среднем количестве заказов на посетителя между группой B и группой А есть"
   ]
  },
  {
   "cell_type": "code",
   "execution_count": 31,
   "metadata": {},
   "outputs": [
    {
     "name": "stdout",
     "output_type": "stream",
     "text": [
      "p-значение: 0.015\n",
      "Относительный прирост среднего количества заказов на посетителя группы B: 0.144\n"
     ]
    }
   ],
   "source": [
    "orders_a = orders.query('group == \"A\"').reset_index(drop=True)\n",
    "orders_b = orders.query('group == \"B\"').reset_index(drop=True)\n",
    "orders_by_users_a = orders_by_users.query('group == \"A\"').reset_index(drop=True)\n",
    "orders_by_users_b = orders_by_users.query('group == \"B\"').reset_index(drop=True)\n",
    "\n",
    "sample_a = pd.concat([orders_by_users_a['orders'],\n",
    "                     pd.Series(0, index=np.arange(cumulative_data_a['visitors'].sum() - len(orders_by_users_a['orders'])),\n",
    "                               name='orders')],axis=0)\n",
    "\n",
    "sample_b = pd.concat([orders_by_users_b['orders'],\n",
    "                     pd.Series(0, index=np.arange(cumulative_data_b['visitors'].sum() - len(orders_by_users_b['orders'])),\n",
    "                               name='orders')],axis=0)\n",
    "\n",
    "\n",
    "\n",
    "print('p-значение: {:.3f}'.format(stats.mannwhitneyu(sample_a, sample_b)[1]))\n",
    "\n",
    "print(\"Относительный прирост среднего количества заказов на посетителя группы B: {0:.3f}\".format(sample_b.mean() / sample_a.mean() - 1))"
   ]
  },
  {
   "cell_type": "markdown",
   "metadata": {},
   "source": [
    "P-value меньше 0.05. Нулевую гипотезу отвергаем, по «сырым» данным, в среднем числе заказов на посетителя группа B выше группы А на 14,4%.\n"
   ]
  },
  {
   "cell_type": "markdown",
   "metadata": {},
   "source": [
    "#### Посчитаем статистическую значимость различий в среднем чеке заказа между группами по «сырым» данным"
   ]
  },
  {
   "cell_type": "markdown",
   "metadata": {},
   "source": [
    "Нулевая гипотеза: Cтатистически значимых различий в среднем чеке заказа между группой B и группой А нет \n",
    "\n",
    "Альтернативная гипотеза: Cтатистически значимые различия в среднем чеке заказа между группой B и группой А есть"
   ]
  },
  {
   "cell_type": "code",
   "execution_count": 32,
   "metadata": {},
   "outputs": [
    {
     "name": "stdout",
     "output_type": "stream",
     "text": [
      "p-значение: 0.729\n",
      "Относительный прирост в среднем чеке группы B: 0.259\n"
     ]
    }
   ],
   "source": [
    "print('p-значение: {:.3f}'.format(stats.mannwhitneyu(orders[orders['group']=='A']['revenue'], orders[orders['group']=='B']['revenue'])[1]))\n",
    "print(\"Относительный прирост в среднем чеке группы B: {0:.3f}\".format(orders[orders['group']=='B']['revenue'].mean()/orders[orders['group']=='A']['revenue'].mean()-1))"
   ]
  },
  {
   "cell_type": "markdown",
   "metadata": {},
   "source": [
    "P-value значительно выше 0.05. Значит, причин отвергать нулевую гипотезу и считать, что в среднем чеке по сырым данным есть различия, нет. Средний чек группы B выше среднего чека группы A на 25,9%."
   ]
  },
  {
   "cell_type": "markdown",
   "metadata": {},
   "source": [
    "#### Посчитаем статистическую значимость различий в среднем количестве заказов на посетителя между группами по «очищенным» данным"
   ]
  },
  {
   "cell_type": "markdown",
   "metadata": {},
   "source": [
    "Нулевая гипотеза: Cтатистически значимых различий в среднем количестве заказов на посетителя между группой B и группой А нет \n",
    "\n",
    "Альтернативная гипотеза: Cтатистически значимые различия в среднем количестве заказов на посетителя между группой B и группой А есть"
   ]
  },
  {
   "cell_type": "code",
   "execution_count": 33,
   "metadata": {},
   "outputs": [
    {
     "name": "stdout",
     "output_type": "stream",
     "text": [
      "p-значение: 0.013\n",
      "Отвергаем нулевую гипотезу: \"Cтатистически значимых различий в среднем количестве заказов на посетителя между группами нет\".\n",
      "Относительный прирост среднего количества заказов на посетителя группы B: 0.159\n"
     ]
    }
   ],
   "source": [
    "users_with_many_orders = orders_by_users[orders_by_users['orders'] > 4]['visitor_id']\n",
    "users_with_expensive_orders = orders[orders['revenue'] > 58234]['visitor_id']\n",
    "abnormal_users = (pd.concat([users_with_many_orders, users_with_expensive_orders], axis = 0)\n",
    "                 .drop_duplicates()\n",
    "                 .reset_index(drop=True))\n",
    "sample_a_filtered = pd.concat(\n",
    "    [orders_by_users_a[np.logical_not(orders_by_users_a['visitor_id'].isin(abnormal_users))]['orders'],\n",
    "     pd.Series(0, index=np.arange(cumulative_data_a['visitors'].sum() - len(orders_by_users_a['orders'])),\n",
    "               name='orders')],axis=0)\n",
    "\n",
    "sample_b_filtered = pd.concat(\n",
    "    [orders_by_users_b[np.logical_not(orders_by_users_b['visitor_id'].isin(abnormal_users))]['orders'],\n",
    "     pd.Series(0, index=np.arange(cumulative_data_b['visitors'].sum() - len(orders_by_users_b['orders'])),\n",
    "               name='orders')],axis=0)\n",
    "\n",
    "alpha = 0.05\n",
    "results = stats.mannwhitneyu(sample_a_filtered, sample_b_filtered)\n",
    "print('p-значение: {:.3f}'.format(results.pvalue))\n",
    "if (results.pvalue < alpha):\n",
    "    print('Отвергаем нулевую гипотезу: \"Cтатистически значимых различий в среднем количестве заказов на посетителя между группами нет\".')\n",
    "else:\n",
    "    print('Не получилось отвергнуть нулевую гипотезу: \"Cтатистически значимых различий в среднем количестве заказов на посетителя между группами нет\".')\n",
    "\n",
    "print(\"Относительный прирост среднего количества заказов на посетителя группы B: {0:.3f}\"\n",
    "      .format(sample_b_filtered.mean()/sample_a_filtered.mean() - 1))"
   ]
  },
  {
   "cell_type": "markdown",
   "metadata": {},
   "source": [
    "Результаты по среднему количеству заказов практически не изменились. "
   ]
  },
  {
   "cell_type": "markdown",
   "metadata": {},
   "source": [
    "#### Посчитаем статистическую значимость различий в среднем чеке заказа между группами по «очищенным» данным"
   ]
  },
  {
   "cell_type": "markdown",
   "metadata": {},
   "source": [
    "Нулевая гипотеза: Cтатистически значимых различий в среднем чеке заказа между группой B и группой А нет \n",
    "\n",
    "Альтернативная гипотеза: Cтатистически значимые различия в среднем чеке заказа между группой B и группой А есть"
   ]
  },
  {
   "cell_type": "code",
   "execution_count": 34,
   "metadata": {},
   "outputs": [
    {
     "name": "stdout",
     "output_type": "stream",
     "text": [
      "p-значение: 0.851\n",
      "Не получилось отвергнуть нулевую гипотезу: \"Cтатистически значимых различий в среднем чеке между группами нет\".\n",
      "Относительный прирост в среднем чеке группы B: -0.006\n"
     ]
    }
   ],
   "source": [
    "results = stats.mannwhitneyu(orders_a[np.logical_not(orders_a['visitor_id'].isin(abnormal_users))]['revenue'],\n",
    "                             orders_b[np.logical_not(orders_b['visitor_id'].isin(abnormal_users))]['revenue'])\n",
    "print('p-значение: {:.3f}'.format(results.pvalue))\n",
    "if (results.pvalue < alpha):\n",
    "    print('Отвергаем нулевую гипотезу: \"Cтатистически значимых различий в среднем чеке между группами нет\".')\n",
    "else:\n",
    "    print('Не получилось отвергнуть нулевую гипотезу: \"Cтатистически значимых различий в среднем чеке между группами нет\".')\n",
    "\n",
    "print(\"Относительный прирост в среднем чеке группы B: {0:.3f}\"\n",
    "      .format(orders_b[np.logical_not(orders_b['visitor_id'].isin(abnormal_users))]['revenue'].mean()\n",
    "              / orders_a[np.logical_not(orders_a['visitor_id'].isin(abnormal_users))]['revenue'].mean() - 1))"
   ]
  },
  {
   "cell_type": "markdown",
   "metadata": {},
   "source": [
    "P-value увеличился, но разница между сегментами сократилась с 25% до 0."
   ]
  },
  {
   "cell_type": "markdown",
   "metadata": {},
   "source": [
    "#### Выводы по разделу 3\n",
    "\n",
    "Есть статистически значимое различия по среднему количеству заказов между группами как по «сырым», так по данным после фильтрации аномалий;  \n",
    "\n",
    "Нет статистически значимого различия по среднему чеку между группами ни по «сырым», ни по данным после фильтрации аномалий;\n",
    "\n",
    "График различия среднего количества заказов между группами сообщает, что результаты группы B лучше группы A и достаточно стабильны.\n",
    "\n",
    "По среднему количеству заказов на посетителя почти с самого начала теста группа В лидирует, в конце теста превосходит группу А примерно на 10%.\n",
    "График различия среднего чека говорит о том, что результаты группы B еще не стабилизировались, нов ыше группы А в конце теста больше, чем на 20%.\n",
    "\n",
    "**Исходя из обнаруженных фактов, тест следует остановить и признать его успешным. При имеющихся данных сегмент B лучше сегмента A по показателю среднего количества заказов.**"
   ]
  }
 ],
 "metadata": {
  "ExecuteTimeLog": [
   {
    "duration": 48,
    "start_time": "2023-08-26T10:19:29.243Z"
   },
   {
    "duration": 1456,
    "start_time": "2023-08-26T10:20:09.335Z"
   },
   {
    "duration": 197,
    "start_time": "2023-08-26T10:20:10.793Z"
   },
   {
    "duration": 44,
    "start_time": "2023-08-26T15:36:31.365Z"
   },
   {
    "duration": 1220,
    "start_time": "2023-08-26T15:37:03.194Z"
   },
   {
    "duration": 190,
    "start_time": "2023-08-26T15:37:04.416Z"
   },
   {
    "duration": 13,
    "start_time": "2023-08-26T15:37:04.609Z"
   },
   {
    "duration": 98,
    "start_time": "2023-08-26T15:37:04.624Z"
   },
   {
    "duration": 0,
    "start_time": "2023-08-26T15:37:04.724Z"
   },
   {
    "duration": 8,
    "start_time": "2023-08-26T15:37:21.415Z"
   },
   {
    "duration": 4,
    "start_time": "2023-08-26T15:37:28.199Z"
   },
   {
    "duration": 1065,
    "start_time": "2023-08-26T15:38:30.074Z"
   },
   {
    "duration": 78,
    "start_time": "2023-08-26T15:38:31.141Z"
   },
   {
    "duration": 11,
    "start_time": "2023-08-26T15:38:31.220Z"
   },
   {
    "duration": 33,
    "start_time": "2023-08-26T15:38:31.233Z"
   },
   {
    "duration": 48,
    "start_time": "2023-08-26T15:38:31.268Z"
   },
   {
    "duration": 7,
    "start_time": "2023-08-26T15:39:00.835Z"
   },
   {
    "duration": 3,
    "start_time": "2023-08-26T15:44:26.086Z"
   },
   {
    "duration": 9,
    "start_time": "2023-08-26T15:44:28.342Z"
   },
   {
    "duration": 7,
    "start_time": "2023-08-26T15:44:32.330Z"
   },
   {
    "duration": 4,
    "start_time": "2023-08-26T15:45:02.070Z"
   },
   {
    "duration": 15,
    "start_time": "2023-08-26T15:45:32.155Z"
   },
   {
    "duration": 14,
    "start_time": "2023-08-26T15:46:10.893Z"
   },
   {
    "duration": 13,
    "start_time": "2023-08-26T15:46:14.763Z"
   },
   {
    "duration": 1152,
    "start_time": "2023-08-26T16:02:51.360Z"
   },
   {
    "duration": 77,
    "start_time": "2023-08-26T16:02:52.514Z"
   },
   {
    "duration": 10,
    "start_time": "2023-08-26T16:02:52.593Z"
   },
   {
    "duration": 12,
    "start_time": "2023-08-26T16:02:52.604Z"
   },
   {
    "duration": 11,
    "start_time": "2023-08-26T16:02:52.618Z"
   },
   {
    "duration": 9,
    "start_time": "2023-08-26T16:02:52.630Z"
   },
   {
    "duration": 5,
    "start_time": "2023-08-26T16:02:52.640Z"
   },
   {
    "duration": 18,
    "start_time": "2023-08-26T16:02:52.646Z"
   },
   {
    "duration": 19,
    "start_time": "2023-08-26T16:02:52.666Z"
   },
   {
    "duration": 26,
    "start_time": "2023-08-26T16:02:52.686Z"
   },
   {
    "duration": 7,
    "start_time": "2023-08-26T16:10:06.344Z"
   },
   {
    "duration": 5,
    "start_time": "2023-08-26T16:14:44.607Z"
   },
   {
    "duration": 4,
    "start_time": "2023-08-26T16:15:20.422Z"
   },
   {
    "duration": 1151,
    "start_time": "2023-08-26T17:05:52.476Z"
   },
   {
    "duration": 82,
    "start_time": "2023-08-26T17:05:53.629Z"
   },
   {
    "duration": 10,
    "start_time": "2023-08-26T17:05:53.712Z"
   },
   {
    "duration": 3,
    "start_time": "2023-08-26T17:05:53.723Z"
   },
   {
    "duration": 10,
    "start_time": "2023-08-26T17:05:53.728Z"
   },
   {
    "duration": 16,
    "start_time": "2023-08-26T17:05:53.739Z"
   },
   {
    "duration": 9,
    "start_time": "2023-08-26T17:05:53.756Z"
   },
   {
    "duration": 16,
    "start_time": "2023-08-26T17:05:53.766Z"
   },
   {
    "duration": 15,
    "start_time": "2023-08-26T17:05:53.784Z"
   },
   {
    "duration": 4,
    "start_time": "2023-08-26T17:05:53.800Z"
   },
   {
    "duration": 36,
    "start_time": "2023-08-26T17:05:53.806Z"
   },
   {
    "duration": 5,
    "start_time": "2023-08-26T17:05:53.843Z"
   },
   {
    "duration": 19,
    "start_time": "2023-08-26T17:08:44.623Z"
   },
   {
    "duration": 13,
    "start_time": "2023-08-26T17:09:07.017Z"
   },
   {
    "duration": 137,
    "start_time": "2023-08-26T17:25:21.479Z"
   },
   {
    "duration": 9,
    "start_time": "2023-08-26T17:31:19.198Z"
   },
   {
    "duration": 9,
    "start_time": "2023-08-26T17:31:55.753Z"
   },
   {
    "duration": 17,
    "start_time": "2023-08-26T17:32:10.082Z"
   },
   {
    "duration": 80,
    "start_time": "2023-08-26T17:32:26.706Z"
   },
   {
    "duration": 8,
    "start_time": "2023-08-26T17:33:59.123Z"
   },
   {
    "duration": 1323,
    "start_time": "2023-08-26T17:36:32.160Z"
   },
   {
    "duration": 1242,
    "start_time": "2023-08-26T17:38:57.822Z"
   },
   {
    "duration": 82,
    "start_time": "2023-08-26T17:38:59.066Z"
   },
   {
    "duration": 10,
    "start_time": "2023-08-26T17:38:59.150Z"
   },
   {
    "duration": 12,
    "start_time": "2023-08-26T17:38:59.162Z"
   },
   {
    "duration": 9,
    "start_time": "2023-08-26T17:38:59.176Z"
   },
   {
    "duration": 83,
    "start_time": "2023-08-26T17:38:59.187Z"
   },
   {
    "duration": 0,
    "start_time": "2023-08-26T17:38:59.273Z"
   },
   {
    "duration": 0,
    "start_time": "2023-08-26T17:38:59.275Z"
   },
   {
    "duration": 0,
    "start_time": "2023-08-26T17:38:59.277Z"
   },
   {
    "duration": 0,
    "start_time": "2023-08-26T17:38:59.278Z"
   },
   {
    "duration": 0,
    "start_time": "2023-08-26T17:38:59.280Z"
   },
   {
    "duration": 0,
    "start_time": "2023-08-26T17:38:59.282Z"
   },
   {
    "duration": 0,
    "start_time": "2023-08-26T17:38:59.284Z"
   },
   {
    "duration": 0,
    "start_time": "2023-08-26T17:38:59.286Z"
   },
   {
    "duration": 1,
    "start_time": "2023-08-26T17:38:59.287Z"
   },
   {
    "duration": 0,
    "start_time": "2023-08-26T17:38:59.289Z"
   },
   {
    "duration": 0,
    "start_time": "2023-08-26T17:38:59.291Z"
   },
   {
    "duration": 0,
    "start_time": "2023-08-26T17:38:59.293Z"
   },
   {
    "duration": 111,
    "start_time": "2023-08-26T17:39:25.248Z"
   },
   {
    "duration": 9,
    "start_time": "2023-08-26T17:39:49.880Z"
   },
   {
    "duration": 32,
    "start_time": "2023-08-26T17:40:01.351Z"
   },
   {
    "duration": 10,
    "start_time": "2023-08-26T17:41:41.685Z"
   },
   {
    "duration": 11,
    "start_time": "2023-08-26T17:42:14.885Z"
   },
   {
    "duration": 9,
    "start_time": "2023-08-26T17:42:36.036Z"
   },
   {
    "duration": 16,
    "start_time": "2023-08-26T17:43:14.614Z"
   },
   {
    "duration": 11,
    "start_time": "2023-08-26T17:47:59.330Z"
   },
   {
    "duration": 3,
    "start_time": "2023-08-26T17:48:26.389Z"
   },
   {
    "duration": 3,
    "start_time": "2023-08-26T17:48:53.249Z"
   },
   {
    "duration": 8,
    "start_time": "2023-08-26T17:48:58.675Z"
   },
   {
    "duration": 1958,
    "start_time": "2023-08-26T17:49:59.858Z"
   },
   {
    "duration": 84,
    "start_time": "2023-08-26T17:50:01.818Z"
   },
   {
    "duration": 10,
    "start_time": "2023-08-26T17:50:01.904Z"
   },
   {
    "duration": 48,
    "start_time": "2023-08-26T17:50:01.917Z"
   },
   {
    "duration": 62,
    "start_time": "2023-08-26T17:50:01.969Z"
   },
   {
    "duration": 44,
    "start_time": "2023-08-26T17:50:02.034Z"
   },
   {
    "duration": 39,
    "start_time": "2023-08-26T17:50:02.080Z"
   },
   {
    "duration": 69,
    "start_time": "2023-08-26T17:50:02.120Z"
   },
   {
    "duration": 94,
    "start_time": "2023-08-26T17:50:02.191Z"
   },
   {
    "duration": 75,
    "start_time": "2023-08-26T17:50:02.286Z"
   },
   {
    "duration": 54,
    "start_time": "2023-08-26T17:50:02.363Z"
   },
   {
    "duration": 28,
    "start_time": "2023-08-26T17:50:02.419Z"
   },
   {
    "duration": 44,
    "start_time": "2023-08-26T17:50:02.449Z"
   },
   {
    "duration": 40,
    "start_time": "2023-08-26T17:50:02.496Z"
   },
   {
    "duration": 33,
    "start_time": "2023-08-26T17:50:02.538Z"
   },
   {
    "duration": 32,
    "start_time": "2023-08-26T17:50:02.573Z"
   },
   {
    "duration": 341,
    "start_time": "2023-08-26T17:50:02.607Z"
   },
   {
    "duration": 96,
    "start_time": "2023-08-26T17:50:02.950Z"
   },
   {
    "duration": 76,
    "start_time": "2023-08-26T17:55:25.983Z"
   },
   {
    "duration": 310,
    "start_time": "2023-08-26T18:00:34.416Z"
   },
   {
    "duration": 11,
    "start_time": "2023-08-26T18:03:24.057Z"
   },
   {
    "duration": 260,
    "start_time": "2023-08-26T18:03:53.869Z"
   },
   {
    "duration": 15,
    "start_time": "2023-08-26T18:04:04.579Z"
   },
   {
    "duration": 262,
    "start_time": "2023-08-26T18:04:41.636Z"
   },
   {
    "duration": 230,
    "start_time": "2023-08-26T18:04:42.312Z"
   },
   {
    "duration": 162,
    "start_time": "2023-08-26T18:05:00.182Z"
   },
   {
    "duration": 135,
    "start_time": "2023-08-26T18:06:00.222Z"
   },
   {
    "duration": 161,
    "start_time": "2023-08-26T18:06:08.937Z"
   },
   {
    "duration": 163,
    "start_time": "2023-08-26T18:07:39.150Z"
   },
   {
    "duration": 178,
    "start_time": "2023-08-26T18:08:03.897Z"
   },
   {
    "duration": 171,
    "start_time": "2023-08-26T18:09:09.581Z"
   },
   {
    "duration": 246,
    "start_time": "2023-08-26T18:09:20.066Z"
   },
   {
    "duration": 183,
    "start_time": "2023-08-26T18:09:27.658Z"
   },
   {
    "duration": 158,
    "start_time": "2023-08-26T18:09:35.346Z"
   },
   {
    "duration": 167,
    "start_time": "2023-08-26T18:09:42.131Z"
   },
   {
    "duration": 183,
    "start_time": "2023-08-26T18:09:47.675Z"
   },
   {
    "duration": 168,
    "start_time": "2023-08-26T18:10:40.284Z"
   },
   {
    "duration": 138,
    "start_time": "2023-08-26T18:10:58.190Z"
   },
   {
    "duration": 69,
    "start_time": "2023-08-26T18:12:04.069Z"
   },
   {
    "duration": 166,
    "start_time": "2023-08-26T18:12:26.208Z"
   },
   {
    "duration": 244,
    "start_time": "2023-08-26T18:14:37.621Z"
   },
   {
    "duration": 245,
    "start_time": "2023-08-26T18:14:48.043Z"
   },
   {
    "duration": 235,
    "start_time": "2023-08-26T18:19:57.286Z"
   },
   {
    "duration": 19,
    "start_time": "2023-08-26T18:20:19.106Z"
   },
   {
    "duration": 317,
    "start_time": "2023-08-26T18:22:52.012Z"
   },
   {
    "duration": 152,
    "start_time": "2023-08-26T18:26:34.855Z"
   },
   {
    "duration": 214,
    "start_time": "2023-08-26T18:26:55.623Z"
   },
   {
    "duration": 234,
    "start_time": "2023-08-26T18:26:59.961Z"
   },
   {
    "duration": 223,
    "start_time": "2023-08-26T18:27:07.421Z"
   },
   {
    "duration": 17,
    "start_time": "2023-08-26T18:27:27.377Z"
   },
   {
    "duration": 182,
    "start_time": "2023-08-26T18:28:07.499Z"
   },
   {
    "duration": 218,
    "start_time": "2023-08-26T18:28:39.186Z"
   },
   {
    "duration": 234,
    "start_time": "2023-08-26T18:28:52.353Z"
   },
   {
    "duration": 200,
    "start_time": "2023-08-26T18:29:11.953Z"
   },
   {
    "duration": 223,
    "start_time": "2023-08-26T18:29:37.454Z"
   },
   {
    "duration": 210,
    "start_time": "2023-08-26T18:29:46.126Z"
   },
   {
    "duration": 246,
    "start_time": "2023-08-26T18:35:53.625Z"
   },
   {
    "duration": 319,
    "start_time": "2023-08-26T18:37:50.321Z"
   },
   {
    "duration": 297,
    "start_time": "2023-08-26T18:39:31.725Z"
   },
   {
    "duration": 279,
    "start_time": "2023-08-26T18:39:39.938Z"
   },
   {
    "duration": 145,
    "start_time": "2023-08-26T18:40:41.569Z"
   },
   {
    "duration": 314,
    "start_time": "2023-08-26T18:40:48.709Z"
   },
   {
    "duration": 298,
    "start_time": "2023-08-26T18:41:02.964Z"
   },
   {
    "duration": 297,
    "start_time": "2023-08-26T18:41:10.079Z"
   },
   {
    "duration": 3,
    "start_time": "2023-08-26T19:09:08.507Z"
   },
   {
    "duration": 173,
    "start_time": "2023-08-26T19:09:18.612Z"
   },
   {
    "duration": 4,
    "start_time": "2023-08-26T19:10:24.890Z"
   },
   {
    "duration": 175,
    "start_time": "2023-08-26T19:10:26.445Z"
   },
   {
    "duration": 171,
    "start_time": "2023-08-26T19:10:33.691Z"
   },
   {
    "duration": 1328,
    "start_time": "2023-08-27T08:11:21.150Z"
   },
   {
    "duration": 213,
    "start_time": "2023-08-27T08:11:22.480Z"
   },
   {
    "duration": 12,
    "start_time": "2023-08-27T08:11:22.695Z"
   },
   {
    "duration": 17,
    "start_time": "2023-08-27T08:11:22.709Z"
   },
   {
    "duration": 19,
    "start_time": "2023-08-27T08:11:22.727Z"
   },
   {
    "duration": 7,
    "start_time": "2023-08-27T08:11:22.747Z"
   },
   {
    "duration": 4,
    "start_time": "2023-08-27T08:11:22.756Z"
   },
   {
    "duration": 11,
    "start_time": "2023-08-27T08:11:22.762Z"
   },
   {
    "duration": 5,
    "start_time": "2023-08-27T08:11:22.774Z"
   },
   {
    "duration": 20,
    "start_time": "2023-08-27T08:11:22.781Z"
   },
   {
    "duration": 15,
    "start_time": "2023-08-27T08:11:22.803Z"
   },
   {
    "duration": 4,
    "start_time": "2023-08-27T08:11:22.819Z"
   },
   {
    "duration": 42,
    "start_time": "2023-08-27T08:11:22.825Z"
   },
   {
    "duration": 6,
    "start_time": "2023-08-27T08:11:22.868Z"
   },
   {
    "duration": 15,
    "start_time": "2023-08-27T08:11:22.876Z"
   },
   {
    "duration": 12,
    "start_time": "2023-08-27T08:11:22.893Z"
   },
   {
    "duration": 133,
    "start_time": "2023-08-27T08:11:22.906Z"
   },
   {
    "duration": 0,
    "start_time": "2023-08-27T08:11:23.041Z"
   },
   {
    "duration": 0,
    "start_time": "2023-08-27T08:11:23.042Z"
   },
   {
    "duration": 0,
    "start_time": "2023-08-27T08:11:23.043Z"
   },
   {
    "duration": 0,
    "start_time": "2023-08-27T08:11:23.044Z"
   },
   {
    "duration": 0,
    "start_time": "2023-08-27T08:11:23.059Z"
   },
   {
    "duration": 0,
    "start_time": "2023-08-27T08:11:23.061Z"
   },
   {
    "duration": 10,
    "start_time": "2023-08-27T08:16:31.470Z"
   },
   {
    "duration": 16,
    "start_time": "2023-08-27T08:17:18.935Z"
   },
   {
    "duration": 277,
    "start_time": "2023-08-27T08:17:27.741Z"
   },
   {
    "duration": 289,
    "start_time": "2023-08-27T08:17:47.183Z"
   },
   {
    "duration": 261,
    "start_time": "2023-08-27T08:18:06.840Z"
   },
   {
    "duration": 330,
    "start_time": "2023-08-27T08:18:11.485Z"
   },
   {
    "duration": 253,
    "start_time": "2023-08-27T08:18:16.314Z"
   },
   {
    "duration": 378,
    "start_time": "2023-08-27T08:18:21.085Z"
   },
   {
    "duration": 6,
    "start_time": "2023-08-27T08:18:36.422Z"
   },
   {
    "duration": 6,
    "start_time": "2023-08-27T08:18:55.210Z"
   },
   {
    "duration": 8,
    "start_time": "2023-08-27T08:21:07.859Z"
   },
   {
    "duration": 11,
    "start_time": "2023-08-27T08:22:51.275Z"
   },
   {
    "duration": 7,
    "start_time": "2023-08-27T08:23:16.091Z"
   },
   {
    "duration": 188,
    "start_time": "2023-08-27T08:23:18.067Z"
   },
   {
    "duration": 255,
    "start_time": "2023-08-27T09:02:06.773Z"
   },
   {
    "duration": 452,
    "start_time": "2023-08-27T09:04:57.817Z"
   },
   {
    "duration": 391,
    "start_time": "2023-08-27T09:05:37.244Z"
   },
   {
    "duration": 343,
    "start_time": "2023-08-27T09:15:14.983Z"
   },
   {
    "duration": 4,
    "start_time": "2023-08-27T09:16:04.569Z"
   },
   {
    "duration": 367,
    "start_time": "2023-08-27T09:16:05.527Z"
   },
   {
    "duration": 418,
    "start_time": "2023-08-27T09:33:12.143Z"
   },
   {
    "duration": 15,
    "start_time": "2023-08-27T09:33:20.935Z"
   },
   {
    "duration": 12,
    "start_time": "2023-08-27T09:35:15.590Z"
   },
   {
    "duration": 17,
    "start_time": "2023-08-27T09:36:00.689Z"
   },
   {
    "duration": 326,
    "start_time": "2023-08-27T09:36:22.972Z"
   },
   {
    "duration": 371,
    "start_time": "2023-08-27T09:37:26.245Z"
   },
   {
    "duration": 330,
    "start_time": "2023-08-27T09:37:47.819Z"
   },
   {
    "duration": 350,
    "start_time": "2023-08-27T09:37:58.646Z"
   },
   {
    "duration": 346,
    "start_time": "2023-08-27T09:38:07.442Z"
   },
   {
    "duration": 320,
    "start_time": "2023-08-27T09:38:26.392Z"
   },
   {
    "duration": 503,
    "start_time": "2023-08-27T09:42:02.126Z"
   },
   {
    "duration": 382,
    "start_time": "2023-08-27T09:42:10.133Z"
   },
   {
    "duration": 496,
    "start_time": "2023-08-27T09:42:53.546Z"
   },
   {
    "duration": 546,
    "start_time": "2023-08-27T09:43:02.051Z"
   },
   {
    "duration": 525,
    "start_time": "2023-08-27T09:43:11.293Z"
   },
   {
    "duration": 539,
    "start_time": "2023-08-27T09:43:25.584Z"
   },
   {
    "duration": 463,
    "start_time": "2023-08-27T09:43:38.558Z"
   },
   {
    "duration": 511,
    "start_time": "2023-08-27T09:43:59.446Z"
   },
   {
    "duration": 426,
    "start_time": "2023-08-27T09:44:14.464Z"
   },
   {
    "duration": 379,
    "start_time": "2023-08-27T09:44:36.191Z"
   },
   {
    "duration": 383,
    "start_time": "2023-08-27T09:44:46.450Z"
   },
   {
    "duration": 256,
    "start_time": "2023-08-27T09:51:59.205Z"
   },
   {
    "duration": 474,
    "start_time": "2023-08-27T09:52:22.817Z"
   },
   {
    "duration": 255,
    "start_time": "2023-08-27T09:52:30.787Z"
   },
   {
    "duration": 5,
    "start_time": "2023-08-27T09:55:13.341Z"
   },
   {
    "duration": 183,
    "start_time": "2023-08-27T10:14:02.622Z"
   },
   {
    "duration": 170,
    "start_time": "2023-08-27T10:14:20.225Z"
   },
   {
    "duration": 175,
    "start_time": "2023-08-27T10:16:32.169Z"
   },
   {
    "duration": 5,
    "start_time": "2023-08-27T10:18:51.640Z"
   },
   {
    "duration": 5,
    "start_time": "2023-08-27T10:18:58.126Z"
   },
   {
    "duration": 6,
    "start_time": "2023-08-27T10:19:04.212Z"
   },
   {
    "duration": 14,
    "start_time": "2023-08-27T10:38:58.657Z"
   },
   {
    "duration": 1178,
    "start_time": "2023-08-27T10:39:46.355Z"
   },
   {
    "duration": 79,
    "start_time": "2023-08-27T10:39:47.535Z"
   },
   {
    "duration": 12,
    "start_time": "2023-08-27T10:39:47.616Z"
   },
   {
    "duration": 4,
    "start_time": "2023-08-27T10:39:47.629Z"
   },
   {
    "duration": 15,
    "start_time": "2023-08-27T10:39:47.635Z"
   },
   {
    "duration": 4,
    "start_time": "2023-08-27T10:39:47.652Z"
   },
   {
    "duration": 17,
    "start_time": "2023-08-27T10:39:47.657Z"
   },
   {
    "duration": 12,
    "start_time": "2023-08-27T10:39:47.676Z"
   },
   {
    "duration": 5,
    "start_time": "2023-08-27T10:39:47.689Z"
   },
   {
    "duration": 18,
    "start_time": "2023-08-27T10:39:47.696Z"
   },
   {
    "duration": 18,
    "start_time": "2023-08-27T10:39:47.716Z"
   },
   {
    "duration": 32,
    "start_time": "2023-08-27T10:39:47.736Z"
   },
   {
    "duration": 17,
    "start_time": "2023-08-27T10:39:47.770Z"
   },
   {
    "duration": 13,
    "start_time": "2023-08-27T10:39:47.791Z"
   },
   {
    "duration": 22,
    "start_time": "2023-08-27T10:39:47.806Z"
   },
   {
    "duration": 36,
    "start_time": "2023-08-27T10:39:47.829Z"
   },
   {
    "duration": 325,
    "start_time": "2023-08-27T10:39:47.867Z"
   },
   {
    "duration": 11,
    "start_time": "2023-08-27T10:39:48.194Z"
   },
   {
    "duration": 395,
    "start_time": "2023-08-27T10:39:48.207Z"
   },
   {
    "duration": 303,
    "start_time": "2023-08-27T10:39:48.604Z"
   },
   {
    "duration": 373,
    "start_time": "2023-08-27T10:39:48.908Z"
   },
   {
    "duration": 5,
    "start_time": "2023-08-27T10:39:49.282Z"
   },
   {
    "duration": 364,
    "start_time": "2023-08-27T10:39:49.289Z"
   },
   {
    "duration": 437,
    "start_time": "2023-08-27T10:39:49.655Z"
   },
   {
    "duration": 287,
    "start_time": "2023-08-27T10:39:50.094Z"
   },
   {
    "duration": 113,
    "start_time": "2023-08-27T10:39:50.383Z"
   },
   {
    "duration": 0,
    "start_time": "2023-08-27T10:39:50.498Z"
   },
   {
    "duration": 0,
    "start_time": "2023-08-27T10:39:50.501Z"
   },
   {
    "duration": 0,
    "start_time": "2023-08-27T10:39:50.502Z"
   },
   {
    "duration": 5,
    "start_time": "2023-08-27T10:41:38.656Z"
   },
   {
    "duration": 174,
    "start_time": "2023-08-27T10:41:45.615Z"
   },
   {
    "duration": 4,
    "start_time": "2023-08-27T10:41:51.120Z"
   },
   {
    "duration": 11,
    "start_time": "2023-08-27T10:41:53.778Z"
   },
   {
    "duration": 11,
    "start_time": "2023-08-27T10:42:37.425Z"
   },
   {
    "duration": 11,
    "start_time": "2023-08-27T10:49:51.001Z"
   },
   {
    "duration": 409,
    "start_time": "2023-08-27T10:56:40.041Z"
   },
   {
    "duration": 334,
    "start_time": "2023-08-27T10:57:37.233Z"
   },
   {
    "duration": 350,
    "start_time": "2023-08-27T11:06:38.441Z"
   },
   {
    "duration": 335,
    "start_time": "2023-08-27T11:06:43.163Z"
   },
   {
    "duration": 12,
    "start_time": "2023-08-27T11:14:22.504Z"
   },
   {
    "duration": 1271,
    "start_time": "2023-08-27T11:18:39.902Z"
   },
   {
    "duration": 1022,
    "start_time": "2023-08-27T11:19:24.993Z"
   },
   {
    "duration": 1221,
    "start_time": "2023-08-27T11:22:05.994Z"
   },
   {
    "duration": 19,
    "start_time": "2023-08-27T11:27:15.678Z"
   },
   {
    "duration": 24,
    "start_time": "2023-08-27T11:37:50.823Z"
   },
   {
    "duration": 348,
    "start_time": "2023-08-27T11:50:02.889Z"
   },
   {
    "duration": 12,
    "start_time": "2023-08-27T11:50:49.907Z"
   },
   {
    "duration": 1046,
    "start_time": "2023-08-27T11:53:58.915Z"
   },
   {
    "duration": 10,
    "start_time": "2023-08-27T11:54:13.739Z"
   },
   {
    "duration": 1209,
    "start_time": "2023-08-27T12:46:19.281Z"
   },
   {
    "duration": 79,
    "start_time": "2023-08-27T12:46:20.492Z"
   },
   {
    "duration": 14,
    "start_time": "2023-08-27T12:46:20.573Z"
   },
   {
    "duration": 18,
    "start_time": "2023-08-27T12:46:20.589Z"
   },
   {
    "duration": 21,
    "start_time": "2023-08-27T12:46:20.610Z"
   },
   {
    "duration": 10,
    "start_time": "2023-08-27T12:46:20.633Z"
   },
   {
    "duration": 7,
    "start_time": "2023-08-27T12:46:20.645Z"
   },
   {
    "duration": 12,
    "start_time": "2023-08-27T12:46:20.654Z"
   },
   {
    "duration": 8,
    "start_time": "2023-08-27T12:46:20.668Z"
   },
   {
    "duration": 26,
    "start_time": "2023-08-27T12:46:20.678Z"
   },
   {
    "duration": 25,
    "start_time": "2023-08-27T12:46:20.706Z"
   },
   {
    "duration": 55,
    "start_time": "2023-08-27T12:46:20.734Z"
   },
   {
    "duration": 44,
    "start_time": "2023-08-27T12:46:20.792Z"
   },
   {
    "duration": 26,
    "start_time": "2023-08-27T12:46:20.840Z"
   },
   {
    "duration": 36,
    "start_time": "2023-08-27T12:46:20.869Z"
   },
   {
    "duration": 14,
    "start_time": "2023-08-27T12:46:20.907Z"
   },
   {
    "duration": 27,
    "start_time": "2023-08-27T12:46:20.923Z"
   },
   {
    "duration": 304,
    "start_time": "2023-08-27T12:46:20.952Z"
   },
   {
    "duration": 12,
    "start_time": "2023-08-27T12:46:21.257Z"
   },
   {
    "duration": 368,
    "start_time": "2023-08-27T12:46:21.271Z"
   },
   {
    "duration": 285,
    "start_time": "2023-08-27T12:46:21.641Z"
   },
   {
    "duration": 425,
    "start_time": "2023-08-27T12:46:21.927Z"
   },
   {
    "duration": 5,
    "start_time": "2023-08-27T12:46:22.359Z"
   },
   {
    "duration": 375,
    "start_time": "2023-08-27T12:46:22.366Z"
   },
   {
    "duration": 415,
    "start_time": "2023-08-27T12:46:22.744Z"
   },
   {
    "duration": 267,
    "start_time": "2023-08-27T12:46:23.161Z"
   },
   {
    "duration": 5,
    "start_time": "2023-08-27T12:46:23.430Z"
   },
   {
    "duration": 209,
    "start_time": "2023-08-27T12:46:23.436Z"
   },
   {
    "duration": 5,
    "start_time": "2023-08-27T12:46:23.646Z"
   },
   {
    "duration": 468,
    "start_time": "2023-08-27T12:46:23.659Z"
   },
   {
    "duration": 14,
    "start_time": "2023-08-27T12:46:24.130Z"
   },
   {
    "duration": 519,
    "start_time": "2023-08-27T12:46:24.160Z"
   },
   {
    "duration": 16,
    "start_time": "2023-08-27T12:46:24.682Z"
   },
   {
    "duration": 104,
    "start_time": "2023-08-27T13:16:39.751Z"
   },
   {
    "duration": 15,
    "start_time": "2023-08-27T13:16:48.470Z"
   },
   {
    "duration": 11,
    "start_time": "2023-08-27T13:17:03.877Z"
   },
   {
    "duration": 11,
    "start_time": "2023-08-27T13:17:51.158Z"
   },
   {
    "duration": 1237,
    "start_time": "2023-08-27T13:17:58.148Z"
   },
   {
    "duration": 78,
    "start_time": "2023-08-27T13:17:59.387Z"
   },
   {
    "duration": 12,
    "start_time": "2023-08-27T13:17:59.467Z"
   },
   {
    "duration": 14,
    "start_time": "2023-08-27T13:17:59.481Z"
   },
   {
    "duration": 18,
    "start_time": "2023-08-27T13:17:59.497Z"
   },
   {
    "duration": 10,
    "start_time": "2023-08-27T13:17:59.517Z"
   },
   {
    "duration": 5,
    "start_time": "2023-08-27T13:17:59.529Z"
   },
   {
    "duration": 11,
    "start_time": "2023-08-27T13:17:59.535Z"
   },
   {
    "duration": 5,
    "start_time": "2023-08-27T13:17:59.547Z"
   },
   {
    "duration": 25,
    "start_time": "2023-08-27T13:17:59.558Z"
   },
   {
    "duration": 17,
    "start_time": "2023-08-27T13:17:59.585Z"
   },
   {
    "duration": 4,
    "start_time": "2023-08-27T13:17:59.604Z"
   },
   {
    "duration": 52,
    "start_time": "2023-08-27T13:17:59.610Z"
   },
   {
    "duration": 4,
    "start_time": "2023-08-27T13:17:59.666Z"
   },
   {
    "duration": 14,
    "start_time": "2023-08-27T13:17:59.672Z"
   },
   {
    "duration": 14,
    "start_time": "2023-08-27T13:17:59.688Z"
   },
   {
    "duration": 31,
    "start_time": "2023-08-27T13:17:59.704Z"
   },
   {
    "duration": 318,
    "start_time": "2023-08-27T13:17:59.737Z"
   },
   {
    "duration": 11,
    "start_time": "2023-08-27T13:18:00.059Z"
   },
   {
    "duration": 393,
    "start_time": "2023-08-27T13:18:00.072Z"
   },
   {
    "duration": 273,
    "start_time": "2023-08-27T13:18:00.466Z"
   },
   {
    "duration": 386,
    "start_time": "2023-08-27T13:18:00.741Z"
   },
   {
    "duration": 4,
    "start_time": "2023-08-27T13:18:01.130Z"
   },
   {
    "duration": 387,
    "start_time": "2023-08-27T13:18:01.136Z"
   },
   {
    "duration": 386,
    "start_time": "2023-08-27T13:18:01.524Z"
   },
   {
    "duration": 307,
    "start_time": "2023-08-27T13:18:01.912Z"
   },
   {
    "duration": 5,
    "start_time": "2023-08-27T13:18:02.221Z"
   },
   {
    "duration": 214,
    "start_time": "2023-08-27T13:18:02.227Z"
   },
   {
    "duration": 5,
    "start_time": "2023-08-27T13:18:02.442Z"
   },
   {
    "duration": 428,
    "start_time": "2023-08-27T13:18:02.458Z"
   },
   {
    "duration": 11,
    "start_time": "2023-08-27T13:18:02.888Z"
   },
   {
    "duration": 351,
    "start_time": "2023-08-27T13:18:02.901Z"
   },
   {
    "duration": 16,
    "start_time": "2023-08-27T13:18:03.253Z"
   },
   {
    "duration": 11,
    "start_time": "2023-08-27T13:21:48.247Z"
   },
   {
    "duration": 4,
    "start_time": "2023-08-27T13:22:58.946Z"
   },
   {
    "duration": 5,
    "start_time": "2023-08-27T13:23:21.267Z"
   },
   {
    "duration": 5,
    "start_time": "2023-08-27T13:23:27.410Z"
   },
   {
    "duration": 4,
    "start_time": "2023-08-27T13:23:34.770Z"
   },
   {
    "duration": 4,
    "start_time": "2023-08-27T13:23:49.498Z"
   },
   {
    "duration": 248,
    "start_time": "2023-08-27T13:49:23.059Z"
   },
   {
    "duration": 275,
    "start_time": "2023-08-27T13:49:36.675Z"
   },
   {
    "duration": 1260,
    "start_time": "2023-08-27T14:01:43.557Z"
   },
   {
    "duration": 78,
    "start_time": "2023-08-27T14:01:44.819Z"
   },
   {
    "duration": 13,
    "start_time": "2023-08-27T14:01:44.898Z"
   },
   {
    "duration": 7,
    "start_time": "2023-08-27T14:01:44.913Z"
   },
   {
    "duration": 21,
    "start_time": "2023-08-27T14:01:44.922Z"
   },
   {
    "duration": 3,
    "start_time": "2023-08-27T14:01:44.945Z"
   },
   {
    "duration": 10,
    "start_time": "2023-08-27T14:01:44.950Z"
   },
   {
    "duration": 15,
    "start_time": "2023-08-27T14:01:44.962Z"
   },
   {
    "duration": 5,
    "start_time": "2023-08-27T14:01:44.978Z"
   },
   {
    "duration": 16,
    "start_time": "2023-08-27T14:01:44.985Z"
   },
   {
    "duration": 15,
    "start_time": "2023-08-27T14:01:45.003Z"
   },
   {
    "duration": 40,
    "start_time": "2023-08-27T14:01:45.020Z"
   },
   {
    "duration": 50,
    "start_time": "2023-08-27T14:01:45.062Z"
   },
   {
    "duration": 15,
    "start_time": "2023-08-27T14:01:45.115Z"
   },
   {
    "duration": 19,
    "start_time": "2023-08-27T14:01:45.131Z"
   },
   {
    "duration": 20,
    "start_time": "2023-08-27T14:01:45.152Z"
   },
   {
    "duration": 15,
    "start_time": "2023-08-27T14:01:45.173Z"
   },
   {
    "duration": 6,
    "start_time": "2023-08-27T14:01:45.190Z"
   },
   {
    "duration": 7,
    "start_time": "2023-08-27T14:01:45.198Z"
   },
   {
    "duration": 331,
    "start_time": "2023-08-27T14:01:45.206Z"
   },
   {
    "duration": 109,
    "start_time": "2023-08-27T14:01:45.539Z"
   },
   {
    "duration": 0,
    "start_time": "2023-08-27T14:01:45.650Z"
   },
   {
    "duration": 0,
    "start_time": "2023-08-27T14:01:45.659Z"
   },
   {
    "duration": 0,
    "start_time": "2023-08-27T14:01:45.660Z"
   },
   {
    "duration": 0,
    "start_time": "2023-08-27T14:01:45.661Z"
   },
   {
    "duration": 0,
    "start_time": "2023-08-27T14:01:45.662Z"
   },
   {
    "duration": 0,
    "start_time": "2023-08-27T14:01:45.663Z"
   },
   {
    "duration": 0,
    "start_time": "2023-08-27T14:01:45.664Z"
   },
   {
    "duration": 0,
    "start_time": "2023-08-27T14:01:45.665Z"
   },
   {
    "duration": 0,
    "start_time": "2023-08-27T14:01:45.666Z"
   },
   {
    "duration": 0,
    "start_time": "2023-08-27T14:01:45.667Z"
   },
   {
    "duration": 0,
    "start_time": "2023-08-27T14:01:45.668Z"
   },
   {
    "duration": 0,
    "start_time": "2023-08-27T14:01:45.669Z"
   },
   {
    "duration": 0,
    "start_time": "2023-08-27T14:01:45.671Z"
   },
   {
    "duration": 360,
    "start_time": "2023-08-27T14:02:39.825Z"
   },
   {
    "duration": 1244,
    "start_time": "2023-08-27T14:02:46.265Z"
   },
   {
    "duration": 80,
    "start_time": "2023-08-27T14:02:47.511Z"
   },
   {
    "duration": 13,
    "start_time": "2023-08-27T14:02:47.593Z"
   },
   {
    "duration": 3,
    "start_time": "2023-08-27T14:02:47.608Z"
   },
   {
    "duration": 13,
    "start_time": "2023-08-27T14:02:47.613Z"
   },
   {
    "duration": 10,
    "start_time": "2023-08-27T14:02:47.627Z"
   },
   {
    "duration": 5,
    "start_time": "2023-08-27T14:02:47.639Z"
   },
   {
    "duration": 10,
    "start_time": "2023-08-27T14:02:47.646Z"
   },
   {
    "duration": 4,
    "start_time": "2023-08-27T14:02:47.657Z"
   },
   {
    "duration": 19,
    "start_time": "2023-08-27T14:02:47.662Z"
   },
   {
    "duration": 16,
    "start_time": "2023-08-27T14:02:47.683Z"
   },
   {
    "duration": 4,
    "start_time": "2023-08-27T14:02:47.701Z"
   },
   {
    "duration": 16,
    "start_time": "2023-08-27T14:02:47.706Z"
   },
   {
    "duration": 4,
    "start_time": "2023-08-27T14:02:47.759Z"
   },
   {
    "duration": 14,
    "start_time": "2023-08-27T14:02:47.765Z"
   },
   {
    "duration": 11,
    "start_time": "2023-08-27T14:02:47.781Z"
   },
   {
    "duration": 15,
    "start_time": "2023-08-27T14:02:47.794Z"
   },
   {
    "duration": 10,
    "start_time": "2023-08-27T14:02:47.810Z"
   },
   {
    "duration": 9,
    "start_time": "2023-08-27T14:02:47.822Z"
   },
   {
    "duration": 315,
    "start_time": "2023-08-27T14:02:47.832Z"
   },
   {
    "duration": 366,
    "start_time": "2023-08-27T14:02:48.149Z"
   },
   {
    "duration": 270,
    "start_time": "2023-08-27T14:02:48.517Z"
   },
   {
    "duration": 0,
    "start_time": "2023-08-27T14:02:48.788Z"
   },
   {
    "duration": 0,
    "start_time": "2023-08-27T14:02:48.790Z"
   },
   {
    "duration": 0,
    "start_time": "2023-08-27T14:02:48.791Z"
   },
   {
    "duration": 0,
    "start_time": "2023-08-27T14:02:48.792Z"
   },
   {
    "duration": 0,
    "start_time": "2023-08-27T14:02:48.793Z"
   },
   {
    "duration": 0,
    "start_time": "2023-08-27T14:02:48.794Z"
   },
   {
    "duration": 0,
    "start_time": "2023-08-27T14:02:48.795Z"
   },
   {
    "duration": 0,
    "start_time": "2023-08-27T14:02:48.796Z"
   },
   {
    "duration": 0,
    "start_time": "2023-08-27T14:02:48.797Z"
   },
   {
    "duration": 0,
    "start_time": "2023-08-27T14:02:48.798Z"
   },
   {
    "duration": 0,
    "start_time": "2023-08-27T14:02:48.799Z"
   },
   {
    "duration": 0,
    "start_time": "2023-08-27T14:02:48.800Z"
   },
   {
    "duration": 1232,
    "start_time": "2023-08-27T14:03:46.934Z"
   },
   {
    "duration": 78,
    "start_time": "2023-08-27T14:03:48.168Z"
   },
   {
    "duration": 14,
    "start_time": "2023-08-27T14:03:48.248Z"
   },
   {
    "duration": 15,
    "start_time": "2023-08-27T14:03:48.264Z"
   },
   {
    "duration": 17,
    "start_time": "2023-08-27T14:03:48.282Z"
   },
   {
    "duration": 6,
    "start_time": "2023-08-27T14:03:48.301Z"
   },
   {
    "duration": 8,
    "start_time": "2023-08-27T14:03:48.308Z"
   },
   {
    "duration": 10,
    "start_time": "2023-08-27T14:03:48.318Z"
   },
   {
    "duration": 4,
    "start_time": "2023-08-27T14:03:48.330Z"
   },
   {
    "duration": 26,
    "start_time": "2023-08-27T14:03:48.336Z"
   },
   {
    "duration": 17,
    "start_time": "2023-08-27T14:03:48.363Z"
   },
   {
    "duration": 7,
    "start_time": "2023-08-27T14:03:48.382Z"
   },
   {
    "duration": 16,
    "start_time": "2023-08-27T14:03:48.391Z"
   },
   {
    "duration": 4,
    "start_time": "2023-08-27T14:03:48.410Z"
   },
   {
    "duration": 47,
    "start_time": "2023-08-27T14:03:48.416Z"
   },
   {
    "duration": 12,
    "start_time": "2023-08-27T14:03:48.465Z"
   },
   {
    "duration": 11,
    "start_time": "2023-08-27T14:03:48.478Z"
   },
   {
    "duration": 5,
    "start_time": "2023-08-27T14:03:48.490Z"
   },
   {
    "duration": 10,
    "start_time": "2023-08-27T14:03:48.496Z"
   },
   {
    "duration": 310,
    "start_time": "2023-08-27T14:03:48.508Z"
   },
   {
    "duration": 359,
    "start_time": "2023-08-27T14:03:48.820Z"
   },
   {
    "duration": 281,
    "start_time": "2023-08-27T14:03:49.181Z"
   },
   {
    "duration": 378,
    "start_time": "2023-08-27T14:03:49.464Z"
   },
   {
    "duration": 4,
    "start_time": "2023-08-27T14:03:49.844Z"
   },
   {
    "duration": 381,
    "start_time": "2023-08-27T14:03:49.858Z"
   },
   {
    "duration": 384,
    "start_time": "2023-08-27T14:03:50.241Z"
   },
   {
    "duration": 264,
    "start_time": "2023-08-27T14:03:50.627Z"
   },
   {
    "duration": 5,
    "start_time": "2023-08-27T14:03:50.892Z"
   },
   {
    "duration": 184,
    "start_time": "2023-08-27T14:03:50.898Z"
   },
   {
    "duration": 4,
    "start_time": "2023-08-27T14:03:51.084Z"
   },
   {
    "duration": 442,
    "start_time": "2023-08-27T14:03:51.090Z"
   },
   {
    "duration": 11,
    "start_time": "2023-08-27T14:03:51.534Z"
   },
   {
    "duration": 341,
    "start_time": "2023-08-27T14:03:51.546Z"
   },
   {
    "duration": 14,
    "start_time": "2023-08-27T14:03:51.889Z"
   },
   {
    "duration": 1376,
    "start_time": "2023-08-27T14:10:14.378Z"
   },
   {
    "duration": 4,
    "start_time": "2023-08-27T14:10:33.036Z"
   },
   {
    "duration": 410,
    "start_time": "2023-08-27T14:10:34.692Z"
   },
   {
    "duration": 335,
    "start_time": "2023-08-27T14:10:40.588Z"
   },
   {
    "duration": 195,
    "start_time": "2023-08-27T14:33:49.191Z"
   },
   {
    "duration": 185,
    "start_time": "2023-08-27T14:34:01.244Z"
   },
   {
    "duration": 24,
    "start_time": "2023-08-27T14:38:09.274Z"
   },
   {
    "duration": 25,
    "start_time": "2023-08-27T14:38:41.706Z"
   },
   {
    "duration": 332,
    "start_time": "2023-08-27T14:38:52.261Z"
   },
   {
    "duration": 18,
    "start_time": "2023-08-27T14:50:24.904Z"
   },
   {
    "duration": 1225,
    "start_time": "2023-08-27T14:50:42.460Z"
   },
   {
    "duration": 78,
    "start_time": "2023-08-27T14:50:43.687Z"
   },
   {
    "duration": 13,
    "start_time": "2023-08-27T14:50:43.767Z"
   },
   {
    "duration": 4,
    "start_time": "2023-08-27T14:50:43.782Z"
   },
   {
    "duration": 14,
    "start_time": "2023-08-27T14:50:43.789Z"
   },
   {
    "duration": 6,
    "start_time": "2023-08-27T14:50:43.805Z"
   },
   {
    "duration": 5,
    "start_time": "2023-08-27T14:50:43.813Z"
   },
   {
    "duration": 11,
    "start_time": "2023-08-27T14:50:43.820Z"
   },
   {
    "duration": 28,
    "start_time": "2023-08-27T14:50:43.833Z"
   },
   {
    "duration": 20,
    "start_time": "2023-08-27T14:50:43.863Z"
   },
   {
    "duration": 17,
    "start_time": "2023-08-27T14:50:43.885Z"
   },
   {
    "duration": 8,
    "start_time": "2023-08-27T14:50:43.903Z"
   },
   {
    "duration": 48,
    "start_time": "2023-08-27T14:50:43.913Z"
   },
   {
    "duration": 4,
    "start_time": "2023-08-27T14:50:43.964Z"
   },
   {
    "duration": 14,
    "start_time": "2023-08-27T14:50:43.970Z"
   },
   {
    "duration": 12,
    "start_time": "2023-08-27T14:50:43.986Z"
   },
   {
    "duration": 11,
    "start_time": "2023-08-27T14:50:44.001Z"
   },
   {
    "duration": 48,
    "start_time": "2023-08-27T14:50:44.013Z"
   },
   {
    "duration": 5,
    "start_time": "2023-08-27T14:50:44.062Z"
   },
   {
    "duration": 412,
    "start_time": "2023-08-27T14:50:44.069Z"
   },
   {
    "duration": 362,
    "start_time": "2023-08-27T14:50:44.483Z"
   },
   {
    "duration": 280,
    "start_time": "2023-08-27T14:50:44.846Z"
   },
   {
    "duration": 418,
    "start_time": "2023-08-27T14:50:45.128Z"
   },
   {
    "duration": 11,
    "start_time": "2023-08-27T14:50:45.548Z"
   },
   {
    "duration": 374,
    "start_time": "2023-08-27T14:50:45.561Z"
   },
   {
    "duration": 400,
    "start_time": "2023-08-27T14:50:45.937Z"
   },
   {
    "duration": 269,
    "start_time": "2023-08-27T14:50:46.338Z"
   },
   {
    "duration": 5,
    "start_time": "2023-08-27T14:50:46.610Z"
   },
   {
    "duration": 184,
    "start_time": "2023-08-27T14:50:46.617Z"
   },
   {
    "duration": 5,
    "start_time": "2023-08-27T14:50:46.804Z"
   },
   {
    "duration": 219,
    "start_time": "2023-08-27T14:50:46.811Z"
   },
   {
    "duration": 0,
    "start_time": "2023-08-27T14:50:47.031Z"
   },
   {
    "duration": 0,
    "start_time": "2023-08-27T14:50:47.032Z"
   },
   {
    "duration": 0,
    "start_time": "2023-08-27T14:50:47.034Z"
   },
   {
    "duration": 352,
    "start_time": "2023-08-27T14:52:24.387Z"
   },
   {
    "duration": 12,
    "start_time": "2023-08-27T14:52:29.355Z"
   },
   {
    "duration": 17,
    "start_time": "2023-08-27T14:52:31.603Z"
   },
   {
    "duration": 18,
    "start_time": "2023-08-27T14:54:00.356Z"
   },
   {
    "duration": 322,
    "start_time": "2023-08-27T14:54:24.417Z"
   },
   {
    "duration": 13,
    "start_time": "2023-08-27T14:54:58.129Z"
   },
   {
    "duration": 19,
    "start_time": "2023-08-27T14:55:38.922Z"
   },
   {
    "duration": 20,
    "start_time": "2023-08-27T14:55:59.139Z"
   },
   {
    "duration": 12,
    "start_time": "2023-08-27T14:56:15.887Z"
   },
   {
    "duration": 338,
    "start_time": "2023-08-27T14:58:06.662Z"
   },
   {
    "duration": 12,
    "start_time": "2023-08-27T14:58:12.712Z"
   },
   {
    "duration": 323,
    "start_time": "2023-08-27T14:58:39.491Z"
   },
   {
    "duration": 340,
    "start_time": "2023-08-27T15:00:45.351Z"
   },
   {
    "duration": 1212,
    "start_time": "2023-08-27T15:29:54.674Z"
   },
   {
    "duration": 79,
    "start_time": "2023-08-27T15:29:55.887Z"
   },
   {
    "duration": 12,
    "start_time": "2023-08-27T15:29:55.968Z"
   },
   {
    "duration": 10,
    "start_time": "2023-08-27T15:29:55.982Z"
   },
   {
    "duration": 17,
    "start_time": "2023-08-27T15:29:55.993Z"
   },
   {
    "duration": 6,
    "start_time": "2023-08-27T15:29:56.011Z"
   },
   {
    "duration": 7,
    "start_time": "2023-08-27T15:29:56.019Z"
   },
   {
    "duration": 25,
    "start_time": "2023-08-27T15:29:56.028Z"
   },
   {
    "duration": 8,
    "start_time": "2023-08-27T15:29:56.055Z"
   },
   {
    "duration": 29,
    "start_time": "2023-08-27T15:29:56.066Z"
   },
   {
    "duration": 33,
    "start_time": "2023-08-27T15:29:56.097Z"
   },
   {
    "duration": 5,
    "start_time": "2023-08-27T15:29:56.132Z"
   },
   {
    "duration": 19,
    "start_time": "2023-08-27T15:29:56.138Z"
   },
   {
    "duration": 48,
    "start_time": "2023-08-27T15:29:56.158Z"
   },
   {
    "duration": 53,
    "start_time": "2023-08-27T15:29:56.207Z"
   },
   {
    "duration": 11,
    "start_time": "2023-08-27T15:29:56.262Z"
   },
   {
    "duration": 10,
    "start_time": "2023-08-27T15:29:56.275Z"
   },
   {
    "duration": 17,
    "start_time": "2023-08-27T15:29:56.287Z"
   },
   {
    "duration": 7,
    "start_time": "2023-08-27T15:29:56.306Z"
   },
   {
    "duration": 305,
    "start_time": "2023-08-27T15:29:56.314Z"
   },
   {
    "duration": 357,
    "start_time": "2023-08-27T15:29:56.620Z"
   },
   {
    "duration": 280,
    "start_time": "2023-08-27T15:29:56.979Z"
   },
   {
    "duration": 381,
    "start_time": "2023-08-27T15:29:57.261Z"
   },
   {
    "duration": 4,
    "start_time": "2023-08-27T15:29:57.644Z"
   },
   {
    "duration": 377,
    "start_time": "2023-08-27T15:29:57.650Z"
   },
   {
    "duration": 399,
    "start_time": "2023-08-27T15:29:58.029Z"
   },
   {
    "duration": 258,
    "start_time": "2023-08-27T15:29:58.429Z"
   },
   {
    "duration": 4,
    "start_time": "2023-08-27T15:29:58.691Z"
   },
   {
    "duration": 185,
    "start_time": "2023-08-27T15:29:58.696Z"
   },
   {
    "duration": 5,
    "start_time": "2023-08-27T15:29:58.883Z"
   },
   {
    "duration": 482,
    "start_time": "2023-08-27T15:29:58.889Z"
   },
   {
    "duration": 11,
    "start_time": "2023-08-27T15:29:59.373Z"
   },
   {
    "duration": 374,
    "start_time": "2023-08-27T15:29:59.385Z"
   },
   {
    "duration": 12,
    "start_time": "2023-08-27T15:29:59.761Z"
   },
   {
    "duration": 89,
    "start_time": "2023-08-27T17:25:00.210Z"
   },
   {
    "duration": 41,
    "start_time": "2023-08-27T18:00:11.643Z"
   },
   {
    "duration": 1296,
    "start_time": "2023-08-27T18:00:26.279Z"
   },
   {
    "duration": 192,
    "start_time": "2023-08-27T18:00:27.577Z"
   },
   {
    "duration": 14,
    "start_time": "2023-08-27T18:00:27.771Z"
   },
   {
    "duration": 3,
    "start_time": "2023-08-27T18:00:27.787Z"
   },
   {
    "duration": 9,
    "start_time": "2023-08-27T18:00:27.792Z"
   },
   {
    "duration": 3,
    "start_time": "2023-08-27T18:00:27.803Z"
   },
   {
    "duration": 4,
    "start_time": "2023-08-27T18:00:27.807Z"
   },
   {
    "duration": 9,
    "start_time": "2023-08-27T18:00:27.813Z"
   },
   {
    "duration": 3,
    "start_time": "2023-08-27T18:00:27.824Z"
   },
   {
    "duration": 15,
    "start_time": "2023-08-27T18:00:27.828Z"
   },
   {
    "duration": 14,
    "start_time": "2023-08-27T18:00:27.845Z"
   },
   {
    "duration": 4,
    "start_time": "2023-08-27T18:00:27.861Z"
   },
   {
    "duration": 14,
    "start_time": "2023-08-27T18:00:27.866Z"
   },
   {
    "duration": 4,
    "start_time": "2023-08-27T18:00:27.882Z"
   },
   {
    "duration": 11,
    "start_time": "2023-08-27T18:00:27.925Z"
   },
   {
    "duration": 10,
    "start_time": "2023-08-27T18:00:27.938Z"
   },
   {
    "duration": 10,
    "start_time": "2023-08-27T18:00:27.950Z"
   },
   {
    "duration": 4,
    "start_time": "2023-08-27T18:00:27.962Z"
   },
   {
    "duration": 7,
    "start_time": "2023-08-27T18:00:27.967Z"
   },
   {
    "duration": 300,
    "start_time": "2023-08-27T18:00:27.975Z"
   },
   {
    "duration": 323,
    "start_time": "2023-08-27T18:00:28.277Z"
   },
   {
    "duration": 246,
    "start_time": "2023-08-27T18:00:28.602Z"
   },
   {
    "duration": 428,
    "start_time": "2023-08-27T18:00:28.850Z"
   },
   {
    "duration": 4,
    "start_time": "2023-08-27T18:00:29.279Z"
   },
   {
    "duration": 376,
    "start_time": "2023-08-27T18:00:29.285Z"
   },
   {
    "duration": 321,
    "start_time": "2023-08-27T18:00:29.663Z"
   },
   {
    "duration": 245,
    "start_time": "2023-08-27T18:00:29.986Z"
   },
   {
    "duration": 5,
    "start_time": "2023-08-27T18:00:30.233Z"
   },
   {
    "duration": 284,
    "start_time": "2023-08-27T18:00:30.240Z"
   },
   {
    "duration": 4,
    "start_time": "2023-08-27T18:00:30.526Z"
   },
   {
    "duration": 414,
    "start_time": "2023-08-27T18:00:30.532Z"
   },
   {
    "duration": 5,
    "start_time": "2023-08-27T18:00:30.947Z"
   },
   {
    "duration": 37,
    "start_time": "2023-08-27T18:00:30.954Z"
   },
   {
    "duration": 395,
    "start_time": "2023-08-27T18:00:30.993Z"
   },
   {
    "duration": 11,
    "start_time": "2023-08-27T18:00:31.390Z"
   },
   {
    "duration": 6,
    "start_time": "2023-08-27T18:01:00.262Z"
   },
   {
    "duration": 6,
    "start_time": "2023-08-27T18:01:10.242Z"
   },
   {
    "duration": 7,
    "start_time": "2023-08-27T18:01:42.261Z"
   },
   {
    "duration": 96,
    "start_time": "2023-08-27T18:01:48.293Z"
   },
   {
    "duration": 369,
    "start_time": "2023-08-27T18:12:14.690Z"
   },
   {
    "duration": 11,
    "start_time": "2023-08-27T18:14:12.416Z"
   },
   {
    "duration": 55,
    "start_time": "2023-09-11T07:21:30.410Z"
   },
   {
    "duration": 1202,
    "start_time": "2023-11-04T17:37:25.018Z"
   },
   {
    "duration": 199,
    "start_time": "2023-11-04T17:37:26.222Z"
   },
   {
    "duration": 12,
    "start_time": "2023-11-04T17:37:26.423Z"
   },
   {
    "duration": 4,
    "start_time": "2023-11-04T17:37:26.438Z"
   },
   {
    "duration": 24,
    "start_time": "2023-11-04T17:37:26.443Z"
   },
   {
    "duration": 14,
    "start_time": "2023-11-04T17:37:26.469Z"
   },
   {
    "duration": 11,
    "start_time": "2023-11-04T17:37:26.485Z"
   },
   {
    "duration": 20,
    "start_time": "2023-11-04T17:37:26.497Z"
   },
   {
    "duration": 5,
    "start_time": "2023-11-04T17:37:26.518Z"
   },
   {
    "duration": 42,
    "start_time": "2023-11-04T17:37:26.525Z"
   },
   {
    "duration": 17,
    "start_time": "2023-11-04T17:37:26.569Z"
   },
   {
    "duration": 5,
    "start_time": "2023-11-04T17:37:26.587Z"
   },
   {
    "duration": 28,
    "start_time": "2023-11-04T17:37:26.594Z"
   },
   {
    "duration": 6,
    "start_time": "2023-11-04T17:37:26.623Z"
   },
   {
    "duration": 31,
    "start_time": "2023-11-04T17:37:26.630Z"
   },
   {
    "duration": 11,
    "start_time": "2023-11-04T17:37:26.663Z"
   },
   {
    "duration": 34,
    "start_time": "2023-11-04T17:37:26.675Z"
   },
   {
    "duration": 7,
    "start_time": "2023-11-04T17:37:26.711Z"
   },
   {
    "duration": 42,
    "start_time": "2023-11-04T17:37:26.719Z"
   },
   {
    "duration": 308,
    "start_time": "2023-11-04T17:37:26.763Z"
   },
   {
    "duration": 395,
    "start_time": "2023-11-04T17:37:27.073Z"
   },
   {
    "duration": 302,
    "start_time": "2023-11-04T17:37:27.469Z"
   },
   {
    "duration": 363,
    "start_time": "2023-11-04T17:37:27.773Z"
   },
   {
    "duration": 10,
    "start_time": "2023-11-04T17:37:28.137Z"
   },
   {
    "duration": 361,
    "start_time": "2023-11-04T17:37:28.148Z"
   },
   {
    "duration": 406,
    "start_time": "2023-11-04T17:37:28.511Z"
   },
   {
    "duration": 267,
    "start_time": "2023-11-04T17:37:28.918Z"
   },
   {
    "duration": 4,
    "start_time": "2023-11-04T17:37:29.188Z"
   },
   {
    "duration": 204,
    "start_time": "2023-11-04T17:37:29.193Z"
   },
   {
    "duration": 5,
    "start_time": "2023-11-04T17:37:29.398Z"
   },
   {
    "duration": 517,
    "start_time": "2023-11-04T17:37:29.404Z"
   },
   {
    "duration": 23,
    "start_time": "2023-11-04T17:37:29.923Z"
   },
   {
    "duration": 434,
    "start_time": "2023-11-04T17:37:29.957Z"
   },
   {
    "duration": 14,
    "start_time": "2023-11-04T17:37:30.393Z"
   }
  ],
  "kernelspec": {
   "display_name": "Python 3 (ipykernel)",
   "language": "python",
   "name": "python3"
  },
  "language_info": {
   "codemirror_mode": {
    "name": "ipython",
    "version": 3
   },
   "file_extension": ".py",
   "mimetype": "text/x-python",
   "name": "python",
   "nbconvert_exporter": "python",
   "pygments_lexer": "ipython3",
   "version": "3.11.3"
  },
  "toc": {
   "base_numbering": 1,
   "nav_menu": {},
   "number_sections": true,
   "sideBar": true,
   "skip_h1_title": true,
   "title_cell": "Table of Contents",
   "title_sidebar": "Contents",
   "toc_cell": false,
   "toc_position": {
    "height": "calc(100% - 180px)",
    "left": "10px",
    "top": "150px",
    "width": "164.988px"
   },
   "toc_section_display": true,
   "toc_window_display": true
  }
 },
 "nbformat": 4,
 "nbformat_minor": 2
}
